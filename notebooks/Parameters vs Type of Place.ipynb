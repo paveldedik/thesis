{
 "cells": [
  {
   "cell_type": "code",
   "execution_count": 2,
   "metadata": {
    "collapsed": false
   },
   "outputs": [],
   "source": [
    "%matplotlib qt4\n",
    "from __future__ import division\n",
    "\n",
    "from collections import defaultdict\n",
    "\n",
    "from models import tools, optimize, models, filters\n",
    "from models.tests import PerformanceTest\n",
    "\n",
    "import numpy as np\n",
    "import pandas as pd\n",
    "import seaborn as sns\n",
    "import matplotlib as mpl\n",
    "import matplotlib.pyplot as plt\n",
    "\n",
    "sns.set_style(\"ticks\", {\"legend.frameon\": True})\n",
    "mpl.rcParams['axes.color_cycle'] = ['#02A5F4', 'orange', 'green']"
   ]
  },
  {
   "cell_type": "code",
   "execution_count": 5,
   "metadata": {
    "collapsed": false
   },
   "outputs": [
    {
     "name": "stdout",
     "output_type": "stream",
     "text": [
      "Loaded 469545 answers.\n"
     ]
    }
   ],
   "source": [
    "data1 = tools.load_data(limit=500000, offset=1000000)"
   ]
  },
  {
   "cell_type": "code",
   "execution_count": 14,
   "metadata": {
    "collapsed": false
   },
   "outputs": [
    {
     "name": "stdout",
     "output_type": "stream",
     "text": [
      "Loaded 1958367 answers.\n"
     ]
    }
   ],
   "source": [
    "data2 = tools.load_data(limit=2000000, offset=1000000)"
   ]
  },
  {
   "cell_type": "code",
   "execution_count": 6,
   "metadata": {
    "collapsed": true
   },
   "outputs": [],
   "source": [
    "data_by_place = {}"
   ]
  },
  {
   "cell_type": "code",
   "execution_count": 10,
   "metadata": {
    "collapsed": false
   },
   "outputs": [
    {
     "name": "stdout",
     "output_type": "stream",
     "text": [
      "Asian Countries 57890\n",
      "USA States 20505\n",
      "African Countries 65073\n",
      "American Countries 33507\n",
      "European Countries 93497\n"
     ]
    }
   ],
   "source": [
    "data_by_place['European Countries'] = data1[filters.european_countries(data1)]\n",
    "data_by_place['African Countries'] = data1[filters.african_countries(data1)]\n",
    "data_by_place['American Countries'] = data1[filters.american_countries(data1)]\n",
    "data_by_place['Asian Countries'] = data1[filters.asian_countries(data1)]\n",
    "data_by_place['USA States'] = data1[filters.usa_states(data1)]"
   ]
  },
  {
   "cell_type": "code",
   "execution_count": 23,
   "metadata": {
    "collapsed": false
   },
   "outputs": [],
   "source": [
    "data_by_place['Rivers'] = data1[filters.place_type(data1, 'river')]\n",
    "data_by_place['Lakes'] = data2[filters.place_type(data2, 'lake')]\n",
    "data_by_place['Mountains'] = data1[filters.place_type(data1, 'mountains')]\n",
    "data_by_place['Islands'] = data2[filters.place_type(data2, 'island')]\n",
    "data_by_place['Czech Regions'] = data2[filters.place_type(data2, 'region (cz)')]"
   ]
  },
  {
   "cell_type": "code",
   "execution_count": 135,
   "metadata": {
    "collapsed": false
   },
   "outputs": [
    {
     "name": "stdout",
     "output_type": "stream",
     "text": [
      "Mountains 34699\n",
      "Lakes 5906\n",
      "African Countries 65073\n",
      "Asian Countries 57890\n",
      "Czech Regions 98061\n",
      "USA States 20505\n",
      "European Countries 93497\n",
      "Islands 48311\n",
      "Rivers 24466\n",
      "American Countries 33507\n"
     ]
    }
   ],
   "source": [
    "for name, df in data_by_place.items():\n",
    "    print name, len(df)"
   ]
  },
  {
   "cell_type": "code",
   "execution_count": 136,
   "metadata": {
    "collapsed": false
   },
   "outputs": [
    {
     "name": "stdout",
     "output_type": "stream",
     "text": [
      "Mountains 71\n",
      "Lakes 21\n",
      "African Countries 50\n",
      "Asian Countries 45\n",
      "Czech Regions 22\n",
      "USA States 48\n",
      "European Countries 38\n",
      "Islands 56\n",
      "Rivers 57\n",
      "American Countries 30\n"
     ]
    }
   ],
   "source": [
    "for name, df in data_by_place.items():\n",
    "    print name, len(set(df['place_id']))"
   ]
  },
  {
   "cell_type": "code",
   "execution_count": 139,
   "metadata": {
    "collapsed": false
   },
   "outputs": [
    {
     "name": "stdout",
     "output_type": "stream",
     "text": [
      "Mountains done! g=2.64569643715, d=0.014128079355\n",
      "Lakes done! g=2.94496471974, d=-0.0630996853292\n",
      "African Countries done! g=2.19307673711, d=-0.601926571971\n",
      "Asian Countries done! g=2.21835300051, d=-0.480974698753\n",
      "Czech Regions done! g=2.09855824467, d=-0.341026311846\n",
      "USA States done! g=2.78393012742, d=-0.522292403817\n",
      "European Countries done! g=2.03677208368, d=-0.227876327308\n",
      "Islands done! g=2.72584015372, d=-0.862503779152\n",
      "Rivers done! g=2.9697459919, d=-0.760195475488\n",
      "American Countries done! g=2.92048352401, d=-0.366094748887\n"
     ]
    }
   ],
   "source": [
    "by_place_results = {}\n",
    "for name, df in data_by_place.items():\n",
    "    descent = optimize.GradientDescent(df)\n",
    "    by_place_results[name] = descent.search_staircase(\n",
    "        init_learn_rate=0.015, number_of_iter=5, echo_iterations=False,\n",
    "        random_factor=0.1, random_chance=500)\n",
    "    best = by_place_results[name].best\n",
    "    result = 'g={}, d={}'.format(best['gamma'], -best['delta'])\n",
    "    tools.echo(name + ' done! ' + result, clear=False)"
   ]
  },
  {
   "cell_type": "code",
   "execution_count": 147,
   "metadata": {
    "collapsed": false
   },
   "outputs": [],
   "source": [
    "fig = plt.figure(num=None, figsize=(8, 6), dpi=120)\n",
    "\n",
    "labels = []\n",
    "X, Y, S = [], [], []\n",
    "\n",
    "for name, df in data_by_place.items():\n",
    "    labels += [name]\n",
    "    S += [len(set(df['place_id']))]\n",
    "    Y += [by_place_results[name].best['gamma']]\n",
    "    X += [-by_place_results[name].best['delta']]\n",
    "\n",
    "plt.scatter(X, Y, s=[s * 15 for s in S], c='#34b7f6', marker='o')\n",
    "plt.xlim([-1.05, 0.1])\n",
    "plt.xlabel(r'$\\delta$', fontsize=15)\n",
    "plt.ylabel(r'$\\gamma$', fontsize=15)\n",
    "\n",
    "for i in range(len(X)):\n",
    "    label = labels[i]\n",
    "    xy = [X[i], Y[i]]\n",
    "    xytext = (-18, 18)\n",
    "    plt.annotate(\n",
    "        label, xy=xy, xytext=xytext,\n",
    "        textcoords='offset points', ha='right',\n",
    "        bbox=dict(boxstyle='round,pad=0.4', fc='white', alpha=0.5, linewidth=1))\n",
    "    plt.annotate(str(S[i]), xy=xy, ha='center', va='center')\n",
    "\n",
    "plt.show()\n",
    "plt.tight_layout()"
   ]
  },
  {
   "cell_type": "code",
   "execution_count": null,
   "metadata": {
    "collapsed": true
   },
   "outputs": [],
   "source": []
  }
 ],
 "metadata": {
  "kernelspec": {
   "display_name": "Python 2",
   "language": "python",
   "name": "python2"
  },
  "language_info": {
   "codemirror_mode": {
    "name": "ipython",
    "version": 2
   },
   "file_extension": ".py",
   "mimetype": "text/x-python",
   "name": "python",
   "nbconvert_exporter": "python",
   "pygments_lexer": "ipython2",
   "version": "2.7.6"
  }
 },
 "nbformat": 4,
 "nbformat_minor": 0
}
