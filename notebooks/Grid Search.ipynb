{
 "metadata": {
  "name": "",
  "signature": "sha256:0ef2e165a1d913b84bf63eb5324fb97ca132f993f85007b3a0a52537203c8b07"
 },
 "nbformat": 3,
 "nbformat_minor": 0,
 "worksheets": [
  {
   "cells": [
    {
     "cell_type": "code",
     "collapsed": false,
     "input": [
      "%matplotlib qt4\n",
      "\n",
      "from models import tools, optimize, models, filters\n",
      "\n",
      "import numpy as np\n",
      "import matplotlib.pyplot as plt\n",
      "import matplotlib.cm as cm"
     ],
     "language": "python",
     "metadata": {},
     "outputs": [],
     "prompt_number": 2
    },
    {
     "cell_type": "code",
     "collapsed": false,
     "input": [
      "data = tools.load_data(limit=20000, offset=1500000)\n",
      "data = data[filters.open_questions(data)]\n",
      "#data = tools.unknown_answers(data)\n",
      "print len(data)"
     ],
     "language": "python",
     "metadata": {},
     "outputs": [
      {
       "output_type": "stream",
       "stream": "stdout",
       "text": [
        "11823\n"
       ]
      }
     ],
     "prompt_number": 4
    },
    {
     "cell_type": "code",
     "collapsed": false,
     "input": [
      "grid_search = optimize.GridSearch(data)"
     ],
     "language": "python",
     "metadata": {},
     "outputs": [],
     "prompt_number": 7
    },
    {
     "cell_type": "code",
     "collapsed": false,
     "input": [
      "intervals_alpha = np.arange(0.1, 5, 0.2)\n",
      "intervals_beta = np.arange(0.01, 0.5, 0.02)\n",
      "\n",
      "result_elo = grid_search.search_elo(intervals_alpha, intervals_beta)"
     ],
     "language": "python",
     "metadata": {},
     "outputs": [
      {
       "output_type": "stream",
       "stream": "stdout",
       "text": [
        "25/25 25/25\n"
       ]
      }
     ],
     "prompt_number": 23
    },
    {
     "cell_type": "code",
     "collapsed": false,
     "input": [
      "intervals_gamma = np.arange(0, 6, 0.12)\n",
      "intervals_delta = np.arange(-3, 3, 0.12)\n",
      "\n",
      "result_pfa = grid_search.search_pfa(intervals_gamma, intervals_delta)"
     ],
     "language": "python",
     "metadata": {},
     "outputs": [
      {
       "output_type": "stream",
       "stream": "stdout",
       "text": [
        "50/50 50/50\n"
       ]
      }
     ],
     "prompt_number": 56
    },
    {
     "cell_type": "code",
     "collapsed": false,
     "input": [
      "result_pfa.plot_off(cmap=None)"
     ],
     "language": "python",
     "metadata": {},
     "outputs": [
      {
       "metadata": {},
       "output_type": "pyout",
       "prompt_number": 58,
       "text": [
        "<matplotlib.image.AxesImage at 0x7f58af5e79d0>"
       ]
      }
     ],
     "prompt_number": 58
    },
    {
     "cell_type": "code",
     "collapsed": false,
     "input": [
      "plt.figure(1)\n",
      "\n",
      "plt.subplot(121)\n",
      "result_pfa.plot_rmse(cmap=cm.jet_r, title='RMSE')\n",
      "plt.xlabel(r'$\\gamma$', fontsize=18)\n",
      "plt.ylabel(r'$\\delta$', fontsize=18)\n",
      "\n",
      "plt.subplot(122)\n",
      "result_pfa.plot_off(cmap=cm.jet_r, title='predicted - observed')\n",
      "plt.xlabel(r'$\\gamma$', fontsize=18)\n",
      "plt.ylabel(r'$\\delta$', fontsize=18)"
     ],
     "language": "python",
     "metadata": {},
     "outputs": [
      {
       "metadata": {},
       "output_type": "pyout",
       "prompt_number": 68,
       "text": [
        "<matplotlib.text.Text at 0x7f58aebb2f90>"
       ]
      }
     ],
     "prompt_number": 68
    },
    {
     "cell_type": "code",
     "collapsed": false,
     "input": [
      "def elot_factory(x, y):\n",
      "    return models.EloResponseTime(zeta=x)"
     ],
     "language": "python",
     "metadata": {},
     "outputs": [],
     "prompt_number": 11
    },
    {
     "cell_type": "code",
     "collapsed": false,
     "input": [
      "result = grid_search.search(\n",
      "    elot_factory,\n",
      "    xvalues=np.arange(1, 50, 2),\n",
      "    yvalues=[1],\n",
      "    xlabel='$\\zeta$', ylabel='-'\n",
      ")"
     ],
     "language": "python",
     "metadata": {},
     "outputs": [
      {
       "output_type": "stream",
       "stream": "stdout",
       "text": [
        "25/25 1/1\n"
       ]
      }
     ],
     "prompt_number": 12
    },
    {
     "cell_type": "code",
     "collapsed": false,
     "input": [
      "result_pfa.off = abs(result_pfa.off)"
     ],
     "language": "python",
     "metadata": {},
     "outputs": [],
     "prompt_number": 66
    },
    {
     "cell_type": "code",
     "collapsed": false,
     "input": [
      "temp = result_pfa.off.copy()"
     ],
     "language": "python",
     "metadata": {},
     "outputs": [],
     "prompt_number": 65
    },
    {
     "cell_type": "code",
     "collapsed": false,
     "input": [],
     "language": "python",
     "metadata": {},
     "outputs": []
    }
   ],
   "metadata": {}
  }
 ]
}