{
 "metadata": {
  "name": "",
  "signature": "sha256:ae40ca5c7c00a80ce77c473cd0c2e738a5d0b0753bb0139b43c049c8298f5f08"
 },
 "nbformat": 3,
 "nbformat_minor": 0,
 "worksheets": [
  {
   "cells": [
    {
     "cell_type": "code",
     "collapsed": false,
     "input": [
      "%matplotlib qt4"
     ],
     "language": "python",
     "metadata": {},
     "outputs": [],
     "prompt_number": 1
    },
    {
     "cell_type": "code",
     "collapsed": false,
     "input": [
      "import itertools\n",
      "\n",
      "from models import tools, optimize, EloResponseTime, PFASpacingAlt, EloModel\n",
      "\n",
      "import numpy as np\n",
      "import matplotlib.pyplot as plt\n",
      "import matplotlib.cm as cm"
     ],
     "language": "python",
     "metadata": {},
     "outputs": [],
     "prompt_number": 1
    },
    {
     "cell_type": "code",
     "collapsed": false,
     "input": [
      "data = tools.load_data('../data/answers_train.csv', limit=5000)\n",
      "#data = data[data['number_of_options'] == 0]\n",
      "#data = tools.unknown_answers(data)\n",
      "print len(data)"
     ],
     "language": "python",
     "metadata": {},
     "outputs": [
      {
       "output_type": "stream",
       "stream": "stdout",
       "text": [
        "5000\n"
       ]
      }
     ],
     "prompt_number": 2
    },
    {
     "cell_type": "code",
     "collapsed": false,
     "input": [
      "grid_search = optimize.GridSearch(data)"
     ],
     "language": "python",
     "metadata": {},
     "outputs": [],
     "prompt_number": 4
    },
    {
     "cell_type": "code",
     "collapsed": false,
     "input": [
      "intervals_alpha = np.arange(0.1, 5, 0.4)\n",
      "intervals_beta = np.arange(0.01, 0.5, 0.04)\n",
      "\n",
      "result_elo = grid_search.search_elo(intervals_alpha, intervals_beta)"
     ],
     "language": "python",
     "metadata": {},
     "outputs": [
      {
       "output_type": "stream",
       "stream": "stdout",
       "text": [
        "ELO: 3/3 3/3\n"
       ]
      }
     ],
     "prompt_number": 5
    },
    {
     "cell_type": "code",
     "collapsed": false,
     "input": [
      "intervals_gamma = np.arange(0.1, 7, 0.6)\n",
      "intervals_delta = np.arange(0.1, 5, 0.4)\n",
      "\n",
      "result_pfa = grid_search.search_pfa(intervals_gamma, intervals_delta)"
     ],
     "language": "python",
     "metadata": {},
     "outputs": [
      {
       "output_type": "stream",
       "stream": "stdout",
       "text": [
        "12/12 13/13\n"
       ]
      }
     ],
     "prompt_number": 4
    },
    {
     "cell_type": "code",
     "collapsed": false,
     "input": [
      "result_elo.plot()\n",
      "result_pfa.plot()"
     ],
     "language": "python",
     "metadata": {},
     "outputs": [
      {
       "metadata": {},
       "output_type": "pyout",
       "prompt_number": 16,
       "text": [
        "Minimum:\n",
        " [ 0.1   0.09]\n",
        "Grid:\n",
        " [[ 0.392  0.343  0.339]\n",
        " [ 0.428  0.351  0.339]\n",
        " [ 0.446  0.361  0.343]]"
       ]
      }
     ],
     "prompt_number": 16
    },
    {
     "cell_type": "code",
     "collapsed": false,
     "input": [
      "def elot_factory(x, y):\n",
      "    return EloWithTiming(phi=x)"
     ],
     "language": "python",
     "metadata": {},
     "outputs": []
    },
    {
     "cell_type": "code",
     "collapsed": false,
     "input": [
      "grid_search = optimize.GridSearch(data)\n",
      "result = grid_search.search(\n",
      "    elot_factory,\n",
      "    xvalues=np.arange(1, 50, 2),\n",
      "    yvalues=[1],\n",
      "    xlabel='phi', ylabel='-'\n",
      ")"
     ],
     "language": "python",
     "metadata": {},
     "outputs": []
    },
    {
     "cell_type": "code",
     "collapsed": false,
     "input": [
      "def pfasa_factory(x, y):\n",
      "    elo = EloModel()\n",
      "    return PFASpacingAlt(elo, tau=x, iota=y)"
     ],
     "language": "python",
     "metadata": {},
     "outputs": [],
     "prompt_number": 5
    },
    {
     "cell_type": "code",
     "collapsed": false,
     "input": [
      "grid_search = optimize.GridSearch(data)\n",
      "result = grid_search.search(\n",
      "    pfasa_factory,\n",
      "    xvalues=np.arange(1, 40, 4),\n",
      "    yvalues=np.arange(1, 5, 0.5),\n",
      "    xlabel='tau', ylabel='iota'\n",
      ")"
     ],
     "language": "python",
     "metadata": {},
     "outputs": [
      {
       "output_type": "stream",
       "stream": "stdout",
       "text": [
        "10/10 8/8\n"
       ]
      }
     ],
     "prompt_number": 19
    },
    {
     "cell_type": "code",
     "collapsed": false,
     "input": [
      "result.plot_auc()"
     ],
     "language": "python",
     "metadata": {},
     "outputs": [
      {
       "metadata": {},
       "output_type": "pyout",
       "prompt_number": 20,
       "text": [
        "<matplotlib.image.AxesImage at 0x7f053d482c10>"
       ]
      }
     ],
     "prompt_number": 20
    },
    {
     "cell_type": "code",
     "collapsed": false,
     "input": [],
     "language": "python",
     "metadata": {},
     "outputs": []
    }
   ],
   "metadata": {}
  }
 ]
}