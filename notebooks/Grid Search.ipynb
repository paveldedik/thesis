{
 "cells": [
  {
   "cell_type": "code",
   "execution_count": 2,
   "metadata": {
    "collapsed": false
   },
   "outputs": [],
   "source": [
    "%matplotlib qt4\n",
    "\n",
    "from models import tools, optimize, models, filters\n",
    "\n",
    "import numpy as np\n",
    "import matplotlib.pyplot as plt\n",
    "import matplotlib.cm as cm"
   ]
  },
  {
   "cell_type": "code",
   "execution_count": 4,
   "metadata": {
    "collapsed": false
   },
   "outputs": [
    {
     "name": "stdout",
     "output_type": "stream",
     "text": [
      "11823\n"
     ]
    }
   ],
   "source": [
    "data = tools.load_data(limit=20000, offset=1500000)\n",
    "data = data[filters.open_questions(data)]\n",
    "#data = tools.unknown_answers(data)\n",
    "print len(data)"
   ]
  },
  {
   "cell_type": "code",
   "execution_count": 7,
   "metadata": {
    "collapsed": false
   },
   "outputs": [],
   "source": [
    "grid_search = optimize.GridSearch(data)"
   ]
  },
  {
   "cell_type": "code",
   "execution_count": 23,
   "metadata": {
    "collapsed": false
   },
   "outputs": [
    {
     "name": "stdout",
     "output_type": "stream",
     "text": [
      "25/25 25/25\n"
     ]
    }
   ],
   "source": [
    "intervals_alpha = np.arange(0.1, 5, 0.2)\n",
    "intervals_beta = np.arange(0.01, 0.5, 0.02)\n",
    "\n",
    "result_elo = grid_search.search_elo(intervals_alpha, intervals_beta)"
   ]
  },
  {
   "cell_type": "code",
   "execution_count": 56,
   "metadata": {
    "collapsed": false
   },
   "outputs": [
    {
     "name": "stdout",
     "output_type": "stream",
     "text": [
      "50/50 50/50\n"
     ]
    }
   ],
   "source": [
    "intervals_gamma = np.arange(0, 6, 0.12)\n",
    "intervals_delta = np.arange(-3, 3, 0.12)\n",
    "\n",
    "result_pfa = grid_search.search_pfa(intervals_gamma, intervals_delta)"
   ]
  },
  {
   "cell_type": "code",
   "execution_count": 58,
   "metadata": {
    "collapsed": false
   },
   "outputs": [
    {
     "data": {
      "text/plain": [
       "<matplotlib.image.AxesImage at 0x7f58af5e79d0>"
      ]
     },
     "execution_count": 58,
     "metadata": {},
     "output_type": "execute_result"
    }
   ],
   "source": [
    "result_pfa.plot_off(cmap=None)"
   ]
  },
  {
   "cell_type": "code",
   "execution_count": 68,
   "metadata": {
    "collapsed": false
   },
   "outputs": [
    {
     "data": {
      "text/plain": [
       "<matplotlib.text.Text at 0x7f58aebb2f90>"
      ]
     },
     "execution_count": 68,
     "metadata": {},
     "output_type": "execute_result"
    }
   ],
   "source": [
    "plt.figure(1)\n",
    "\n",
    "plt.subplot(121)\n",
    "result_pfa.plot_rmse(cmap=cm.jet_r, title='RMSE')\n",
    "plt.xlabel(r'$\\gamma$', fontsize=18)\n",
    "plt.ylabel(r'$\\delta$', fontsize=18)\n",
    "\n",
    "plt.subplot(122)\n",
    "result_pfa.plot_off(cmap=cm.jet_r, title='predicted - observed')\n",
    "plt.xlabel(r'$\\gamma$', fontsize=18)\n",
    "plt.ylabel(r'$\\delta$', fontsize=18)"
   ]
  },
  {
   "cell_type": "code",
   "execution_count": 11,
   "metadata": {
    "collapsed": false
   },
   "outputs": [],
   "source": [
    "def elot_factory(x, y):\n",
    "    return models.EloResponseTime(zeta=x)"
   ]
  },
  {
   "cell_type": "code",
   "execution_count": 12,
   "metadata": {
    "collapsed": false
   },
   "outputs": [
    {
     "name": "stdout",
     "output_type": "stream",
     "text": [
      "25/25 1/1\n"
     ]
    }
   ],
   "source": [
    "result = grid_search.search(\n",
    "    elot_factory,\n",
    "    xvalues=np.arange(1, 50, 2),\n",
    "    yvalues=[1],\n",
    "    xlabel='$\\zeta$', ylabel='-'\n",
    ")"
   ]
  },
  {
   "cell_type": "code",
   "execution_count": 66,
   "metadata": {
    "collapsed": false
   },
   "outputs": [],
   "source": [
    "result_pfa.off = abs(result_pfa.off)"
   ]
  },
  {
   "cell_type": "code",
   "execution_count": 65,
   "metadata": {
    "collapsed": false
   },
   "outputs": [],
   "source": [
    "temp = result_pfa.off.copy()"
   ]
  },
  {
   "cell_type": "code",
   "execution_count": null,
   "metadata": {
    "collapsed": false
   },
   "outputs": [],
   "source": []
  }
 ],
 "metadata": {
  "kernelspec": {
   "display_name": "Python 2",
   "language": "python",
   "name": "python2"
  },
  "language_info": {
   "codemirror_mode": {
    "name": "ipython",
    "version": 2
   },
   "file_extension": ".py",
   "mimetype": "text/x-python",
   "name": "python",
   "nbconvert_exporter": "python",
   "pygments_lexer": "ipython2",
   "version": "2.7.6"
  }
 },
 "nbformat": 4,
 "nbformat_minor": 0
}
