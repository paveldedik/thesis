{
 "metadata": {
  "name": "",
  "signature": "sha256:1104e6e8007e2df264c104373a3daea74b6da4d326eeb1cfe81302c8bea4ad1f"
 },
 "nbformat": 3,
 "nbformat_minor": 0,
 "worksheets": [
  {
   "cells": [
    {
     "cell_type": "code",
     "collapsed": false,
     "input": [
      "%matplotlib qt4\n",
      "from __future__ import division\n",
      "\n",
      "from models import tools, optimize, models, filters\n",
      "from models.tests import PerformanceTest\n",
      "\n",
      "import scipy as sp\n",
      "import numpy as np\n",
      "import pandas as pd\n",
      "import matplotlib.pyplot as plt\n",
      "import networkx as nx"
     ],
     "language": "python",
     "metadata": {},
     "outputs": [],
     "prompt_number": 1
    },
    {
     "cell_type": "code",
     "collapsed": false,
     "input": [
      "data = tools.load_data(limit=300000, offset=1500000)\n",
      "data = data[filters.asia_countries(data)]\n",
      "print len(data)"
     ],
     "language": "python",
     "metadata": {},
     "outputs": [
      {
       "output_type": "stream",
       "stream": "stdout",
       "text": [
        "25688\n"
       ]
      }
     ],
     "prompt_number": 22
    },
    {
     "cell_type": "code",
     "collapsed": false,
     "input": [
      "elo = models.EloModel()\n",
      "pfa = models.PFAModel(elo)\n",
      "pfa.train(data)"
     ],
     "language": "python",
     "metadata": {},
     "outputs": [],
     "prompt_number": 23
    },
    {
     "cell_type": "code",
     "collapsed": false,
     "input": [
      "place_users = {}\n",
      "correlations = {}\n",
      "for place_id in pfa.prior.places:\n",
      "    place_users[place_id] = {\n",
      "        item.user.id for index, item in pfa.items.items()\n",
      "        if place_id == index[1]\n",
      "    }\n",
      "for i, place_i in enumerate(pfa.prior.places):\n",
      "    for place_j in pfa.prior.places:\n",
      "        d = []\n",
      "        for user_id in place_users[place_i]:\n",
      "            if user_id in place_users[place_j]:\n",
      "                d += [(pfa.items[user_id, place_i].knowledge,\n",
      "                       pfa.items[user_id, place_j].knowledge)]\n",
      "        correlation = sp.stats.spearmanr(d)\n",
      "        correlations[place_i, place_j] = correlation\n",
      "    tools.echo('{}/{}'.format(i+1, len(place_users)))"
     ],
     "language": "python",
     "metadata": {},
     "outputs": [
      {
       "output_type": "stream",
       "stream": "stdout",
       "text": [
        "45/45\n"
       ]
      }
     ],
     "prompt_number": 24
    },
    {
     "cell_type": "code",
     "collapsed": false,
     "input": [
      "places = tools.load_places().T.to_dict()"
     ],
     "language": "python",
     "metadata": {},
     "outputs": [],
     "prompt_number": 25
    },
    {
     "cell_type": "code",
     "collapsed": false,
     "input": [
      "n = lambda x: places[x]['name_en'].decode('utf-8')\n",
      "edges = [(n(k[0]), n(k[1])) for k in correlations.keys()\n",
      "         if correlations[k][0] > 0.8 and correlations[k][1] < 0.05\n",
      "         ]\n",
      "nodes = list({e[0] for e in edges} | {e[1] for e in edges})"
     ],
     "language": "python",
     "metadata": {},
     "outputs": [],
     "prompt_number": 29
    },
    {
     "cell_type": "code",
     "collapsed": false,
     "input": [
      "G = nx.Graph()\n",
      "G.add_nodes_from(nodes)\n",
      "G.add_edges_from(edges)"
     ],
     "language": "python",
     "metadata": {},
     "outputs": [],
     "prompt_number": 30
    },
    {
     "cell_type": "code",
     "collapsed": false,
     "input": [
      "nx.draw_networkx(G, pos=nx.spring_layout(G, dim=2, iterations=80, scale=20), write_labels=True,\n",
      "                 node_color='#7FFF24', node_size=0, font_size=7, edge_color='#7FFF24')"
     ],
     "language": "python",
     "metadata": {},
     "outputs": [],
     "prompt_number": 31
    },
    {
     "cell_type": "code",
     "collapsed": false,
     "input": [],
     "language": "python",
     "metadata": {},
     "outputs": []
    }
   ],
   "metadata": {}
  }
 ]
}