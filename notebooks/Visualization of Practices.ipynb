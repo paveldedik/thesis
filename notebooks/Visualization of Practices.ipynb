{
 "cells": [
  {
   "cell_type": "code",
   "execution_count": 39,
   "metadata": {
    "collapsed": true
   },
   "outputs": [],
   "source": [
    "%matplotlib qt4\n",
    "\n",
    "from __future__ import division\n",
    "\n",
    "from models import tools, filters\n",
    "\n",
    "import numpy as np\n",
    "import pandas as pd\n",
    "import seaborn as sns\n",
    "import matplotlib.pyplot as plt\n",
    "\n",
    "sns.set(style=\"white\")"
   ]
  },
  {
   "cell_type": "code",
   "execution_count": 3,
   "metadata": {
    "collapsed": false
   },
   "outputs": [
    {
     "name": "stdout",
     "output_type": "stream",
     "text": [
      "Loaded 469545 answers.\n"
     ]
    }
   ],
   "source": [
    "data = tools.load_data(limit=5e5, offset=1e6)"
   ]
  },
  {
   "cell_type": "code",
   "execution_count": 104,
   "metadata": {
    "collapsed": true
   },
   "outputs": [],
   "source": [
    "places = tools.load_places()\n",
    "place_types = tools.load_place_types(index_col='id')"
   ]
  },
  {
   "cell_type": "code",
   "execution_count": 4,
   "metadata": {
    "collapsed": false
   },
   "outputs": [
    {
     "name": "stdout",
     "output_type": "stream",
     "text": [
      "17177\n"
     ]
    }
   ],
   "source": [
    "spaced = data[filters.spaced_presentations(data)]\n",
    "print len(spaced)"
   ]
  },
  {
   "cell_type": "code",
   "execution_count": 5,
   "metadata": {
    "collapsed": false
   },
   "outputs": [
    {
     "name": "stdout",
     "output_type": "stream",
     "text": [
      "71375\n"
     ]
    }
   ],
   "source": [
    "massed = data[filters.massed_presentations(data)]\n",
    "print len(massed)"
   ]
  },
  {
   "cell_type": "code",
   "execution_count": 71,
   "metadata": {
    "collapsed": false
   },
   "outputs": [],
   "source": [
    "users_spaced = list(set(spaced['user_id']))\n",
    "users_massed = list(set(massed['user_id']))"
   ]
  },
  {
   "cell_type": "code",
   "execution_count": 111,
   "metadata": {
    "collapsed": false
   },
   "outputs": [],
   "source": [
    "user_data = data[data['user_id'] == users_massed[150]].copy()\n",
    "first_inserted = min(user_data['inserted'])\n",
    "\n",
    "def get_hour(d):\n",
    "    return int((d - first_inserted).total_seconds() / 3600)\n",
    "\n",
    "user_data['hour'] = user_data['inserted'].map(get_hour)\n",
    "hours = np.arange(0, max(user_data['hour']))\n",
    "\n",
    "g = sns.factorplot(x=\"hour\", data=user_data, kind=\"count\",\n",
    "                   size=8, aspect=1.5, order=hours)\n",
    "g.set_xticklabels(step=3)\n",
    "plt.tight_layout()"
   ]
  },
  {
   "cell_type": "code",
   "execution_count": 112,
   "metadata": {
    "collapsed": false
   },
   "outputs": [],
   "source": [
    "places_as_dict = places.T.to_dict()\n",
    "place_types_as_dict = place_types.T.to_dict()\n",
    "\n",
    "def to_place_type(row):\n",
    "    return tools.to_place_type(\n",
    "        row['place_id'],\n",
    "        places=places_as_dict,\n",
    "        place_types=place_types_as_dict,\n",
    "    )\n",
    "\n",
    "user_data['type name'] = user_data.apply(to_place_type, axis=1)"
   ]
  },
  {
   "cell_type": "code",
   "execution_count": null,
   "metadata": {
    "collapsed": true
   },
   "outputs": [],
   "source": []
  }
 ],
 "metadata": {
  "kernelspec": {
   "display_name": "Python 2",
   "language": "python",
   "name": "python2"
  },
  "language_info": {
   "codemirror_mode": {
    "name": "ipython",
    "version": 2
   },
   "file_extension": ".py",
   "mimetype": "text/x-python",
   "name": "python",
   "nbconvert_exporter": "python",
   "pygments_lexer": "ipython2",
   "version": "2.7.6"
  }
 },
 "nbformat": 4,
 "nbformat_minor": 0
}
