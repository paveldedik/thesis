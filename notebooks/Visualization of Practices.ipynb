{
 "cells": [
  {
   "cell_type": "code",
   "execution_count": 33,
   "metadata": {
    "collapsed": true
   },
   "outputs": [],
   "source": [
    "%matplotlib qt4\n",
    "\n",
    "from __future__ import division\n",
    "\n",
    "from models import tools, filters\n",
    "\n",
    "import numpy as np\n",
    "import pandas as pd\n",
    "import seaborn as sns\n",
    "import matplotlib.pyplot as plt\n",
    "\n",
    "sns.set(style=\"white\")"
   ]
  },
  {
   "cell_type": "code",
   "execution_count": 78,
   "metadata": {
    "collapsed": false
   },
   "outputs": [
    {
     "name": "stdout",
     "output_type": "stream",
     "text": [
      "Loaded 962691 answers.\n"
     ]
    }
   ],
   "source": [
    "data = tools.load_data(limit=1e6, offset=1e6)"
   ]
  },
  {
   "cell_type": "code",
   "execution_count": 104,
   "metadata": {
    "collapsed": true
   },
   "outputs": [],
   "source": [
    "places = tools.load_places()\n",
    "place_types = tools.load_place_types(index_col='id')"
   ]
  },
  {
   "cell_type": "code",
   "execution_count": 79,
   "metadata": {
    "collapsed": false
   },
   "outputs": [
    {
     "name": "stdout",
     "output_type": "stream",
     "text": [
      "169861\n"
     ]
    }
   ],
   "source": [
    "spaced = data[filters.spaced_presentations(data)]\n",
    "print len(spaced)"
   ]
  },
  {
   "cell_type": "code",
   "execution_count": 80,
   "metadata": {
    "collapsed": false
   },
   "outputs": [
    {
     "name": "stdout",
     "output_type": "stream",
     "text": [
      "70541\n"
     ]
    }
   ],
   "source": [
    "massed = data[filters.massed_presentations(data)]\n",
    "print len(massed)"
   ]
  },
  {
   "cell_type": "code",
   "execution_count": 81,
   "metadata": {
    "collapsed": false
   },
   "outputs": [],
   "source": [
    "users_spaced = list(set(spaced['user_id']))\n",
    "users_massed = list(set(massed['user_id']))"
   ]
  },
  {
   "cell_type": "code",
   "execution_count": 83,
   "metadata": {
    "collapsed": false
   },
   "outputs": [],
   "source": [
    "massed_data = data[data['user_id'] == users_massed[15]].copy()\n",
    "spaced_data = data[data['user_id'] == users_spaced[23]].copy()\n",
    "\n",
    "first_massed = min(massed_data['inserted'])\n",
    "first_spaced = min(spaced_data['inserted'])\n",
    "\n",
    "def get_days_massed(d):\n",
    "    return int((d - first_massed).total_seconds() / (3600*24))\n",
    "\n",
    "def get_days_spaced(d):\n",
    "    return int((d - first_spaced).total_seconds() / (3600*24))\n",
    "\n",
    "massed_data['day'] = massed_data['inserted'].map(get_days_massed)\n",
    "spaced_data['day'] = spaced_data['inserted'].map(get_days_spaced)\n",
    "\n",
    "massed_days = np.arange(0, max(massed_data['day']))\n",
    "spaced_days = np.arange(0, max(spaced_data['day']))\n",
    "\n",
    "f, (ax1, ax2) = plt.subplots(2, figsize=(10, 8))\n",
    "\n",
    "sns.factorplot(x=\"day\", data=massed_data, kind=\"count\",\n",
    "               size=8, aspect=1.5, order=massed_days, ax=ax1)\n",
    "sns.factorplot(x=\"day\", data=spaced_data, kind=\"count\",\n",
    "               size=8, aspect=1.5, order=spaced_days, ax=ax2)\n",
    "\n",
    "f.tight_layout()"
   ]
  },
  {
   "cell_type": "code",
   "execution_count": 112,
   "metadata": {
    "collapsed": false
   },
   "outputs": [],
   "source": [
    "places_as_dict = places.T.to_dict()\n",
    "place_types_as_dict = place_types.T.to_dict()\n",
    "\n",
    "def to_place_type(row):\n",
    "    return tools.to_place_type(\n",
    "        row['place_id'],\n",
    "        places=places_as_dict,\n",
    "        place_types=place_types_as_dict,\n",
    "    )\n",
    "\n",
    "user_data['type name'] = user_data.apply(to_place_type, axis=1)"
   ]
  },
  {
   "cell_type": "code",
   "execution_count": null,
   "metadata": {
    "collapsed": true
   },
   "outputs": [],
   "source": []
  }
 ],
 "metadata": {
  "kernelspec": {
   "display_name": "Python 2",
   "language": "python",
   "name": "python2"
  },
  "language_info": {
   "codemirror_mode": {
    "name": "ipython",
    "version": 2
   },
   "file_extension": ".py",
   "mimetype": "text/x-python",
   "name": "python",
   "nbconvert_exporter": "python",
   "pygments_lexer": "ipython2",
   "version": "2.7.6"
  }
 },
 "nbformat": 4,
 "nbformat_minor": 0
}
