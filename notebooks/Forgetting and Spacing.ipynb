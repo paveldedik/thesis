{
 "metadata": {
  "name": "",
  "signature": "sha256:253c9988096eb4bfa74ac0a9dd5d4995e3a04408a68008b230b35e90ff2d4537"
 },
 "nbformat": 3,
 "nbformat_minor": 0,
 "worksheets": [
  {
   "cells": [
    {
     "cell_type": "code",
     "collapsed": false,
     "input": [
      "%matplotlib qt4"
     ],
     "language": "python",
     "metadata": {},
     "outputs": [],
     "prompt_number": 1
    },
    {
     "cell_type": "code",
     "collapsed": false,
     "input": [
      "from __future__ import division\n",
      "\n",
      "from models import tools\n",
      "\n",
      "import numpy as np\n",
      "import matplotlib.pyplot as plt"
     ],
     "language": "python",
     "metadata": {},
     "outputs": [],
     "prompt_number": 2
    },
    {
     "cell_type": "code",
     "collapsed": false,
     "input": [
      "def r(t, repeat=1, step=200, rang=80000, spacing_rate=0.2, decay_rate=0.18):\n",
      "    times = t.copy()\n",
      "    vals = []\n",
      "    results = []\n",
      "    last = 0\n",
      "    for _ in range(repeat):\n",
      "        for i in range(0, rang // repeat, step):\n",
      "            times += step\n",
      "            strength = tools.memory_strength(times, spacing_rate, decay_rate)\n",
      "            results.append(strength)\n",
      "            vals.append(last+i)\n",
      "        last = vals[-1]\n",
      "        times = np.concatenate([times, t.copy()])\n",
      "    return vals, results"
     ],
     "language": "python",
     "metadata": {},
     "outputs": [],
     "prompt_number": 26
    },
    {
     "cell_type": "code",
     "collapsed": false,
     "input": [
      "t1 = np.array(list(reversed(range(10))))\n",
      "t2 = np.array(list(reversed(range(20))))"
     ],
     "language": "python",
     "metadata": {},
     "outputs": [],
     "prompt_number": 4
    },
    {
     "cell_type": "code",
     "collapsed": false,
     "input": [
      "x1, y1 = r(t1, repeat=4, spacing_rate=0, decay_rate=0.29)\n",
      "x2, y2 = r(t1, repeat=4, spacing_rate=0, decay_rate=0.19)"
     ],
     "language": "python",
     "metadata": {},
     "outputs": [],
     "prompt_number": 33
    },
    {
     "cell_type": "code",
     "collapsed": false,
     "input": [
      "plt.plot([xi/3600 for xi in x1], y1, 'g-',\n",
      "         [xi/3600 for xi in x2], y2, 'r-')"
     ],
     "language": "python",
     "metadata": {},
     "outputs": [
      {
       "metadata": {},
       "output_type": "pyout",
       "prompt_number": 34,
       "text": [
        "[<matplotlib.lines.Line2D at 0x7f61622ed990>,\n",
        " <matplotlib.lines.Line2D at 0x7f61622edc10>]"
       ]
      }
     ],
     "prompt_number": 34
    },
    {
     "cell_type": "code",
     "collapsed": false,
     "input": [],
     "language": "python",
     "metadata": {},
     "outputs": []
    }
   ],
   "metadata": {}
  }
 ]
}