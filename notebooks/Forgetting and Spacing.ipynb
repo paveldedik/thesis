{
 "cells": [
  {
   "cell_type": "code",
   "execution_count": 1,
   "metadata": {
    "collapsed": false
   },
   "outputs": [],
   "source": [
    "%matplotlib qt4"
   ]
  },
  {
   "cell_type": "code",
   "execution_count": 2,
   "metadata": {
    "collapsed": false
   },
   "outputs": [],
   "source": [
    "from __future__ import division\n",
    "\n",
    "from models import tools\n",
    "\n",
    "import numpy as np\n",
    "import matplotlib.pyplot as plt"
   ]
  },
  {
   "cell_type": "code",
   "execution_count": 52,
   "metadata": {
    "collapsed": false
   },
   "outputs": [],
   "source": [
    "def r(t, repeat=1, step=200, rang=80000, spacing_rate=0.2, decay_rate=0.18):\n",
    "    times = t.copy()\n",
    "    vals = []\n",
    "    results = []\n",
    "    last = 0\n",
    "    for _ in range(repeat):\n",
    "        for i in range(0, rang // repeat, step):\n",
    "            times += step\n",
    "            param = np.concatenate([times, [1]])\n",
    "            strength = tools.memory_strength(param, spacing_rate, decay_rate)\n",
    "            results.append(strength)\n",
    "            vals.append(last+i)\n",
    "        last = vals[-1]\n",
    "        times = np.concatenate([times, t.copy()])\n",
    "    return vals, results"
   ]
  },
  {
   "cell_type": "code",
   "execution_count": 53,
   "metadata": {
    "collapsed": false
   },
   "outputs": [],
   "source": [
    "t1 = np.array(list(reversed(range(10))))\n",
    "t2 = np.array(list(reversed(range(20))))"
   ]
  },
  {
   "cell_type": "code",
   "execution_count": 75,
   "metadata": {
    "collapsed": false
   },
   "outputs": [],
   "source": [
    "x1, y1 = r(t1, repeat=4, spacing_rate=0.1, decay_rate=0.29)\n",
    "x2, y2 = r(t2, repeat=2, spacing_rate=0.1, decay_rate=0.29)"
   ]
  },
  {
   "cell_type": "code",
   "execution_count": 77,
   "metadata": {
    "collapsed": false
   },
   "outputs": [
    {
     "data": {
      "text/plain": [
       "[<matplotlib.lines.Line2D at 0x7f16659ce050>,\n",
       " <matplotlib.lines.Line2D at 0x7f16659ce2d0>]"
      ]
     },
     "execution_count": 77,
     "metadata": {},
     "output_type": "execute_result"
    }
   ],
   "source": [
    "plt.plot([xi/3600 for xi in x1], y1, 'g-',\n",
    "         [xi/3600 for xi in x2], y2, 'r-')"
   ]
  },
  {
   "cell_type": "code",
   "execution_count": null,
   "metadata": {
    "collapsed": true
   },
   "outputs": [],
   "source": []
  }
 ],
 "metadata": {
  "kernelspec": {
   "display_name": "Python 2",
   "language": "python",
   "name": "python2"
  },
  "language_info": {
   "codemirror_mode": {
    "name": "ipython",
    "version": 2
   },
   "file_extension": ".py",
   "mimetype": "text/x-python",
   "name": "python",
   "nbconvert_exporter": "python",
   "pygments_lexer": "ipython2",
   "version": "2.7.6"
  }
 },
 "nbformat": 4,
 "nbformat_minor": 0
}
