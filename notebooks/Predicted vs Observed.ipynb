{
 "metadata": {
  "name": "",
  "signature": "sha256:f55aea1a302ebbb930f83de19363061c77a3c8eabcc0d1b00e47b7b2e90f526e"
 },
 "nbformat": 3,
 "nbformat_minor": 0,
 "worksheets": [
  {
   "cells": [
    {
     "cell_type": "code",
     "collapsed": false,
     "input": [
      "%matplotlib qt4\n",
      "from __future__ import division\n",
      "\n",
      "from models import tools, optimize, models\n",
      "from models.tests import PerformanceTest\n",
      "\n",
      "import numpy as np\n",
      "import pandas as pd\n",
      "import matplotlib.pyplot as plt"
     ],
     "language": "python",
     "metadata": {},
     "outputs": [],
     "prompt_number": 1
    },
    {
     "cell_type": "code",
     "collapsed": false,
     "input": [
      "data = tools.load_data('../data/answers_all.csv', offset=1900000, limit=100000)\n",
      "data = data[data['number_of_options'] == 0]\n",
      "#data = tools.unknown_answers(data)\n",
      "print len(data)"
     ],
     "language": "python",
     "metadata": {},
     "outputs": [
      {
       "output_type": "stream",
       "stream": "stdout",
       "text": [
        "66556\n"
       ]
      }
     ],
     "prompt_number": 2
    },
    {
     "cell_type": "code",
     "collapsed": false,
     "input": [
      "def time_effect_log(t):\n",
      "    return 1.6 - 0.1*np.log(t)\n",
      "def time_effect_d80(t):\n",
      "    return 80 / t if t > 0 else 100"
     ],
     "language": "python",
     "metadata": {},
     "outputs": [],
     "prompt_number": 2
    },
    {
     "cell_type": "code",
     "collapsed": false,
     "input": [
      "class PFATimingWithLogging(models.PFATiming):\n",
      "    \n",
      "    def __init__(self, *args, **kwargs):\n",
      "        super(PFATimingWithLogging, self).__init__(*args, **kwargs)\n",
      "        self.timing = []\n",
      "        \n",
      "    def update(self, answer):\n",
      "        item = self.items[answer.user_id, answer.place_id]\n",
      "        if item.practices:\n",
      "            diff = tools.time_diff(answer.inserted, item.last_inserted)\n",
      "            self.timing += [(diff, answer.is_correct, self.predict(answer))]\n",
      "        super(PFATimingWithLogging, self).update(answer)\n",
      "        \n",
      "class PFASpacingWithLogging(models.PFASpacing):\n",
      "    \n",
      "    def __init__(self, *args, **kwargs):\n",
      "        super(PFASpacingWithLogging, self).__init__(*args, **kwargs)\n",
      "        self.timing = []\n",
      "        \n",
      "    def update(self, answer):\n",
      "        item = self.items[answer.user_id, answer.place_id]\n",
      "        if item.practices:\n",
      "            diff = tools.time_diff(answer.inserted, item.last_inserted)\n",
      "            self.timing += [(diff, answer.is_correct, self.predict(answer))]\n",
      "        super(PFASpacingWithLogging, self).update(answer)"
     ],
     "language": "python",
     "metadata": {},
     "outputs": [],
     "prompt_number": 14
    },
    {
     "cell_type": "code",
     "collapsed": false,
     "input": [
      "def chunks(l, n):\n",
      "    for i in xrange(0, len(l), n):\n",
      "        yield l[i:i+n]\n",
      "\n",
      "def interval_error(timings, interval_size=500):\n",
      "\n",
      "    answers = sorted(timings, key=lambda p: p[0])\n",
      "\n",
      "    def get_diffs_mean(chunk):\n",
      "        return np.mean([diff for diff, _, _ in chunk])\n",
      "    def get_answers_mean(chunk):\n",
      "        return np.mean([pred - obs for _, obs, pred in chunk])\n",
      "\n",
      "    return [\n",
      "        (get_diffs_mean(chunk), get_answers_mean(chunk))\n",
      "        for chunk in chunks(answers, interval_size)\n",
      "    ]"
     ],
     "language": "python",
     "metadata": {},
     "outputs": [],
     "prompt_number": 17
    },
    {
     "cell_type": "code",
     "collapsed": false,
     "input": [
      "pfat = PFATimingWithLogging(models.EloModel(), time_effect_fun=time_effect_log)\n",
      "pfat.train(data)"
     ],
     "language": "python",
     "metadata": {},
     "outputs": [],
     "prompt_number": 13
    },
    {
     "cell_type": "code",
     "collapsed": false,
     "input": [
      "pfas = PFASpacingWithLogging(models.EloModel())\n",
      "pfas.train(data)"
     ],
     "language": "python",
     "metadata": {},
     "outputs": [],
     "prompt_number": 15
    },
    {
     "cell_type": "code",
     "collapsed": false,
     "input": [
      "intervals = interval_error(pfas.timing, interval_size=5000)"
     ],
     "language": "python",
     "metadata": {},
     "outputs": [],
     "prompt_number": 18
    },
    {
     "cell_type": "code",
     "collapsed": false,
     "input": [
      "data = tools.add_spacing(data)"
     ],
     "language": "python",
     "metadata": {},
     "outputs": [],
     "prompt_number": 12
    },
    {
     "cell_type": "code",
     "collapsed": false,
     "input": [
      "ranges = [0, 60, 90, 150, 300, 600, 1800, 10800, 86400, 259200, 2592000]\n",
      "intervals = {i: None for i in zip(ranges, ranges[1:] + [np.inf])}\n",
      "\n",
      "for interval in intervals.keys():\n",
      "    lower, upper = interval\n",
      "    data_slice = data[(data['spacing'] > lower) & (data['spacing'] < upper)].copy()\n",
      "    \n",
      "    if data_slice.empty:\n",
      "        continue\n",
      "        \n",
      "    print interval, len(data_slice)\n",
      "    \n",
      "    pfat = models.PFATiming(models.EloModel(), time_effect_fun=time_effect_d80)\n",
      "    pfat_test = PerformanceTest(pfat, data_slice)\n",
      "    pfat_test.run()\n",
      "    \n",
      "    intervals[interval] = pfat_test.results['train'].off\n",
      "    \n",
      "intervals = sorted([(np.mean(interval), value) for interval, value in intervals.items()], key=lambda x: x[0])"
     ],
     "language": "python",
     "metadata": {},
     "outputs": [
      {
       "output_type": "stream",
       "stream": "stdout",
       "text": [
        "(600, 1800) 3950\n",
        "(150, 300)"
       ]
      },
      {
       "output_type": "stream",
       "stream": "stdout",
       "text": [
        " 8260\n",
        "(90, 150)"
       ]
      },
      {
       "output_type": "stream",
       "stream": "stdout",
       "text": [
        " 4773\n",
        "(86400, 259200)"
       ]
      },
      {
       "output_type": "stream",
       "stream": "stdout",
       "text": [
        " 2154\n",
        "(300, 600)"
       ]
      },
      {
       "output_type": "stream",
       "stream": "stdout",
       "text": [
        " 4997\n",
        "(259200, 2592000)"
       ]
      },
      {
       "output_type": "stream",
       "stream": "stdout",
       "text": [
        " 292\n",
        "(10800, 86400)"
       ]
      },
      {
       "output_type": "stream",
       "stream": "stdout",
       "text": [
        " 3581\n",
        "(60, 90)"
       ]
      },
      {
       "output_type": "stream",
       "stream": "stdout",
       "text": [
        " 2711\n",
        "(1800, 10800)"
       ]
      },
      {
       "output_type": "stream",
       "stream": "stdout",
       "text": [
        " 3586\n",
        "(0, 60)"
       ]
      },
      {
       "output_type": "stream",
       "stream": "stdout",
       "text": [
        " 2503\n"
       ]
      }
     ],
     "prompt_number": 18
    },
    {
     "cell_type": "code",
     "collapsed": false,
     "input": [
      "plt.plot([x[0] for x in intervals], [x[1] for x in intervals])\n",
      "plt.xscale('log')\n",
      "plt.show()"
     ],
     "language": "python",
     "metadata": {},
     "outputs": [],
     "prompt_number": 19
    },
    {
     "cell_type": "code",
     "collapsed": false,
     "input": [],
     "language": "python",
     "metadata": {},
     "outputs": []
    }
   ],
   "metadata": {}
  }
 ]
}