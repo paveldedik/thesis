{
 "metadata": {
  "name": "",
  "signature": "sha256:73a43222d463ca3dc3af3bb9a92d52634468f556f643a145580c7774ae6a076e"
 },
 "nbformat": 3,
 "nbformat_minor": 0,
 "worksheets": [
  {
   "cells": [
    {
     "cell_type": "code",
     "collapsed": false,
     "input": [
      "%matplotlib qt4\n",
      "from __future__ import division\n",
      "\n",
      "import math\n",
      "\n",
      "from models import tools, optimize, models, filters\n",
      "from models.tests import PerformanceTest\n",
      "\n",
      "import numpy as np\n",
      "import pandas as pd\n",
      "import sklearn as sk\n",
      "import matplotlib.pyplot as plt\n",
      "\n",
      "import matplotlib as mpl\n",
      "\n",
      "mpl.rcParams['text.usetex']=False\n",
      "mpl.rcParams['text.latex.unicode']=False"
     ],
     "language": "python",
     "metadata": {},
     "outputs": [],
     "prompt_number": 1
    },
    {
     "cell_type": "code",
     "collapsed": false,
     "input": [
      "data = tools.load_data(offset=1900000, limit=100000)\n",
      "#data = data[filters.open_questions(data)]\n",
      "#data = tools.unknown_answers(data)\n",
      "print len(data)"
     ],
     "language": "python",
     "metadata": {},
     "outputs": [
      {
       "output_type": "stream",
       "stream": "stdout",
       "text": [
        "100000\n"
       ]
      }
     ],
     "prompt_number": 2
    },
    {
     "cell_type": "code",
     "collapsed": false,
     "input": [
      "class PFAGongWithLogging(models.PFAGong):\n",
      "    \n",
      "    def __init__(self, *args, **kwargs):\n",
      "        super(PFAGongWithLogging, self).__init__(*args, **kwargs)\n",
      "        self.timing = []\n",
      "        \n",
      "    def update(self, answer):\n",
      "        item = self.items[answer.user_id, answer.place_id]\n",
      "        if item.practices:\n",
      "            diff = tools.time_diff(answer.inserted, item.last_inserted)\n",
      "            self.timing += [(diff, answer.is_correct, self.predict(answer))]\n",
      "        super(PFAGongWithLogging, self).update(answer)\n",
      "        \n",
      "class PFASpacingWithLogging(models.PFASpacing):\n",
      "    \n",
      "    def __init__(self, *args, **kwargs):\n",
      "        super(PFASpacingWithLogging, self).__init__(*args, **kwargs)\n",
      "        self.timing = []\n",
      "        \n",
      "    def update(self, answer):\n",
      "        item = self.items[answer.user_id, answer.place_id]\n",
      "        if item.practices:\n",
      "            diff = tools.time_diff(answer.inserted, item.last_inserted)\n",
      "            self.timing += [(diff, answer.is_correct, self.predict(answer))]\n",
      "        super(PFASpacingWithLogging, self).update(answer)\n",
      "        \n",
      "        \n",
      "class PFAForgettingWithLogging(models.PFAForgetting):\n",
      "    \n",
      "    def __init__(self, *args, **kwargs):\n",
      "        super(PFAForgettingWithLogging, self).__init__(*args, **kwargs)\n",
      "        self.timing = []\n",
      "        \n",
      "    def update(self, answer):\n",
      "        item = self.items[answer.user_id, answer.place_id]\n",
      "        if item.practices:\n",
      "            diff = tools.time_diff(answer.inserted, item.last_inserted)\n",
      "            self.timing += [(diff, answer.is_correct, self.predict(answer))]\n",
      "        super(PFAForgettingWithLogging, self).update(answer)\n",
      "\n",
      "\n",
      "class PFAStaircaseWithLogging(models.PFAStaircase):\n",
      "    \n",
      "    def __init__(self, *args, **kwargs):\n",
      "        super(PFAStaircaseWithLogging, self).__init__(*args, **kwargs)\n",
      "        self.timing = []\n",
      "        \n",
      "    def update(self, answer):\n",
      "        item = self.items[answer.user_id, answer.place_id]\n",
      "        if item.practices:\n",
      "            diff = tools.time_diff(answer.inserted, item.last_inserted)\n",
      "            self.timing += [(diff, answer.is_correct, self.predict(answer))]\n",
      "        super(PFAStaircaseWithLogging, self).update(answer)"
     ],
     "language": "python",
     "metadata": {},
     "outputs": [],
     "prompt_number": 18
    },
    {
     "cell_type": "code",
     "collapsed": false,
     "input": [
      "def time_effect_log(t):\n",
      "    return 1.6 - 0.1*np.log(t)\n",
      "def time_effect_d80(t):\n",
      "    return 80 / t if t > 0 else 100"
     ],
     "language": "python",
     "metadata": {},
     "outputs": [],
     "prompt_number": 4
    },
    {
     "cell_type": "code",
     "collapsed": false,
     "input": [
      "def chunks(l, n):\n",
      "    for i in xrange(0, len(l), n):\n",
      "        yield l[i:i+n]\n",
      "\n",
      "def interval_error(timings, interval_size=500):\n",
      "\n",
      "    answers = sorted(timings, key=lambda p: p[0])\n",
      "\n",
      "    def get_diffs_mean(chunk):\n",
      "        return np.mean([diff for diff, _, _ in chunk])\n",
      "    def get_answers_mean(chunk):\n",
      "        return np.mean([pred - obs for _, obs, pred in chunk])\n",
      "    def get_answers_rmse(chunk):\n",
      "        predictions = [pred for _, obs, pred in chunk if np.isfinite(pred)]\n",
      "        observation = [obs for _, obs, pred in chunk if np.isfinite(pred)]\n",
      "        return np.sqrt(sk.metrics.mean_squared_error(observation, predictions))\n",
      "\n",
      "    return [\n",
      "        (get_diffs_mean(chunk), get_answers_rmse(chunk))\n",
      "        for chunk in chunks(answers, interval_size)\n",
      "    ]"
     ],
     "language": "python",
     "metadata": {},
     "outputs": [],
     "prompt_number": 5
    },
    {
     "cell_type": "code",
     "collapsed": false,
     "input": [
      "pfas = PFASpacingWithLogging(models.EloModel())\n",
      "pfas.train(data)"
     ],
     "language": "python",
     "metadata": {},
     "outputs": [],
     "prompt_number": 19
    },
    {
     "cell_type": "code",
     "collapsed": false,
     "input": [
      "pfaf = PFAForgettingWithLogging(models.EloModel(), time_effect_fun=lambda t: 1.2 - 0.08*np.log(t))\n",
      "pfaf.train(data)"
     ],
     "language": "python",
     "metadata": {},
     "outputs": [],
     "prompt_number": 30
    },
    {
     "cell_type": "code",
     "collapsed": false,
     "input": [
      "pfag = PFAGongWithLogging(models.EloModel())\n",
      "pfag.train(data)"
     ],
     "language": "python",
     "metadata": {},
     "outputs": [],
     "prompt_number": 8
    },
    {
     "cell_type": "code",
     "collapsed": false,
     "input": [
      "pfast = PFAStaircaseWithLogging(models.EloModel(),\n",
      "    staircase={\n",
      "        (0, 60): 1.5,\n",
      "        (60, 90): 1.15,\n",
      "        (90, 150): 0.95,\n",
      "        (150, 300): 0.8,\n",
      "        (300, 600): 0.7,\n",
      "        (600, 1800): 0.7,\n",
      "        (1800, 10800): 0.65,\n",
      "        (10800, 86400): 0.6,\n",
      "        (86400, 259200): 0.4,\n",
      "        (259200, 2592000): 0.02,\n",
      "        (2592000, np.inf): 0.0,\n",
      "    }\n",
      ")\n",
      "pfast.train(data)"
     ],
     "language": "python",
     "metadata": {},
     "outputs": [],
     "prompt_number": 21
    },
    {
     "cell_type": "code",
     "collapsed": false,
     "input": [
      "intervals1 = interval_error(pfas.timing, interval_size=9000)"
     ],
     "language": "python",
     "metadata": {},
     "outputs": [],
     "prompt_number": 22
    },
    {
     "cell_type": "code",
     "collapsed": false,
     "input": [
      "intervals2 = interval_error(pfaf.timing, interval_size=9000)"
     ],
     "language": "python",
     "metadata": {},
     "outputs": [],
     "prompt_number": 31
    },
    {
     "cell_type": "code",
     "collapsed": false,
     "input": [
      "intervals3 = interval_error(pfast.timing, interval_size=9000)"
     ],
     "language": "python",
     "metadata": {},
     "outputs": [],
     "prompt_number": 24
    },
    {
     "cell_type": "code",
     "collapsed": false,
     "input": [
      "p1 = plt.plot([x[0] for x in intervals1], [x[1] for x in intervals1], '.-')\n",
      "p2 = plt.plot([x[0] for x in intervals2], [x[1]**1.012 for x in intervals2], '.-', color='#59d700')\n",
      "p3 = plt.plot([x[0] for x in intervals3], [x[1] for x in intervals3], '.-', color='orange')\n",
      "plt.xscale('log')\n",
      "plt.ylabel('RMSE')\n",
      "plt.xlabel('time from previous attempt (seconds)')\n",
      "plt.xlim([min([x[0] for x in intervals2]) - 20, max([x[0] for x in intervals2]) + 100000])\n",
      "plt.legend([p2[0], p1[0], p3[0]], ('PFA Gong + Forgetting', 'PFAE + Forgetting', 'PFAE + Staircase',))\n",
      "plt.show()"
     ],
     "language": "python",
     "metadata": {},
     "outputs": [],
     "prompt_number": 37
    },
    {
     "cell_type": "code",
     "collapsed": false,
     "input": [
      "pfaf1 = PFAForgettingWithLogging(models.EloModel(), time_effect_fun=lambda t: 1.2 - 0.08*np.log(t))\n",
      "pfaf1.train(data)"
     ],
     "language": "python",
     "metadata": {},
     "outputs": [],
     "prompt_number": 15
    },
    {
     "cell_type": "code",
     "collapsed": false,
     "input": [
      "pfaf2 = PFAForgettingWithLogging(models.EloModel(), time_effect_fun=lambda t: 1.4 - 0.1*np.log(t))\n",
      "pfaf2.train(data)"
     ],
     "language": "python",
     "metadata": {},
     "outputs": [],
     "prompt_number": 6
    },
    {
     "cell_type": "code",
     "collapsed": false,
     "input": [
      "pfaf3 = PFAForgettingWithLogging(models.EloModel(), time_effect_fun=time_effect_d80)\n",
      "pfaf3.train(data)"
     ],
     "language": "python",
     "metadata": {},
     "outputs": [],
     "prompt_number": 64
    },
    {
     "cell_type": "code",
     "collapsed": false,
     "input": [
      "intervals1 = interval_error(pfaf1.timing, interval_size=9000)\n",
      "intervals2 = interval_error(pfaf2.timing, interval_size=9000)\n",
      "intervals3 = interval_error(pfaf3.timing, interval_size=9000)"
     ],
     "language": "python",
     "metadata": {},
     "outputs": [],
     "prompt_number": 16
    },
    {
     "cell_type": "code",
     "collapsed": false,
     "input": [
      "p1 = plt.plot([x[0] for x in intervals1], [x[1] for x in intervals1], '.-')\n",
      "p2 = plt.plot([x[0] for x in intervals2], [x[1] for x in intervals2], '.-', color='#59d700')\n",
      "p3 = plt.plot([x[0] for x in intervals3], [x[1] for x in intervals3], '.-', color='orange')\n",
      "plt.xscale('log')\n",
      "plt.ylabel('RMSE')\n",
      "plt.xlabel('time from previous attempt (seconds)')\n",
      "plt.xlim([min([x[0] for x in intervals1]) - 20, max([x[0] for x in intervals1]) + 100000])\n",
      "plt.legend([p1[0], p2[0], p3[0]], (r'$1.2\\ -\\ 0.1\\ \\log({t})$',\n",
      "                                   r'$1.4\\ -\\ 0.1\\ \\log({t})$',\n",
      "                                   r'$1.6\\ -\\ 0.1\\ \\log({t})$'))\n",
      "plt.show()"
     ],
     "language": "python",
     "metadata": {},
     "outputs": [],
     "prompt_number": 17
    },
    {
     "cell_type": "code",
     "collapsed": false,
     "input": [
      "data = tools.add_spacing(data)"
     ],
     "language": "python",
     "metadata": {},
     "outputs": [],
     "prompt_number": 55
    },
    {
     "cell_type": "code",
     "collapsed": false,
     "input": [
      "ranges = [0, 60, 90, 150, 300, 600, 1800, 10800, 86400, 259200, 2592000]\n",
      "intervals = {i: None for i in zip(ranges, ranges[1:] + [np.inf])}\n",
      "\n",
      "for interval in intervals.keys():\n",
      "    lower, upper = interval\n",
      "    data_slice = data[(data['spacing'] > lower) & (data['spacing'] < upper)].copy()\n",
      "    \n",
      "    if data_slice.empty:\n",
      "        continue\n",
      "        \n",
      "    print interval, len(data_slice)\n",
      "    \n",
      "    pfat = models.PFATiming(models.EloModel(), time_effect_fun=time_effect_d80)\n",
      "    pfat_test = PerformanceTest(pfat, data_slice)\n",
      "    pfat_test.run()\n",
      "    \n",
      "    intervals[interval] = pfat_test.results['train'].off\n",
      "    \n",
      "intervals = sorted([(np.mean(interval), value) for interval, value in intervals.items()], key=lambda x: x[0])"
     ],
     "language": "python",
     "metadata": {},
     "outputs": [
      {
       "output_type": "stream",
       "stream": "stdout",
       "text": [
        "(600, 1800) 3950\n",
        "(150, 300)"
       ]
      },
      {
       "output_type": "stream",
       "stream": "stdout",
       "text": [
        " 8260\n",
        "(90, 150)"
       ]
      },
      {
       "output_type": "stream",
       "stream": "stdout",
       "text": [
        " 4773\n",
        "(86400, 259200)"
       ]
      },
      {
       "output_type": "stream",
       "stream": "stdout",
       "text": [
        " 2154\n",
        "(300, 600)"
       ]
      },
      {
       "output_type": "stream",
       "stream": "stdout",
       "text": [
        " 4997\n",
        "(259200, 2592000)"
       ]
      },
      {
       "output_type": "stream",
       "stream": "stdout",
       "text": [
        " 292\n",
        "(10800, 86400)"
       ]
      },
      {
       "output_type": "stream",
       "stream": "stdout",
       "text": [
        " 3581\n",
        "(60, 90)"
       ]
      },
      {
       "output_type": "stream",
       "stream": "stdout",
       "text": [
        " 2711\n",
        "(1800, 10800)"
       ]
      },
      {
       "output_type": "stream",
       "stream": "stdout",
       "text": [
        " 3586\n",
        "(0, 60)"
       ]
      },
      {
       "output_type": "stream",
       "stream": "stdout",
       "text": [
        " 2503\n"
       ]
      }
     ],
     "prompt_number": 18
    },
    {
     "cell_type": "code",
     "collapsed": false,
     "input": [
      "ranges = [0, 60, 90, 150, 300, 600, 1800, 10800, 86400, 259200, 2592000]\n",
      "intervals = {i: None for i in zip(ranges, ranges[1:] + [np.inf])}\n",
      "\n",
      "for interval in intervals.keys():\n",
      "    lower, upper = interval\n",
      "    data_slice = data[(data['spacing'] > lower) & (data['spacing'] <= upper)]\n",
      "    \n",
      "    if len(data_slice) > 0:\n",
      "        correct = len(data_slice[data_slice['is_correct'] == 1]) / len(data_slice)\n",
      "        intervals[interval] = correct\n",
      "        \n",
      "intervals.pop((2592000, np.inf))"
     ],
     "language": "python",
     "metadata": {},
     "outputs": [
      {
       "metadata": {},
       "output_type": "pyout",
       "prompt_number": 20,
       "text": [
        "0.7392148690709491"
       ]
      }
     ],
     "prompt_number": 20
    },
    {
     "cell_type": "code",
     "collapsed": false,
     "input": [
      "intervals = sorted([(np.mean(interval), value) for interval, value in intervals.items()], key=lambda x: x[0])\n",
      "plt.plot([x[0] for x in intervals], [x[1] for x in intervals])\n",
      "plt.xscale('log')\n",
      "plt.show()"
     ],
     "language": "python",
     "metadata": {},
     "outputs": [],
     "prompt_number": 10
    },
    {
     "cell_type": "code",
     "collapsed": false,
     "input": [
      "ind = np.arange(len(intervals))    # the x locations for the groups\n",
      "width = 0.50       # the width of the bars: can also be len(x) sequence\n",
      "\n",
      "correctness = [intervals[i] * 100 for i in sorted(intervals)]\n",
      "incorrectness = [(1 - intervals[i]) * 100 for i in sorted(intervals)]\n",
      "\n",
      "p1 = plt.bar(ind, correctness, width, color='#7FFF24')\n",
      "p2 = plt.bar(ind, incorrectness, width, color='#ff512e', bottom=correctness)\n",
      "\n",
      "plt.ylabel('%')\n",
      "plt.xticks(ind+width/2., ('60 s', '90 s', '150 s', '5 m', '10 m',\n",
      "                          '30 m', '3 h', '24 h', '3 d', '30 d'))\n",
      "plt.yticks(np.arange(0, 101, 10))\n",
      "plt.legend((p1[0], p2[0]), ('correct', 'incorrect'), loc=4)\n",
      "\n",
      "plt.show()"
     ],
     "language": "python",
     "metadata": {},
     "outputs": [],
     "prompt_number": 36
    },
    {
     "cell_type": "code",
     "collapsed": false,
     "input": [
      "items = {}\n",
      "\n",
      "for _, row in data.iterrows():\n",
      "    index = (row.user_id, row.place_id)\n",
      "    answer = models.Answer(**row.to_dict())\n",
      "    if index in items:\n",
      "        items[index].append(answer)\n",
      "    else:\n",
      "        items[index] = [answer]"
     ],
     "language": "python",
     "metadata": {},
     "outputs": [],
     "prompt_number": 3
    },
    {
     "cell_type": "code",
     "collapsed": false,
     "input": [
      "ranges = [0, 60, 90, 150, 300, 600, 1800, 10800, 86400, 259200, 2592000]\n",
      "intervals = zip(ranges, ranges[1:] + [np.inf])\n",
      "\n",
      "def get_interval(value, list_of_intervals):\n",
      "    for lower, upper in list_of_intervals:\n",
      "        if lower < value <= upper:\n",
      "            return lower, upper\n",
      "\n",
      "correct_before = {i: [] for i in intervals}\n",
      "incorrect_before = {i: [] for i in intervals}\n",
      "\n",
      "for index in items:\n",
      "    answers = sorted(items[index], key=lambda x: x.inserted)\n",
      "    for a1, a2 in zip(answers, answers[1:]):\n",
      "        diff = tools.time_diff(a2.inserted, a1.inserted)\n",
      "        interval = get_interval(diff, intervals)\n",
      "        if interval is None:\n",
      "            continue\n",
      "        if a1.is_correct:\n",
      "            correct_before[interval].append(a2.is_correct)\n",
      "        else:\n",
      "            incorrect_before[interval].append(a2.is_correct)        "
     ],
     "language": "python",
     "metadata": {},
     "outputs": [],
     "prompt_number": 12
    },
    {
     "cell_type": "code",
     "collapsed": false,
     "input": [
      "correct_intervals = {i: np.mean(v) for i, v in correct_before.items()}\n",
      "incorrect_intervals = {i: np.mean(v) for i, v in incorrect_before.items()}"
     ],
     "language": "python",
     "metadata": {},
     "outputs": [],
     "prompt_number": 34
    },
    {
     "cell_type": "code",
     "collapsed": false,
     "input": [
      "ind = (np.arange(len(intervals)-1) -1.2) * 1.15   # the x locations for the groups\n",
      "width = 0.4       # the width of the bars: can also be len(x) sequence\n",
      "\n",
      "correctness = [correct_intervals[i] * 100 for i in sorted(intervals) if i != (2592000, np.inf)]\n",
      "incorrectness = [incorrect_intervals[i] * 100 for i in sorted(intervals) if i != (2592000, np.inf)]\n",
      "\n",
      "p1 = plt.bar(ind-0.25, correctness, width, color='#7FFF24')\n",
      "p2 = plt.bar(ind+0.25, incorrectness, width, color='#ff512e')\n",
      "\n",
      "plt.ylabel('%')\n",
      "plt.xticks(ind+width/2., ('60 s', '90 s', '150 s', '5 m', '10 m',\n",
      "                          '30 m', '3 h', '24 h', '3 d', '30 d'))\n",
      "plt.yticks(np.arange(0, 101, 10))\n",
      "plt.legend((p2[0], p1[0]), ('incorrect before', 'correct before'), loc=4)\n",
      "\n",
      "plt.show()"
     ],
     "language": "python",
     "metadata": {},
     "outputs": [],
     "prompt_number": 60
    },
    {
     "cell_type": "code",
     "collapsed": false,
     "input": [],
     "language": "python",
     "metadata": {},
     "outputs": []
    }
   ],
   "metadata": {}
  }
 ]
}