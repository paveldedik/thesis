{
 "cells": [
  {
   "cell_type": "code",
   "execution_count": 24,
   "metadata": {
    "collapsed": false
   },
   "outputs": [],
   "source": [
    "%matplotlib qt4\n",
    "from __future__ import division\n",
    "\n",
    "import math\n",
    "\n",
    "from models import tools, optimize, models, filters\n",
    "from models.tests import PerformanceTest\n",
    "\n",
    "import numpy as np\n",
    "import pandas as pd\n",
    "import sklearn as sk\n",
    "import seaborn as sns\n",
    "import matplotlib as mpl\n",
    "import matplotlib.pyplot as plt\n",
    "from cycler import cycler\n",
    "\n",
    "sns.set_style(\"ticks\", {\"legend.frameon\": True})\n",
    "mpl.rcParams['text.usetex'] = False\n",
    "mpl.rcParams['text.latex.unicode'] = False\n",
    "mpl.rcParams['axes.prop_cycle'] = cycler('color', ['#02A5F4', 'orange', 'green'])"
   ]
  },
  {
   "cell_type": "code",
   "execution_count": 58,
   "metadata": {
    "collapsed": false
   },
   "outputs": [
    {
     "name": "stdout",
     "output_type": "stream",
     "text": [
      "Loaded 469545 answers.\n"
     ]
    }
   ],
   "source": [
    "data = tools.load_data(limit=500000, offset=1000000)\n",
    "data = data[filters.sequentize(data)]"
   ]
  },
  {
   "cell_type": "code",
   "execution_count": 161,
   "metadata": {
    "collapsed": false
   },
   "outputs": [],
   "source": [
    "len(data)"
   ]
  },
  {
   "cell_type": "markdown",
   "metadata": {},
   "source": [
    "# Calibration"
   ]
  },
  {
   "cell_type": "code",
   "execution_count": 19,
   "metadata": {
    "collapsed": false
   },
   "outputs": [],
   "source": [
    "def produce_logger(SuperClass):\n",
    "\n",
    "    class Logger(SuperClass):\n",
    "    \n",
    "        def __init__(self, *args, **kwargs):\n",
    "            super(Logger, self).__init__(*args, **kwargs)\n",
    "            self.timing = []\n",
    "\n",
    "        def update(self, answer):\n",
    "            item = self.items[answer.user_id, answer.place_id]\n",
    "            if item.practices:\n",
    "                diff = tools.time_diff(answer.inserted, item.last_inserted)\n",
    "                self.timing += [(diff, answer.is_correct, self.predict(answer))]\n",
    "            super(Logger, self).update(answer)\n",
    "    \n",
    "    return Logger\n",
    "\n",
    "LogPFA = produce_logger(models.PFAModel)\n",
    "LogPFAExt = produce_logger(models.PFAExt)\n",
    "LogPFAGong = produce_logger(models.PFAGong)\n",
    "LogPFAExtTiming = produce_logger(models.PFAExtTiming)\n",
    "LogPFAExtSpacing = produce_logger(models.PFAExtSpacing)\n",
    "LogPFAGongTiming = produce_logger(models.PFAGongTiming)\n",
    "LogPFAExtStaircase = produce_logger(models.PFAExtStaircase)"
   ]
  },
  {
   "cell_type": "code",
   "execution_count": 69,
   "metadata": {
    "collapsed": false
   },
   "outputs": [],
   "source": [
    "def time_effect_log(t, a=1.8, c=0.123):\n",
    "    return a - c*np.log(t)\n",
    "\n",
    "def time_effect_div(t, a=2, c=0.2):\n",
    "    return a / (t+1)**c\n",
    "\n",
    "def time_effect_exp(t, a=1.6, c=0.01):\n",
    "    return a * np.exp(-c * np.sqrt(t))"
   ]
  },
  {
   "cell_type": "code",
   "execution_count": 74,
   "metadata": {
    "collapsed": false
   },
   "outputs": [],
   "source": [
    "def chunks(l, n):\n",
    "    for i in xrange(0, len(l), n):\n",
    "        yield l[i:i+n]\n",
    "\n",
    "def interval_error(timings, interval_size=500, metric=tools.rmse):\n",
    "\n",
    "    answers = sorted(timings, key=lambda p: p[0])\n",
    "\n",
    "    def get_diffs_mean(chunk):\n",
    "        return np.mean([diff for diff, _, _ in chunk])\n",
    "    def get_answers_mean(chunk):\n",
    "        return np.mean([pred - obs for _, obs, pred in chunk])\n",
    "    def get_answers_value(chunk):\n",
    "        predictions = [pred for _, obs, pred in chunk if np.isfinite(pred)]\n",
    "        observation = [obs for _, obs, pred in chunk if np.isfinite(pred)]\n",
    "        return metric(observation, predictions)\n",
    "\n",
    "    return [\n",
    "        (get_diffs_mean(chunk), get_answers_value(chunk))\n",
    "        for chunk in chunks(answers, interval_size)\n",
    "    ]"
   ]
  },
  {
   "cell_type": "markdown",
   "metadata": {},
   "source": [
    "### PFA/E, PFA/E/T, PFA/G, PFA/G/T"
   ]
  },
  {
   "cell_type": "code",
   "execution_count": 175,
   "metadata": {
    "collapsed": false
   },
   "outputs": [],
   "source": [
    "pfa = LogPFA(models.EloModel(), gamma=2, delta=-1)\n",
    "pfa.train(data)"
   ]
  },
  {
   "cell_type": "code",
   "execution_count": 164,
   "metadata": {
    "collapsed": false
   },
   "outputs": [],
   "source": [
    "pfae = LogPFAExt(models.EloModel())\n",
    "pfae.train(data)"
   ]
  },
  {
   "cell_type": "code",
   "execution_count": 165,
   "metadata": {
    "collapsed": true
   },
   "outputs": [],
   "source": [
    "def time_effect_div(t, a=2.5, c=0.17):\n",
    "    return a / (t+1)**c\n",
    "\n",
    "pfaet = LogPFAExtTiming(models.EloModel(), time_effect_fun=time_effect_log)\n",
    "pfaet.train(data)"
   ]
  },
  {
   "cell_type": "code",
   "execution_count": 193,
   "metadata": {
    "collapsed": false
   },
   "outputs": [],
   "source": [
    "pfag = LogPFAGong(models.EloModel(), decay=0.8, gamma=2.1, delta=-1.5)\n",
    "pfag.train(data)"
   ]
  },
  {
   "cell_type": "code",
   "execution_count": 167,
   "metadata": {
    "collapsed": false
   },
   "outputs": [],
   "source": [
    "def time_effect_div(t, a=1.2, c=0.15):\n",
    "    return a / (t+1)**c\n",
    "\n",
    "pfagt = LogPFAGongTiming(models.EloModel(), time_effect_fun=time_effect_div)\n",
    "pfagt.train(data)"
   ]
  },
  {
   "cell_type": "code",
   "execution_count": 168,
   "metadata": {
    "collapsed": false
   },
   "outputs": [],
   "source": [
    "pfaest = LogPFAExtStaircase(models.EloModel(),\n",
    "    gamma=2.2, delta=-0.9,\n",
    "    staircase={\n",
    "        (0, 60): 1.43,\n",
    "        (60, 90): 1.17,\n",
    "        (90, 150): 1.01,\n",
    "        (150, 300): 0.93,\n",
    "        (300, 600): 0.82,\n",
    "        (600, 60*30): 0.78,\n",
    "        (60*30, 60*60*3): 0.76,\n",
    "        (60*60*3, 60*60*24): 0.63,\n",
    "        (60*60*24, 60*60*24*5): 0.42,\n",
    "        (60*60*24*5, np.inf): 0.12,\n",
    "    }\n",
    ")\n",
    "pfaest.train(data)"
   ]
  },
  {
   "cell_type": "markdown",
   "metadata": {},
   "source": [
    "### PFA/E/Ts"
   ]
  },
  {
   "cell_type": "code",
   "execution_count": 60,
   "metadata": {
    "collapsed": true
   },
   "outputs": [],
   "source": [
    "def time_effect_log(t, a=1.8, c=0.123):\n",
    "    return a - c*np.log(t)\n",
    "\n",
    "pfaet1 = LogPFAExtTiming(models.EloModel(), time_effect_fun=time_effect_log)\n",
    "pfaet1.train(data)"
   ]
  },
  {
   "cell_type": "code",
   "execution_count": 84,
   "metadata": {
    "collapsed": true
   },
   "outputs": [],
   "source": [
    "def time_effect_exp(t, a=1.6, c=0.01):\n",
    "    return a * np.exp(-c * np.sqrt(t))\n",
    "\n",
    "pfaet2 = LogPFAExtTiming(models.EloModel(), time_effect_fun=time_effect_exp)\n",
    "pfaet2.train(data)"
   ]
  },
  {
   "cell_type": "code",
   "execution_count": 207,
   "metadata": {
    "collapsed": false
   },
   "outputs": [],
   "source": [
    "def time_effect_div(t, a=2.608, c=0.241):\n",
    "    return a / (t+1)**c\n",
    "\n",
    "pfaet3 = LogPFAExtTiming(models.EloModel(), gamma=2.293, delta=-0.664,\n",
    "                         time_effect_fun=time_effect_div)\n",
    "pfaet3.train(data)"
   ]
  },
  {
   "cell_type": "markdown",
   "metadata": {},
   "source": [
    "### PFA/G/Ts"
   ]
  },
  {
   "cell_type": "code",
   "execution_count": 117,
   "metadata": {
    "collapsed": true
   },
   "outputs": [],
   "source": [
    "def time_effect_log(t, a=0.8, c=0.05):\n",
    "    return a - c*np.log(t)\n",
    "\n",
    "pfagt1 = LogPFAGongTiming(models.EloModel(), time_effect_fun=time_effect_log)\n",
    "pfagt1.train(data)"
   ]
  },
  {
   "cell_type": "code",
   "execution_count": 97,
   "metadata": {
    "collapsed": true
   },
   "outputs": [],
   "source": [
    "def time_effect_exp(t, a=0.5, c=0.002):\n",
    "    return a * np.exp(-c * np.sqrt(t))\n",
    "\n",
    "pfagt2 = LogPFAGongTiming(models.EloModel(), time_effect_fun=time_effect_exp)\n",
    "pfagt2.train(data)"
   ]
  },
  {
   "cell_type": "code",
   "execution_count": 105,
   "metadata": {
    "collapsed": true
   },
   "outputs": [],
   "source": [
    "def time_effect_div(t, a=1.2, c=0.15):\n",
    "    return a / (t+1)**c\n",
    "\n",
    "pfagt3 = LogPFAGongTiming(models.EloModel(), time_effect_fun=time_effect_div)\n",
    "pfagt3.train(data)"
   ]
  },
  {
   "cell_type": "code",
   "execution_count": 208,
   "metadata": {
    "collapsed": false
   },
   "outputs": [],
   "source": [
    "m1 = pfaet1\n",
    "m2 = pfaet2\n",
    "m3 = pfaet3\n",
    "\n",
    "n1 = m1.ABBR\n",
    "n2 = m2.ABBR\n",
    "n3 = m3.ABBR\n",
    "\n",
    "metric = lambda y_true, y_pred: (np.mean(y_true) - np.mean(y_pred))\n",
    "\n",
    "intervals1 = interval_error(m1.timing, interval_size=12000, metric=metric)\n",
    "intervals2 = interval_error(m2.timing, interval_size=12000, metric=metric)\n",
    "intervals3 = interval_error(m3.timing, interval_size=12000, metric=metric)\n",
    "\n",
    "plt.figure(num=None, figsize=(5, 4), dpi=120)\n",
    "plt.axhline(0, color='#888888', linestyle='--')\n",
    "\n",
    "p1 = plt.plot([x[0] for x in intervals1], [x[1] for x in intervals1], 'o-')\n",
    "p2 = plt.plot([x[0] for x in intervals2], [x[1] for x in intervals2], 'o-')\n",
    "p3 = plt.plot([x[0] for x in intervals3], [x[1] for x in intervals3], 'o-')\n",
    "\n",
    "plt.xscale('log')\n",
    "plt.ylabel('Correctness - Prediction')\n",
    "plt.xlabel('Time from previous attempt in seconds')\n",
    "plt.xlim([min([x[0] for x in intervals1]), max([x[0] for x in intervals1])])\n",
    "plt.ylim([-0.05, 0.05])\n",
    "\n",
    "legend = plt.legend([p1[0], p2[0], p3[0]], (n1, n2, n3), loc=1, prop={'size': 12})\n",
    "legend.get_frame().set_linewidth(1)\n",
    "\n",
    "plt.show()\n",
    "plt.tight_layout()"
   ]
  },
  {
   "cell_type": "markdown",
   "metadata": {},
   "source": [
    "## Mulitple Runs"
   ]
  },
  {
   "cell_type": "code",
   "execution_count": 26,
   "metadata": {
    "collapsed": false
   },
   "outputs": [
    {
     "name": "stdout",
     "output_type": "stream",
     "text": [
      "1 done\n",
      "2 done\n",
      "3 done\n",
      "4 done\n",
      "5 done\n",
      "6 done\n"
     ]
    }
   ],
   "source": [
    "plots = []\n",
    "params = [(x, y) for x in [1.1, 1.2, 1.3] for y in [0.08, 0.09]]\n",
    "intervals = []\n",
    "metric = lambda y_true, y_pred: (np.mean(y_pred) - np.mean(y_true))\n",
    "\n",
    "time_effect_template = lambda a, b: (lambda t: a - b*np.log(t))\n",
    "\n",
    "for time_effect in [time_effect_template(*args) for args in params]:\n",
    "    pfagt = LogPFAGongTiming(models.EloModel(), time_effect_fun=time_effect)\n",
    "    pfagt.train(data)\n",
    "    intervals += [interval_error(pfagt.timing, interval_size=1000, metric=metric)]\n",
    "    print len(intervals), 'done'\n",
    "\n",
    "for interval in intervals:\n",
    "    plots += [plt.plot([x[0] for x in interval], [x[1] for x in interval], '.-')]\n",
    "\n",
    "plt.xscale('log')\n",
    "plt.ylabel('observed - predicted')\n",
    "plt.xlabel('time from previous attempt (seconds)')\n",
    "plt.xlim([min([x[0] for x in intervals[0]]) - 20, max([x[0] for x in intervals[0]]) + 100000])\n",
    "plt.legend([p[0] for p in plots], map(lambda x: 'a={},b={}'.format(*x), params))\n",
    "plt.show()"
   ]
  },
  {
   "cell_type": "markdown",
   "metadata": {},
   "source": [
    "# Different Approach"
   ]
  },
  {
   "cell_type": "code",
   "execution_count": 10,
   "metadata": {
    "collapsed": false
   },
   "outputs": [],
   "source": [
    "data = tools.add_spacing(data)"
   ]
  },
  {
   "cell_type": "code",
   "execution_count": 12,
   "metadata": {
    "collapsed": false
   },
   "outputs": [
    {
     "name": "stdout",
     "output_type": "stream",
     "text": [
      "(600, 1800) 5403\n",
      "(150, 300) 12653\n",
      "(90, 150) 9562\n",
      "(86400, 259200) 2470\n",
      "(300, 600) 6758\n",
      "(259200, 2592000) 355\n",
      "(10800, 86400) 4430\n",
      "(60, 90) 6124\n",
      "(1800, 10800) 4449\n",
      "(0, 60) 4970\n"
     ]
    }
   ],
   "source": [
    "ranges = [0, 60, 90, 150, 300, 600, 1800, 10800, 86400, 259200, 2592000]\n",
    "intervals = {i: None for i in zip(ranges, ranges[1:] + [np.inf])}\n",
    "\n",
    "for interval in intervals.keys():\n",
    "    lower, upper = interval\n",
    "    data_slice = data[(data['spacing'] > lower) & (data['spacing'] < upper)].copy()\n",
    "    \n",
    "    if data_slice.empty:\n",
    "        continue\n",
    "        \n",
    "    print interval, len(data_slice)\n",
    "    \n",
    "    pfaet = models.PFAExtTiming(models.EloModel(), time_effect_fun=lambda t: t/80)\n",
    "    pfaet_test = PerformanceTest(pfaet, data_slice)\n",
    "    pfaet_test.run()\n",
    "    \n",
    "    intervals[interval] = pfaet_test.results['train'].off\n",
    "    \n",
    "intervals = sorted([(np.mean(interval), value) for interval, value in intervals.items()], key=lambda x: x[0])"
   ]
  },
  {
   "cell_type": "code",
   "execution_count": 19,
   "metadata": {
    "collapsed": false
   },
   "outputs": [],
   "source": [
    "ranges = [0, 60, 90, 150, 300, 600, 1800, 10800, 86400, 259200, 2592000]\n",
    "intervals = {i: None for i in zip(ranges, ranges[1:] + [np.inf])}\n",
    "\n",
    "for interval in intervals.keys():\n",
    "    lower, upper = interval\n",
    "    data_slice = data[(data['spacing'] > lower) & (data['spacing'] <= upper)]\n",
    "    \n",
    "    if len(data_slice) > 0:\n",
    "        correct = len(data_slice[data_slice['is_correct'] == 1]) / len(data_slice)\n",
    "        intervals[interval] = correct\n",
    "        \n",
    "intervals.pop((2592000, np.inf))"
   ]
  },
  {
   "cell_type": "code",
   "execution_count": 20,
   "metadata": {
    "collapsed": false
   },
   "outputs": [],
   "source": [
    "intervals = sorted([(np.mean(interval), value) for interval, value in intervals.items()], key=lambda x: x[0])\n",
    "plt.plot([x[0] for x in intervals], [x[1] for x in intervals])\n",
    "plt.xscale('log')\n",
    "plt.show()"
   ]
  },
  {
   "cell_type": "code",
   "execution_count": 18,
   "metadata": {
    "collapsed": false
   },
   "outputs": [],
   "source": [
    "ind = np.arange(len(intervals))    # the x locations for the groups\n",
    "width = 0.50       # the width of the bars: can also be len(x) sequence\n",
    "\n",
    "correctness = [intervals[i] * 100 for i in sorted(intervals)]\n",
    "incorrectness = [(1 - intervals[i]) * 100 for i in sorted(intervals)]\n",
    "\n",
    "p1 = plt.bar(ind, correctness, width, color='#7FFF24')\n",
    "p2 = plt.bar(ind, incorrectness, width, color='#ff512e', bottom=correctness)\n",
    "\n",
    "plt.ylabel('%')\n",
    "plt.xticks(ind+width/2., ('60 s', '90 s', '150 s', '5 m', '10 m',\n",
    "                          '30 m', '3 h', '24 h', '3 d', '30 d'))\n",
    "plt.yticks(np.arange(0, 101, 10))\n",
    "plt.legend((p1[0], p2[0]), ('correct', 'incorrect'), loc=4)\n",
    "\n",
    "plt.show()"
   ]
  },
  {
   "cell_type": "code",
   "execution_count": 6,
   "metadata": {
    "collapsed": false
   },
   "outputs": [],
   "source": [
    "items = {}\n",
    "\n",
    "for _, row in data.iterrows():\n",
    "    index = (row.user_id, row.place_id)\n",
    "    answer = models.Answer(**row.to_dict())\n",
    "    if index in items:\n",
    "        items[index].append(answer)\n",
    "    else:\n",
    "        items[index] = [answer]"
   ]
  },
  {
   "cell_type": "code",
   "execution_count": 7,
   "metadata": {
    "collapsed": false
   },
   "outputs": [],
   "source": [
    "ranges = [0, 60, 90, 150, 300, 600, 1800, 10800, 86400, 259200, 2592000]\n",
    "intervals = zip(ranges, ranges[1:] + [np.inf])\n",
    "\n",
    "def get_interval(value, list_of_intervals):\n",
    "    for lower, upper in list_of_intervals:\n",
    "        if lower < value <= upper:\n",
    "            return lower, upper\n",
    "\n",
    "correct_before = {i: [] for i in intervals}\n",
    "incorrect_before = {i: [] for i in intervals}\n",
    "\n",
    "for index in items:\n",
    "    answers = sorted(items[index], key=lambda x: x.inserted)\n",
    "    for a1, a2 in zip(answers, answers[1:]):\n",
    "        diff = tools.time_diff(a2.inserted, a1.inserted)\n",
    "        interval = get_interval(diff, intervals)\n",
    "        if interval is None:\n",
    "            continue\n",
    "        if a1.is_correct:\n",
    "            correct_before[interval].append(a2.is_correct)\n",
    "        else:\n",
    "            incorrect_before[interval].append(a2.is_correct)        "
   ]
  },
  {
   "cell_type": "code",
   "execution_count": 9,
   "metadata": {
    "collapsed": false
   },
   "outputs": [],
   "source": [
    "correct_intervals = {i: np.mean(v) for i, v in correct_before.items()}\n",
    "incorrect_intervals = {i: np.mean(v) for i, v in incorrect_before.items()}"
   ]
  },
  {
   "cell_type": "code",
   "execution_count": 17,
   "metadata": {
    "collapsed": false
   },
   "outputs": [],
   "source": [
    "ind = (np.arange(len(intervals)-1) -1.2) * 1.15   # the x locations for the groups\n",
    "width = 0.4       # the width of the bars: can also be len(x) sequence\n",
    "\n",
    "correctness = [correct_intervals[i] * 100 for i in sorted(intervals) if i != (2592000, np.inf)]\n",
    "incorrectness = [incorrect_intervals[i] * 100 for i in sorted(intervals) if i != (2592000, np.inf)]\n",
    "\n",
    "p1 = plt.bar(ind-0.25, correctness, width, color='#7FFF24')\n",
    "p2 = plt.bar(ind+0.25, incorrectness, width, color='#ff512e')\n",
    "\n",
    "plt.ylabel('%')\n",
    "plt.xticks(ind+width/2., ('60 s', '90 s', '150 s', '5 m', '10 m',\n",
    "                          '30 m', '3 h', '24 h', '3 d', '30 d'))\n",
    "plt.yticks(np.arange(0, 101, 10))\n",
    "plt.legend((p2[0], p1[0]), ('incorrect before', 'correct before'), loc=4)\n",
    "\n",
    "plt.show()"
   ]
  },
  {
   "cell_type": "code",
   "execution_count": null,
   "metadata": {
    "collapsed": false
   },
   "outputs": [],
   "source": []
  }
 ],
 "metadata": {
  "kernelspec": {
   "display_name": "Python 2",
   "language": "python",
   "name": "python2"
  },
  "language_info": {
   "codemirror_mode": {
    "name": "ipython",
    "version": 2
   },
   "file_extension": ".py",
   "mimetype": "text/x-python",
   "name": "python",
   "nbconvert_exporter": "python",
   "pygments_lexer": "ipython2",
   "version": "2.7.6"
  }
 },
 "nbformat": 4,
 "nbformat_minor": 0
}
