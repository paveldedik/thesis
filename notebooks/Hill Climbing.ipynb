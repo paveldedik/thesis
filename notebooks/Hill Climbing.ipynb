{
 "cells": [
  {
   "cell_type": "code",
   "execution_count": 1,
   "metadata": {
    "collapsed": false
   },
   "outputs": [],
   "source": [
    "%matplotlib qt4\n",
    "from __future__ import division\n",
    "\n",
    "from models import tools, optimize, models\n",
    "from models.tests import PerformanceTest\n",
    "\n",
    "import numpy as np\n",
    "import pandas as pd\n",
    "import matplotlib.pyplot as plt"
   ]
  },
  {
   "cell_type": "code",
   "execution_count": 8,
   "metadata": {
    "collapsed": false
   },
   "outputs": [
    {
     "name": "stdout",
     "output_type": "stream",
     "text": [
      "50000\n"
     ]
    }
   ],
   "source": [
    "data = tools.load_data(limit=50000, offset=1500000)\n",
    "print len(data)"
   ]
  },
  {
   "cell_type": "code",
   "execution_count": 13,
   "metadata": {
    "collapsed": false
   },
   "outputs": [],
   "source": [
    "landscape = optimize.HillClimbing(data)"
   ]
  },
  {
   "cell_type": "code",
   "execution_count": 14,
   "metadata": {
    "collapsed": false
   },
   "outputs": [],
   "source": [
    "def pfa_fun(gamma, delta):\n",
    "    elo = models.EloModel()\n",
    "    pfa = models.PFAModel(elo, gamma=gamma, delta=delta)\n",
    "    pfa_test = PerformanceTest(pfa, landscape.data)\n",
    "\n",
    "    pfa_test.run()\n",
    "    return pfa_test.results['train'].rmse\n",
    "\n",
    "init_parameters = {'gamma': 0.5, 'delta': -4}\n",
    "init_epsilons = {'gamma': 0.1, 'delta': 0.2}"
   ]
  },
  {
   "cell_type": "code",
   "execution_count": 15,
   "metadata": {
    "collapsed": false
   },
   "outputs": [
    {
     "name": "stdout",
     "output_type": "stream",
     "text": [
      "altitude: 0.371674741951\n",
      "parameters: {'gamma': 2.7384577425762635, 'delta': -0.27252081568908476}\n",
      "epsilons: {'gamma': 0.074084593052739428, 'delta': 0.1495527284114431}\n"
     ]
    },
    {
     "data": {
      "text/plain": [
       "{'delta': -0.27252081568908476, 'gamma': 2.7384577425762635}"
      ]
     },
     "execution_count": 15,
     "metadata": {},
     "output_type": "execute_result"
    }
   ],
   "source": [
    "landscape.search(pfa_fun, init_parameters, init_epsilons, altitude_ratio=5)"
   ]
  },
  {
   "cell_type": "code",
   "execution_count": 7,
   "metadata": {
    "collapsed": false
   },
   "outputs": [
    {
     "data": {
      "text/plain": [
       "0.31177052478569939"
      ]
     },
     "execution_count": 7,
     "metadata": {},
     "output_type": "execute_result"
    }
   ],
   "source": [
    "pfa_fun(3.54, 0.78)"
   ]
  },
  {
   "cell_type": "code",
   "execution_count": null,
   "metadata": {
    "collapsed": false
   },
   "outputs": [],
   "source": []
  }
 ],
 "metadata": {
  "kernelspec": {
   "display_name": "Python 2",
   "language": "python",
   "name": "python2"
  },
  "language_info": {
   "codemirror_mode": {
    "name": "ipython",
    "version": 2
   },
   "file_extension": ".py",
   "mimetype": "text/x-python",
   "name": "python",
   "nbconvert_exporter": "python",
   "pygments_lexer": "ipython2",
   "version": "2.7.6"
  }
 },
 "nbformat": 4,
 "nbformat_minor": 0
}
