{
 "metadata": {
  "name": "",
  "signature": "sha256:8703cfaa1b8f28bb3a86811c5e4c8d3def2eb329a0a0bca1513fc19557a69ccc"
 },
 "nbformat": 3,
 "nbformat_minor": 0,
 "worksheets": [
  {
   "cells": [
    {
     "cell_type": "code",
     "collapsed": false,
     "input": [
      "%matplotlib qt4\n",
      "from __future__ import division\n",
      "\n",
      "from models import tools, optimize, models\n",
      "from models.tests import PerformanceTest\n",
      "\n",
      "import numpy as np\n",
      "import pandas as pd\n",
      "import matplotlib.pyplot as plt"
     ],
     "language": "python",
     "metadata": {},
     "outputs": [],
     "prompt_number": 1
    },
    {
     "cell_type": "code",
     "collapsed": false,
     "input": [
      "data = tools.load_data(limit=50000, offset=1500000)\n",
      "print len(data)"
     ],
     "language": "python",
     "metadata": {},
     "outputs": [
      {
       "output_type": "stream",
       "stream": "stdout",
       "text": [
        "50000\n"
       ]
      }
     ],
     "prompt_number": 8
    },
    {
     "cell_type": "code",
     "collapsed": false,
     "input": [
      "landscape = optimize.HillClimbing(data)"
     ],
     "language": "python",
     "metadata": {},
     "outputs": [],
     "prompt_number": 13
    },
    {
     "cell_type": "code",
     "collapsed": false,
     "input": [
      "def pfa_fun(gamma, delta):\n",
      "    elo = models.EloModel()\n",
      "    pfa = models.PFAModel(elo, gamma=gamma, delta=delta)\n",
      "    pfa_test = PerformanceTest(pfa, landscape.data)\n",
      "\n",
      "    pfa_test.run()\n",
      "    return pfa_test.results['train'].rmse\n",
      "\n",
      "init_parameters = {'gamma': 0.5, 'delta': -4}\n",
      "init_epsilons = {'gamma': 0.1, 'delta': 0.2}"
     ],
     "language": "python",
     "metadata": {},
     "outputs": [],
     "prompt_number": 14
    },
    {
     "cell_type": "code",
     "collapsed": false,
     "input": [
      "landscape.search(pfa_fun, init_parameters, init_epsilons, altitude_ratio=5)"
     ],
     "language": "python",
     "metadata": {},
     "outputs": [
      {
       "output_type": "stream",
       "stream": "stdout",
       "text": [
        "altitude: 0.371674741951\n",
        "parameters: {'gamma': 2.7384577425762635, 'delta': -0.27252081568908476}\n",
        "epsilons: {'gamma': 0.074084593052739428, 'delta': 0.1495527284114431}\n"
       ]
      },
      {
       "metadata": {},
       "output_type": "pyout",
       "prompt_number": 15,
       "text": [
        "{'delta': -0.27252081568908476, 'gamma': 2.7384577425762635}"
       ]
      }
     ],
     "prompt_number": 15
    },
    {
     "cell_type": "code",
     "collapsed": false,
     "input": [
      "pfa_fun(3.54, 0.78)"
     ],
     "language": "python",
     "metadata": {},
     "outputs": [
      {
       "metadata": {},
       "output_type": "pyout",
       "prompt_number": 7,
       "text": [
        "0.31177052478569939"
       ]
      }
     ],
     "prompt_number": 7
    },
    {
     "cell_type": "code",
     "collapsed": false,
     "input": [],
     "language": "python",
     "metadata": {},
     "outputs": []
    }
   ],
   "metadata": {}
  }
 ]
}