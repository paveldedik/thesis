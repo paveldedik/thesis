{
 "metadata": {
  "name": "",
  "signature": "sha256:6d8675edd779d260c292b353bee25abe27dea7232a934a94fc1075a54b609270"
 },
 "nbformat": 3,
 "nbformat_minor": 0,
 "worksheets": [
  {
   "cells": [
    {
     "cell_type": "code",
     "collapsed": false,
     "input": [
      "%matplotlib qt4\n",
      "from __future__ import division\n",
      "\n",
      "from models import tools, optimize, models\n",
      "from models.tests import PerformanceTest\n",
      "\n",
      "import numpy as np\n",
      "import pandas as pd\n",
      "import matplotlib.pyplot as plt"
     ],
     "language": "python",
     "metadata": {},
     "outputs": [],
     "prompt_number": 1
    },
    {
     "cell_type": "code",
     "collapsed": false,
     "input": [
      "data = tools.load_data(limit=20000, offset=1900000)\n",
      "print len(data)"
     ],
     "language": "python",
     "metadata": {},
     "outputs": [
      {
       "output_type": "stream",
       "stream": "stdout",
       "text": [
        "20000\n"
       ]
      }
     ],
     "prompt_number": 7
    },
    {
     "cell_type": "code",
     "collapsed": false,
     "input": [
      "landscape = optimize.HillClimbing(data)"
     ],
     "language": "python",
     "metadata": {},
     "outputs": [],
     "prompt_number": 3
    },
    {
     "cell_type": "code",
     "collapsed": false,
     "input": [
      "def pfa_fun(gamma, delta):\n",
      "    elo = models.EloModel()\n",
      "    pfa = models.PFAModel(elo, gamma=gamma, delta=delta)\n",
      "    pfa_test = PerformanceTest(pfa, landscape.data)\n",
      "\n",
      "    pfa_test.run()\n",
      "    return pfa_test.results['train'].rmse\n",
      "\n",
      "init_parameters = {'gamma': 0.5, 'delta': -4}\n",
      "init_epsilons = {'gamma': 0.1, 'delta': 0.2}"
     ],
     "language": "python",
     "metadata": {},
     "outputs": [],
     "prompt_number": 4
    },
    {
     "cell_type": "code",
     "collapsed": false,
     "input": [
      "landscape.search(pfa_fun, init_parameters, init_epsilons, step_size=0.5)"
     ],
     "language": "python",
     "metadata": {},
     "outputs": [
      {
       "output_type": "stream",
       "stream": "stdout",
       "text": [
        "0.334318027803\n",
        "{'gamma': 3.685824469222434, 'delta': 0.1418800001512818}\n"
       ]
      },
      {
       "metadata": {},
       "output_type": "pyout",
       "prompt_number": 8,
       "text": [
        "{'delta': 0.1418800001512818, 'gamma': 3.685824469222434}"
       ]
      }
     ],
     "prompt_number": 8
    },
    {
     "cell_type": "code",
     "collapsed": false,
     "input": [],
     "language": "python",
     "metadata": {},
     "outputs": []
    }
   ],
   "metadata": {}
  }
 ]
}