{
 "metadata": {
  "name": "",
  "signature": "sha256:338eebf900f8e686caca79e956eb9fb7863932b6aa56c1f8a76bcb5aa6f62395"
 },
 "nbformat": 3,
 "nbformat_minor": 0,
 "worksheets": [
  {
   "cells": [
    {
     "cell_type": "code",
     "collapsed": false,
     "input": [
      "%matplotlib qt4\n",
      "from __future__ import division\n",
      "\n",
      "from models import tools, optimize, models, filters\n",
      "from models.tests import PerformanceTest\n",
      "\n",
      "import numpy as np\n",
      "import pandas as pd\n",
      "import matplotlib.pyplot as plt"
     ],
     "language": "python",
     "metadata": {},
     "outputs": [],
     "prompt_number": 1
    },
    {
     "cell_type": "code",
     "collapsed": false,
     "input": [
      "data = tools.load_data(offset=1500000, limit=1000000)\n",
      "print len(data)"
     ],
     "language": "python",
     "metadata": {},
     "outputs": [
      {
       "output_type": "stream",
       "stream": "stdout",
       "text": [
        "787987\n"
       ]
      }
     ],
     "prompt_number": 2
    },
    {
     "cell_type": "code",
     "collapsed": false,
     "input": [
      "options = [0, 2, 4, 6]\n",
      "data_with_options = []\n",
      "for options_count in options:\n",
      "    d = data[data['number_of_options'] == options_count]\n",
      "    data_with_options += [len(d[d['is_correct'] == 0]) / len(d[d['is_correct'] == 1])]"
     ],
     "language": "python",
     "metadata": {},
     "outputs": [],
     "prompt_number": 11
    },
    {
     "cell_type": "code",
     "collapsed": false,
     "input": [
      "ind = np.arange(len(options))    # the x locations for the groups\n",
      "width = 0.50       # the width of the bars: can also be len(x) sequence\n",
      "\n",
      "p1 = plt.bar(ind, [(1 - p) * 100 for p in data_with_options],   width, color='#7FFF24')\n",
      "p2 = plt.bar(ind, [p * 100 for p in data_with_options], width, color='#ff512e',\n",
      "             bottom=[(1 - p) * 100 for p in data_with_options])\n",
      "\n",
      "plt.ylabel('%')\n",
      "plt.xticks(ind+width/2., ('open', '2 options', '4 options', '6 options'))\n",
      "plt.yticks(np.arange(0, 101, 10))\n",
      "plt.legend((p1[0], p2[0]), ('correct', 'incorrect'), loc=4)\n",
      "\n",
      "def autolabel(rects):\n",
      "    # attach some text labels\n",
      "    for rect in rects:\n",
      "        height = rect.get_height()\n",
      "        plt.text(rect.get_x()+rect.get_width()/2., height - 5, r'{} %'.format(round(height, 1)),\n",
      "                 ha='center', va='bottom')\n",
      "        \n",
      "autolabel(p1)\n",
      "\n",
      "plt.show()"
     ],
     "language": "python",
     "metadata": {},
     "outputs": [],
     "prompt_number": 69
    },
    {
     "cell_type": "code",
     "collapsed": false,
     "input": [],
     "language": "python",
     "metadata": {},
     "outputs": []
    }
   ],
   "metadata": {}
  }
 ]
}