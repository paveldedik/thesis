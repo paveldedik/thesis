{
 "cells": [
  {
   "cell_type": "code",
   "execution_count": 1,
   "metadata": {
    "collapsed": false
   },
   "outputs": [],
   "source": [
    "%matplotlib qt4\n",
    "from __future__ import division\n",
    "\n",
    "from models import tools, optimize, models, filters\n",
    "from models.tests import PerformanceTest\n",
    "\n",
    "import numpy as np\n",
    "import pandas as pd\n",
    "import matplotlib.pyplot as plt"
   ]
  },
  {
   "cell_type": "code",
   "execution_count": 2,
   "metadata": {
    "collapsed": false
   },
   "outputs": [
    {
     "name": "stdout",
     "output_type": "stream",
     "text": [
      "787987\n"
     ]
    }
   ],
   "source": [
    "data = tools.load_data(offset=1500000, limit=1000000)\n",
    "print len(data)"
   ]
  },
  {
   "cell_type": "code",
   "execution_count": 11,
   "metadata": {
    "collapsed": false
   },
   "outputs": [],
   "source": [
    "options = [0, 2, 4, 6]\n",
    "data_with_options = []\n",
    "for options_count in options:\n",
    "    d = data[data['number_of_options'] == options_count]\n",
    "    data_with_options += [len(d[d['is_correct'] == 0]) / len(d[d['is_correct'] == 1])]"
   ]
  },
  {
   "cell_type": "code",
   "execution_count": 69,
   "metadata": {
    "collapsed": false
   },
   "outputs": [],
   "source": [
    "ind = np.arange(len(options))    # the x locations for the groups\n",
    "width = 0.50       # the width of the bars: can also be len(x) sequence\n",
    "\n",
    "p1 = plt.bar(ind, [(1 - p) * 100 for p in data_with_options],   width, color='#7FFF24')\n",
    "p2 = plt.bar(ind, [p * 100 for p in data_with_options], width, color='#ff512e',\n",
    "             bottom=[(1 - p) * 100 for p in data_with_options])\n",
    "\n",
    "plt.ylabel('%')\n",
    "plt.xticks(ind+width/2., ('open', '2 options', '4 options', '6 options'))\n",
    "plt.yticks(np.arange(0, 101, 10))\n",
    "plt.legend((p1[0], p2[0]), ('correct', 'incorrect'), loc=4)\n",
    "\n",
    "def autolabel(rects):\n",
    "    # attach some text labels\n",
    "    for rect in rects:\n",
    "        height = rect.get_height()\n",
    "        plt.text(rect.get_x()+rect.get_width()/2., height - 5, r'{} %'.format(round(height, 1)),\n",
    "                 ha='center', va='bottom')\n",
    "        \n",
    "autolabel(p1)\n",
    "\n",
    "plt.show()"
   ]
  },
  {
   "cell_type": "code",
   "execution_count": null,
   "metadata": {
    "collapsed": false
   },
   "outputs": [],
   "source": []
  }
 ],
 "metadata": {
  "kernelspec": {
   "display_name": "Python 2",
   "language": "python",
   "name": "python2"
  },
  "language_info": {
   "codemirror_mode": {
    "name": "ipython",
    "version": 2
   },
   "file_extension": ".py",
   "mimetype": "text/x-python",
   "name": "python",
   "nbconvert_exporter": "python",
   "pygments_lexer": "ipython2",
   "version": "2.7.6"
  }
 },
 "nbformat": 4,
 "nbformat_minor": 0
}
