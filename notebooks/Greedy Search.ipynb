{
 "cells": [
  {
   "cell_type": "code",
   "execution_count": 1,
   "metadata": {
    "collapsed": false
   },
   "outputs": [],
   "source": [
    "%matplotlib qt4\n",
    "from __future__ import division\n",
    "\n",
    "from models import tools, optimize, models, filters\n",
    "from models.tests import PerformanceTest\n",
    "\n",
    "import numpy as np\n",
    "import pandas as pd\n",
    "import matplotlib.pyplot as plt"
   ]
  },
  {
   "cell_type": "markdown",
   "metadata": {},
   "source": [
    "## Initialization"
   ]
  },
  {
   "cell_type": "code",
   "execution_count": 2,
   "metadata": {
    "collapsed": false
   },
   "outputs": [
    {
     "name": "stdout",
     "output_type": "stream",
     "text": [
      "Loaded 206264 answers.\n",
      "39875\n"
     ]
    }
   ],
   "source": [
    "data = tools.load_data(limit=230000, offset=1500000)\n",
    "data = data[filters.sequentize(data)]\n",
    "print len(data)"
   ]
  },
  {
   "cell_type": "code",
   "execution_count": 17,
   "metadata": {
    "collapsed": true
   },
   "outputs": [],
   "source": [
    "def time_effect_log(t, a=1.8, c=0.123):\n",
    "    return a - c*np.log(t)\n",
    "\n",
    "def time_effect_div(t, a=2, c=0.2):\n",
    "    return a / (t+1)**c\n",
    "\n",
    "def time_effect_exp(t, a=1.6, c=0.01):\n",
    "    return a * np.exp(-c * np.sqrt(t))"
   ]
  },
  {
   "cell_type": "markdown",
   "metadata": {},
   "source": [
    "## PFA"
   ]
  },
  {
   "cell_type": "markdown",
   "metadata": {},
   "source": [
    "### Greedy Search"
   ]
  },
  {
   "cell_type": "code",
   "execution_count": 18,
   "metadata": {
    "collapsed": false
   },
   "outputs": [
    {
     "name": "stdout",
     "output_type": "stream",
     "text": [
      "altitude: 0.386096143369\n",
      "parameters: {'gamma': 1.0217415663910301, 'delta': -0.08060484121905806}\n",
      "epsilons: {'gamma': 0.09731077736458886, 'delta': 0.0091990867489331052}\n"
     ]
    },
    {
     "data": {
      "text/plain": [
       "{'delta': -0.08060484121905806, 'gamma': 1.0217415663910301}"
      ]
     },
     "execution_count": 18,
     "metadata": {},
     "output_type": "execute_result"
    }
   ],
   "source": [
    "def pfa_fun(gamma, delta):\n",
    "    elo = models.EloModel()\n",
    "    pfa = models.PFAModel(prior=elo, gamma=gamma, delta=delta)\n",
    "    pfa_test = PerformanceTest(pfa, landscape.data)\n",
    "\n",
    "    pfa_test.run()\n",
    "    return pfa_test.results['train'].rmse\n",
    "\n",
    "init_parameters = {'gamma': 2, 'delta': -1}\n",
    "init_epsilons = {'gamma': 0.1, 'delta': 0.05}\n",
    "\n",
    "landscape = optimize.GreedySearch(data)\n",
    "landscape.search(pfa_fun, init_parameters, init_epsilons, altitude_ratio=100)"
   ]
  },
  {
   "cell_type": "markdown",
   "metadata": {},
   "source": [
    "### Smart Greedy Search"
   ]
  },
  {
   "cell_type": "code",
   "execution_count": null,
   "metadata": {
    "collapsed": true
   },
   "outputs": [],
   "source": [
    "landscape = optimize.GreedySearch2(data)\n",
    "landscape.search_pfa(number_of_iter=10)"
   ]
  },
  {
   "cell_type": "markdown",
   "metadata": {},
   "source": [
    "## PFA/E"
   ]
  },
  {
   "cell_type": "markdown",
   "metadata": {},
   "source": [
    "### Greedy Search"
   ]
  },
  {
   "cell_type": "code",
   "execution_count": 19,
   "metadata": {
    "collapsed": false
   },
   "outputs": [
    {
     "name": "stdout",
     "output_type": "stream",
     "text": [
      "altitude: 0.365243269472\n",
      "parameters: {'gamma': 2.6138960433358331, 'delta': -0.64222843821121922}\n",
      "epsilons: {'gamma': 0.080759388385582331, 'delta': 0.04189546543480422}\n"
     ]
    },
    {
     "data": {
      "text/plain": [
       "{'delta': -0.64222843821121922, 'gamma': 2.6138960433358331}"
      ]
     },
     "execution_count": 19,
     "metadata": {},
     "output_type": "execute_result"
    }
   ],
   "source": [
    "def pfae_fun(gamma, delta):\n",
    "    elo = models.EloModel()\n",
    "    pfae = models.PFAExt(elo, gamma=gamma, delta=delta)\n",
    "    pfae_test = PerformanceTest(pfae, landscape.data)\n",
    "\n",
    "    pfae_test.run()\n",
    "    return pfae_test.results['train'].rmse\n",
    "\n",
    "init_parameters = {'gamma': 2, 'delta': -1}\n",
    "init_epsilons = {'gamma': 0.1, 'delta': 0.05}\n",
    "\n",
    "landscape = optimize.GreedySearch(data)\n",
    "landscape.search(pfae_fun, init_parameters, init_epsilons, altitude_ratio=100)"
   ]
  },
  {
   "cell_type": "markdown",
   "metadata": {},
   "source": [
    "## PFA/G"
   ]
  },
  {
   "cell_type": "markdown",
   "metadata": {},
   "source": [
    "### Greedy Search"
   ]
  },
  {
   "cell_type": "code",
   "execution_count": 20,
   "metadata": {
    "collapsed": false
   },
   "outputs": [
    {
     "name": "stdout",
     "output_type": "stream",
     "text": [
      "altitude: 0.368635412617\n",
      "parameters: {'delta': 0.090750223220923409, 'gamma': 1.7983221133533849, 'decay': 0.42489865480317074}\n",
      "epsilons: {'delta': 0.013640791781531381, 'gamma': 0.080467743926041696, 'decay': 0.0051981513990196383}\n"
     ]
    },
    {
     "data": {
      "text/plain": [
       "{'decay': 0.42489865480317074,\n",
       " 'delta': 0.090750223220923409,\n",
       " 'gamma': 1.7983221133533849}"
      ]
     },
     "execution_count": 20,
     "metadata": {},
     "output_type": "execute_result"
    }
   ],
   "source": [
    "def pfag_fun(gamma, delta, decay):\n",
    "    elo = models.EloModel()\n",
    "    pfag = models.PFAGong(prior=elo, gamma=gamma, delta=delta, decay=decay)\n",
    "    pfag_test = PerformanceTest(pfag, landscape.data)\n",
    "\n",
    "    pfag_test.run()\n",
    "    return pfag_test.results['train'].rmse\n",
    "\n",
    "init_parameters = {'gamma': 2, 'delta': -1, 'decay': 0.09}\n",
    "init_epsilons = {'gamma': 0.1, 'delta': 0.05, 'decay': 0.01}\n",
    "\n",
    "landscape = optimize.GreedySearch(data)\n",
    "landscape.search(pfag_fun, init_parameters, init_epsilons, altitude_ratio=100)"
   ]
  },
  {
   "cell_type": "markdown",
   "metadata": {},
   "source": [
    "### Smart Greedy Search"
   ]
  },
  {
   "cell_type": "code",
   "execution_count": 50,
   "metadata": {
    "collapsed": false
   },
   "outputs": [
    {
     "name": "stdout",
     "output_type": "stream",
     "text": [
      "   2.22006   -0.29863    0.37966\n",
      "   1.85479    0.23149    0.37130\n",
      "   1.58129    0.48080    0.36938\n",
      "   1.40630    0.58719    0.36961\n",
      "   1.29100    0.61561    0.37005\n",
      "   1.21126    0.60626    0.37027\n",
      "   1.15310    0.58130    0.37032\n",
      "   1.10862    0.55186    0.37028\n",
      "   1.07336    0.52300    0.37021\n",
      "   1.04470    0.49676    0.37015\n"
     ]
    },
    {
     "data": {
      "text/plain": [
       "{'decay': 0.71608391039486985,\n",
       " 'delta': 0.49676161027915278,\n",
       " 'gamma': 1.044699976959059}"
      ]
     },
     "execution_count": 50,
     "metadata": {},
     "output_type": "execute_result"
    }
   ],
   "source": [
    "landscape = optimize.GreedySearch2(data)\n",
    "landscape.search_pfag(number_of_iter=10)"
   ]
  },
  {
   "cell_type": "markdown",
   "metadata": {},
   "source": [
    "## PFA/E/T"
   ]
  },
  {
   "cell_type": "markdown",
   "metadata": {},
   "source": [
    "### Greedy Search"
   ]
  },
  {
   "cell_type": "code",
   "execution_count": 21,
   "metadata": {
    "collapsed": false
   },
   "outputs": [
    {
     "name": "stdout",
     "output_type": "stream",
     "text": [
      "altitude: 0.360732908538\n",
      "parameters: {'a': 3, 'c': 0.27, 'gamma': 2.0039634985072654, 'delta': -0.71336995510463197}\n",
      "epsilons: {'a': 0.10000000000000001, 'c': 0.029999999999999999, 'gamma': 0.096715857999698757, 'delta': 0.046631981673907225}\n"
     ]
    },
    {
     "data": {
      "text/plain": [
       "{'a': 3, 'c': 0.27, 'delta': -0.71336995510463197, 'gamma': 2.0039634985072654}"
      ]
     },
     "execution_count": 21,
     "metadata": {},
     "output_type": "execute_result"
    }
   ],
   "source": [
    "def pfaet_fun(gamma, delta, a, c):\n",
    "    elo = models.EloModel()\n",
    "    pfaet = models.PFAExtTiming(\n",
    "        elo, gamma=gamma, delta=delta,\n",
    "        time_effect_fun=time_effect_div)\n",
    "    pfaet_test = PerformanceTest(pfaet, landscape.data)\n",
    "\n",
    "    pfaet_test.run()\n",
    "    return pfaet_test.results['train'].rmse\n",
    "\n",
    "init_parameters = {'gamma': 2, 'delta': -1, 'a': 3, 'c': 0.3}\n",
    "init_epsilons = {'gamma': 0.1, 'delta': 0.05, 'a': 0.1, 'c': 0.03}\n",
    "\n",
    "landscape = optimize.GreedySearch(data)\n",
    "landscape.search(pfaet_fun, init_parameters, init_epsilons, altitude_ratio=100)"
   ]
  },
  {
   "cell_type": "markdown",
   "metadata": {},
   "source": [
    "## PFA/G/T"
   ]
  },
  {
   "cell_type": "markdown",
   "metadata": {},
   "source": [
    "### Greedy Search"
   ]
  },
  {
   "cell_type": "code",
   "execution_count": 22,
   "metadata": {
    "collapsed": false
   },
   "outputs": [
    {
     "name": "stdout",
     "output_type": "stream",
     "text": [
      "altitude: 0.371492019175\n",
      "parameters: {'a': 3, 'c': 0.27, 'gamma': 1.6107902521865474, 'delta': -0.020214861101020089}\n",
      "epsilons: {'a': 0.10000000000000001, 'c': 0.029999999999999999, 'gamma': 0.097492986518455019, 'delta': 0.032918010950695561}\n"
     ]
    },
    {
     "data": {
      "text/plain": [
       "{'a': 3,\n",
       " 'c': 0.27,\n",
       " 'delta': -0.020214861101020089,\n",
       " 'gamma': 1.6107902521865474}"
      ]
     },
     "execution_count": 22,
     "metadata": {},
     "output_type": "execute_result"
    }
   ],
   "source": [
    "def pfagt_fun(gamma, delta, a, c):\n",
    "    elo = models.EloModel()\n",
    "    pfagt = models.PFAGongTiming(\n",
    "        elo, gamma=gamma, delta=delta,\n",
    "        time_effect_fun=time_effect_div)\n",
    "    pfagt_test = PerformanceTest(pfagt, landscape.data)\n",
    "\n",
    "    pfagt_test.run()\n",
    "    return pfagt_test.results['train'].rmse\n",
    "\n",
    "init_parameters = {'gamma': 2, 'delta': -1, 'a': 3, 'c': 0.3}\n",
    "init_epsilons = {'gamma': 0.1, 'delta': 0.05, 'a': 0.1, 'c': 0.03}\n",
    "\n",
    "landscape = optimize.GreedySearch(data)\n",
    "landscape.search(pfagt_fun, init_parameters, init_epsilons, altitude_ratio=100)"
   ]
  },
  {
   "cell_type": "markdown",
   "metadata": {},
   "source": [
    "### Smart Greedy Search"
   ]
  },
  {
   "cell_type": "code",
   "execution_count": 49,
   "metadata": {
    "collapsed": false
   },
   "outputs": [
    {
     "name": "stdout",
     "output_type": "stream",
     "text": [
      "   3.51309   -0.25624    0.37776\n",
      "   3.68964    0.04912    0.37706\n",
      "   3.46514    0.04062    0.37575\n",
      "   3.25846    0.03920    0.37536\n",
      "   3.05692    0.03611    0.37501\n",
      "   2.86231    0.03415    0.37464\n",
      "   2.67456    0.03202    0.37430\n",
      "   2.49209    0.02844    0.37398\n",
      "   2.32170    0.02788    0.37366\n",
      "   2.15652    0.02566    0.37334\n"
     ]
    },
    {
     "data": {
      "text/plain": [
       "{'a': 2.9700846520609057,\n",
       " 'c': 0.25924650629428969,\n",
       " 'delta': 0.025657149029072922,\n",
       " 'gamma': 2.1565236199060083}"
      ]
     },
     "execution_count": 49,
     "metadata": {},
     "output_type": "execute_result"
    }
   ],
   "source": [
    "landscape = optimize.GreedySearch2(data)\n",
    "landscape.search_pfagt(number_of_iter=10)"
   ]
  },
  {
   "cell_type": "code",
   "execution_count": null,
   "metadata": {
    "collapsed": true
   },
   "outputs": [],
   "source": []
  }
 ],
 "metadata": {
  "kernelspec": {
   "display_name": "Python 2",
   "language": "python",
   "name": "python2"
  },
  "language_info": {
   "codemirror_mode": {
    "name": "ipython",
    "version": 2
   },
   "file_extension": ".py",
   "mimetype": "text/x-python",
   "name": "python",
   "nbconvert_exporter": "python",
   "pygments_lexer": "ipython2",
   "version": "2.7.6"
  }
 },
 "nbformat": 4,
 "nbformat_minor": 0
}
