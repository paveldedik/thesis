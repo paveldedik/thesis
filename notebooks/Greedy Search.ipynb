{
 "cells": [
  {
   "cell_type": "code",
   "execution_count": 1,
   "metadata": {
    "collapsed": false
   },
   "outputs": [],
   "source": [
    "%matplotlib qt4\n",
    "from __future__ import division\n",
    "\n",
    "from models import tools, optimize, models, filters\n",
    "from models.tests import PerformanceTest\n",
    "\n",
    "import numpy as np\n",
    "import pandas as pd\n",
    "import matplotlib.pyplot as plt"
   ]
  },
  {
   "cell_type": "markdown",
   "metadata": {},
   "source": [
    "## Initialization"
   ]
  },
  {
   "cell_type": "code",
   "execution_count": 2,
   "metadata": {
    "collapsed": false
   },
   "outputs": [
    {
     "name": "stdout",
     "output_type": "stream",
     "text": [
      "Loaded 176420 answers.\n",
      "20984\n"
     ]
    }
   ],
   "source": [
    "data = tools.load_data(limit=200000, offset=1500000)\n",
    "data = data[filters.sequentize(data) & filters.for_staircase(data)]\n",
    "print len(data)"
   ]
  },
  {
   "cell_type": "markdown",
   "metadata": {},
   "source": [
    "## PFA"
   ]
  },
  {
   "cell_type": "markdown",
   "metadata": {},
   "source": [
    "### Greedy Search"
   ]
  },
  {
   "cell_type": "code",
   "execution_count": 4,
   "metadata": {
    "collapsed": false
   },
   "outputs": [
    {
     "name": "stdout",
     "output_type": "stream",
     "text": [
      "altitude: 0.377097440379\n",
      "parameters: {'gamma': 0.9500315530032688, 'delta': -0.069594670956348553}\n",
      "epsilons: {'gamma': 0.095170365465655521, 'delta': 0.0093821828364488279}\n"
     ]
    },
    {
     "data": {
      "text/plain": [
       "{'delta': -0.069594670956348553, 'gamma': 0.9500315530032688}"
      ]
     },
     "execution_count": 4,
     "metadata": {},
     "output_type": "execute_result"
    }
   ],
   "source": [
    "def pfa_fun(gamma, delta):\n",
    "    elo = models.EloModel()\n",
    "    pfa = models.PFAModel(prior=elo, gamma=gamma, delta=delta)\n",
    "    pfa_test = PerformanceTest(pfa, landscape.data)\n",
    "\n",
    "    pfa_test.run()\n",
    "    return pfa_test.get_results().rmse\n",
    "\n",
    "init_parameters = {'gamma': 2, 'delta': -1}\n",
    "init_epsilons = {'gamma': 0.1, 'delta': 0.05}\n",
    "\n",
    "landscape = optimize.GreedySearch(data)\n",
    "landscape.search(pfa_fun, init_parameters, init_epsilons)"
   ]
  },
  {
   "cell_type": "markdown",
   "metadata": {},
   "source": [
    "### Smart Greedy Search"
   ]
  },
  {
   "cell_type": "code",
   "execution_count": 28,
   "metadata": {
    "collapsed": false
   },
   "outputs": [
    {
     "name": "stdout",
     "output_type": "stream",
     "text": [
      "   0.82665   -0.11048    0.41463\n",
      "   0.56001    0.15651    0.41306\n",
      "   0.46866    0.28621    0.41304\n",
      "   0.43680    0.33872    0.41342\n",
      "   0.42541    0.35865    0.41364\n",
      "   0.42129    0.36604    0.41373\n",
      "   0.41978    0.36875    0.41376\n",
      "   0.41924    0.36975    0.41377\n",
      "   0.41904    0.37011    0.41378\n",
      "   0.41897    0.37024    0.41378\n"
     ]
    },
    {
     "data": {
      "text/plain": [
       "{'delta': 0.37024055519326116, 'gamma': 0.41896607638479794}"
      ]
     },
     "execution_count": 28,
     "metadata": {},
     "output_type": "execute_result"
    }
   ],
   "source": [
    "landscape = optimize.GreedySearch2(data)\n",
    "landscape.search_pfa(number_of_iter=10)"
   ]
  },
  {
   "cell_type": "markdown",
   "metadata": {},
   "source": [
    "## PFA/E"
   ]
  },
  {
   "cell_type": "markdown",
   "metadata": {},
   "source": [
    "### Greedy Search"
   ]
  },
  {
   "cell_type": "code",
   "execution_count": 5,
   "metadata": {
    "collapsed": false
   },
   "outputs": [
    {
     "name": "stdout",
     "output_type": "stream",
     "text": [
      "altitude: 0.354064248528\n",
      "parameters: {'gamma': 2.7659426003597627, 'delta': -0.76757226459496852}\n",
      "epsilons: {'gamma': 0.079101073533933683, 'delta': 0.043112461933853298}\n"
     ]
    },
    {
     "data": {
      "text/plain": [
       "{'delta': -0.76757226459496852, 'gamma': 2.7659426003597627}"
      ]
     },
     "execution_count": 5,
     "metadata": {},
     "output_type": "execute_result"
    }
   ],
   "source": [
    "def pfae_fun(gamma, delta):\n",
    "    elo = models.EloModel()\n",
    "    pfae = models.PFAExt(elo, gamma=gamma, delta=delta)\n",
    "    pfae_test = PerformanceTest(pfae, landscape.data)\n",
    "\n",
    "    pfae_test.run()\n",
    "    return pfae_test.get_results().rmse\n",
    "\n",
    "init_parameters = {'gamma': 2, 'delta': -1}\n",
    "init_epsilons = {'gamma': 0.1, 'delta': 0.05}\n",
    "\n",
    "landscape = optimize.GreedySearch(data)\n",
    "landscape.search(pfae_fun, init_parameters, init_epsilons)"
   ]
  },
  {
   "cell_type": "markdown",
   "metadata": {},
   "source": [
    "## PFA/G"
   ]
  },
  {
   "cell_type": "markdown",
   "metadata": {},
   "source": [
    "### Greedy Search"
   ]
  },
  {
   "cell_type": "code",
   "execution_count": 7,
   "metadata": {
    "collapsed": false
   },
   "outputs": [
    {
     "name": "stdout",
     "output_type": "stream",
     "text": [
      "altitude: 0.358844436988\n",
      "parameters: {'delta': 0.14957220783956943, 'gamma': 1.5516771530480593, 'decay': 0.44460998218898112}\n",
      "epsilons: {'delta': 0.044904869147786304, 'gamma': 0.068238198746089482, 'decay': 0.015099074035045167}\n"
     ]
    },
    {
     "data": {
      "text/plain": [
       "{'decay': 0.44460998218898112,\n",
       " 'delta': 0.14957220783956943,\n",
       " 'gamma': 1.5516771530480593}"
      ]
     },
     "execution_count": 7,
     "metadata": {},
     "output_type": "execute_result"
    }
   ],
   "source": [
    "def pfag_fun(gamma, delta, decay):\n",
    "    elo = models.EloModel()\n",
    "    pfag = models.PFAGong(prior=elo, gamma=gamma, delta=delta, decay=decay)\n",
    "    pfag_test = PerformanceTest(pfag, landscape.data)\n",
    "\n",
    "    pfag_test.run()\n",
    "    return pfag_test.get_results().rmse\n",
    "\n",
    "init_parameters = {'gamma': 2, 'delta': 0, 'decay': 0.5}\n",
    "init_epsilons = {'gamma': 0.1, 'delta': 0.05, 'decay': 0.02}\n",
    "\n",
    "landscape = optimize.GreedySearch(data)\n",
    "landscape.search(pfag_fun, init_parameters, init_epsilons)"
   ]
  },
  {
   "cell_type": "markdown",
   "metadata": {},
   "source": [
    "### Smart Greedy Search"
   ]
  },
  {
   "cell_type": "code",
   "execution_count": 50,
   "metadata": {
    "collapsed": false
   },
   "outputs": [
    {
     "name": "stdout",
     "output_type": "stream",
     "text": [
      "   2.22006   -0.29863    0.37966\n",
      "   1.85479    0.23149    0.37130\n",
      "   1.58129    0.48080    0.36938\n",
      "   1.40630    0.58719    0.36961\n",
      "   1.29100    0.61561    0.37005\n",
      "   1.21126    0.60626    0.37027\n",
      "   1.15310    0.58130    0.37032\n",
      "   1.10862    0.55186    0.37028\n",
      "   1.07336    0.52300    0.37021\n",
      "   1.04470    0.49676    0.37015\n"
     ]
    },
    {
     "data": {
      "text/plain": [
       "{'decay': 0.71608391039486985,\n",
       " 'delta': 0.49676161027915278,\n",
       " 'gamma': 1.044699976959059}"
      ]
     },
     "execution_count": 50,
     "metadata": {},
     "output_type": "execute_result"
    }
   ],
   "source": [
    "landscape = optimize.GreedySearch2(data)\n",
    "landscape.search_pfag(number_of_iter=10)"
   ]
  },
  {
   "cell_type": "markdown",
   "metadata": {},
   "source": [
    "## PFA/E/T"
   ]
  },
  {
   "cell_type": "markdown",
   "metadata": {},
   "source": [
    "### Greedy Search"
   ]
  },
  {
   "cell_type": "code",
   "execution_count": 4,
   "metadata": {
    "collapsed": false
   },
   "outputs": [],
   "source": [
    "def pfaet_fun(gamma, delta, a, c):\n",
    "    elo = models.EloModel()\n",
    "    pfaet = models.PFAExtTiming(\n",
    "        elo, gamma=gamma, delta=delta,\n",
    "        time_effect_fun=time_effect_fun, a=a, c=c)\n",
    "    pfaet_test = PerformanceTest(pfaet, landscape.data)\n",
    "\n",
    "    pfaet_test.run()\n",
    "    return pfaet_test.get_results().rmse"
   ]
  },
  {
   "cell_type": "code",
   "execution_count": 5,
   "metadata": {
    "collapsed": false
   },
   "outputs": [
    {
     "name": "stdout",
     "output_type": "stream",
     "text": [
      "altitude: 0.374310118189\n",
      "parameters: {'a': 3.0954052130870449, 'c': 0.21320363243987012, 'gamma': 2.0930829813020249, 'delta': -0.90359497562913749}\n",
      "epsilons: {'a': 0.092225242009501288, 'c': 0.02436023626270311, 'gamma': 0.086235526334246249, 'delta': 0.043386666250166565}\n"
     ]
    },
    {
     "data": {
      "text/plain": [
       "{'a': 3.0954052130870449,\n",
       " 'c': 0.21320363243987012,\n",
       " 'delta': -0.90359497562913749,\n",
       " 'gamma': 2.0930829813020249}"
      ]
     },
     "execution_count": 5,
     "metadata": {},
     "output_type": "execute_result"
    }
   ],
   "source": [
    "time_effect_fun = 'pow'\n",
    "\n",
    "init_parameters = {'gamma': 2, 'delta': -1, 'a': 3, 'c': 0.3}\n",
    "init_epsilons = {'gamma': 0.1, 'delta': 0.05, 'a': 0.1, 'c': 0.03}\n",
    "\n",
    "landscape = optimize.GreedySearch(data)\n",
    "landscape.search(pfaet_fun, init_parameters, init_epsilons, maxiter=30)"
   ]
  },
  {
   "cell_type": "code",
   "execution_count": 6,
   "metadata": {
    "collapsed": false
   },
   "outputs": [
    {
     "name": "stdout",
     "output_type": "stream",
     "text": [
      "altitude: 0.374254119587\n",
      "parameters: {'a': 1.513257494926556, 'c': 0.096867480621462942, 'gamma': 2.0018347628219155, 'delta': -0.99486886871371072}\n",
      "epsilons: {'a': 0.072005921572274714, 'c': 0.019397633497346498, 'gamma': 0.080066196854110261, 'delta': 0.041701409218529273}\n"
     ]
    },
    {
     "data": {
      "text/plain": [
       "{'a': 1.513257494926556,\n",
       " 'c': 0.096867480621462942,\n",
       " 'delta': -0.99486886871371072,\n",
       " 'gamma': 2.0018347628219155}"
      ]
     },
     "execution_count": 6,
     "metadata": {},
     "output_type": "execute_result"
    }
   ],
   "source": [
    "time_effect_fun = 'log'\n",
    "\n",
    "init_parameters = {'gamma': 2, 'delta': -1, 'a': 1.5, 'c': 0.1}\n",
    "init_epsilons = {'gamma': 0.1, 'delta': 0.05, 'a': 0.1, 'c': 0.03}\n",
    "\n",
    "landscape = optimize.GreedySearch(data)\n",
    "landscape.search(pfaet_fun, init_parameters, init_epsilons, maxiter=30)"
   ]
  },
  {
   "cell_type": "code",
   "execution_count": 7,
   "metadata": {
    "collapsed": false
   },
   "outputs": [
    {
     "name": "stdout",
     "output_type": "stream",
     "text": [
      "altitude: 0.374629437147\n",
      "parameters: {'a': 1.1, 'c': 0.005, 'gamma': 2.1, 'delta': -0.95}\n",
      "epsilons: {'a': 0.099385335904517619, 'c': 0.004851883029818811, 'gamma': 0.098644526514727798, 'delta': 0.049232804890392237}\n"
     ]
    },
    {
     "data": {
      "text/plain": [
       "{'a': 1.1, 'c': 0.005, 'delta': -0.95, 'gamma': 2.1}"
      ]
     },
     "execution_count": 7,
     "metadata": {},
     "output_type": "execute_result"
    }
   ],
   "source": [
    "time_effect_fun = 'exp'\n",
    "\n",
    "init_parameters = {'gamma': 2, 'delta': -1, 'a': 1, 'c': 0.01}\n",
    "init_epsilons = {'gamma': 0.1, 'delta': 0.05, 'a': 0.1, 'c': 0.005}\n",
    "\n",
    "landscape = optimize.GreedySearch(data)\n",
    "landscape.search(pfaet_fun, init_parameters, init_epsilons, maxiter=30)"
   ]
  },
  {
   "cell_type": "markdown",
   "metadata": {},
   "source": [
    "## PFA/G/T"
   ]
  },
  {
   "cell_type": "markdown",
   "metadata": {},
   "source": [
    "### Greedy Search"
   ]
  },
  {
   "cell_type": "code",
   "execution_count": 8,
   "metadata": {
    "collapsed": true
   },
   "outputs": [],
   "source": [
    "def pfagt_fun(a, c, b, d):\n",
    "    elo = models.EloModel()\n",
    "    pfagt = models.PFATiming(\n",
    "        elo,\n",
    "        time_effect_good=time_effect_fun, a=a, c=c,\n",
    "        time_effect_bad=time_effect_fun, b=b, d=d)\n",
    "    pfagt_test = PerformanceTest(pfagt, landscape.data)\n",
    "\n",
    "    pfagt_test.run()\n",
    "    return pfagt_test.get_results().rmse"
   ]
  },
  {
   "cell_type": "code",
   "execution_count": 9,
   "metadata": {
    "collapsed": false
   },
   "outputs": [
    {
     "name": "stdout",
     "output_type": "stream",
     "text": [
      "altitude: 0.391614242522\n",
      "parameters: {'a': 3.2854110952418063, 'c': 0.22628209829830848, 'b': 4.6779139573229163, 'd': 0.93519366624420974}\n",
      "epsilons: {'a': 0.088252799215740349, 'c': 0.012463364504304589, 'b': 0.097818099072375944, 'd': 0.034527914820945922}\n"
     ]
    },
    {
     "data": {
      "text/plain": [
       "{'a': 3.2854110952418063,\n",
       " 'b': 4.6779139573229163,\n",
       " 'c': 0.22628209829830848,\n",
       " 'd': 0.93519366624420974}"
      ]
     },
     "execution_count": 9,
     "metadata": {},
     "output_type": "execute_result"
    }
   ],
   "source": [
    "time_effect_fun = 'pow'\n",
    "\n",
    "init_parameters = {'a': 3, 'c': 0.3, 'b': 4, 'd': 0.4}\n",
    "init_epsilons = {'a': 0.1, 'c': 0.03, 'b': 0.1, 'd': 0.04}\n",
    "\n",
    "landscape = optimize.GreedySearch(data)\n",
    "landscape.search(pfagt_fun, init_parameters, init_epsilons, maxiter=30)"
   ]
  },
  {
   "cell_type": "code",
   "execution_count": 10,
   "metadata": {
    "collapsed": false
   },
   "outputs": [
    {
     "name": "stdout",
     "output_type": "stream",
     "text": [
      "altitude: 0.393678983702\n",
      "parameters: {'a': 1.6866305227760314, 'c': 0.10088571006549757, 'b': 0.89091817277688767, 'd': 0.095267255973747966}\n",
      "epsilons: {'a': 0.027481914572241684, 'c': 0.0025967693241263712, 'b': 0.031969386990870416, 'd': 0.0029325600994641638}\n"
     ]
    },
    {
     "data": {
      "text/plain": [
       "{'a': 1.6866305227760314,\n",
       " 'b': 0.89091817277688767,\n",
       " 'c': 0.10088571006549757,\n",
       " 'd': 0.095267255973747966}"
      ]
     },
     "execution_count": 10,
     "metadata": {},
     "output_type": "execute_result"
    }
   ],
   "source": [
    "time_effect_fun = 'log'\n",
    "\n",
    "init_parameters = {'a': 1.7, 'c': 0.1, 'b': 0.9, 'd': 0.1}\n",
    "init_epsilons = {'a': 0.05, 'c': 0.005, 'b': 0.05, 'd': 0.005}\n",
    "\n",
    "landscape = optimize.GreedySearch(data)\n",
    "landscape.search(pfagt_fun, init_parameters, init_epsilons, maxiter=30)"
   ]
  },
  {
   "cell_type": "code",
   "execution_count": 11,
   "metadata": {
    "collapsed": false
   },
   "outputs": [
    {
     "name": "stdout",
     "output_type": "stream",
     "text": [
      "altitude: 0.393682259936\n",
      "parameters: {'a': 0.72692085941193285, 'c': 0.0017535316706194378, 'b': 0.737691772545225, 'd': 0.088884542394713134}\n",
      "epsilons: {'a': 0.078297035674251475, 'c': 0.0010110572022579186, 'b': 0.078811036407209364, 'd': 0.0025582988105892438}\n"
     ]
    },
    {
     "data": {
      "text/plain": [
       "{'a': 0.72692085941193285,\n",
       " 'b': 0.737691772545225,\n",
       " 'c': 0.0017535316706194378,\n",
       " 'd': 0.088884542394713134}"
      ]
     },
     "execution_count": 11,
     "metadata": {},
     "output_type": "execute_result"
    }
   ],
   "source": [
    "time_effect_fun = 'exp'\n",
    "\n",
    "init_parameters = {'a': 1.5, 'c': 0.01, 'b': 1.3, 'd': 0.01}\n",
    "init_epsilons = {'a': 0.1, 'c': 0.003, 'b': 0.1, 'd': 0.003}\n",
    "\n",
    "landscape = optimize.GreedySearch(data)\n",
    "landscape.search(pfagt_fun, init_parameters, init_epsilons, maxiter=30)"
   ]
  },
  {
   "cell_type": "markdown",
   "metadata": {},
   "source": [
    "### Smart Greedy Search"
   ]
  },
  {
   "cell_type": "code",
   "execution_count": 49,
   "metadata": {
    "collapsed": false
   },
   "outputs": [
    {
     "name": "stdout",
     "output_type": "stream",
     "text": [
      "   3.51309   -0.25624    0.37776\n",
      "   3.68964    0.04912    0.37706\n",
      "   3.46514    0.04062    0.37575\n",
      "   3.25846    0.03920    0.37536\n",
      "   3.05692    0.03611    0.37501\n",
      "   2.86231    0.03415    0.37464\n",
      "   2.67456    0.03202    0.37430\n",
      "   2.49209    0.02844    0.37398\n",
      "   2.32170    0.02788    0.37366\n",
      "   2.15652    0.02566    0.37334\n"
     ]
    },
    {
     "data": {
      "text/plain": [
       "{'a': 2.9700846520609057,\n",
       " 'c': 0.25924650629428969,\n",
       " 'delta': 0.025657149029072922,\n",
       " 'gamma': 2.1565236199060083}"
      ]
     },
     "execution_count": 49,
     "metadata": {},
     "output_type": "execute_result"
    }
   ],
   "source": [
    "landscape = optimize.GreedySearch2(data)\n",
    "landscape.search_pfagt(number_of_iter=10)"
   ]
  },
  {
   "cell_type": "code",
   "execution_count": 3,
   "metadata": {
    "collapsed": false
   },
   "outputs": [
    {
     "name": "stdout",
     "output_type": "stream",
     "text": [
      "   2.01599    0.10362    0.38777\n",
      "   1.68531    0.05819    0.38661\n",
      "   1.34697    0.03985    0.38363\n",
      "   1.06414    0.03902    0.38051\n",
      "   0.79137    0.02831    0.37611\n",
      "   0.55974    0.01953    0.37206\n",
      "   0.34258    0.02003    0.36915\n",
      "   0.20341    0.04402    0.37436\n",
      "   0.11545    0.02245    0.38869\n",
      "   0.08667    0.01565    0.39558\n"
     ]
    },
    {
     "data": {
      "text/plain": [
       "{'a': 3.2731618029154732,\n",
       " 'c': -0.099687077060505391,\n",
       " 'delta': 0.015650741856747617,\n",
       " 'gamma': 0.086671413614965359}"
      ]
     },
     "execution_count": 3,
     "metadata": {},
     "output_type": "execute_result"
    }
   ],
   "source": [
    "landscape = optimize.GreedySearch2(data)\n",
    "landscape.search_pfagt(number_of_iter=10, time_effect_fun='exp')"
   ]
  },
  {
   "cell_type": "markdown",
   "metadata": {},
   "source": [
    "## PFA/E/RT"
   ]
  },
  {
   "cell_type": "code",
   "execution_count": 12,
   "metadata": {
    "collapsed": false
   },
   "outputs": [
    {
     "name": "stdout",
     "output_type": "stream",
     "text": [
      "altitude: 0.379161215004\n",
      "parameters: {'zeta': 3.4169393094296372, 'gamma': 1.8593913082626701, 'delta': -1.2234781847569738}\n",
      "epsilons: {'zeta': 0.060922324942620218, 'gamma': 0.082591137048408148, 'delta': 0.035411705703641612}\n"
     ]
    },
    {
     "data": {
      "text/plain": [
       "{'delta': -1.2234781847569738,\n",
       " 'gamma': 1.8593913082626701,\n",
       " 'zeta': 3.4169393094296372}"
      ]
     },
     "execution_count": 12,
     "metadata": {},
     "output_type": "execute_result"
    }
   ],
   "source": [
    "def pfart_fun(gamma, delta, zeta):\n",
    "    elo = models.EloModel()\n",
    "    pfart = models.PFAResponseTime(elo, gamma=gamma, delta=delta, zeta=zeta)\n",
    "    pfart_test = PerformanceTest(pfart, landscape.data)\n",
    "\n",
    "    pfart_test.run()\n",
    "    return pfart_test.get_results().rmse\n",
    "\n",
    "init_parameters = {'gamma': 2, 'delta': -1, 'zeta': 1.5}\n",
    "init_epsilons = {'gamma': 0.1, 'delta': 0.05, 'zeta': 0.1}\n",
    "\n",
    "landscape = optimize.GreedySearch(data)\n",
    "landscape.search(pfart_fun, init_parameters, init_epsilons, maxiter=30)"
   ]
  },
  {
   "cell_type": "code",
   "execution_count": null,
   "metadata": {
    "collapsed": true
   },
   "outputs": [],
   "source": []
  }
 ],
 "metadata": {
  "kernelspec": {
   "display_name": "Python 2",
   "language": "python",
   "name": "python2"
  },
  "language_info": {
   "codemirror_mode": {
    "name": "ipython",
    "version": 2
   },
   "file_extension": ".py",
   "mimetype": "text/x-python",
   "name": "python",
   "nbconvert_exporter": "python",
   "pygments_lexer": "ipython2",
   "version": "2.7.6"
  }
 },
 "nbformat": 4,
 "nbformat_minor": 0
}
