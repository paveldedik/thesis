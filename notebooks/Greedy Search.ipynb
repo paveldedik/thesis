{
 "cells": [
  {
   "cell_type": "code",
   "execution_count": 1,
   "metadata": {
    "collapsed": false
   },
   "outputs": [],
   "source": [
    "%matplotlib qt4\n",
    "from __future__ import division\n",
    "\n",
    "from models import tools, optimize, models, filters\n",
    "from models.tests import PerformanceTest\n",
    "\n",
    "import numpy as np\n",
    "import pandas as pd\n",
    "import matplotlib.pyplot as plt"
   ]
  },
  {
   "cell_type": "markdown",
   "metadata": {},
   "source": [
    "## Initialization"
   ]
  },
  {
   "cell_type": "code",
   "execution_count": 2,
   "metadata": {
    "collapsed": false
   },
   "outputs": [
    {
     "name": "stdout",
     "output_type": "stream",
     "text": [
      "Loaded 206264 answers.\n",
      "39875\n"
     ]
    }
   ],
   "source": [
    "data = tools.load_data(limit=230000, offset=1500000)\n",
    "data = data[filters.sequentize(data)]\n",
    "print len(data)"
   ]
  },
  {
   "cell_type": "markdown",
   "metadata": {},
   "source": [
    "## PFA"
   ]
  },
  {
   "cell_type": "markdown",
   "metadata": {},
   "source": [
    "### Greedy Search"
   ]
  },
  {
   "cell_type": "code",
   "execution_count": 18,
   "metadata": {
    "collapsed": false
   },
   "outputs": [
    {
     "name": "stdout",
     "output_type": "stream",
     "text": [
      "altitude: 0.386096143369\n",
      "parameters: {'gamma': 1.0217415663910301, 'delta': -0.08060484121905806}\n",
      "epsilons: {'gamma': 0.09731077736458886, 'delta': 0.0091990867489331052}\n"
     ]
    },
    {
     "data": {
      "text/plain": [
       "{'delta': -0.08060484121905806, 'gamma': 1.0217415663910301}"
      ]
     },
     "execution_count": 18,
     "metadata": {},
     "output_type": "execute_result"
    }
   ],
   "source": [
    "def pfa_fun(gamma, delta):\n",
    "    elo = models.EloModel()\n",
    "    pfa = models.PFAModel(prior=elo, gamma=gamma, delta=delta)\n",
    "    pfa_test = PerformanceTest(pfa, landscape.data)\n",
    "\n",
    "    pfa_test.run()\n",
    "    return pfa_test.results['train'].rmse\n",
    "\n",
    "init_parameters = {'gamma': 2, 'delta': -1}\n",
    "init_epsilons = {'gamma': 0.1, 'delta': 0.05}\n",
    "\n",
    "landscape = optimize.GreedySearch(data)\n",
    "landscape.search(pfa_fun, init_parameters, init_epsilons, altitude_ratio=100)"
   ]
  },
  {
   "cell_type": "markdown",
   "metadata": {},
   "source": [
    "### Smart Greedy Search"
   ]
  },
  {
   "cell_type": "code",
   "execution_count": null,
   "metadata": {
    "collapsed": true
   },
   "outputs": [],
   "source": [
    "landscape = optimize.GreedySearch2(data)\n",
    "landscape.search_pfa(number_of_iter=10)"
   ]
  },
  {
   "cell_type": "markdown",
   "metadata": {},
   "source": [
    "## PFA/E"
   ]
  },
  {
   "cell_type": "markdown",
   "metadata": {},
   "source": [
    "### Greedy Search"
   ]
  },
  {
   "cell_type": "code",
   "execution_count": 19,
   "metadata": {
    "collapsed": false
   },
   "outputs": [
    {
     "name": "stdout",
     "output_type": "stream",
     "text": [
      "altitude: 0.365243269472\n",
      "parameters: {'gamma': 2.6138960433358331, 'delta': -0.64222843821121922}\n",
      "epsilons: {'gamma': 0.080759388385582331, 'delta': 0.04189546543480422}\n"
     ]
    },
    {
     "data": {
      "text/plain": [
       "{'delta': -0.64222843821121922, 'gamma': 2.6138960433358331}"
      ]
     },
     "execution_count": 19,
     "metadata": {},
     "output_type": "execute_result"
    }
   ],
   "source": [
    "def pfae_fun(gamma, delta):\n",
    "    elo = models.EloModel()\n",
    "    pfae = models.PFAExt(elo, gamma=gamma, delta=delta)\n",
    "    pfae_test = PerformanceTest(pfae, landscape.data)\n",
    "\n",
    "    pfae_test.run()\n",
    "    return pfae_test.results['train'].rmse\n",
    "\n",
    "init_parameters = {'gamma': 2, 'delta': -1}\n",
    "init_epsilons = {'gamma': 0.1, 'delta': 0.05}\n",
    "\n",
    "landscape = optimize.GreedySearch(data)\n",
    "landscape.search(pfae_fun, init_parameters, init_epsilons, altitude_ratio=100)"
   ]
  },
  {
   "cell_type": "markdown",
   "metadata": {},
   "source": [
    "## PFA/G"
   ]
  },
  {
   "cell_type": "markdown",
   "metadata": {},
   "source": [
    "### Greedy Search"
   ]
  },
  {
   "cell_type": "code",
   "execution_count": 20,
   "metadata": {
    "collapsed": false
   },
   "outputs": [
    {
     "name": "stdout",
     "output_type": "stream",
     "text": [
      "altitude: 0.368635412617\n",
      "parameters: {'delta': 0.090750223220923409, 'gamma': 1.7983221133533849, 'decay': 0.42489865480317074}\n",
      "epsilons: {'delta': 0.013640791781531381, 'gamma': 0.080467743926041696, 'decay': 0.0051981513990196383}\n"
     ]
    },
    {
     "data": {
      "text/plain": [
       "{'decay': 0.42489865480317074,\n",
       " 'delta': 0.090750223220923409,\n",
       " 'gamma': 1.7983221133533849}"
      ]
     },
     "execution_count": 20,
     "metadata": {},
     "output_type": "execute_result"
    }
   ],
   "source": [
    "def pfag_fun(gamma, delta, decay):\n",
    "    elo = models.EloModel()\n",
    "    pfag = models.PFAGong(prior=elo, gamma=gamma, delta=delta, decay=decay)\n",
    "    pfag_test = PerformanceTest(pfag, landscape.data)\n",
    "\n",
    "    pfag_test.run()\n",
    "    return pfag_test.results['train'].rmse\n",
    "\n",
    "init_parameters = {'gamma': 2, 'delta': -1, 'decay': 0.09}\n",
    "init_epsilons = {'gamma': 0.1, 'delta': 0.05, 'decay': 0.01}\n",
    "\n",
    "landscape = optimize.GreedySearch(data)\n",
    "landscape.search(pfag_fun, init_parameters, init_epsilons, altitude_ratio=100)"
   ]
  },
  {
   "cell_type": "markdown",
   "metadata": {},
   "source": [
    "### Smart Greedy Search"
   ]
  },
  {
   "cell_type": "code",
   "execution_count": 50,
   "metadata": {
    "collapsed": false
   },
   "outputs": [
    {
     "name": "stdout",
     "output_type": "stream",
     "text": [
      "   2.22006   -0.29863    0.37966\n",
      "   1.85479    0.23149    0.37130\n",
      "   1.58129    0.48080    0.36938\n",
      "   1.40630    0.58719    0.36961\n",
      "   1.29100    0.61561    0.37005\n",
      "   1.21126    0.60626    0.37027\n",
      "   1.15310    0.58130    0.37032\n",
      "   1.10862    0.55186    0.37028\n",
      "   1.07336    0.52300    0.37021\n",
      "   1.04470    0.49676    0.37015\n"
     ]
    },
    {
     "data": {
      "text/plain": [
       "{'decay': 0.71608391039486985,\n",
       " 'delta': 0.49676161027915278,\n",
       " 'gamma': 1.044699976959059}"
      ]
     },
     "execution_count": 50,
     "metadata": {},
     "output_type": "execute_result"
    }
   ],
   "source": [
    "landscape = optimize.GreedySearch2(data)\n",
    "landscape.search_pfag(number_of_iter=10)"
   ]
  },
  {
   "cell_type": "markdown",
   "metadata": {},
   "source": [
    "## PFA/E/T"
   ]
  },
  {
   "cell_type": "markdown",
   "metadata": {},
   "source": [
    "### Greedy Search"
   ]
  },
  {
   "cell_type": "code",
   "execution_count": 3,
   "metadata": {
    "collapsed": true
   },
   "outputs": [],
   "source": [
    "def pfaet_fun(gamma, delta, a, c):\n",
    "    elo = models.EloModel()\n",
    "    pfaet = models.PFAExtTiming(\n",
    "        elo, gamma=gamma, delta=delta,\n",
    "        time_effect_fun=time_effect_fun, a=a, c=c)\n",
    "    pfaet_test = PerformanceTest(pfaet, landscape.data)\n",
    "\n",
    "    pfaet_test.run()\n",
    "    return pfaet_test.results['train'].rmse"
   ]
  },
  {
   "cell_type": "code",
   "execution_count": 6,
   "metadata": {
    "collapsed": false
   },
   "outputs": [
    {
     "name": "stdout",
     "output_type": "stream",
     "text": [
      "altitude: 0.360451753429\n",
      "parameters: {'a': 2.6024148491925883, 'c': 0.27, 'gamma': 1.9017194430570963, 'delta': -0.75522927033349507}\n",
      "epsilons: {'a': 0.097110813079835684, 'c': 0.029999999999999999, 'gamma': 0.098934411980168502, 'delta': 0.047114808754100838}\n"
     ]
    },
    {
     "data": {
      "text/plain": [
       "{'a': 2.6024148491925883,\n",
       " 'c': 0.27,\n",
       " 'delta': -0.75522927033349507,\n",
       " 'gamma': 1.9017194430570963}"
      ]
     },
     "execution_count": 6,
     "metadata": {},
     "output_type": "execute_result"
    }
   ],
   "source": [
    "time_effect_fun = 'pow'\n",
    "\n",
    "init_parameters = {'gamma': 2, 'delta': -1, 'a': 3, 'c': 0.3}\n",
    "init_epsilons = {'gamma': 0.1, 'delta': 0.05, 'a': 0.1, 'c': 0.03}\n",
    "\n",
    "landscape = optimize.GreedySearch(data)\n",
    "landscape.search(pfaet_fun, init_parameters, init_epsilons)"
   ]
  },
  {
   "cell_type": "code",
   "execution_count": 7,
   "metadata": {
    "collapsed": false
   },
   "outputs": [
    {
     "name": "stdout",
     "output_type": "stream",
     "text": [
      "altitude: 0.360465160316\n",
      "parameters: {'a': 1.7896113781264669, 'c': 0.13, 'gamma': 1.9064919213249858, 'delta': -0.80551353417791893}\n",
      "epsilons: {'a': 0.093531345086511147, 'c': 0.029999999999999999, 'gamma': 0.096327384837379765, 'delta': 0.047767917160314824}\n"
     ]
    },
    {
     "data": {
      "text/plain": [
       "{'a': 1.7896113781264669,\n",
       " 'c': 0.13,\n",
       " 'delta': -0.80551353417791893,\n",
       " 'gamma': 1.9064919213249858}"
      ]
     },
     "execution_count": 7,
     "metadata": {},
     "output_type": "execute_result"
    }
   ],
   "source": [
    "time_effect_fun = 'log'\n",
    "\n",
    "init_parameters = {'gamma': 2, 'delta': -1, 'a': 1.5, 'c': 0.1}\n",
    "init_epsilons = {'gamma': 0.1, 'delta': 0.05, 'a': 0.1, 'c': 0.03}\n",
    "\n",
    "landscape = optimize.GreedySearch(data)\n",
    "landscape.search(pfaet_fun, init_parameters, init_epsilons)"
   ]
  },
  {
   "cell_type": "code",
   "execution_count": 4,
   "metadata": {
    "collapsed": false
   },
   "outputs": [
    {
     "name": "stdout",
     "output_type": "stream",
     "text": [
      "altitude: 0.361029441303\n",
      "parameters: {'a': 1.0046999532781646, 'c': 0.01, 'gamma': 2.0061720998301338, 'delta': -0.75657801487834175}\n",
      "epsilons: {'a': 0.090306802141485509, 'c': 0.0050000000000000001, 'gamma': 0.086965599971364368, 'delta': 0.042243370476929394}\n"
     ]
    },
    {
     "data": {
      "text/plain": [
       "{'a': 1.0046999532781646,\n",
       " 'c': 0.01,\n",
       " 'delta': -0.75657801487834175,\n",
       " 'gamma': 2.0061720998301338}"
      ]
     },
     "execution_count": 4,
     "metadata": {},
     "output_type": "execute_result"
    }
   ],
   "source": [
    "time_effect_fun = 'exp'\n",
    "\n",
    "init_parameters = {'gamma': 2, 'delta': -1, 'a': 1, 'c': 0.01}\n",
    "init_epsilons = {'gamma': 0.1, 'delta': 0.05, 'a': 0.1, 'c': 0.005}\n",
    "\n",
    "landscape = optimize.GreedySearch(data)\n",
    "landscape.search(pfaet_fun, init_parameters, init_epsilons)"
   ]
  },
  {
   "cell_type": "markdown",
   "metadata": {},
   "source": [
    "## PFA/G/T"
   ]
  },
  {
   "cell_type": "markdown",
   "metadata": {},
   "source": [
    "### Greedy Search"
   ]
  },
  {
   "cell_type": "code",
   "execution_count": 8,
   "metadata": {
    "collapsed": true
   },
   "outputs": [],
   "source": [
    "def pfagt_fun(a, c, b, d):\n",
    "    elo = models.EloModel()\n",
    "    pfagt = models.PFATiming(\n",
    "        elo,\n",
    "        time_effect_good=time_effect_fun, a=a, c=c,\n",
    "        time_effect_bad=time_effect_fun, b=b, d=d)\n",
    "    pfagt_test = PerformanceTest(pfagt, landscape.data)\n",
    "\n",
    "    pfagt_test.run()\n",
    "    return pfagt_test.results['train'].rmse\n",
    "\n",
    "# 0.371270212664 old_exp=0.3740357391 \n",
    "# {'a': 1.6944123004699194, 'b': 0.93752378430726357, 'c': 0.1, 'd': 0.1} 0.372574823134"
   ]
  },
  {
   "cell_type": "code",
   "execution_count": 9,
   "metadata": {
    "collapsed": false
   },
   "outputs": [
    {
     "name": "stdout",
     "output_type": "stream",
     "text": [
      "altitude: 0.371266947412\n",
      "parameters: {'a': 3.1384736895278618, 'c': 0.19758248174437759, 'b': 5.0679683848943906, 'd': 0.76393889411131488}\n",
      "epsilons: {'a': 0.077240177553911243, 'c': 0.0066432837154922261, 'b': 0.097739487962084357, 'd': 0.035674484884933334}\n"
     ]
    },
    {
     "ename": "KeyboardInterrupt",
     "evalue": "",
     "output_type": "error",
     "traceback": [
      "\u001b[1;31m---------------------------------------------------------------------------\u001b[0m",
      "\u001b[1;31mKeyboardInterrupt\u001b[0m                         Traceback (most recent call last)",
      "\u001b[1;32m<ipython-input-9-1ea09b7b90a6>\u001b[0m in \u001b[0;36m<module>\u001b[1;34m()\u001b[0m\n\u001b[0;32m      5\u001b[0m \u001b[1;33m\u001b[0m\u001b[0m\n\u001b[0;32m      6\u001b[0m \u001b[0mlandscape\u001b[0m \u001b[1;33m=\u001b[0m \u001b[0moptimize\u001b[0m\u001b[1;33m.\u001b[0m\u001b[0mGreedySearch\u001b[0m\u001b[1;33m(\u001b[0m\u001b[0mdata\u001b[0m\u001b[1;33m)\u001b[0m\u001b[1;33m\u001b[0m\u001b[0m\n\u001b[1;32m----> 7\u001b[1;33m \u001b[0mlandscape\u001b[0m\u001b[1;33m.\u001b[0m\u001b[0msearch\u001b[0m\u001b[1;33m(\u001b[0m\u001b[0mpfagt_fun\u001b[0m\u001b[1;33m,\u001b[0m \u001b[0minit_parameters\u001b[0m\u001b[1;33m,\u001b[0m \u001b[0minit_epsilons\u001b[0m\u001b[1;33m)\u001b[0m\u001b[1;33m\u001b[0m\u001b[0m\n\u001b[0m",
      "\u001b[1;32m/home/pavel/Projects/thesis/models/optimize.pyc\u001b[0m in \u001b[0;36msearch\u001b[1;34m(self, model_fun, init_parameters, init_epsilons, altitude_change, precision, maxiter)\u001b[0m\n\u001b[0;32m    652\u001b[0m \u001b[1;33m\u001b[0m\u001b[0m\n\u001b[0;32m    653\u001b[0m                 altitudes = {\n\u001b[1;32m--> 654\u001b[1;33m                     \u001b[0mpositive\u001b[0m\u001b[1;33m:\u001b[0m \u001b[0mmodel_fun\u001b[0m\u001b[1;33m(\u001b[0m\u001b[1;33m**\u001b[0m\u001b[0mpositive_p\u001b[0m\u001b[1;33m)\u001b[0m\u001b[1;33m,\u001b[0m\u001b[1;33m\u001b[0m\u001b[0m\n\u001b[0m\u001b[0;32m    655\u001b[0m                     \u001b[0mnegative\u001b[0m\u001b[1;33m:\u001b[0m \u001b[0mmodel_fun\u001b[0m\u001b[1;33m(\u001b[0m\u001b[1;33m**\u001b[0m\u001b[0mnegative_p\u001b[0m\u001b[1;33m)\u001b[0m\u001b[1;33m,\u001b[0m\u001b[1;33m\u001b[0m\u001b[0m\n\u001b[0;32m    656\u001b[0m                     \u001b[0mvalue\u001b[0m\u001b[1;33m:\u001b[0m \u001b[0maltitude\u001b[0m\u001b[1;33m,\u001b[0m\u001b[1;33m\u001b[0m\u001b[0m\n",
      "\u001b[1;32m<ipython-input-8-b4899aae2e7a>\u001b[0m in \u001b[0;36mpfagt_fun\u001b[1;34m(a, c, b, d)\u001b[0m\n\u001b[0;32m      7\u001b[0m     \u001b[0mpfagt_test\u001b[0m \u001b[1;33m=\u001b[0m \u001b[0mPerformanceTest\u001b[0m\u001b[1;33m(\u001b[0m\u001b[0mpfagt\u001b[0m\u001b[1;33m,\u001b[0m \u001b[0mlandscape\u001b[0m\u001b[1;33m.\u001b[0m\u001b[0mdata\u001b[0m\u001b[1;33m)\u001b[0m\u001b[1;33m\u001b[0m\u001b[0m\n\u001b[0;32m      8\u001b[0m \u001b[1;33m\u001b[0m\u001b[0m\n\u001b[1;32m----> 9\u001b[1;33m     \u001b[0mpfagt_test\u001b[0m\u001b[1;33m.\u001b[0m\u001b[0mrun\u001b[0m\u001b[1;33m(\u001b[0m\u001b[1;33m)\u001b[0m\u001b[1;33m\u001b[0m\u001b[0m\n\u001b[0m\u001b[0;32m     10\u001b[0m     \u001b[1;32mreturn\u001b[0m \u001b[0mpfagt_test\u001b[0m\u001b[1;33m.\u001b[0m\u001b[0mresults\u001b[0m\u001b[1;33m[\u001b[0m\u001b[1;34m'train'\u001b[0m\u001b[1;33m]\u001b[0m\u001b[1;33m.\u001b[0m\u001b[0mrmse\u001b[0m\u001b[1;33m\u001b[0m\u001b[0m\n",
      "\u001b[1;32m/home/pavel/Projects/thesis/models/tests.pyc\u001b[0m in \u001b[0;36mrun\u001b[1;34m(self)\u001b[0m\n\u001b[0;32m    187\u001b[0m         \"\"\"Prepares training set, test set and trains the model.\n\u001b[0;32m    188\u001b[0m         \"\"\"\n\u001b[1;32m--> 189\u001b[1;33m         \u001b[0mself\u001b[0m\u001b[1;33m.\u001b[0m\u001b[0mmodel\u001b[0m\u001b[1;33m.\u001b[0m\u001b[0mtrain\u001b[0m\u001b[1;33m(\u001b[0m\u001b[0mself\u001b[0m\u001b[1;33m.\u001b[0m\u001b[0mtrain_set\u001b[0m\u001b[1;33m)\u001b[0m\u001b[1;33m\u001b[0m\u001b[0m\n\u001b[0m\u001b[0;32m    190\u001b[0m \u001b[1;33m\u001b[0m\u001b[0m\n\u001b[0;32m    191\u001b[0m         \u001b[1;32mif\u001b[0m \u001b[0mself\u001b[0m\u001b[1;33m.\u001b[0m\u001b[0mtest_set\u001b[0m \u001b[1;32mis\u001b[0m \u001b[1;32mnot\u001b[0m \u001b[0mNone\u001b[0m\u001b[1;33m:\u001b[0m\u001b[1;33m\u001b[0m\u001b[0m\n",
      "\u001b[1;32m/home/pavel/Projects/thesis/models/models.py\u001b[0m in \u001b[0;36mtrain\u001b[1;34m(self, data)\u001b[0m\n\u001b[0;32m    541\u001b[0m         \"\"\"\n\u001b[0;32m    542\u001b[0m         \u001b[0mself\u001b[0m\u001b[1;33m.\u001b[0m\u001b[0minit_model\u001b[0m\u001b[1;33m(\u001b[0m\u001b[1;33m)\u001b[0m\u001b[1;33m\u001b[0m\u001b[0m\n\u001b[1;32m--> 543\u001b[1;33m         \u001b[0mdata\u001b[0m\u001b[1;33m.\u001b[0m\u001b[0msort\u001b[0m\u001b[1;33m(\u001b[0m\u001b[1;33m[\u001b[0m\u001b[1;34m'inserted'\u001b[0m\u001b[1;33m]\u001b[0m\u001b[1;33m)\u001b[0m\u001b[1;33m.\u001b[0m\u001b[0mapply\u001b[0m\u001b[1;33m(\u001b[0m\u001b[0mself\u001b[0m\u001b[1;33m.\u001b[0m\u001b[0mupdate\u001b[0m\u001b[1;33m,\u001b[0m \u001b[0maxis\u001b[0m\u001b[1;33m=\u001b[0m\u001b[1;36m1\u001b[0m\u001b[1;33m)\u001b[0m\u001b[1;33m\u001b[0m\u001b[0m\n\u001b[0m\u001b[0;32m    544\u001b[0m \u001b[1;33m\u001b[0m\u001b[0m\n\u001b[0;32m    545\u001b[0m     \u001b[1;33m@\u001b[0m\u001b[0mclassmethod\u001b[0m\u001b[1;33m\u001b[0m\u001b[0m\n",
      "\u001b[1;32m/home/pavel/.pyenv/al/local/lib/python2.7/site-packages/pandas/core/frame.pyc\u001b[0m in \u001b[0;36mapply\u001b[1;34m(self, func, axis, broadcast, raw, reduce, args, **kwds)\u001b[0m\n\u001b[0;32m   3594\u001b[0m                     \u001b[1;32mif\u001b[0m \u001b[0mreduce\u001b[0m \u001b[1;32mis\u001b[0m \u001b[0mNone\u001b[0m\u001b[1;33m:\u001b[0m\u001b[1;33m\u001b[0m\u001b[0m\n\u001b[0;32m   3595\u001b[0m                         \u001b[0mreduce\u001b[0m \u001b[1;33m=\u001b[0m \u001b[0mTrue\u001b[0m\u001b[1;33m\u001b[0m\u001b[0m\n\u001b[1;32m-> 3596\u001b[1;33m                     \u001b[1;32mreturn\u001b[0m \u001b[0mself\u001b[0m\u001b[1;33m.\u001b[0m\u001b[0m_apply_standard\u001b[0m\u001b[1;33m(\u001b[0m\u001b[0mf\u001b[0m\u001b[1;33m,\u001b[0m \u001b[0maxis\u001b[0m\u001b[1;33m,\u001b[0m \u001b[0mreduce\u001b[0m\u001b[1;33m=\u001b[0m\u001b[0mreduce\u001b[0m\u001b[1;33m)\u001b[0m\u001b[1;33m\u001b[0m\u001b[0m\n\u001b[0m\u001b[0;32m   3597\u001b[0m             \u001b[1;32melse\u001b[0m\u001b[1;33m:\u001b[0m\u001b[1;33m\u001b[0m\u001b[0m\n\u001b[0;32m   3598\u001b[0m                 \u001b[1;32mreturn\u001b[0m \u001b[0mself\u001b[0m\u001b[1;33m.\u001b[0m\u001b[0m_apply_broadcast\u001b[0m\u001b[1;33m(\u001b[0m\u001b[0mf\u001b[0m\u001b[1;33m,\u001b[0m \u001b[0maxis\u001b[0m\u001b[1;33m)\u001b[0m\u001b[1;33m\u001b[0m\u001b[0m\n",
      "\u001b[1;32m/home/pavel/.pyenv/al/local/lib/python2.7/site-packages/pandas/core/frame.pyc\u001b[0m in \u001b[0;36m_apply_standard\u001b[1;34m(self, func, axis, ignore_failures, reduce)\u001b[0m\n\u001b[0;32m   3684\u001b[0m             \u001b[1;32mtry\u001b[0m\u001b[1;33m:\u001b[0m\u001b[1;33m\u001b[0m\u001b[0m\n\u001b[0;32m   3685\u001b[0m                 \u001b[1;32mfor\u001b[0m \u001b[0mi\u001b[0m\u001b[1;33m,\u001b[0m \u001b[0mv\u001b[0m \u001b[1;32min\u001b[0m \u001b[0menumerate\u001b[0m\u001b[1;33m(\u001b[0m\u001b[0mseries_gen\u001b[0m\u001b[1;33m)\u001b[0m\u001b[1;33m:\u001b[0m\u001b[1;33m\u001b[0m\u001b[0m\n\u001b[1;32m-> 3686\u001b[1;33m                     \u001b[0mresults\u001b[0m\u001b[1;33m[\u001b[0m\u001b[0mi\u001b[0m\u001b[1;33m]\u001b[0m \u001b[1;33m=\u001b[0m \u001b[0mfunc\u001b[0m\u001b[1;33m(\u001b[0m\u001b[0mv\u001b[0m\u001b[1;33m)\u001b[0m\u001b[1;33m\u001b[0m\u001b[0m\n\u001b[0m\u001b[0;32m   3687\u001b[0m                     \u001b[0mkeys\u001b[0m\u001b[1;33m.\u001b[0m\u001b[0mappend\u001b[0m\u001b[1;33m(\u001b[0m\u001b[0mv\u001b[0m\u001b[1;33m.\u001b[0m\u001b[0mname\u001b[0m\u001b[1;33m)\u001b[0m\u001b[1;33m\u001b[0m\u001b[0m\n\u001b[0;32m   3688\u001b[0m             \u001b[1;32mexcept\u001b[0m \u001b[0mException\u001b[0m \u001b[1;32mas\u001b[0m \u001b[0me\u001b[0m\u001b[1;33m:\u001b[0m\u001b[1;33m\u001b[0m\u001b[0m\n",
      "\u001b[1;32m/home/pavel/Projects/thesis/models/models.py\u001b[0m in \u001b[0;36mupdate\u001b[1;34m(self, answer)\u001b[0m\n\u001b[0;32m    855\u001b[0m             \u001b[0mself\u001b[0m\u001b[1;33m.\u001b[0m\u001b[0mprior\u001b[0m\u001b[1;33m.\u001b[0m\u001b[0mupdate\u001b[0m\u001b[1;33m(\u001b[0m\u001b[0manswer\u001b[0m\u001b[1;33m)\u001b[0m\u001b[1;33m\u001b[0m\u001b[0m\n\u001b[0;32m    856\u001b[0m \u001b[1;33m\u001b[0m\u001b[0m\n\u001b[1;32m--> 857\u001b[1;33m         \u001b[0mprediction\u001b[0m \u001b[1;33m=\u001b[0m \u001b[0mself\u001b[0m\u001b[1;33m.\u001b[0m\u001b[0mpredict\u001b[0m\u001b[1;33m(\u001b[0m\u001b[0manswer\u001b[0m\u001b[1;33m)\u001b[0m\u001b[1;33m\u001b[0m\u001b[0m\n\u001b[0m\u001b[0;32m    858\u001b[0m         \u001b[0mself\u001b[0m\u001b[1;33m.\u001b[0m\u001b[0mpredictions\u001b[0m\u001b[1;33m[\u001b[0m\u001b[0manswer\u001b[0m\u001b[1;33m.\u001b[0m\u001b[0mid\u001b[0m\u001b[1;33m]\u001b[0m \u001b[1;33m=\u001b[0m \u001b[0mprediction\u001b[0m\u001b[1;33m\u001b[0m\u001b[0m\n\u001b[0;32m    859\u001b[0m \u001b[1;33m\u001b[0m\u001b[0m\n",
      "\u001b[1;32m/home/pavel/Projects/thesis/models/models.py\u001b[0m in \u001b[0;36mpredict\u001b[1;34m(self, question)\u001b[0m\n\u001b[0;32m    832\u001b[0m         \"\"\"\n\u001b[0;32m    833\u001b[0m         \u001b[0mitem\u001b[0m \u001b[1;33m=\u001b[0m \u001b[0mself\u001b[0m\u001b[1;33m.\u001b[0m\u001b[0mitems\u001b[0m\u001b[1;33m[\u001b[0m\u001b[0mquestion\u001b[0m\u001b[1;33m.\u001b[0m\u001b[0muser_id\u001b[0m\u001b[1;33m,\u001b[0m \u001b[0mquestion\u001b[0m\u001b[1;33m.\u001b[0m\u001b[0mplace_id\u001b[0m\u001b[1;33m]\u001b[0m\u001b[1;33m\u001b[0m\u001b[0m\n\u001b[1;32m--> 834\u001b[1;33m         \u001b[0mcorrect_weight\u001b[0m\u001b[1;33m,\u001b[0m \u001b[0mincorrect_weight\u001b[0m \u001b[1;33m=\u001b[0m \u001b[0mself\u001b[0m\u001b[1;33m.\u001b[0m\u001b[0mget_weights\u001b[0m\u001b[1;33m(\u001b[0m\u001b[0mitem\u001b[0m\u001b[1;33m,\u001b[0m \u001b[0mquestion\u001b[0m\u001b[1;33m)\u001b[0m\u001b[1;33m\u001b[0m\u001b[0m\n\u001b[0m\u001b[0;32m    835\u001b[0m \u001b[1;33m\u001b[0m\u001b[0m\n\u001b[0;32m    836\u001b[0m         knowledge = (\n",
      "\u001b[1;32m/home/pavel/Projects/thesis/models/models.py\u001b[0m in \u001b[0;36mget_weights\u001b[1;34m(self, item, question)\u001b[0m\n\u001b[0;32m    959\u001b[0m         correct_weights = [\n\u001b[0;32m    960\u001b[0m             \u001b[0mans\u001b[0m\u001b[1;33m.\u001b[0m\u001b[0mis_correct\u001b[0m \u001b[1;33m*\u001b[0m \u001b[0mself\u001b[0m\u001b[1;33m.\u001b[0m\u001b[0mtime_effect_good\u001b[0m\u001b[1;33m(\u001b[0m\u001b[0mdiff\u001b[0m\u001b[1;33m)\u001b[0m \u001b[1;32mfor\u001b[0m \u001b[0mans\u001b[0m\u001b[1;33m,\u001b[0m \u001b[0mdiff\u001b[0m\u001b[1;33m\u001b[0m\u001b[0m\n\u001b[1;32m--> 961\u001b[1;33m             \u001b[1;32min\u001b[0m \u001b[0mizip\u001b[0m\u001b[1;33m(\u001b[0m\u001b[0mitem\u001b[0m\u001b[1;33m.\u001b[0m\u001b[0mpractices\u001b[0m\u001b[1;33m,\u001b[0m \u001b[0mitem\u001b[0m\u001b[1;33m.\u001b[0m\u001b[0mget_diffs\u001b[0m\u001b[1;33m(\u001b[0m\u001b[0mquestion\u001b[0m\u001b[1;33m.\u001b[0m\u001b[0minserted\u001b[0m\u001b[1;33m)\u001b[0m\u001b[1;33m)\u001b[0m\u001b[1;33m\u001b[0m\u001b[0m\n\u001b[0m\u001b[0;32m    962\u001b[0m         ]\n\u001b[0;32m    963\u001b[0m         incorrect_weights = [\n",
      "\u001b[1;32m/home/pavel/Projects/thesis/models/models.py\u001b[0m in \u001b[0;36mget_diffs\u001b[1;34m(self, current)\u001b[0m\n\u001b[0;32m    242\u001b[0m         return [\n\u001b[0;32m    243\u001b[0m             \u001b[0mtools\u001b[0m\u001b[1;33m.\u001b[0m\u001b[0mtime_diff\u001b[0m\u001b[1;33m(\u001b[0m\u001b[0mcurrent\u001b[0m\u001b[1;33m,\u001b[0m \u001b[0mprior\u001b[0m\u001b[1;33m.\u001b[0m\u001b[0minserted\u001b[0m\u001b[1;33m)\u001b[0m\u001b[1;33m\u001b[0m\u001b[0m\n\u001b[1;32m--> 244\u001b[1;33m             \u001b[1;32mfor\u001b[0m \u001b[0mprior\u001b[0m \u001b[1;32min\u001b[0m \u001b[0mself\u001b[0m\u001b[1;33m.\u001b[0m\u001b[0mpractices\u001b[0m\u001b[1;33m\u001b[0m\u001b[0m\n\u001b[0m\u001b[0;32m    245\u001b[0m         ]\n\u001b[0;32m    246\u001b[0m \u001b[1;33m\u001b[0m\u001b[0m\n",
      "\u001b[1;32m/home/pavel/Projects/thesis/models/tools.pyc\u001b[0m in \u001b[0;36mtime_diff\u001b[1;34m(datetime1, datetime2)\u001b[0m\n\u001b[0;32m    405\u001b[0m     \u001b[1;32mif\u001b[0m \u001b[0misinstance\u001b[0m\u001b[1;33m(\u001b[0m\u001b[0mdatetime2\u001b[0m\u001b[1;33m,\u001b[0m \u001b[0mbasestring\u001b[0m\u001b[1;33m)\u001b[0m\u001b[1;33m:\u001b[0m\u001b[1;33m\u001b[0m\u001b[0m\n\u001b[0;32m    406\u001b[0m         \u001b[0mdatetime2\u001b[0m \u001b[1;33m=\u001b[0m \u001b[0mto_datetime\u001b[0m\u001b[1;33m(\u001b[0m\u001b[0mdatetime2\u001b[0m\u001b[1;33m)\u001b[0m\u001b[1;33m\u001b[0m\u001b[0m\n\u001b[1;32m--> 407\u001b[1;33m     \u001b[1;32mreturn\u001b[0m \u001b[1;33m(\u001b[0m\u001b[0mdatetime1\u001b[0m \u001b[1;33m-\u001b[0m \u001b[0mdatetime2\u001b[0m\u001b[1;33m)\u001b[0m\u001b[1;33m.\u001b[0m\u001b[0mtotal_seconds\u001b[0m\u001b[1;33m(\u001b[0m\u001b[1;33m)\u001b[0m\u001b[1;33m\u001b[0m\u001b[0m\n\u001b[0m\u001b[0;32m    408\u001b[0m \u001b[1;33m\u001b[0m\u001b[0m\n\u001b[0;32m    409\u001b[0m \u001b[1;33m\u001b[0m\u001b[0m\n",
      "\u001b[1;31mKeyboardInterrupt\u001b[0m: "
     ]
    }
   ],
   "source": [
    "time_effect_fun = 'pow'\n",
    "\n",
    "init_parameters = {'a': 3, 'c': 0.3, 'b': 4, 'd': 0.4}\n",
    "init_epsilons = {'a': 0.1, 'c': 0.03, 'b': 0.1, 'd': 0.04}\n",
    "\n",
    "landscape = optimize.GreedySearch(data)\n",
    "landscape.search(pfagt_fun, init_parameters, init_epsilons)"
   ]
  },
  {
   "cell_type": "code",
   "execution_count": 13,
   "metadata": {
    "collapsed": false
   },
   "outputs": [
    {
     "name": "stdout",
     "output_type": "stream",
     "text": [
      "altitude: 0.372545856681\n",
      "parameters: {'a': 1.6692919765614742, 'c': 0.10261592181315611, 'b': 0.9148414766418953, 'd': 0.097926326502750585}\n",
      "epsilons: {'a': 0.025855675177221246, 'c': 0.0024025594469432891, 'b': 0.030292952069677012, 'd': 0.0027823249685731497}\n"
     ]
    },
    {
     "data": {
      "text/plain": [
       "{'a': 1.6692919765614742,\n",
       " 'b': 0.9148414766418953,\n",
       " 'c': 0.10261592181315611,\n",
       " 'd': 0.097926326502750585}"
      ]
     },
     "execution_count": 13,
     "metadata": {},
     "output_type": "execute_result"
    }
   ],
   "source": [
    "time_effect_fun = 'log'\n",
    "\n",
    "init_parameters = {'a': 1.7, 'c': 0.1, 'b': 0.9, 'd': 0.1}\n",
    "init_epsilons = {'a': 0.05, 'c': 0.005, 'b': 0.05, 'd': 0.005}\n",
    "\n",
    "landscape = optimize.GreedySearch(data)\n",
    "landscape.search(pfagt_fun, init_parameters, init_epsilons, maxiter=20)"
   ]
  },
  {
   "cell_type": "code",
   "execution_count": 14,
   "metadata": {
    "collapsed": false
   },
   "outputs": [
    {
     "name": "stdout",
     "output_type": "stream",
     "text": [
      "altitude: 0.373484609667\n",
      "parameters: {'a': 0.96043359552778473, 'c': 0.0020981876435649926, 'b': 0.50866712158369598, 'd': 0.057500153761470815}\n",
      "epsilons: {'a': 0.074233156172038683, 'c': 0.00054522891051338618, 'b': 0.078048145896845625, 'd': 0.0025911645861644954}\n"
     ]
    },
    {
     "data": {
      "text/plain": [
       "{'a': 0.96043359552778473,\n",
       " 'b': 0.50866712158369598,\n",
       " 'c': 0.0020981876435649926,\n",
       " 'd': 0.057500153761470815}"
      ]
     },
     "execution_count": 14,
     "metadata": {},
     "output_type": "execute_result"
    }
   ],
   "source": [
    "time_effect_fun = 'exp'\n",
    "\n",
    "init_parameters = {'a': 1.5, 'c': 0.01, 'b': 1.3, 'd': 0.01}\n",
    "init_epsilons = {'a': 0.1, 'c': 0.003, 'b': 0.1, 'd': 0.003}\n",
    "\n",
    "landscape = optimize.GreedySearch(data)\n",
    "landscape.search(pfagt_fun, init_parameters, init_epsilons, maxiter=20)"
   ]
  },
  {
   "cell_type": "markdown",
   "metadata": {},
   "source": [
    "### Smart Greedy Search"
   ]
  },
  {
   "cell_type": "code",
   "execution_count": 49,
   "metadata": {
    "collapsed": false
   },
   "outputs": [
    {
     "name": "stdout",
     "output_type": "stream",
     "text": [
      "   3.51309   -0.25624    0.37776\n",
      "   3.68964    0.04912    0.37706\n",
      "   3.46514    0.04062    0.37575\n",
      "   3.25846    0.03920    0.37536\n",
      "   3.05692    0.03611    0.37501\n",
      "   2.86231    0.03415    0.37464\n",
      "   2.67456    0.03202    0.37430\n",
      "   2.49209    0.02844    0.37398\n",
      "   2.32170    0.02788    0.37366\n",
      "   2.15652    0.02566    0.37334\n"
     ]
    },
    {
     "data": {
      "text/plain": [
       "{'a': 2.9700846520609057,\n",
       " 'c': 0.25924650629428969,\n",
       " 'delta': 0.025657149029072922,\n",
       " 'gamma': 2.1565236199060083}"
      ]
     },
     "execution_count": 49,
     "metadata": {},
     "output_type": "execute_result"
    }
   ],
   "source": [
    "landscape = optimize.GreedySearch2(data)\n",
    "landscape.search_pfagt(number_of_iter=10)"
   ]
  },
  {
   "cell_type": "code",
   "execution_count": 3,
   "metadata": {
    "collapsed": false
   },
   "outputs": [
    {
     "name": "stdout",
     "output_type": "stream",
     "text": [
      "   2.01599    0.10362    0.38777\n",
      "   1.68531    0.05819    0.38661\n",
      "   1.34697    0.03985    0.38363\n",
      "   1.06414    0.03902    0.38051\n",
      "   0.79137    0.02831    0.37611\n",
      "   0.55974    0.01953    0.37206\n",
      "   0.34258    0.02003    0.36915\n",
      "   0.20341    0.04402    0.37436\n",
      "   0.11545    0.02245    0.38869\n",
      "   0.08667    0.01565    0.39558\n"
     ]
    },
    {
     "data": {
      "text/plain": [
       "{'a': 3.2731618029154732,\n",
       " 'c': -0.099687077060505391,\n",
       " 'delta': 0.015650741856747617,\n",
       " 'gamma': 0.086671413614965359}"
      ]
     },
     "execution_count": 3,
     "metadata": {},
     "output_type": "execute_result"
    }
   ],
   "source": [
    "landscape = optimize.GreedySearch2(data)\n",
    "landscape.search_pfagt(number_of_iter=10, time_effect_fun='exp')"
   ]
  },
  {
   "cell_type": "code",
   "execution_count": 13,
   "metadata": {
    "collapsed": false
   },
   "outputs": [
    {
     "name": "stdout",
     "output_type": "stream",
     "text": [
      "altitude: 0.366512637582\n",
      "parameters: {'zeta': 1.8864787074945273, 'gamma': 1.4538339916304364, 'delta': -1.3564060306537307}\n",
      "epsilons: {'zeta': 0.020764341995399609, 'gamma': 0.07766068664602585, 'delta': 0.032988109641159349}\n"
     ]
    },
    {
     "data": {
      "text/plain": [
       "{'delta': -1.3564060306537307,\n",
       " 'gamma': 1.4538339916304364,\n",
       " 'zeta': 1.8864787074945273}"
      ]
     },
     "execution_count": 13,
     "metadata": {},
     "output_type": "execute_result"
    }
   ],
   "source": [
    "def pfart_fun(gamma, delta, zeta):\n",
    "    elo = models.EloModel()\n",
    "    pfart = models.PFAResponseTime(elo, gamma=gamma, delta=delta, zeta=zeta)\n",
    "    pfart_test = PerformanceTest(pfart, landscape.data)\n",
    "\n",
    "    pfart_test.run()\n",
    "    return pfart_test.results['train'].rmse\n",
    "\n",
    "init_parameters = {'gamma': 2, 'delta': -1, 'zeta': 0.5}\n",
    "init_epsilons = {'gamma': 0.1, 'delta': 0.05, 'zeta': 0.1}\n",
    "\n",
    "landscape = optimize.GreedySearch(data)\n",
    "landscape.search(pfart_fun, init_parameters, init_epsilons, altitude_change=100)"
   ]
  },
  {
   "cell_type": "code",
   "execution_count": null,
   "metadata": {
    "collapsed": true
   },
   "outputs": [],
   "source": []
  }
 ],
 "metadata": {
  "kernelspec": {
   "display_name": "Python 2",
   "language": "python",
   "name": "python2"
  },
  "language_info": {
   "codemirror_mode": {
    "name": "ipython",
    "version": 2
   },
   "file_extension": ".py",
   "mimetype": "text/x-python",
   "name": "python",
   "nbconvert_exporter": "python",
   "pygments_lexer": "ipython2",
   "version": "2.7.6"
  }
 },
 "nbformat": 4,
 "nbformat_minor": 0
}
