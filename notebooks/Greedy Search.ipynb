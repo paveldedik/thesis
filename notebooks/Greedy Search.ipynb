{
 "cells": [
  {
   "cell_type": "code",
   "execution_count": 1,
   "metadata": {
    "collapsed": false
   },
   "outputs": [],
   "source": [
    "%matplotlib qt4\n",
    "from __future__ import division\n",
    "\n",
    "from models import tools, optimize, models, filters\n",
    "from models.tests import PerformanceTest\n",
    "\n",
    "import numpy as np\n",
    "import pandas as pd\n",
    "import matplotlib.pyplot as plt"
   ]
  },
  {
   "cell_type": "markdown",
   "metadata": {},
   "source": [
    "## Initialization"
   ]
  },
  {
   "cell_type": "code",
   "execution_count": 2,
   "metadata": {
    "collapsed": false
   },
   "outputs": [
    {
     "name": "stdout",
     "output_type": "stream",
     "text": [
      "Loaded 206264 answers.\n",
      "39875\n"
     ]
    }
   ],
   "source": [
    "data = tools.load_data(limit=230000, offset=1500000)\n",
    "data = data[filters.sequentize(data)]\n",
    "print len(data)"
   ]
  },
  {
   "cell_type": "markdown",
   "metadata": {},
   "source": [
    "## PFA"
   ]
  },
  {
   "cell_type": "markdown",
   "metadata": {},
   "source": [
    "### Greedy Search"
   ]
  },
  {
   "cell_type": "code",
   "execution_count": 18,
   "metadata": {
    "collapsed": false
   },
   "outputs": [
    {
     "name": "stdout",
     "output_type": "stream",
     "text": [
      "altitude: 0.386096143369\n",
      "parameters: {'gamma': 1.0217415663910301, 'delta': -0.08060484121905806}\n",
      "epsilons: {'gamma': 0.09731077736458886, 'delta': 0.0091990867489331052}\n"
     ]
    },
    {
     "data": {
      "text/plain": [
       "{'delta': -0.08060484121905806, 'gamma': 1.0217415663910301}"
      ]
     },
     "execution_count": 18,
     "metadata": {},
     "output_type": "execute_result"
    }
   ],
   "source": [
    "def pfa_fun(gamma, delta):\n",
    "    elo = models.EloModel()\n",
    "    pfa = models.PFAModel(prior=elo, gamma=gamma, delta=delta)\n",
    "    pfa_test = PerformanceTest(pfa, landscape.data)\n",
    "\n",
    "    pfa_test.run()\n",
    "    return pfa_test.results['train'].rmse\n",
    "\n",
    "init_parameters = {'gamma': 2, 'delta': -1}\n",
    "init_epsilons = {'gamma': 0.1, 'delta': 0.05}\n",
    "\n",
    "landscape = optimize.GreedySearch(data)\n",
    "landscape.search(pfa_fun, init_parameters, init_epsilons, altitude_ratio=100)"
   ]
  },
  {
   "cell_type": "markdown",
   "metadata": {},
   "source": [
    "### Smart Greedy Search"
   ]
  },
  {
   "cell_type": "code",
   "execution_count": null,
   "metadata": {
    "collapsed": true
   },
   "outputs": [],
   "source": [
    "landscape = optimize.GreedySearch2(data)\n",
    "landscape.search_pfa(number_of_iter=10)"
   ]
  },
  {
   "cell_type": "markdown",
   "metadata": {},
   "source": [
    "## PFA/E"
   ]
  },
  {
   "cell_type": "markdown",
   "metadata": {},
   "source": [
    "### Greedy Search"
   ]
  },
  {
   "cell_type": "code",
   "execution_count": 19,
   "metadata": {
    "collapsed": false
   },
   "outputs": [
    {
     "name": "stdout",
     "output_type": "stream",
     "text": [
      "altitude: 0.365243269472\n",
      "parameters: {'gamma': 2.6138960433358331, 'delta': -0.64222843821121922}\n",
      "epsilons: {'gamma': 0.080759388385582331, 'delta': 0.04189546543480422}\n"
     ]
    },
    {
     "data": {
      "text/plain": [
       "{'delta': -0.64222843821121922, 'gamma': 2.6138960433358331}"
      ]
     },
     "execution_count": 19,
     "metadata": {},
     "output_type": "execute_result"
    }
   ],
   "source": [
    "def pfae_fun(gamma, delta):\n",
    "    elo = models.EloModel()\n",
    "    pfae = models.PFAExt(elo, gamma=gamma, delta=delta)\n",
    "    pfae_test = PerformanceTest(pfae, landscape.data)\n",
    "\n",
    "    pfae_test.run()\n",
    "    return pfae_test.results['train'].rmse\n",
    "\n",
    "init_parameters = {'gamma': 2, 'delta': -1}\n",
    "init_epsilons = {'gamma': 0.1, 'delta': 0.05}\n",
    "\n",
    "landscape = optimize.GreedySearch(data)\n",
    "landscape.search(pfae_fun, init_parameters, init_epsilons, altitude_ratio=100)"
   ]
  },
  {
   "cell_type": "markdown",
   "metadata": {},
   "source": [
    "## PFA/G"
   ]
  },
  {
   "cell_type": "markdown",
   "metadata": {},
   "source": [
    "### Greedy Search"
   ]
  },
  {
   "cell_type": "code",
   "execution_count": 20,
   "metadata": {
    "collapsed": false
   },
   "outputs": [
    {
     "name": "stdout",
     "output_type": "stream",
     "text": [
      "altitude: 0.368635412617\n",
      "parameters: {'delta': 0.090750223220923409, 'gamma': 1.7983221133533849, 'decay': 0.42489865480317074}\n",
      "epsilons: {'delta': 0.013640791781531381, 'gamma': 0.080467743926041696, 'decay': 0.0051981513990196383}\n"
     ]
    },
    {
     "data": {
      "text/plain": [
       "{'decay': 0.42489865480317074,\n",
       " 'delta': 0.090750223220923409,\n",
       " 'gamma': 1.7983221133533849}"
      ]
     },
     "execution_count": 20,
     "metadata": {},
     "output_type": "execute_result"
    }
   ],
   "source": [
    "def pfag_fun(gamma, delta, decay):\n",
    "    elo = models.EloModel()\n",
    "    pfag = models.PFAGong(prior=elo, gamma=gamma, delta=delta, decay=decay)\n",
    "    pfag_test = PerformanceTest(pfag, landscape.data)\n",
    "\n",
    "    pfag_test.run()\n",
    "    return pfag_test.results['train'].rmse\n",
    "\n",
    "init_parameters = {'gamma': 2, 'delta': -1, 'decay': 0.09}\n",
    "init_epsilons = {'gamma': 0.1, 'delta': 0.05, 'decay': 0.01}\n",
    "\n",
    "landscape = optimize.GreedySearch(data)\n",
    "landscape.search(pfag_fun, init_parameters, init_epsilons, altitude_ratio=100)"
   ]
  },
  {
   "cell_type": "markdown",
   "metadata": {},
   "source": [
    "### Smart Greedy Search"
   ]
  },
  {
   "cell_type": "code",
   "execution_count": 50,
   "metadata": {
    "collapsed": false
   },
   "outputs": [
    {
     "name": "stdout",
     "output_type": "stream",
     "text": [
      "   2.22006   -0.29863    0.37966\n",
      "   1.85479    0.23149    0.37130\n",
      "   1.58129    0.48080    0.36938\n",
      "   1.40630    0.58719    0.36961\n",
      "   1.29100    0.61561    0.37005\n",
      "   1.21126    0.60626    0.37027\n",
      "   1.15310    0.58130    0.37032\n",
      "   1.10862    0.55186    0.37028\n",
      "   1.07336    0.52300    0.37021\n",
      "   1.04470    0.49676    0.37015\n"
     ]
    },
    {
     "data": {
      "text/plain": [
       "{'decay': 0.71608391039486985,\n",
       " 'delta': 0.49676161027915278,\n",
       " 'gamma': 1.044699976959059}"
      ]
     },
     "execution_count": 50,
     "metadata": {},
     "output_type": "execute_result"
    }
   ],
   "source": [
    "landscape = optimize.GreedySearch2(data)\n",
    "landscape.search_pfag(number_of_iter=10)"
   ]
  },
  {
   "cell_type": "markdown",
   "metadata": {},
   "source": [
    "## PFA/E/T"
   ]
  },
  {
   "cell_type": "markdown",
   "metadata": {},
   "source": [
    "### Greedy Search"
   ]
  },
  {
   "cell_type": "code",
   "execution_count": 3,
   "metadata": {
    "collapsed": true
   },
   "outputs": [],
   "source": [
    "def pfaet_fun(gamma, delta, a, c):\n",
    "    elo = models.EloModel()\n",
    "    pfaet = models.PFAExtTiming(\n",
    "        elo, gamma=gamma, delta=delta,\n",
    "        time_effect_fun=time_effect_fun, a=a, c=c)\n",
    "    pfaet_test = PerformanceTest(pfaet, landscape.data)\n",
    "\n",
    "    pfaet_test.run()\n",
    "    return pfaet_test.results['train'].rmse"
   ]
  },
  {
   "cell_type": "code",
   "execution_count": 6,
   "metadata": {
    "collapsed": false
   },
   "outputs": [
    {
     "name": "stdout",
     "output_type": "stream",
     "text": [
      "altitude: 0.360451753429\n",
      "parameters: {'a': 2.6024148491925883, 'c': 0.27, 'gamma': 1.9017194430570963, 'delta': -0.75522927033349507}\n",
      "epsilons: {'a': 0.097110813079835684, 'c': 0.029999999999999999, 'gamma': 0.098934411980168502, 'delta': 0.047114808754100838}\n"
     ]
    },
    {
     "data": {
      "text/plain": [
       "{'a': 2.6024148491925883,\n",
       " 'c': 0.27,\n",
       " 'delta': -0.75522927033349507,\n",
       " 'gamma': 1.9017194430570963}"
      ]
     },
     "execution_count": 6,
     "metadata": {},
     "output_type": "execute_result"
    }
   ],
   "source": [
    "time_effect_fun = 'poly'\n",
    "\n",
    "init_parameters = {'gamma': 2, 'delta': -1, 'a': 3, 'c': 0.3}\n",
    "init_epsilons = {'gamma': 0.1, 'delta': 0.05, 'a': 0.1, 'c': 0.03}\n",
    "\n",
    "landscape = optimize.GreedySearch(data)\n",
    "landscape.search(pfaet_fun, init_parameters, init_epsilons)"
   ]
  },
  {
   "cell_type": "code",
   "execution_count": 7,
   "metadata": {
    "collapsed": false
   },
   "outputs": [
    {
     "name": "stdout",
     "output_type": "stream",
     "text": [
      "altitude: 0.360465160316\n",
      "parameters: {'a': 1.7896113781264669, 'c': 0.13, 'gamma': 1.9064919213249858, 'delta': -0.80551353417791893}\n",
      "epsilons: {'a': 0.093531345086511147, 'c': 0.029999999999999999, 'gamma': 0.096327384837379765, 'delta': 0.047767917160314824}\n"
     ]
    },
    {
     "data": {
      "text/plain": [
       "{'a': 1.7896113781264669,\n",
       " 'c': 0.13,\n",
       " 'delta': -0.80551353417791893,\n",
       " 'gamma': 1.9064919213249858}"
      ]
     },
     "execution_count": 7,
     "metadata": {},
     "output_type": "execute_result"
    }
   ],
   "source": [
    "time_effect_fun = 'log'\n",
    "\n",
    "init_parameters = {'gamma': 2, 'delta': -1, 'a': 1.5, 'c': 0.1}\n",
    "init_epsilons = {'gamma': 0.1, 'delta': 0.05, 'a': 0.1, 'c': 0.03}\n",
    "\n",
    "landscape = optimize.GreedySearch(data)\n",
    "landscape.search(pfaet_fun, init_parameters, init_epsilons)"
   ]
  },
  {
   "cell_type": "code",
   "execution_count": 4,
   "metadata": {
    "collapsed": false
   },
   "outputs": [
    {
     "name": "stdout",
     "output_type": "stream",
     "text": [
      "altitude: 0.361029441303\n",
      "parameters: {'a': 1.0046999532781646, 'c': 0.01, 'gamma': 2.0061720998301338, 'delta': -0.75657801487834175}\n",
      "epsilons: {'a': 0.090306802141485509, 'c': 0.0050000000000000001, 'gamma': 0.086965599971364368, 'delta': 0.042243370476929394}\n"
     ]
    },
    {
     "data": {
      "text/plain": [
       "{'a': 1.0046999532781646,\n",
       " 'c': 0.01,\n",
       " 'delta': -0.75657801487834175,\n",
       " 'gamma': 2.0061720998301338}"
      ]
     },
     "execution_count": 4,
     "metadata": {},
     "output_type": "execute_result"
    }
   ],
   "source": [
    "time_effect_fun = 'exp'\n",
    "\n",
    "init_parameters = {'gamma': 2, 'delta': -1, 'a': 1, 'c': 0.01}\n",
    "init_epsilons = {'gamma': 0.1, 'delta': 0.05, 'a': 0.1, 'c': 0.005}\n",
    "\n",
    "landscape = optimize.GreedySearch(data)\n",
    "landscape.search(pfaet_fun, init_parameters, init_epsilons)"
   ]
  },
  {
   "cell_type": "markdown",
   "metadata": {},
   "source": [
    "## PFA/G/T"
   ]
  },
  {
   "cell_type": "markdown",
   "metadata": {},
   "source": [
    "### Greedy Search"
   ]
  },
  {
   "cell_type": "code",
   "execution_count": 6,
   "metadata": {
    "collapsed": true
   },
   "outputs": [],
   "source": [
    "def pfagt_fun(gamma, delta, a, c, d=0.5):\n",
    "    elo = models.EloModel()\n",
    "    pfagt = models.PFAGongTiming(\n",
    "        elo, gamma=gamma, delta=delta,\n",
    "        time_effect_fun=time_effect_fun, a=a, c=c, d=d)\n",
    "    pfagt_test = PerformanceTest(pfagt, landscape.data)\n",
    "\n",
    "    pfagt_test.run()\n",
    "    return pfagt_test.results['train'].rmse"
   ]
  },
  {
   "cell_type": "code",
   "execution_count": 8,
   "metadata": {
    "collapsed": false
   },
   "outputs": [
    {
     "name": "stdout",
     "output_type": "stream",
     "text": [
      "altitude: 0.372206891761\n",
      "parameters: {'a': 1.7075460966445262, 'c': 0.23090598499210321, 'd': 0.013498642329978799, 'gamma': 2.37339288420843, 'delta': 0.34381173052361336}\n",
      "epsilons: {'a': 0.046798635905599122, 'c': 0.076266314419260559, 'd': 0.10344130376883155, 'gamma': 0.039699204617132215, 'delta': -0.002144112829650761}\n"
     ]
    },
    {
     "data": {
      "text/plain": [
       "{'a': 1.7075460966445262,\n",
       " 'c': 0.23090598499210321,\n",
       " 'd': 0.013498642329978799,\n",
       " 'delta': 0.34381173052361336,\n",
       " 'gamma': 2.37339288420843}"
      ]
     },
     "execution_count": 8,
     "metadata": {},
     "output_type": "execute_result"
    }
   ],
   "source": [
    "time_effect_fun = 'poly'\n",
    "\n",
    "init_parameters = {'gamma': 1.7, 'delta': 0.5, 'a': 2.3, 'c': 0.3, 'd': 0.5}\n",
    "init_epsilons = {'gamma': 0.1, 'delta': 0.05, 'a': 0.1, 'c': 0.03, 'd': 0.1}\n",
    "\n",
    "landscape = optimize.GreedySearch(data)\n",
    "landscape.search(pfagt_fun, init_parameters, init_epsilons)"
   ]
  },
  {
   "cell_type": "code",
   "execution_count": 6,
   "metadata": {
    "collapsed": false
   },
   "outputs": [
    {
     "name": "stdout",
     "output_type": "stream",
     "text": [
      "altitude: 0.37272114798\n",
      "parameters: {'a': 1.9181493554797728, 'c': 0.13, 'gamma': 0.8379974591234236, 'delta': -0.00050855111330977421}\n",
      "epsilons: {'a': 0.030245344048956915, 'c': 0.029999999999999999, 'gamma': 0.069520485199521337, 'delta': 0.049510865573042094}\n"
     ]
    },
    {
     "data": {
      "text/plain": [
       "{'a': 1.9181493554797728,\n",
       " 'c': 0.13,\n",
       " 'delta': -0.00050855111330977421,\n",
       " 'gamma': 0.8379974591234236}"
      ]
     },
     "execution_count": 6,
     "metadata": {},
     "output_type": "execute_result"
    }
   ],
   "source": [
    "time_effect_fun = 'log'\n",
    "\n",
    "init_parameters = {'gamma': 2, 'delta': 0, 'a': 1.5, 'c': 0.1}\n",
    "init_epsilons = {'gamma': 0.1, 'delta': 0.05, 'a': 0.1, 'c': 0.03}\n",
    "\n",
    "landscape = optimize.GreedySearch(data)\n",
    "landscape.search(pfagt_fun, init_parameters, init_epsilons)"
   ]
  },
  {
   "cell_type": "code",
   "execution_count": 5,
   "metadata": {
    "collapsed": false
   },
   "outputs": [
    {
     "name": "stdout",
     "output_type": "stream",
     "text": [
      "altitude: 0.3740357391\n",
      "parameters: {'a': 0.82423718893201459, 'c': 0.0023665422078788505, 'gamma': 1.2968636263575468, 'delta': 0.0022967866340491486}\n",
      "epsilons: {'a': 0.055110795112738808, 'c': 0.0011460236124078821, 'gamma': 0.061122021942343265, 'delta': 0.04602803677226526}\n"
     ]
    },
    {
     "data": {
      "text/plain": [
       "{'a': 0.82423718893201459,\n",
       " 'c': 0.0023665422078788505,\n",
       " 'delta': 0.0022967866340491486,\n",
       " 'gamma': 1.2968636263575468}"
      ]
     },
     "execution_count": 5,
     "metadata": {},
     "output_type": "execute_result"
    }
   ],
   "source": [
    "time_effect_fun = 'exp'\n",
    "\n",
    "init_parameters = {'gamma': 2, 'delta': 0, 'a': 1.5, 'c': 0.01}\n",
    "init_epsilons = {'gamma': 0.1, 'delta': 0.05, 'a': 0.1, 'c': 0.005}\n",
    "\n",
    "landscape = optimize.GreedySearch(data)\n",
    "landscape.search(pfagt_fun, init_parameters, init_epsilons)"
   ]
  },
  {
   "cell_type": "markdown",
   "metadata": {},
   "source": [
    "### Smart Greedy Search"
   ]
  },
  {
   "cell_type": "code",
   "execution_count": 49,
   "metadata": {
    "collapsed": false
   },
   "outputs": [
    {
     "name": "stdout",
     "output_type": "stream",
     "text": [
      "   3.51309   -0.25624    0.37776\n",
      "   3.68964    0.04912    0.37706\n",
      "   3.46514    0.04062    0.37575\n",
      "   3.25846    0.03920    0.37536\n",
      "   3.05692    0.03611    0.37501\n",
      "   2.86231    0.03415    0.37464\n",
      "   2.67456    0.03202    0.37430\n",
      "   2.49209    0.02844    0.37398\n",
      "   2.32170    0.02788    0.37366\n",
      "   2.15652    0.02566    0.37334\n"
     ]
    },
    {
     "data": {
      "text/plain": [
       "{'a': 2.9700846520609057,\n",
       " 'c': 0.25924650629428969,\n",
       " 'delta': 0.025657149029072922,\n",
       " 'gamma': 2.1565236199060083}"
      ]
     },
     "execution_count": 49,
     "metadata": {},
     "output_type": "execute_result"
    }
   ],
   "source": [
    "landscape = optimize.GreedySearch2(data)\n",
    "landscape.search_pfagt(number_of_iter=10)"
   ]
  },
  {
   "cell_type": "code",
   "execution_count": 3,
   "metadata": {
    "collapsed": false
   },
   "outputs": [
    {
     "name": "stdout",
     "output_type": "stream",
     "text": [
      "   2.01599    0.10362    0.38777\n",
      "   1.68531    0.05819    0.38661\n",
      "   1.34697    0.03985    0.38363\n",
      "   1.06414    0.03902    0.38051\n",
      "   0.79137    0.02831    0.37611\n",
      "   0.55974    0.01953    0.37206\n",
      "   0.34258    0.02003    0.36915\n",
      "   0.20341    0.04402    0.37436\n",
      "   0.11545    0.02245    0.38869\n",
      "   0.08667    0.01565    0.39558\n"
     ]
    },
    {
     "data": {
      "text/plain": [
       "{'a': 3.2731618029154732,\n",
       " 'c': -0.099687077060505391,\n",
       " 'delta': 0.015650741856747617,\n",
       " 'gamma': 0.086671413614965359}"
      ]
     },
     "execution_count": 3,
     "metadata": {},
     "output_type": "execute_result"
    }
   ],
   "source": [
    "landscape = optimize.GreedySearch2(data)\n",
    "landscape.search_pfagt(number_of_iter=10, time_effect_fun='exp')"
   ]
  },
  {
   "cell_type": "code",
   "execution_count": 13,
   "metadata": {
    "collapsed": false
   },
   "outputs": [
    {
     "name": "stdout",
     "output_type": "stream",
     "text": [
      "altitude: 0.366512637582\n",
      "parameters: {'zeta': 1.8864787074945273, 'gamma': 1.4538339916304364, 'delta': -1.3564060306537307}\n",
      "epsilons: {'zeta': 0.020764341995399609, 'gamma': 0.07766068664602585, 'delta': 0.032988109641159349}\n"
     ]
    },
    {
     "data": {
      "text/plain": [
       "{'delta': -1.3564060306537307,\n",
       " 'gamma': 1.4538339916304364,\n",
       " 'zeta': 1.8864787074945273}"
      ]
     },
     "execution_count": 13,
     "metadata": {},
     "output_type": "execute_result"
    }
   ],
   "source": [
    "def pfart_fun(gamma, delta, zeta):\n",
    "    elo = models.EloModel()\n",
    "    pfart = models.PFAResponseTime(elo, gamma=gamma, delta=delta, zeta=zeta)\n",
    "    pfart_test = PerformanceTest(pfart, landscape.data)\n",
    "\n",
    "    pfart_test.run()\n",
    "    return pfart_test.results['train'].rmse\n",
    "\n",
    "init_parameters = {'gamma': 2, 'delta': -1, 'zeta': 0.5}\n",
    "init_epsilons = {'gamma': 0.1, 'delta': 0.05, 'zeta': 0.1}\n",
    "\n",
    "landscape = optimize.GreedySearch(data)\n",
    "landscape.search(pfart_fun, init_parameters, init_epsilons, altitude_change=100)"
   ]
  },
  {
   "cell_type": "code",
   "execution_count": null,
   "metadata": {
    "collapsed": true
   },
   "outputs": [],
   "source": []
  }
 ],
 "metadata": {
  "kernelspec": {
   "display_name": "Python 2",
   "language": "python",
   "name": "python2"
  },
  "language_info": {
   "codemirror_mode": {
    "name": "ipython",
    "version": 2
   },
   "file_extension": ".py",
   "mimetype": "text/x-python",
   "name": "python",
   "nbconvert_exporter": "python",
   "pygments_lexer": "ipython2",
   "version": "2.7.6"
  }
 },
 "nbformat": 4,
 "nbformat_minor": 0
}
