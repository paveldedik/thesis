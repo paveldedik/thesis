{
 "cells": [
  {
   "cell_type": "code",
   "execution_count": 1,
   "metadata": {
    "collapsed": false
   },
   "outputs": [],
   "source": [
    "%matplotlib qt4\n",
    "from __future__ import division\n",
    "\n",
    "from models import tools, optimize, models\n",
    "from models.tests import PerformanceTest\n",
    "\n",
    "import numpy as np\n",
    "import pandas as pd\n",
    "import matplotlib.pyplot as plt"
   ]
  },
  {
   "cell_type": "code",
   "execution_count": 2,
   "metadata": {
    "collapsed": false
   },
   "outputs": [
    {
     "name": "stdout",
     "output_type": "stream",
     "text": [
      "Loaded 36112 answers.\n",
      "36112\n"
     ]
    }
   ],
   "source": [
    "data = tools.load_data(limit=50000, offset=1500000)\n",
    "print len(data)"
   ]
  },
  {
   "cell_type": "code",
   "execution_count": 3,
   "metadata": {
    "collapsed": false
   },
   "outputs": [],
   "source": [
    "landscape = optimize.GreedySearch(data)"
   ]
  },
  {
   "cell_type": "code",
   "execution_count": 11,
   "metadata": {
    "collapsed": false
   },
   "outputs": [],
   "source": [
    "def pfaet_fun(gamma, delta, a, c):\n",
    "    elo = models.EloModel()\n",
    "    pfaet = models.PFAExtTiming(\n",
    "        elo, gamma=gamma, delta=delta,\n",
    "        time_effect_fun=lambda t: a / ((t + 1) ** c))\n",
    "    pfaet_test = PerformanceTest(pfaet, landscape.data)\n",
    "\n",
    "    pfaet_test.run()\n",
    "    return pfaet_test.results['train'].rmse\n",
    "\n",
    "init_parameters = {'gamma': 2, 'delta': -1, 'a': 3, 'c': 0.3}\n",
    "init_epsilons = {'gamma': 0.1, 'delta': 0.05, 'a': 0.1, 'c': 0.03}"
   ]
  },
  {
   "cell_type": "code",
   "execution_count": 13,
   "metadata": {
    "collapsed": false
   },
   "outputs": [
    {
     "name": "stdout",
     "output_type": "stream",
     "text": [
      "altitude: 0.357494121302\n",
      "parameters: {'a': 2.6082624779582355, 'c': 0.24119545844427989, 'gamma': 2.2932397362765986, 'delta': -0.66370693121225954}\n",
      "epsilons: {'a': 0.098338335298535778, 'c': 0.028269140846230788, 'gamma': 0.095606143747220429, 'delta': 0.047174586452899382}\n"
     ]
    },
    {
     "data": {
      "text/plain": [
       "{'a': 2.6082624779582355,\n",
       " 'c': 0.24119545844427989,\n",
       " 'delta': -0.66370693121225954,\n",
       " 'gamma': 2.2932397362765986}"
      ]
     },
     "execution_count": 13,
     "metadata": {},
     "output_type": "execute_result"
    }
   ],
   "source": [
    "landscape.search(pfaet_fun, init_parameters, init_epsilons, altitude_ratio=100)"
   ]
  },
  {
   "cell_type": "code",
   "execution_count": 7,
   "metadata": {
    "collapsed": false
   },
   "outputs": [
    {
     "data": {
      "text/plain": [
       "0.31177052478569939"
      ]
     },
     "execution_count": 7,
     "metadata": {},
     "output_type": "execute_result"
    }
   ],
   "source": [
    "pfae_fun(3.54, 0.78)"
   ]
  },
  {
   "cell_type": "code",
   "execution_count": null,
   "metadata": {
    "collapsed": false
   },
   "outputs": [],
   "source": [
    "0.357520831332"
   ]
  }
 ],
 "metadata": {
  "kernelspec": {
   "display_name": "Python 2",
   "language": "python",
   "name": "python2"
  },
  "language_info": {
   "codemirror_mode": {
    "name": "ipython",
    "version": 2
   },
   "file_extension": ".py",
   "mimetype": "text/x-python",
   "name": "python",
   "nbconvert_exporter": "python",
   "pygments_lexer": "ipython2",
   "version": "2.7.6"
  }
 },
 "nbformat": 4,
 "nbformat_minor": 0
}
