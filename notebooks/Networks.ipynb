{
 "metadata": {
  "name": "",
  "signature": "sha256:9ea55cff8350ddc2fea0325d5cf19f4dc8678cfccf54fbb0d6f8a8b3cbf5939b"
 },
 "nbformat": 3,
 "nbformat_minor": 0,
 "worksheets": [
  {
   "cells": [
    {
     "cell_type": "code",
     "collapsed": false,
     "input": [
      "%matplotlib qt4\n",
      "from __future__ import division\n",
      "\n",
      "from collections import OrderedDict, defaultdict\n",
      "\n",
      "from models import tools, optimize, models, filters\n",
      "from models.tests import PerformanceTest\n",
      "\n",
      "import scipy as sp\n",
      "import numpy as np\n",
      "import pandas as pd\n",
      "import matplotlib.pyplot as plt\n",
      "import networkx as nx"
     ],
     "language": "python",
     "metadata": {},
     "outputs": [],
     "prompt_number": 1
    },
    {
     "cell_type": "code",
     "collapsed": false,
     "input": [
      "data = tools.load_data(limit=1000000, offset=1000000)\n",
      "data = data[data['is_correct'] == 0]\n",
      "#data = data[filters.european_countries(data)]\n",
      "print len(data)"
     ],
     "language": "python",
     "metadata": {},
     "outputs": [
      {
       "output_type": "stream",
       "stream": "stdout",
       "text": [
        "214743\n"
       ]
      }
     ],
     "prompt_number": 54
    },
    {
     "cell_type": "code",
     "collapsed": false,
     "input": [
      "places = tools.load_places().T.to_dict()\n",
      "n = lambda v: tools.to_place_name(v, places=places)"
     ],
     "language": "python",
     "metadata": {},
     "outputs": [],
     "prompt_number": 3
    },
    {
     "cell_type": "code",
     "collapsed": false,
     "input": [
      "elo = models.EloModel()\n",
      "pfa = models.PFAModel(elo)\n",
      "pfa.train(data)"
     ],
     "language": "python",
     "metadata": {},
     "outputs": [],
     "prompt_number": 261
    },
    {
     "cell_type": "code",
     "collapsed": false,
     "input": [
      "place_users = {}\n",
      "correlations = {}\n",
      "for place_id in pfa.prior.places:\n",
      "    place_users[place_id] = {\n",
      "        item.user.id for index, item in pfa.items.items()\n",
      "        if place_id == index[1]\n",
      "    }\n",
      "for i, place_i in enumerate(pfa.prior.places):\n",
      "    for place_j in pfa.prior.places:\n",
      "        d = []\n",
      "        for user_id in place_users[place_i]:\n",
      "            if user_id in place_users[place_j]:\n",
      "                d += [(pfa.items[user_id, place_i].knowledge,\n",
      "                       pfa.items[user_id, place_j].knowledge)]\n",
      "        correlation = sp.stats.spearmanr(d)\n",
      "        correlations[place_i, place_j] = correlation\n",
      "    tools.echo('{}/{}'.format(i+1, len(place_users)))"
     ],
     "language": "python",
     "metadata": {},
     "outputs": [
      {
       "output_type": "stream",
       "stream": "stdout",
       "text": [
        "45/45\n"
       ]
      }
     ],
     "prompt_number": 262
    },
    {
     "cell_type": "code",
     "collapsed": false,
     "input": [
      "edges = OrderedDict()\n",
      "min_c = 0.8\n",
      "max_c = max(correlation for correlation, pvalue in correlations.values())\n",
      "\n",
      "for (v1, v2), (correlation, pvalue) in correlations.items():\n",
      "    if pvalue < 0.05 and v1 != v2 and (v2, v1) not in edges and correlation > min_c:\n",
      "        edges[v1, v2] = (correlation - min_c) / (max_c - min_c)\n",
      "nodes = list({e[0] for e in edges} | {e[1] for e in edges})"
     ],
     "language": "python",
     "metadata": {},
     "outputs": [],
     "prompt_number": 263
    },
    {
     "cell_type": "code",
     "collapsed": false,
     "input": [
      "places = tools.load_places().T.to_dict()\n",
      "n = lambda x: places[x]['name_en'].decode('utf-8')"
     ],
     "language": "python",
     "metadata": {},
     "outputs": [],
     "prompt_number": 264
    },
    {
     "cell_type": "code",
     "collapsed": false,
     "input": [
      "G = nx.Graph()\n",
      "\n",
      "for (v1, v2), weight in edges.items():\n",
      "    G.add_edge(n(v1), n(v2), weight=weight)\n",
      "for v in nodes:\n",
      "    G.add_node(n(v))"
     ],
     "language": "python",
     "metadata": {},
     "outputs": [],
     "prompt_number": 265
    },
    {
     "cell_type": "code",
     "collapsed": false,
     "input": [
      "nx.draw_networkx(\n",
      "    G,\n",
      "    pos=nx.spring_layout(G, iterations=20),\n",
      "    write_labels=True,\n",
      "    node_size=0,\n",
      "    font_size=8,\n",
      "    edge_color=edges.values(),\n",
      "    edge_cmap=plt.cm.PuBu,\n",
      ")"
     ],
     "language": "python",
     "metadata": {},
     "outputs": [],
     "prompt_number": 267
    },
    {
     "cell_type": "code",
     "collapsed": false,
     "input": [
      "d = data[filters.world_countries(data)]\n",
      "places_answered = defaultdict(list)\n",
      "for _, row in d.T.iteritems():\n",
      "    if np.isfinite(row.place_answered):\n",
      "        places_answered[int(row.place_id)].append(int(row.place_answered))"
     ],
     "language": "python",
     "metadata": {},
     "outputs": [],
     "prompt_number": 71
    },
    {
     "cell_type": "code",
     "collapsed": false,
     "input": [
      "G = nx.Graph()\n",
      "\n",
      "for v1, answeres in places_answered.iteritems():\n",
      "    for v2 in set(answeres):\n",
      "        weight = answeres.count(v2) / len(answeres)\n",
      "        e = (n(v1), n(v2))\n",
      "        if tuple(reversed(e)) in G.edges():\n",
      "            weight += G[e[0]][e[1]]['weight']\n",
      "        if weight <= 0.25:\n",
      "            continue\n",
      "        G.add_edge(e[0], e[1], weight=weight)\n",
      "    G.add_node(n(v1))"
     ],
     "language": "python",
     "metadata": {},
     "outputs": [],
     "prompt_number": 83
    },
    {
     "cell_type": "code",
     "collapsed": false,
     "input": [
      "nx.draw_networkx(\n",
      "    G,\n",
      "    pos=nx.spring_layout(G, iterations=10),\n",
      "    write_labels=True,\n",
      "    node_size=0,\n",
      "    font_size=8,\n",
      "    edge_color=[G[e[0]][e[1]]['weight'] for e in G.edges()],\n",
      "    edge_cmap=plt.cm.YlOrRd,\n",
      ")"
     ],
     "language": "python",
     "metadata": {},
     "outputs": [],
     "prompt_number": 84
    },
    {
     "cell_type": "code",
     "collapsed": false,
     "input": [],
     "language": "python",
     "metadata": {},
     "outputs": []
    }
   ],
   "metadata": {}
  }
 ]
}