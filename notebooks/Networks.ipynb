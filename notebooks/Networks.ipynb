{
 "cells": [
  {
   "cell_type": "code",
   "execution_count": 1,
   "metadata": {
    "collapsed": false
   },
   "outputs": [],
   "source": [
    "%matplotlib qt4\n",
    "from __future__ import division\n",
    "\n",
    "from collections import OrderedDict, defaultdict\n",
    "\n",
    "from models import tools, optimize, models, filters\n",
    "from models.tests import PerformanceTest\n",
    "\n",
    "import scipy as sp\n",
    "import numpy as np\n",
    "import pandas as pd\n",
    "import networkx as nx\n",
    "import matplotlib.pyplot as plt"
   ]
  },
  {
   "cell_type": "code",
   "execution_count": 2,
   "metadata": {
    "collapsed": false
   },
   "outputs": [
    {
     "name": "stdout",
     "output_type": "stream",
     "text": [
      "Loaded 962691 answers.\n"
     ]
    }
   ],
   "source": [
    "data = tools.load_data(limit=1000000, offset=1000000)"
   ]
  },
  {
   "cell_type": "code",
   "execution_count": 62,
   "metadata": {
    "collapsed": false
   },
   "outputs": [],
   "source": [
    "def plot_network(G, offset=23):\n",
    "    fig = plt.figure(num=None, figsize=(20, 15), dpi=80)\n",
    "\n",
    "    pos = nx.graphviz_layout(G)\n",
    "    nx.draw_networkx(\n",
    "        G,\n",
    "        pos=pos,\n",
    "        width=4,\n",
    "        edge_vmin=0, edge_vmax=1,\n",
    "        with_labels=False,\n",
    "        node_size=300,\n",
    "        node_color='orange',\n",
    "        edge_color=[G[e[0]][e[1]]['weight'] for e in G.edges()],\n",
    "        edge_cmap=plt.cm.Blues,\n",
    "    )\n",
    "\n",
    "    for p in pos:  # raise text positions\n",
    "        x, y = pos[p]\n",
    "        pos[p] = (x, y + offset)\n",
    "    labels = nx.draw_networkx_labels(G, pos, font_size=16)\n",
    "\n",
    "    plt.axis('off')\n",
    "    plt.tight_layout()"
   ]
  },
  {
   "cell_type": "code",
   "execution_count": 4,
   "metadata": {
    "collapsed": false
   },
   "outputs": [],
   "source": [
    "places = tools.load_places().T.to_dict()\n",
    "n = lambda v: tools.to_place_name(v, places=places)"
   ]
  },
  {
   "cell_type": "markdown",
   "metadata": {},
   "source": [
    "## Correlation Network"
   ]
  },
  {
   "cell_type": "code",
   "execution_count": 90,
   "metadata": {
    "collapsed": false
   },
   "outputs": [
    {
     "name": "stdout",
     "output_type": "stream",
     "text": [
      "99777\n"
     ]
    }
   ],
   "source": [
    "d_corr = data[filters.asian_countries(data)]\n",
    "print len(d_corr)"
   ]
  },
  {
   "cell_type": "code",
   "execution_count": 91,
   "metadata": {
    "collapsed": false
   },
   "outputs": [],
   "source": [
    "pfae = models.PFAExt(models.EloModel())\n",
    "pfae.train(d_corr)"
   ]
  },
  {
   "cell_type": "code",
   "execution_count": 92,
   "metadata": {
    "collapsed": false
   },
   "outputs": [
    {
     "name": "stdout",
     "output_type": "stream",
     "text": [
      "45/45\n"
     ]
    }
   ],
   "source": [
    "place_users = {}\n",
    "correlations = {}\n",
    "for place_id in pfae.prior.places:\n",
    "    place_users[place_id] = {\n",
    "        item.user.id for index, item in pfae.items.items()\n",
    "        if place_id == index[1]\n",
    "    }\n",
    "for i, place_i in enumerate(pfae.prior.places):\n",
    "    for place_j in pfae.prior.places:\n",
    "        d = []\n",
    "        for user_id in place_users[place_i]:\n",
    "            if user_id in place_users[place_j]:\n",
    "                d += [(pfae.items[user_id, place_i].knowledge,\n",
    "                       pfae.items[user_id, place_j].knowledge)]\n",
    "        correlation = sp.stats.spearmanr(d)\n",
    "        correlations[place_i, place_j] = correlation\n",
    "    tools.echo('{}/{}'.format(i+1, len(place_users)))"
   ]
  },
  {
   "cell_type": "code",
   "execution_count": 99,
   "metadata": {
    "collapsed": false
   },
   "outputs": [],
   "source": [
    "edges = OrderedDict()\n",
    "min_c = 0.84\n",
    "max_c = max(correlation for correlation, pvalue in correlations.values())\n",
    "\n",
    "for (v1, v2), (correlation, pvalue) in correlations.items():\n",
    "    if pvalue < 0.05 and v1 != v2 and (v2, v1) not in edges and correlation > min_c:\n",
    "        edges[v1, v2] = (correlation - min_c) / (max_c - min_c)\n",
    "nodes = list({e[0] for e in edges} | {e[1] for e in edges})"
   ]
  },
  {
   "cell_type": "code",
   "execution_count": 100,
   "metadata": {
    "collapsed": false
   },
   "outputs": [],
   "source": [
    "G = nx.Graph()\n",
    "\n",
    "for (v1, v2), weight in edges.items():\n",
    "    G.add_edge(n(v1), n(v2), weight=weight)\n",
    "for v in nodes:\n",
    "    G.add_node(n(v))"
   ]
  },
  {
   "cell_type": "code",
   "execution_count": 102,
   "metadata": {
    "collapsed": false
   },
   "outputs": [],
   "source": [
    "plot_network(G, offset=15)"
   ]
  },
  {
   "cell_type": "markdown",
   "metadata": {},
   "source": [
    "## Confusion Network"
   ]
  },
  {
   "cell_type": "code",
   "execution_count": 42,
   "metadata": {
    "collapsed": false
   },
   "outputs": [],
   "source": [
    "d = data[filters.european_countries(data) & (data['is_correct'] == 0)]\n",
    "places_answered = defaultdict(list)\n",
    "for _, row in d.T.iteritems():\n",
    "    if np.isfinite(row.place_answered):\n",
    "        places_answered[int(row.place_id)].append(int(row.place_answered))"
   ]
  },
  {
   "cell_type": "code",
   "execution_count": 64,
   "metadata": {
    "collapsed": false
   },
   "outputs": [],
   "source": [
    "G = nx.Graph()\n",
    "\n",
    "for v1, answeres in places_answered.iteritems():\n",
    "    for v2 in set(answeres):\n",
    "        weight = answeres.count(v2) / len(answeres)\n",
    "        e = (n(v1), n(v2))\n",
    "        if tuple(reversed(e)) in G.edges():\n",
    "            weight += G[e[0]][e[1]]['weight']\n",
    "        if weight <= 0.14:\n",
    "            continue\n",
    "        G.add_edge(e[0], e[1], weight=weight)\n",
    "    G.add_node(n(v1))"
   ]
  },
  {
   "cell_type": "code",
   "execution_count": 65,
   "metadata": {
    "collapsed": false
   },
   "outputs": [],
   "source": [
    "plot_network(G)"
   ]
  },
  {
   "cell_type": "code",
   "execution_count": null,
   "metadata": {
    "collapsed": true
   },
   "outputs": [],
   "source": []
  }
 ],
 "metadata": {
  "kernelspec": {
   "display_name": "Python 2",
   "language": "python",
   "name": "python2"
  },
  "language_info": {
   "codemirror_mode": {
    "name": "ipython",
    "version": 2
   },
   "file_extension": ".py",
   "mimetype": "text/x-python",
   "name": "python",
   "nbconvert_exporter": "python",
   "pygments_lexer": "ipython2",
   "version": "2.7.6"
  }
 },
 "nbformat": 4,
 "nbformat_minor": 0
}
