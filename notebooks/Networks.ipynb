{
 "cells": [
  {
   "cell_type": "code",
   "execution_count": 1,
   "metadata": {
    "collapsed": false
   },
   "outputs": [],
   "source": [
    "%matplotlib qt4\n",
    "from __future__ import division\n",
    "\n",
    "from collections import OrderedDict, defaultdict\n",
    "\n",
    "from models import tools, optimize, models, filters\n",
    "from models.tests import PerformanceTest\n",
    "\n",
    "import scipy as sp\n",
    "import numpy as np\n",
    "import pandas as pd\n",
    "import matplotlib.pyplot as plt\n",
    "import networkx as nx"
   ]
  },
  {
   "cell_type": "code",
   "execution_count": 54,
   "metadata": {
    "collapsed": false
   },
   "outputs": [
    {
     "name": "stdout",
     "output_type": "stream",
     "text": [
      "214743\n"
     ]
    }
   ],
   "source": [
    "data = tools.load_data(limit=1000000, offset=1000000)\n",
    "data = data[data['is_correct'] == 0]\n",
    "#data = data[filters.european_countries(data)]\n",
    "print len(data)"
   ]
  },
  {
   "cell_type": "code",
   "execution_count": 3,
   "metadata": {
    "collapsed": false
   },
   "outputs": [],
   "source": [
    "places = tools.load_places().T.to_dict()\n",
    "n = lambda v: tools.to_place_name(v, places=places)"
   ]
  },
  {
   "cell_type": "code",
   "execution_count": 261,
   "metadata": {
    "collapsed": false
   },
   "outputs": [],
   "source": [
    "elo = models.EloModel()\n",
    "pfa = models.PFAModel(elo)\n",
    "pfa.train(data)"
   ]
  },
  {
   "cell_type": "code",
   "execution_count": 262,
   "metadata": {
    "collapsed": false
   },
   "outputs": [
    {
     "name": "stdout",
     "output_type": "stream",
     "text": [
      "45/45\n"
     ]
    }
   ],
   "source": [
    "place_users = {}\n",
    "correlations = {}\n",
    "for place_id in pfa.prior.places:\n",
    "    place_users[place_id] = {\n",
    "        item.user.id for index, item in pfa.items.items()\n",
    "        if place_id == index[1]\n",
    "    }\n",
    "for i, place_i in enumerate(pfa.prior.places):\n",
    "    for place_j in pfa.prior.places:\n",
    "        d = []\n",
    "        for user_id in place_users[place_i]:\n",
    "            if user_id in place_users[place_j]:\n",
    "                d += [(pfa.items[user_id, place_i].knowledge,\n",
    "                       pfa.items[user_id, place_j].knowledge)]\n",
    "        correlation = sp.stats.spearmanr(d)\n",
    "        correlations[place_i, place_j] = correlation\n",
    "    tools.echo('{}/{}'.format(i+1, len(place_users)))"
   ]
  },
  {
   "cell_type": "code",
   "execution_count": 263,
   "metadata": {
    "collapsed": false
   },
   "outputs": [],
   "source": [
    "edges = OrderedDict()\n",
    "min_c = 0.8\n",
    "max_c = max(correlation for correlation, pvalue in correlations.values())\n",
    "\n",
    "for (v1, v2), (correlation, pvalue) in correlations.items():\n",
    "    if pvalue < 0.05 and v1 != v2 and (v2, v1) not in edges and correlation > min_c:\n",
    "        edges[v1, v2] = (correlation - min_c) / (max_c - min_c)\n",
    "nodes = list({e[0] for e in edges} | {e[1] for e in edges})"
   ]
  },
  {
   "cell_type": "code",
   "execution_count": 264,
   "metadata": {
    "collapsed": false
   },
   "outputs": [],
   "source": [
    "places = tools.load_places().T.to_dict()\n",
    "n = lambda x: places[x]['name_en'].decode('utf-8')"
   ]
  },
  {
   "cell_type": "code",
   "execution_count": 265,
   "metadata": {
    "collapsed": false
   },
   "outputs": [],
   "source": [
    "G = nx.Graph()\n",
    "\n",
    "for (v1, v2), weight in edges.items():\n",
    "    G.add_edge(n(v1), n(v2), weight=weight)\n",
    "for v in nodes:\n",
    "    G.add_node(n(v))"
   ]
  },
  {
   "cell_type": "code",
   "execution_count": 267,
   "metadata": {
    "collapsed": false
   },
   "outputs": [],
   "source": [
    "nx.draw_networkx(\n",
    "    G,\n",
    "    pos=nx.spring_layout(G, iterations=20),\n",
    "    write_labels=True,\n",
    "    node_size=0,\n",
    "    font_size=8,\n",
    "    edge_color=edges.values(),\n",
    "    edge_cmap=plt.cm.PuBu,\n",
    ")"
   ]
  },
  {
   "cell_type": "code",
   "execution_count": 71,
   "metadata": {
    "collapsed": false
   },
   "outputs": [],
   "source": [
    "d = data[filters.world_countries(data)]\n",
    "places_answered = defaultdict(list)\n",
    "for _, row in d.T.iteritems():\n",
    "    if np.isfinite(row.place_answered):\n",
    "        places_answered[int(row.place_id)].append(int(row.place_answered))"
   ]
  },
  {
   "cell_type": "code",
   "execution_count": 83,
   "metadata": {
    "collapsed": false
   },
   "outputs": [],
   "source": [
    "G = nx.Graph()\n",
    "\n",
    "for v1, answeres in places_answered.iteritems():\n",
    "    for v2 in set(answeres):\n",
    "        weight = answeres.count(v2) / len(answeres)\n",
    "        e = (n(v1), n(v2))\n",
    "        if tuple(reversed(e)) in G.edges():\n",
    "            weight += G[e[0]][e[1]]['weight']\n",
    "        if weight <= 0.25:\n",
    "            continue\n",
    "        G.add_edge(e[0], e[1], weight=weight)\n",
    "    G.add_node(n(v1))"
   ]
  },
  {
   "cell_type": "code",
   "execution_count": 84,
   "metadata": {
    "collapsed": false
   },
   "outputs": [],
   "source": [
    "nx.draw_networkx(\n",
    "    G,\n",
    "    pos=nx.spring_layout(G, iterations=10),\n",
    "    write_labels=True,\n",
    "    node_size=0,\n",
    "    font_size=8,\n",
    "    edge_color=[G[e[0]][e[1]]['weight'] for e in G.edges()],\n",
    "    edge_cmap=plt.cm.YlOrRd,\n",
    ")"
   ]
  },
  {
   "cell_type": "code",
   "execution_count": null,
   "metadata": {
    "collapsed": false
   },
   "outputs": [],
   "source": []
  }
 ],
 "metadata": {
  "kernelspec": {
   "display_name": "Python 2",
   "language": "python",
   "name": "python2"
  },
  "language_info": {
   "codemirror_mode": {
    "name": "ipython",
    "version": 2
   },
   "file_extension": ".py",
   "mimetype": "text/x-python",
   "name": "python",
   "nbconvert_exporter": "python",
   "pygments_lexer": "ipython2",
   "version": "2.7.6"
  }
 },
 "nbformat": 4,
 "nbformat_minor": 0
}
