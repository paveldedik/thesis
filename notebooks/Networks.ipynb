{
 "metadata": {
  "name": "",
  "signature": "sha256:0b2097b78fa1c922da886ebc90a18202dad93ea0ec19c36748d751b748102de2"
 },
 "nbformat": 3,
 "nbformat_minor": 0,
 "worksheets": [
  {
   "cells": [
    {
     "cell_type": "code",
     "collapsed": false,
     "input": [
      "%matplotlib qt4\n",
      "from __future__ import division\n",
      "\n",
      "from collections import OrderedDict\n",
      "\n",
      "from models import tools, optimize, models, filters\n",
      "from models.tests import PerformanceTest\n",
      "\n",
      "import scipy as sp\n",
      "import numpy as np\n",
      "import pandas as pd\n",
      "import matplotlib.pyplot as plt\n",
      "import networkx as nx"
     ],
     "language": "python",
     "metadata": {},
     "outputs": [],
     "prompt_number": 73
    },
    {
     "cell_type": "code",
     "collapsed": false,
     "input": [
      "data = tools.load_data(limit=300000, offset=1500000)\n",
      "data = data[filters.asia_countries(data)]\n",
      "print len(data)"
     ],
     "language": "python",
     "metadata": {},
     "outputs": [
      {
       "output_type": "stream",
       "stream": "stdout",
       "text": [
        "25688\n"
       ]
      }
     ],
     "prompt_number": 260
    },
    {
     "cell_type": "code",
     "collapsed": false,
     "input": [
      "elo = models.EloModel()\n",
      "pfa = models.PFAModel(elo)\n",
      "pfa.train(data)"
     ],
     "language": "python",
     "metadata": {},
     "outputs": [],
     "prompt_number": 261
    },
    {
     "cell_type": "code",
     "collapsed": false,
     "input": [
      "place_users = {}\n",
      "correlations = {}\n",
      "for place_id in pfa.prior.places:\n",
      "    place_users[place_id] = {\n",
      "        item.user.id for index, item in pfa.items.items()\n",
      "        if place_id == index[1]\n",
      "    }\n",
      "for i, place_i in enumerate(pfa.prior.places):\n",
      "    for place_j in pfa.prior.places:\n",
      "        d = []\n",
      "        for user_id in place_users[place_i]:\n",
      "            if user_id in place_users[place_j]:\n",
      "                d += [(pfa.items[user_id, place_i].knowledge,\n",
      "                       pfa.items[user_id, place_j].knowledge)]\n",
      "        correlation = sp.stats.spearmanr(d)\n",
      "        correlations[place_i, place_j] = correlation\n",
      "    tools.echo('{}/{}'.format(i+1, len(place_users)))"
     ],
     "language": "python",
     "metadata": {},
     "outputs": [
      {
       "output_type": "stream",
       "stream": "stdout",
       "text": [
        "45/45\n"
       ]
      }
     ],
     "prompt_number": 262
    },
    {
     "cell_type": "code",
     "collapsed": false,
     "input": [
      "edges = OrderedDict()\n",
      "min_c = 0.8\n",
      "max_c = max(correlation for correlation, pvalue in correlations.values())\n",
      "\n",
      "for (v1, v2), (correlation, pvalue) in correlations.items():\n",
      "    if pvalue < 0.05 and v1 != v2 and (v2, v1) not in edges and correlation > min_c:\n",
      "        edges[v1, v2] = (correlation - min_c) / (max_c - min_c)\n",
      "nodes = list({e[0] for e in edges} | {e[1] for e in edges})"
     ],
     "language": "python",
     "metadata": {},
     "outputs": [],
     "prompt_number": 263
    },
    {
     "cell_type": "code",
     "collapsed": false,
     "input": [
      "places = tools.load_places().T.to_dict()\n",
      "n = lambda x: places[x]['name_en'].decode('utf-8')"
     ],
     "language": "python",
     "metadata": {},
     "outputs": [],
     "prompt_number": 264
    },
    {
     "cell_type": "code",
     "collapsed": false,
     "input": [
      "G = nx.Graph()\n",
      "\n",
      "for (v1, v2), weight in edges.items():\n",
      "    G.add_edge(n(v1), n(v2), weight=1)#weight)\n",
      "for v in nodes:\n",
      "    G.add_node(n(v))"
     ],
     "language": "python",
     "metadata": {},
     "outputs": [],
     "prompt_number": 265
    },
    {
     "cell_type": "code",
     "collapsed": false,
     "input": [
      "nx.draw_networkx(G, pos=nx.spring_layout(G, iterations=20), write_labels=True, node_size=0, font_size=8,\n",
      "                 edge_color=edges.values(), edge_cmap=plt.cm.PuBu) #edge_color='#7FFF24')"
     ],
     "language": "python",
     "metadata": {},
     "outputs": [],
     "prompt_number": 267
    },
    {
     "cell_type": "code",
     "collapsed": false,
     "input": [],
     "language": "python",
     "metadata": {},
     "outputs": []
    }
   ],
   "metadata": {}
  }
 ]
}