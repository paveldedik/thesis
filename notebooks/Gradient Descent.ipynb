{
 "cells": [
  {
   "cell_type": "code",
   "execution_count": 1,
   "metadata": {
    "collapsed": false
   },
   "outputs": [],
   "source": [
    "%matplotlib qt4\n",
    "from __future__ import division\n",
    "\n",
    "from models import tools, optimize, models, filters\n",
    "from models.tests import PerformanceTest\n",
    "\n",
    "import numpy as np\n",
    "import pandas as pd\n",
    "import matplotlib.pyplot as plt"
   ]
  },
  {
   "cell_type": "markdown",
   "metadata": {},
   "source": [
    "# The Naive Way"
   ]
  },
  {
   "cell_type": "code",
   "execution_count": null,
   "metadata": {
    "collapsed": false
   },
   "outputs": [],
   "source": [
    "data = tools.load_data(limit=40000, offset=2400000)"
   ]
  },
  {
   "cell_type": "code",
   "execution_count": null,
   "metadata": {
    "collapsed": false
   },
   "outputs": [],
   "source": [
    "grad = optimize.NaiveDescent(data)"
   ]
  },
  {
   "cell_type": "code",
   "execution_count": null,
   "metadata": {
    "collapsed": false
   },
   "outputs": [],
   "source": [
    "descent1 = grad.search_pfa(1.5, -2, step_size=3, maxiter=100, precision=0.005)"
   ]
  },
  {
   "cell_type": "code",
   "execution_count": null,
   "metadata": {
    "collapsed": false
   },
   "outputs": [],
   "source": [
    "descent2 = grad.search_pfa(5, 0.5, step_size=2.5, maxiter=100, precision=0.005)"
   ]
  },
  {
   "cell_type": "code",
   "execution_count": null,
   "metadata": {
    "collapsed": false
   },
   "outputs": [],
   "source": [
    "descent3 = grad.search_pfag(1.5, -2, step_size=20, maxiter=36, precision=0.005)"
   ]
  },
  {
   "cell_type": "code",
   "execution_count": null,
   "metadata": {
    "collapsed": false
   },
   "outputs": [],
   "source": [
    "elo = models.EloModel()\n",
    "pfa = models.PFAModel(elo, gamma=2.99622612646, delta=-0.476090204636)\n",
    "pfa_test = PerformanceTest(pfa, data)\n",
    "pfa_test.run()"
   ]
  },
  {
   "cell_type": "code",
   "execution_count": null,
   "metadata": {
    "collapsed": false
   },
   "outputs": [],
   "source": [
    "pfa_test.results['train']"
   ]
  },
  {
   "cell_type": "code",
   "execution_count": null,
   "metadata": {
    "collapsed": false
   },
   "outputs": [],
   "source": [
    "def annotate(descent, number, mark, xadd, yadd):\n",
    "    row = descent.params.loc[number]\n",
    "    grad = descent.grads.loc[number]\n",
    "    plt.annotate(r'$\\gamma={}$, $\\delta={}$'.format(round(row.gamma, 2), round(row.delta, 2)),\n",
    "                 xy=(number, grad), xycoords='data',\n",
    "                 xytext=(number + xadd, grad + yadd), textcoords='data',\n",
    "                 bbox=dict(boxstyle=\"round\", fc=\"w\"))\n",
    "    plt.plot(number, grad, mark)\n",
    "    \n",
    "#annotate(descent1, 1, 'go', 0.8, -0.006)\n",
    "#annotate(descent1, 10, 'go', 0.8, -0.006)\n",
    "annotate(descent1, 34, 'go', -8, -0.009)\n",
    "\n",
    "#annotate(descent3, 1, 'ro', 0.7, 0.004)\n",
    "#annotate(descent3, 11, 'ro', 0.8, 0.004)\n",
    "annotate(descent3, 20, 'ro', 0.8, 0.006)\n",
    "\n",
    "plt.xlabel('number of iteration')\n",
    "plt.ylabel('predicted - observed')\n",
    "\n",
    "plt.xlim([0, 35])\n",
    "plt.ylim([-0.08, 0.03])\n",
    "\n",
    "line1, = plt.plot(descent1.grads[:35], 'g', label=r'step size = $3$')\n",
    "line2, = plt.plot(descent3.grads[:36], 'r', label=r'step size = $20$')\n",
    "\n",
    "plt.legend(handles=[line1, line2], loc='lower right')\n",
    "\n",
    "plt.show()"
   ]
  },
  {
   "cell_type": "markdown",
   "metadata": {
    "collapsed": false
   },
   "source": [
    "# The Proper Way"
   ]
  },
  {
   "cell_type": "code",
   "execution_count": null,
   "metadata": {
    "collapsed": false
   },
   "outputs": [],
   "source": [
    "reload(tools)"
   ]
  },
  {
   "cell_type": "code",
   "execution_count": 10,
   "metadata": {
    "collapsed": false
   },
   "outputs": [
    {
     "name": "stdout",
     "output_type": "stream",
     "text": [
      "Loaded 81261 answers.\n"
     ]
    }
   ],
   "source": [
    "data = tools.load_data(limit=100000, offset=1500000)"
   ]
  },
  {
   "cell_type": "code",
   "execution_count": 11,
   "metadata": {
    "collapsed": false
   },
   "outputs": [
    {
     "name": "stdout",
     "output_type": "stream",
     "text": [
      "63470\n"
     ]
    }
   ],
   "source": [
    "data = data[~filters.classmates(data)]\n",
    "print len(data)"
   ]
  },
  {
   "cell_type": "code",
   "execution_count": 12,
   "metadata": {
    "collapsed": false
   },
   "outputs": [],
   "source": [
    "descent = optimize.GradientDescent(data)"
   ]
  },
  {
   "cell_type": "code",
   "execution_count": 13,
   "metadata": {
    "collapsed": false
   },
   "outputs": [
    {
     "name": "stdout",
     "output_type": "stream",
     "text": [
      "   2.50000    0.80000        inf\n",
      "   2.21528    0.51492    0.00409\n",
      "   2.24417    0.36329    0.00322\n",
      "   2.26565    0.36220    0.00314\n",
      "   2.28299    0.39082    0.00311\n",
      "   2.29586    0.42207    0.00309\n",
      "   2.30499    0.45019    0.00308\n",
      "   2.31129    0.47447    0.00308\n",
      "   2.31554    0.49537    0.00307\n",
      "   2.31833    0.51349    0.00306\n",
      "   2.32008    0.52934    0.00306\n",
      "   2.32109    0.54333    0.00305\n",
      "   2.32159    0.55576    0.00305\n",
      "   2.32173    0.56689    0.00305\n",
      "   2.32161    0.57689    0.00304\n",
      "   2.32132    0.58592    0.00304\n",
      "   2.32092    0.59411    0.00304\n",
      "   2.32045    0.60156    0.00304\n",
      "   2.31993    0.60835    0.00304\n",
      "   2.31938    0.61456    0.00304\n",
      "   2.31883    0.62025    0.00304\n"
     ]
    }
   ],
   "source": [
    "non_classmates = descent.search_staircase(init_learn_rate=0.015, number_of_iter=20)"
   ]
  },
  {
   "cell_type": "code",
   "execution_count": 14,
   "metadata": {
    "collapsed": false
   },
   "outputs": [
    {
     "data": {
      "text/plain": [
       "[<matplotlib.lines.Line2D at 0x7fe4cbb5d090>]"
      ]
     },
     "execution_count": 14,
     "metadata": {},
     "output_type": "execute_result"
    }
   ],
   "source": [
    "non_classmates.plot()"
   ]
  },
  {
   "cell_type": "code",
   "execution_count": 17,
   "metadata": {
    "collapsed": false
   },
   "outputs": [
    {
     "data": {
      "text/plain": [
       "<matplotlib.legend.Legend at 0x7fe4ca850350>"
      ]
     },
     "execution_count": 17,
     "metadata": {},
     "output_type": "execute_result"
    }
   ],
   "source": [
    "classmates_p, = classmates.plot(color='orange')\n",
    "non_classmates_p, = non_classmates.plot(color='#02A5F4')\n",
    "gamma_delta = '($\\gamma = {0[gamma]:.3f}, \\delta = -{0[delta]:.3f}$)'\n",
    "plt.legend([classmates_p, non_classmates_p],\n",
    "           [('Classmates ' + gamma_delta).format(classmates.best),\n",
    "            ('All the others ' + gamma_delta).format(non_classmates.best)])"
   ]
  },
  {
   "cell_type": "code",
   "execution_count": null,
   "metadata": {
    "collapsed": false
   },
   "outputs": [],
   "source": [
    "train_data = []\n",
    "for i in range(10):\n",
    "    limit, offset = 120000, i * 120000 + 1000000\n",
    "    df = tools.load_data(limit=limit, offset=offset, echo_loaded=False)\n",
    "    df = df[filters.for_staircase(df)]\n",
    "    train_data.append(df.copy())\n",
    "    tools.echo('[{}]: Loaded {} answers.'.format(i, len(df)), clear=False)\n",
    "\n",
    "tools.echo('Data loaded.')\n",
    "\n",
    "results = []\n",
    "for i in range(10):\n",
    "    descent = optimize.GradientDescent(train_data[i])\n",
    "    res = descent.search_staircase(init_learn_rate=0.01, number_of_iter=25,\n",
    "                                   echo_iterations=False)\n",
    "    results.append(res)\n",
    "    tools.echo('[{}]: done!'.format(i), clear=False)"
   ]
  },
  {
   "cell_type": "code",
   "execution_count": null,
   "metadata": {
    "collapsed": false
   },
   "outputs": [],
   "source": [
    "x_matrix = []\n",
    "y_matrix = []\n",
    "for res in results:\n",
    "    stairs = sorted(res.staircases[-1].items(), key=lambda x: x[0])\n",
    "    staircase_times = res.model.metadata['staircase_times']\n",
    "\n",
    "    xi_axis = [np.mean(staircase_times[i]) for i in res.intervals]\n",
    "    yi_axis = [value for interval, value in stairs]\n",
    "    \n",
    "    x_matrix.append(xi_axis)\n",
    "    y_matrix.append(yi_axis)\n",
    "\n",
    "x_axis = []\n",
    "y_axis = []\n",
    "e_vals = []\n",
    "for i in range(len(x_matrix[0])):\n",
    "    x_axis += [np.mean([x_matrix[j][i] for j in range(len(x_matrix))])]\n",
    "    y_axis += [np.mean([y_matrix[j][i] for j in range(len(x_matrix))])]\n",
    "    e_vals += [np.std([y_matrix[j][i] for j in range(len(x_matrix))]) / 2]\n",
    "\n",
    "plt.errorbar(x_axis, y_axis, e_vals,\n",
    "             ecolor='orange', elinewidth='2',\n",
    "             linestyle='--', linewidth='2',\n",
    "             capthick='2', capsize=4,\n",
    "             color='#02A5F4', marker='o')\n",
    "\n",
    "plt.xscale('log')\n",
    "plt.xlabel('Time from previous attempt in seconds.')\n",
    "plt.ylabel('Memory activation')\n",
    "\n",
    "plt.show()"
   ]
  },
  {
   "cell_type": "code",
   "execution_count": null,
   "metadata": {
    "collapsed": false
   },
   "outputs": [],
   "source": [
    "gamma_std = np.mean([res.gammas[-1] for res in results])\n",
    "delta_std = np.mean([res.deltas[-1] for res in results])\n",
    "tools.echo('gamma={:.3f}, delta={:.3f}'.format(gamma_std, delta_std), clear=False)"
   ]
  },
  {
   "cell_type": "code",
   "execution_count": null,
   "metadata": {
    "collapsed": true
   },
   "outputs": [],
   "source": []
  }
 ],
 "metadata": {
  "kernelspec": {
   "display_name": "Python 2",
   "language": "python",
   "name": "python2"
  },
  "language_info": {
   "codemirror_mode": {
    "name": "ipython",
    "version": 2
   },
   "file_extension": ".py",
   "mimetype": "text/x-python",
   "name": "python",
   "nbconvert_exporter": "python",
   "pygments_lexer": "ipython2",
   "version": "2.7.6"
  }
 },
 "nbformat": 4,
 "nbformat_minor": 0
}
