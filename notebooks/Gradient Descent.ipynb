{
 "metadata": {
  "name": "",
  "signature": "sha256:85354d40f8ba38c353d3233d3fe9e23a88706699a9188a3259f462cdffc62172"
 },
 "nbformat": 3,
 "nbformat_minor": 0,
 "worksheets": [
  {
   "cells": [
    {
     "cell_type": "code",
     "collapsed": false,
     "input": [
      "%matplotlib qt4\n",
      "from __future__ import division\n",
      "\n",
      "from models import tools, optimize, models\n",
      "from models.tests import PerformanceTest\n",
      "\n",
      "import numpy as np\n",
      "import pandas as pd\n",
      "import matplotlib.pyplot as plt"
     ],
     "language": "python",
     "metadata": {},
     "outputs": [],
     "prompt_number": 1
    },
    {
     "cell_type": "code",
     "collapsed": false,
     "input": [
      "data = tools.load_data(limit=5000, offset=1900000)\n",
      "#data = data[data['number_of_options'] == 0]\n",
      "print len(data)"
     ],
     "language": "python",
     "metadata": {},
     "outputs": [
      {
       "output_type": "stream",
       "stream": "stdout",
       "text": [
        "5000\n"
       ]
      }
     ],
     "prompt_number": 2
    },
    {
     "cell_type": "code",
     "collapsed": false,
     "input": [
      "grad = optimize.GradientDescent(data)"
     ],
     "language": "python",
     "metadata": {},
     "outputs": [],
     "prompt_number": 19
    },
    {
     "cell_type": "code",
     "collapsed": false,
     "input": [
      "descent1 = grad.search_pfa(1.5, -2, step_size=3, maxiter=100, precision=0.005)"
     ],
     "language": "python",
     "metadata": {},
     "outputs": [
      {
       "output_type": "stream",
       "stream": "stdout",
       "text": [
        "gamma: 3.18298528419; grad: -0.000741008113952\n",
        "delta: -0.303539220688; grad: -0.000729927486385\n"
       ]
      }
     ],
     "prompt_number": 20
    },
    {
     "cell_type": "code",
     "collapsed": false,
     "input": [
      "descent2 = grad.search_pfa(5, 0.5, step_size=2.5, maxiter=100, precision=0.005)"
     ],
     "language": "python",
     "metadata": {},
     "outputs": [
      {
       "output_type": "stream",
       "stream": "stdout",
       "text": [
        "gamma: 3.80556357186; grad: 0.000890172684958\n",
        "delta: -0.678034006194; grad: 0.000878019898582\n"
       ]
      }
     ],
     "prompt_number": 46
    },
    {
     "cell_type": "code",
     "collapsed": false,
     "input": [
      "descent3 = grad.search_pfag(1.5, -2, step_size=20, maxiter=36, precision=0.005)"
     ],
     "language": "python",
     "metadata": {},
     "outputs": [
      {
       "output_type": "stream",
       "stream": "stdout",
       "text": [
        "gamma: 1.85300525851; grad: 0.000260020806278\n",
        "delta: -1.57543851455; grad: 0.000284481491125\n"
       ]
      }
     ],
     "prompt_number": 93
    },
    {
     "cell_type": "code",
     "collapsed": false,
     "input": [
      "elo = models.EloModel()\n",
      "pfa = models.PFAModel(elo, gamma=2.99622612646, delta=-0.476090204636)\n",
      "pfa_test = PerformanceTest(pfa, data)\n",
      "pfa_test.run()"
     ],
     "language": "python",
     "metadata": {},
     "outputs": [],
     "prompt_number": 37
    },
    {
     "cell_type": "code",
     "collapsed": false,
     "input": [
      "pfa_test.results['train']"
     ],
     "language": "python",
     "metadata": {},
     "outputs": [
      {
       "metadata": {},
       "output_type": "pyout",
       "prompt_number": 38,
       "text": [
        "RMSE: 0.361919204016\n",
        "AUC: 0.787337458274\n",
        "OFF: -6.24923069748e-05\n",
        "Set Size: 50000"
       ]
      }
     ],
     "prompt_number": 38
    },
    {
     "cell_type": "code",
     "collapsed": false,
     "input": [
      "def annotate(descent, number, mark, xadd, yadd):\n",
      "    row = descent.params.loc[number]\n",
      "    grad = descent.grads.loc[number]\n",
      "    plt.annotate(r'$\\gamma={}$, $\\delta={}$'.format(round(row.gamma, 2), round(row.delta, 2)),\n",
      "                 xy=(number, grad), xycoords='data',\n",
      "                 xytext=(number + xadd, grad + yadd), textcoords='data',\n",
      "                 bbox=dict(boxstyle=\"round\", fc=\"w\"))\n",
      "    plt.plot(number, grad, mark)\n",
      "    \n",
      "#annotate(descent1, 1, 'go', 0.8, -0.006)\n",
      "#annotate(descent1, 10, 'go', 0.8, -0.006)\n",
      "annotate(descent1, 34, 'go', -8, -0.009)\n",
      "\n",
      "#annotate(descent3, 1, 'ro', 0.7, 0.004)\n",
      "#annotate(descent3, 11, 'ro', 0.8, 0.004)\n",
      "annotate(descent3, 20, 'ro', 0.8, 0.006)\n",
      "\n",
      "plt.xlabel('number of iteration')\n",
      "plt.ylabel('predicted - observed')\n",
      "\n",
      "plt.xlim([0, 35])\n",
      "plt.ylim([-0.08, 0.03])\n",
      "\n",
      "line1, = plt.plot(descent1.grads[:35], 'g', label=r'step size = $3$')\n",
      "line2, = plt.plot(descent3.grads[:36], 'r', label=r'step size = $20$')\n",
      "\n",
      "plt.legend(handles=[line1, line2], loc='lower right')\n",
      "\n",
      "plt.show()"
     ],
     "language": "python",
     "metadata": {},
     "outputs": [],
     "prompt_number": 120
    },
    {
     "cell_type": "code",
     "collapsed": false,
     "input": [],
     "language": "python",
     "metadata": {},
     "outputs": []
    }
   ],
   "metadata": {}
  }
 ]
}