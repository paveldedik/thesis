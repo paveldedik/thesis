{
 "cells": [
  {
   "cell_type": "code",
   "execution_count": 1,
   "metadata": {
    "collapsed": false
   },
   "outputs": [],
   "source": [
    "%matplotlib qt4\n",
    "from __future__ import division\n",
    "\n",
    "from models import tools, optimize, models, filters\n",
    "from models.tests import PerformanceTest\n",
    "\n",
    "import numpy as np\n",
    "import pandas as pd\n",
    "import matplotlib as mpl\n",
    "import matplotlib.pyplot as plt\n",
    "\n",
    "mpl.rcParams['axes.color_cycle'] = ['#02A5F4', 'orange', 'green']"
   ]
  },
  {
   "cell_type": "markdown",
   "metadata": {},
   "source": [
    "# The Naive Way"
   ]
  },
  {
   "cell_type": "code",
   "execution_count": null,
   "metadata": {
    "collapsed": false
   },
   "outputs": [],
   "source": [
    "data = tools.load_data(limit=40000, offset=2400000)"
   ]
  },
  {
   "cell_type": "code",
   "execution_count": null,
   "metadata": {
    "collapsed": false
   },
   "outputs": [],
   "source": [
    "grad = optimize.NaiveDescent(data)"
   ]
  },
  {
   "cell_type": "code",
   "execution_count": null,
   "metadata": {
    "collapsed": false
   },
   "outputs": [],
   "source": [
    "descent1 = grad.search_pfa(1.5, -2, step_size=3, maxiter=100, precision=0.005)"
   ]
  },
  {
   "cell_type": "code",
   "execution_count": null,
   "metadata": {
    "collapsed": false
   },
   "outputs": [],
   "source": [
    "descent2 = grad.search_pfa(5, 0.5, step_size=2.5, maxiter=100, precision=0.005)"
   ]
  },
  {
   "cell_type": "code",
   "execution_count": null,
   "metadata": {
    "collapsed": false
   },
   "outputs": [],
   "source": [
    "descent3 = grad.search_pfag(1.5, -2, step_size=20, maxiter=36, precision=0.005)"
   ]
  },
  {
   "cell_type": "code",
   "execution_count": null,
   "metadata": {
    "collapsed": false
   },
   "outputs": [],
   "source": [
    "elo = models.EloModel()\n",
    "pfa = models.PFAModel(elo, gamma=2.99622612646, delta=-0.476090204636)\n",
    "pfa_test = PerformanceTest(pfa, data)\n",
    "pfa_test.run()"
   ]
  },
  {
   "cell_type": "code",
   "execution_count": null,
   "metadata": {
    "collapsed": false
   },
   "outputs": [],
   "source": [
    "pfa_test.results['train']"
   ]
  },
  {
   "cell_type": "code",
   "execution_count": null,
   "metadata": {
    "collapsed": false
   },
   "outputs": [],
   "source": [
    "def annotate(descent, number, mark, xadd, yadd):\n",
    "    row = descent.params.loc[number]\n",
    "    grad = descent.grads.loc[number]\n",
    "    plt.annotate(r'$\\gamma={}$, $\\delta={}$'.format(round(row.gamma, 2), round(row.delta, 2)),\n",
    "                 xy=(number, grad), xycoords='data',\n",
    "                 xytext=(number + xadd, grad + yadd), textcoords='data',\n",
    "                 bbox=dict(boxstyle=\"round\", fc=\"w\"))\n",
    "    plt.plot(number, grad, mark)\n",
    "    \n",
    "#annotate(descent1, 1, 'go', 0.8, -0.006)\n",
    "#annotate(descent1, 10, 'go', 0.8, -0.006)\n",
    "annotate(descent1, 34, 'go', -8, -0.009)\n",
    "\n",
    "#annotate(descent3, 1, 'ro', 0.7, 0.004)\n",
    "#annotate(descent3, 11, 'ro', 0.8, 0.004)\n",
    "annotate(descent3, 20, 'ro', 0.8, 0.006)\n",
    "\n",
    "plt.xlabel('number of iteration')\n",
    "plt.ylabel('predicted - observed')\n",
    "\n",
    "plt.xlim([0, 35])\n",
    "plt.ylim([-0.08, 0.03])\n",
    "\n",
    "line1, = plt.plot(descent1.grads[:35], 'g', label=r'step size = $3$')\n",
    "line2, = plt.plot(descent3.grads[:36], 'r', label=r'step size = $20$')\n",
    "\n",
    "plt.legend(handles=[line1, line2], loc='lower right')\n",
    "\n",
    "plt.show()"
   ]
  },
  {
   "cell_type": "markdown",
   "metadata": {
    "collapsed": false
   },
   "source": [
    "# The Proper Way"
   ]
  },
  {
   "cell_type": "code",
   "execution_count": 5,
   "metadata": {
    "collapsed": false
   },
   "outputs": [
    {
     "data": {
      "text/plain": [
       "<module 'models.filters' from '/home/pavel/Projects/thesis/models/filters.py'>"
      ]
     },
     "execution_count": 5,
     "metadata": {},
     "output_type": "execute_result"
    }
   ],
   "source": [
    "reload(filters)"
   ]
  },
  {
   "cell_type": "code",
   "execution_count": 25,
   "metadata": {
    "collapsed": false
   },
   "outputs": [
    {
     "name": "stdout",
     "output_type": "stream",
     "text": [
      "Loaded 972028 answers.\n"
     ]
    }
   ],
   "source": [
    "data = tools.load_data(limit=1000000, offset=1500000)"
   ]
  },
  {
   "cell_type": "code",
   "execution_count": 29,
   "metadata": {
    "collapsed": false
   },
   "outputs": [
    {
     "name": "stdout",
     "output_type": "stream",
     "text": [
      "78027\n"
     ]
    }
   ],
   "source": [
    "data_spaced = data[filters.spaced_presentations(data)]\n",
    "print len(data_spaced)"
   ]
  },
  {
   "cell_type": "code",
   "execution_count": 30,
   "metadata": {
    "collapsed": false
   },
   "outputs": [
    {
     "name": "stdout",
     "output_type": "stream",
     "text": [
      "75162\n"
     ]
    }
   ],
   "source": [
    "data_massed = data[filters.massed_presentations(data)]\n",
    "print len(data_massed)"
   ]
  },
  {
   "cell_type": "code",
   "execution_count": 32,
   "metadata": {
    "collapsed": false
   },
   "outputs": [],
   "source": [
    "descents = {\n",
    "    'Spaced Presentations': (optimize.GradientDescent(data_spaced), {}),\n",
    "    'Massed Presentations': (optimize.GradientDescent(data_massed), {}),\n",
    "}"
   ]
  },
  {
   "cell_type": "code",
   "execution_count": 33,
   "metadata": {
    "collapsed": false,
    "scrolled": false
   },
   "outputs": [
    {
     "name": "stdout",
     "output_type": "stream",
     "text": [
      "Spaced Presentations\n",
      "   2.50000    0.80000        inf\n",
      "   2.63886    1.22040    0.00072\n",
      "   2.39013    1.30804    0.00048\n",
      "   2.25814    1.35747    0.00043\n",
      "   2.17414    1.35478    0.00042\n",
      "   2.12339    1.32521    0.00041\n",
      "   2.09250    1.28376    0.00040\n",
      "   2.07337    1.23897    0.00039\n",
      "   2.06142    1.19527    0.00039\n",
      "   2.05396    1.15464    0.00038\n",
      "   2.04938    1.11780    0.00037\n",
      "   2.04662    1.08480    0.00037\n",
      "   2.04501    1.05542    0.00036\n",
      "   2.04410    1.02934    0.00035\n",
      "   2.04357    1.00621    0.00035\n",
      "   2.04323    0.98573    0.00034\n",
      "   2.04293    0.96759    0.00034\n",
      "   2.04259    0.95153    0.00033\n",
      "   2.04216    0.93732    0.00033\n",
      "   2.04161    0.92477    0.00032\n",
      "   2.04092    0.91369    0.00032\n",
      "Massed Presentations\n",
      "   2.50000    0.80000        inf\n",
      "   2.82707    1.70931   -0.00139\n",
      "   2.80447    1.46832   -0.00189\n",
      "   2.81617    1.27605   -0.00162\n",
      "   2.81853    1.15835   -0.00154\n",
      "   2.81909    1.08448   -0.00152\n",
      "   2.82028    1.03651   -0.00152\n",
      "   2.82209    1.00476   -0.00152\n",
      "   2.82406    0.98374   -0.00152\n",
      "   2.82579    0.97010   -0.00153\n",
      "   2.82707    0.96169   -0.00154\n",
      "   2.82785    0.95704   -0.00155\n",
      "   2.82812    0.95514   -0.00156\n",
      "   2.82795    0.95525   -0.00157\n",
      "   2.82740    0.95681   -0.00157\n",
      "   2.82655    0.95943   -0.00158\n",
      "   2.82546    0.96279   -0.00159\n",
      "   2.82420    0.96666   -0.00159\n",
      "   2.82281    0.97087   -0.00160\n",
      "   2.82135    0.97528   -0.00160\n",
      "   2.81984    0.97978   -0.00161\n"
     ]
    }
   ],
   "source": [
    "dresults = {}\n",
    "for name, (descent, kwargs),  in descents.items():\n",
    "    tools.echo(name, clear=False)\n",
    "    dresults[name] = descent.search_staircase(\n",
    "        init_learn_rate=0.015,\n",
    "        number_of_iter=20,\n",
    "        **kwargs\n",
    "    )"
   ]
  },
  {
   "cell_type": "code",
   "execution_count": 36,
   "metadata": {
    "collapsed": false
   },
   "outputs": [],
   "source": [
    "plots = []\n",
    "for name, dresult in dresults.items():\n",
    "    p, = dresult.plot()\n",
    "    plots += [(name, p, dresult)]\n",
    "\n",
    "if len(plots) > 1:\n",
    "    gamma_delta = ' ($\\gamma = {0[gamma]:.3f}, \\delta = -{0[delta]:.3f}$)'\n",
    "    plt.legend([item[1] for item in plots],\n",
    "               [n + gamma_delta.format(r.best) for n, p, r in plots])"
   ]
  },
  {
   "cell_type": "markdown",
   "metadata": {},
   "source": [
    "### 10 Runs with Std Err"
   ]
  },
  {
   "cell_type": "code",
   "execution_count": 7,
   "metadata": {
    "collapsed": false
   },
   "outputs": [
    {
     "name": "stdout",
     "output_type": "stream",
     "text": [
      "[0]: Loaded 73626 answers.\n",
      "[1]: Loaded 55088 answers.\n",
      "[2]: Loaded 57805 answers.\n",
      "[3]: Loaded 69797 answers.\n",
      "[4]: Loaded 66576 answers.\n",
      "[5]: Loaded 80221 answers.\n",
      "[6]: Loaded 58058 answers.\n",
      "Data loaded.\n",
      "[0]: done!\n",
      "[1]: done!\n",
      "[2]: done!\n",
      "[3]: done!\n",
      "[4]: done!\n",
      "[5]: done!\n",
      "[6]: done!\n"
     ]
    },
    {
     "name": "stderr",
     "output_type": "stream",
     "text": [
      "/home/pavel/.pyenv/al/local/lib/python2.7/site-packages/pandas/io/parsers.py:1159: DtypeWarning: Columns (10) have mixed types. Specify dtype option on import or set low_memory=False.\n",
      "  data = self._reader.read(nrows)\n"
     ]
    }
   ],
   "source": [
    "train_data = []\n",
    "for i in range(7):\n",
    "    limit, offset = 4e5, i * 1e6 + 4e5\n",
    "    df = tools.load_data(limit=limit, offset=offset, echo_loaded=False)\n",
    "    df = df[filters.massed_presentations(df)]\n",
    "    train_data.append(df.copy())\n",
    "    tools.echo('[{}]: Loaded {} answers.'.format(i, len(df)), clear=False)\n",
    "\n",
    "tools.echo('Data loaded.', clear=False)\n",
    "\n",
    "results_massed = []\n",
    "for i in range(7):\n",
    "    descent = optimize.GradientDescent(train_data[i])\n",
    "    res = descent.search_staircase(init_learn_rate=0.02, number_of_iter=15,\n",
    "                                   echo_iterations=False, random_factor=1,\n",
    "                                   random_chance=20)\n",
    "    results_massed.append(res)\n",
    "    tools.echo('[{}]: done!'.format(i), clear=False)"
   ]
  },
  {
   "cell_type": "code",
   "execution_count": 38,
   "metadata": {
    "collapsed": false
   },
   "outputs": [],
   "source": [
    "def prepare_plot_data(descent_results):\n",
    "    x_matrix = []\n",
    "    y_matrix = []\n",
    "    for res in descent_results:\n",
    "        stairs = sorted(res.staircases[-1].items(), key=lambda x: x[0])\n",
    "        staircase_times = res.model.metadata['staircase_times']\n",
    "\n",
    "        xi_axis = [np.mean(staircase_times[i]) for i in res.intervals]\n",
    "        yi_axis = [value for interval, value in stairs]\n",
    "\n",
    "        x_matrix.append(xi_axis)\n",
    "        y_matrix.append(yi_axis)\n",
    "\n",
    "    x_axis = []\n",
    "    y_axis = []\n",
    "    e_vals = []\n",
    "    for i in range(len(x_matrix[0])):\n",
    "        x_axis += [np.mean([x_matrix[j][i] for j in range(len(x_matrix))])]\n",
    "        y_axis += [np.mean([y_matrix[j][i] for j in range(len(x_matrix))])]\n",
    "        e_vals += [np.std([y_matrix[j][i] for j in range(len(x_matrix))]) / 2.]\n",
    "    \n",
    "    return x_axis, y_axis, e_vals\n",
    "\n",
    "x_spaced_axis, y_spaced_axis, _ = prepare_plot_data(results_spaced)\n",
    "x_massed_axis, y_massed_axis, _ = prepare_plot_data(results_massed)\n",
    "\n",
    "plt.figure(num=None, figsize=(8, 6), dpi=160)\n",
    "#plt.errorbar(x_axis, y_axis, e_vals,\n",
    "#             ecolor='orange', elinewidth='2',\n",
    "#             linestyle='--', linewidth='2',\n",
    "#             capthick='2', capsize=4,\n",
    "#             color='#02A5F4', marker='o')\n",
    "p1, p2 = plt.plot(x_spaced_axis, y_spaced_axis, 'o-',\n",
    "                  x_massed_axis, y_massed_axis, 's-')\n",
    "\n",
    "plt.xscale('log')\n",
    "plt.xlabel('Time from previous attempt in seconds')\n",
    "plt.ylabel('Increase in memory activation')\n",
    "plt.xlim([30, 1e6])\n",
    "\n",
    "plt.legend([p1, p2], [\n",
    "    'Spaced $\\gamma = {avg[0]:.2f}, \\delta = {avg[1]:.2f}$'.format(**spaced_gamma_delta),\n",
    "    'Massed $\\gamma = {avg[0]:.2f}, \\delta = {avg[1]:.2f}$'.format(**massed_gamma_delta),\n",
    "])\n",
    "\n",
    "plt.show()\n",
    "plt.tight_layout()"
   ]
  },
  {
   "cell_type": "code",
   "execution_count": 39,
   "metadata": {
    "collapsed": false
   },
   "outputs": [],
   "source": [
    "def get_gamma_delta(descent_results):\n",
    "    gamma_std = np.std([res.gammas[-1] for res in descent_results])\n",
    "    delta_std = np.std([res.deltas[-1] for res in descent_results])\n",
    "    gamma_mean = np.mean([res.gammas[-1] for res in descent_results])\n",
    "    delta_mean = np.mean([res.deltas[-1] for res in descent_results])\n",
    "    tools.echo('std: gamma={:.3f}, delta={:.3f}'.format(gamma_std, delta_std), clear=False)\n",
    "    tools.echo('avg: gamma={:.3f}, delta={:.3f}'.format(gamma_mean, delta_mean), clear=False)\n",
    "    return {\n",
    "        'std': [gamma_std, delta_std],\n",
    "        'avg': [gamma_mean, delta_mean],\n",
    "    }\n",
    "spaced_gamma_delta = get_gamma_delta(results_spaced)\n",
    "massed_gamma_delta = get_gamma_delta(results_massed)"
   ]
  },
  {
   "cell_type": "code",
   "execution_count": null,
   "metadata": {
    "collapsed": true
   },
   "outputs": [],
   "source": []
  }
 ],
 "metadata": {
  "kernelspec": {
   "display_name": "Python 2",
   "language": "python",
   "name": "python2"
  },
  "language_info": {
   "codemirror_mode": {
    "name": "ipython",
    "version": 2
   },
   "file_extension": ".py",
   "mimetype": "text/x-python",
   "name": "python",
   "nbconvert_exporter": "python",
   "pygments_lexer": "ipython2",
   "version": "2.7.6"
  }
 },
 "nbformat": 4,
 "nbformat_minor": 0
}
