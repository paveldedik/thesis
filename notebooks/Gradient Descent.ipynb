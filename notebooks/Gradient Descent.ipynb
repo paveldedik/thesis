{
 "cells": [
  {
   "cell_type": "code",
   "execution_count": 1,
   "metadata": {
    "collapsed": false
   },
   "outputs": [
    {
     "name": "stderr",
     "output_type": "stream",
     "text": [
      "/home/pavel/.pyenv/al/local/lib/python2.7/site-packages/matplotlib/__init__.py:872: UserWarning: axes.color_cycle is deprecated and replaced with axes.prop_cycle; please use the latter.\n",
      "  warnings.warn(self.msg_depr % (key, alt_key))\n"
     ]
    }
   ],
   "source": [
    "%matplotlib qt4\n",
    "from __future__ import division\n",
    "\n",
    "from collections import defaultdict\n",
    "\n",
    "from models import tools, optimize, models, filters\n",
    "from models.tests import PerformanceTest\n",
    "\n",
    "import numpy as np\n",
    "import pandas as pd\n",
    "import matplotlib as mpl\n",
    "import matplotlib.pyplot as plt\n",
    "\n",
    "mpl.rcParams['axes.color_cycle'] = ['#02A5F4', 'orange', 'green']"
   ]
  },
  {
   "cell_type": "markdown",
   "metadata": {},
   "source": [
    "# The Naive Way"
   ]
  },
  {
   "cell_type": "code",
   "execution_count": null,
   "metadata": {
    "collapsed": false
   },
   "outputs": [],
   "source": [
    "data = tools.load_data(limit=40000, offset=2400000)"
   ]
  },
  {
   "cell_type": "code",
   "execution_count": null,
   "metadata": {
    "collapsed": false
   },
   "outputs": [],
   "source": [
    "grad = optimize.NaiveDescent(data)"
   ]
  },
  {
   "cell_type": "code",
   "execution_count": null,
   "metadata": {
    "collapsed": false
   },
   "outputs": [],
   "source": [
    "descent1 = grad.search_pfae(1.5, -2, step_size=3, maxiter=100, precision=0.005)"
   ]
  },
  {
   "cell_type": "code",
   "execution_count": null,
   "metadata": {
    "collapsed": false
   },
   "outputs": [],
   "source": [
    "descent2 = grad.search_pfae(5, 0.5, step_size=2.5, maxiter=100, precision=0.005)"
   ]
  },
  {
   "cell_type": "code",
   "execution_count": null,
   "metadata": {
    "collapsed": false
   },
   "outputs": [],
   "source": [
    "descent3 = grad.search_pfag(1.5, -2, step_size=20, maxiter=36, precision=0.005)"
   ]
  },
  {
   "cell_type": "code",
   "execution_count": null,
   "metadata": {
    "collapsed": false
   },
   "outputs": [],
   "source": [
    "elo = models.EloModel()\n",
    "pfae = models.PFAExt(elo, gamma=2.99622612646, delta=-0.476090204636)\n",
    "pfae_test = PerformanceTest(pfae, data)\n",
    "pfae_test.run()"
   ]
  },
  {
   "cell_type": "code",
   "execution_count": null,
   "metadata": {
    "collapsed": false
   },
   "outputs": [],
   "source": [
    "pfae_test.results['train']"
   ]
  },
  {
   "cell_type": "code",
   "execution_count": null,
   "metadata": {
    "collapsed": false
   },
   "outputs": [],
   "source": [
    "def annotate(descent, number, mark, xadd, yadd):\n",
    "    row = descent.params.loc[number]\n",
    "    grad = descent.grads.loc[number]\n",
    "    plt.annotate(r'$\\gamma={}$, $\\delta={}$'.format(round(row.gamma, 2), round(row.delta, 2)),\n",
    "                 xy=(number, grad), xycoords='data',\n",
    "                 xytext=(number + xadd, grad + yadd), textcoords='data',\n",
    "                 bbox=dict(boxstyle=\"round\", fc=\"w\"))\n",
    "    plt.plot(number, grad, mark)\n",
    "    \n",
    "#annotate(descent1, 1, 'go', 0.8, -0.006)\n",
    "#annotate(descent1, 10, 'go', 0.8, -0.006)\n",
    "annotate(descent1, 34, 'go', -8, -0.009)\n",
    "\n",
    "#annotate(descent3, 1, 'ro', 0.7, 0.004)\n",
    "#annotate(descent3, 11, 'ro', 0.8, 0.004)\n",
    "annotate(descent3, 20, 'ro', 0.8, 0.006)\n",
    "\n",
    "plt.xlabel('number of iteration')\n",
    "plt.ylabel('predicted - observed')\n",
    "\n",
    "plt.xlim([0, 35])\n",
    "plt.ylim([-0.08, 0.03])\n",
    "\n",
    "line1, = plt.plot(descent1.grads[:35], 'g', label=r'step size = $3$')\n",
    "line2, = plt.plot(descent3.grads[:36], 'r', label=r'step size = $20$')\n",
    "\n",
    "plt.legend(handles=[line1, line2], loc='lower right')\n",
    "\n",
    "plt.show()"
   ]
  },
  {
   "cell_type": "markdown",
   "metadata": {
    "collapsed": false
   },
   "source": [
    "# The Proper Way"
   ]
  },
  {
   "cell_type": "code",
   "execution_count": 5,
   "metadata": {
    "collapsed": false
   },
   "outputs": [
    {
     "data": {
      "text/plain": [
       "<module 'models.filters' from '/home/pavel/Projects/thesis/models/filters.py'>"
      ]
     },
     "execution_count": 5,
     "metadata": {},
     "output_type": "execute_result"
    }
   ],
   "source": [
    "reload(filters)"
   ]
  },
  {
   "cell_type": "code",
   "execution_count": 3,
   "metadata": {
    "collapsed": false
   },
   "outputs": [
    {
     "name": "stdout",
     "output_type": "stream",
     "text": [
      "Loaded 972028 answers.\n"
     ]
    }
   ],
   "source": [
    "data = tools.load_data(limit=1000000, offset=1500000)"
   ]
  },
  {
   "cell_type": "code",
   "execution_count": 4,
   "metadata": {
    "collapsed": false
   },
   "outputs": [
    {
     "name": "stdout",
     "output_type": "stream",
     "text": [
      "117191\n"
     ]
    }
   ],
   "source": [
    "data1 = data[filters.classmates(data)]\n",
    "print len(data1)"
   ]
  },
  {
   "cell_type": "code",
   "execution_count": 5,
   "metadata": {
    "collapsed": false
   },
   "outputs": [
    {
     "name": "stdout",
     "output_type": "stream",
     "text": [
      "854837\n"
     ]
    }
   ],
   "source": [
    "data2 = data[~filters.classmates(data)]\n",
    "print len(data2)"
   ]
  },
  {
   "cell_type": "code",
   "execution_count": 32,
   "metadata": {
    "collapsed": false
   },
   "outputs": [],
   "source": [
    "descents = {\n",
    "    'In-School': (optimize.GradientDescent(data1), {}),\n",
    "    'Out-of-School': (optimize.GradientDescent(data2), {}),\n",
    "}"
   ]
  },
  {
   "cell_type": "code",
   "execution_count": 33,
   "metadata": {
    "collapsed": false,
    "scrolled": false
   },
   "outputs": [
    {
     "name": "stdout",
     "output_type": "stream",
     "text": [
      "Spaced Presentations\n",
      "   2.50000    0.80000        inf\n",
      "   2.63886    1.22040    0.00072\n",
      "   2.39013    1.30804    0.00048\n",
      "   2.25814    1.35747    0.00043\n",
      "   2.17414    1.35478    0.00042\n",
      "   2.12339    1.32521    0.00041\n",
      "   2.09250    1.28376    0.00040\n",
      "   2.07337    1.23897    0.00039\n",
      "   2.06142    1.19527    0.00039\n",
      "   2.05396    1.15464    0.00038\n",
      "   2.04938    1.11780    0.00037\n",
      "   2.04662    1.08480    0.00037\n",
      "   2.04501    1.05542    0.00036\n",
      "   2.04410    1.02934    0.00035\n",
      "   2.04357    1.00621    0.00035\n",
      "   2.04323    0.98573    0.00034\n",
      "   2.04293    0.96759    0.00034\n",
      "   2.04259    0.95153    0.00033\n",
      "   2.04216    0.93732    0.00033\n",
      "   2.04161    0.92477    0.00032\n",
      "   2.04092    0.91369    0.00032\n",
      "Massed Presentations\n",
      "   2.50000    0.80000        inf\n",
      "   2.82707    1.70931   -0.00139\n",
      "   2.80447    1.46832   -0.00189\n",
      "   2.81617    1.27605   -0.00162\n",
      "   2.81853    1.15835   -0.00154\n",
      "   2.81909    1.08448   -0.00152\n",
      "   2.82028    1.03651   -0.00152\n",
      "   2.82209    1.00476   -0.00152\n",
      "   2.82406    0.98374   -0.00152\n",
      "   2.82579    0.97010   -0.00153\n",
      "   2.82707    0.96169   -0.00154\n",
      "   2.82785    0.95704   -0.00155\n",
      "   2.82812    0.95514   -0.00156\n",
      "   2.82795    0.95525   -0.00157\n",
      "   2.82740    0.95681   -0.00157\n",
      "   2.82655    0.95943   -0.00158\n",
      "   2.82546    0.96279   -0.00159\n",
      "   2.82420    0.96666   -0.00159\n",
      "   2.82281    0.97087   -0.00160\n",
      "   2.82135    0.97528   -0.00160\n",
      "   2.81984    0.97978   -0.00161\n"
     ]
    }
   ],
   "source": [
    "dresults = {}\n",
    "for name, (descent, kwargs),  in descents.items():\n",
    "    tools.echo(name, clear=False)\n",
    "    dresults[name] = descent.search_staircase(\n",
    "        init_learn_rate=0.015,\n",
    "        number_of_iter=20,\n",
    "        **kwargs\n",
    "    )"
   ]
  },
  {
   "cell_type": "code",
   "execution_count": 36,
   "metadata": {
    "collapsed": false
   },
   "outputs": [],
   "source": [
    "plots = []\n",
    "for name, dresult in dresults.items():\n",
    "    p, = dresult.plot()\n",
    "    plots += [(name, p, dresult)]\n",
    "\n",
    "if len(plots) > 1:\n",
    "    gamma_delta = ' ($\\gamma = {0[gamma]:.3f}, \\delta = -{0[delta]:.3f}$)'\n",
    "    plt.legend([item[1] for item in plots],\n",
    "               [n + gamma_delta.format(r.best) for n, p, r in plots])"
   ]
  },
  {
   "cell_type": "markdown",
   "metadata": {},
   "source": [
    "### 10 Runs with Std Err"
   ]
  },
  {
   "cell_type": "code",
   "execution_count": 2,
   "metadata": {
    "collapsed": false
   },
   "outputs": [
    {
     "name": "stdout",
     "output_type": "stream",
     "text": [
      "Out-of-School\n",
      "[0]: Loaded 50000 answers.\n",
      "[1]: Loaded 50000 answers.\n",
      "[2]: Loaded 50000 answers.\n",
      "[3]: Loaded 50000 answers.\n",
      "[4]: Loaded 50000 answers.\n",
      "[5]: Loaded 50000 answers.\n",
      "[6]: Loaded 50000 answers.\n",
      "Data loaded.\n",
      "[0]: done!\n",
      "[1]: done!\n",
      "[2]: done!\n",
      "[3]: done!\n",
      "[4]: done!\n",
      "[5]: done!\n",
      "[6]: done!\n",
      "In-School\n",
      "[0]: Loaded 50000 answers.\n",
      "[1]: Loaded 50000 answers.\n",
      "[2]: Loaded 50000 answers.\n",
      "[3]: Loaded 50000 answers.\n",
      "[4]: Loaded 50000 answers.\n",
      "[5]: Loaded 50000 answers.\n",
      "[6]: Loaded 50000 answers.\n",
      "Data loaded.\n",
      "[0]: done!\n",
      "[1]: done!\n",
      "[2]: done!\n",
      "[3]: done!\n",
      "[4]: done!\n",
      "[5]: done!\n",
      "[6]: done!\n"
     ]
    }
   ],
   "source": [
    "slices = 7\n",
    "descents_10 = {\n",
    "    'In-School': (optimize.GradientDescent, lambda d: filters.classmates(d), 4),\n",
    "    'Out-of-School': (optimize.GradientDescent, lambda d: ~filters.classmates(d), 1),\n",
    "}\n",
    "\n",
    "dresults_10 = defaultdict(list)\n",
    "\n",
    "for name, (Descent, filter_fun, mul),  in descents_10.items():\n",
    "    tools.echo(name, clear=False)\n",
    "\n",
    "    train_data = []\n",
    "    for i in range(slices):\n",
    "        limit, offset = 4e5 * mul, (i * 1e6) + 4e5 + (4e5 * mul)\n",
    "        df = tools.load_data(limit=limit, offset=offset, echo_loaded=False)\n",
    "        df = df[filter_fun(df)][:50000]\n",
    "        train_data.append(df.copy())\n",
    "        tools.echo('[{}]: Loaded {} answers.'.format(i, len(df)), clear=False)\n",
    "\n",
    "    tools.echo('Data loaded.', clear=False)\n",
    "\n",
    "    results_classmates = []\n",
    "    for i in range(slices):\n",
    "        descent = Descent(train_data[i])\n",
    "        res = descent.search_staircase(init_learn_rate=0.02, number_of_iter=15,\n",
    "                                       echo_iterations=False)\n",
    "        dresults_10[name].append(res)\n",
    "        tools.echo('[{}]: done!'.format(i), clear=False)"
   ]
  },
  {
   "cell_type": "code",
   "execution_count": 11,
   "metadata": {
    "collapsed": true
   },
   "outputs": [],
   "source": [
    "def get_gamma_delta(descent_results):\n",
    "    gamma_std = np.std([res.gammas[-1] for res in descent_results])\n",
    "    delta_std = np.std([res.deltas[-1] for res in descent_results])\n",
    "    gamma_mean = np.mean([res.gammas[-1] for res in descent_results])\n",
    "    delta_mean = np.mean([res.deltas[-1] for res in descent_results])\n",
    "    return {\n",
    "        'std': [gamma_std, delta_std],\n",
    "        'avg': [gamma_mean, delta_mean],\n",
    "    }"
   ]
  },
  {
   "cell_type": "code",
   "execution_count": 8,
   "metadata": {
    "collapsed": true
   },
   "outputs": [],
   "source": [
    "def prepare_plot_data(descent_results):\n",
    "    x_matrix = []\n",
    "    y_matrix = []\n",
    "    for res in descent_results:\n",
    "        stairs = sorted(res.staircases[-1].items(), key=lambda x: x[0])\n",
    "        staircase_times = res.model.metadata['staircase_times']\n",
    "\n",
    "        xi_axis = [np.mean(staircase_times[i]) for i in res.intervals]\n",
    "        yi_axis = [value for interval, value in stairs]\n",
    "\n",
    "        x_matrix.append(xi_axis)\n",
    "        y_matrix.append(yi_axis)\n",
    "\n",
    "    x_axis = []\n",
    "    y_axis = []\n",
    "    e_vals = []\n",
    "    for i in range(len(x_matrix[0])):\n",
    "        x_axis += [np.mean([x_matrix[j][i] for j in range(len(x_matrix))])]\n",
    "        y_axis += [np.mean([y_matrix[j][i] for j in range(len(x_matrix))])]\n",
    "        e_vals += [np.std([y_matrix[j][i] for j in range(len(x_matrix))]) / 2.]\n",
    "    \n",
    "    return x_axis, y_axis, e_vals"
   ]
  },
  {
   "cell_type": "code",
   "execution_count": 12,
   "metadata": {
    "collapsed": false
   },
   "outputs": [
    {
     "name": "stdout",
     "output_type": "stream",
     "text": [
      "Out-of-School\n",
      "std: gamma=0.311, delta=0.210\n",
      "avg: gamma=2.480, delta=0.676\n",
      "In-School\n",
      "std: gamma=0.202, delta=0.067\n",
      "avg: gamma=1.853, delta=0.746\n"
     ]
    }
   ],
   "source": [
    "plots = []\n",
    "labels = []\n",
    "plt.figure(num=None, figsize=(8, 6), dpi=160)\n",
    "lines = ['o-', 's-', '^-']\n",
    "\n",
    "for i, (name, results_10) in enumerate(dresults_10.items()):\n",
    "    x_axis, y_axis, e_vals = prepare_plot_data(results_10)\n",
    "    if len(dresults_10) == 1:\n",
    "        plt.errorbar(x_axis, y_axis, e_vals,\n",
    "                     ecolor='orange', elinewidth='2',\n",
    "                     linestyle='--', linewidth='2',\n",
    "                     capthick='2', capsize=4,\n",
    "                     color='#02A5F4', marker='o')\n",
    "    p, = plt.plot(x_axis, y_axis, lines[i % 3])\n",
    "    plots.append(p)\n",
    "    labels.append(name)\n",
    "    gamma_delta = get_gamma_delta(results_10)\n",
    "    \n",
    "    tools.echo(name, clear=False)\n",
    "    std_msg = 'std: gamma={:.3f}, delta={:.3f}'\n",
    "    avg_msg = 'avg: gamma={:.3f}, delta={:.3f}'\n",
    "    tools.echo(std_msg.format(*gamma_delta['std']), clear=False)\n",
    "    tools.echo(avg_msg.format(*gamma_delta['avg']), clear=False)\n",
    "\n",
    "plt.xscale('log')\n",
    "plt.xlabel('Time from previous attempt in seconds')\n",
    "plt.ylabel('Increase in memory activation')\n",
    "plt.xlim([30, 1e6])\n",
    "\n",
    "plt.legend(plots, labels)\n",
    "\n",
    "plt.show()\n",
    "plt.tight_layout()"
   ]
  },
  {
   "cell_type": "code",
   "execution_count": null,
   "metadata": {
    "collapsed": true
   },
   "outputs": [],
   "source": []
  }
 ],
 "metadata": {
  "kernelspec": {
   "display_name": "Python 2",
   "language": "python",
   "name": "python2"
  },
  "language_info": {
   "codemirror_mode": {
    "name": "ipython",
    "version": 2
   },
   "file_extension": ".py",
   "mimetype": "text/x-python",
   "name": "python",
   "nbconvert_exporter": "python",
   "pygments_lexer": "ipython2",
   "version": "2.7.6"
  }
 },
 "nbformat": 4,
 "nbformat_minor": 0
}
