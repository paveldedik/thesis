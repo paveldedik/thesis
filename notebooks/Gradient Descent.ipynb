{
 "cells": [
  {
   "cell_type": "code",
   "execution_count": 1,
   "metadata": {
    "collapsed": false
   },
   "outputs": [],
   "source": [
    "%matplotlib qt4\n",
    "from __future__ import division\n",
    "\n",
    "from models import tools, optimize, models, filters\n",
    "from models.tests import PerformanceTest\n",
    "\n",
    "import numpy as np\n",
    "import pandas as pd\n",
    "import matplotlib.pyplot as plt"
   ]
  },
  {
   "cell_type": "markdown",
   "metadata": {},
   "source": [
    "# The Naive Way"
   ]
  },
  {
   "cell_type": "code",
   "execution_count": null,
   "metadata": {
    "collapsed": false
   },
   "outputs": [],
   "source": [
    "data = tools.load_data(limit=40000, offset=2400000)"
   ]
  },
  {
   "cell_type": "code",
   "execution_count": null,
   "metadata": {
    "collapsed": false
   },
   "outputs": [],
   "source": [
    "grad = optimize.NaiveDescent(data)"
   ]
  },
  {
   "cell_type": "code",
   "execution_count": null,
   "metadata": {
    "collapsed": false
   },
   "outputs": [],
   "source": [
    "descent1 = grad.search_pfa(1.5, -2, step_size=3, maxiter=100, precision=0.005)"
   ]
  },
  {
   "cell_type": "code",
   "execution_count": null,
   "metadata": {
    "collapsed": false
   },
   "outputs": [],
   "source": [
    "descent2 = grad.search_pfa(5, 0.5, step_size=2.5, maxiter=100, precision=0.005)"
   ]
  },
  {
   "cell_type": "code",
   "execution_count": null,
   "metadata": {
    "collapsed": false
   },
   "outputs": [],
   "source": [
    "descent3 = grad.search_pfag(1.5, -2, step_size=20, maxiter=36, precision=0.005)"
   ]
  },
  {
   "cell_type": "code",
   "execution_count": null,
   "metadata": {
    "collapsed": false
   },
   "outputs": [],
   "source": [
    "elo = models.EloModel()\n",
    "pfa = models.PFAModel(elo, gamma=2.99622612646, delta=-0.476090204636)\n",
    "pfa_test = PerformanceTest(pfa, data)\n",
    "pfa_test.run()"
   ]
  },
  {
   "cell_type": "code",
   "execution_count": null,
   "metadata": {
    "collapsed": false
   },
   "outputs": [],
   "source": [
    "pfa_test.results['train']"
   ]
  },
  {
   "cell_type": "code",
   "execution_count": null,
   "metadata": {
    "collapsed": false
   },
   "outputs": [],
   "source": [
    "def annotate(descent, number, mark, xadd, yadd):\n",
    "    row = descent.params.loc[number]\n",
    "    grad = descent.grads.loc[number]\n",
    "    plt.annotate(r'$\\gamma={}$, $\\delta={}$'.format(round(row.gamma, 2), round(row.delta, 2)),\n",
    "                 xy=(number, grad), xycoords='data',\n",
    "                 xytext=(number + xadd, grad + yadd), textcoords='data',\n",
    "                 bbox=dict(boxstyle=\"round\", fc=\"w\"))\n",
    "    plt.plot(number, grad, mark)\n",
    "    \n",
    "#annotate(descent1, 1, 'go', 0.8, -0.006)\n",
    "#annotate(descent1, 10, 'go', 0.8, -0.006)\n",
    "annotate(descent1, 34, 'go', -8, -0.009)\n",
    "\n",
    "#annotate(descent3, 1, 'ro', 0.7, 0.004)\n",
    "#annotate(descent3, 11, 'ro', 0.8, 0.004)\n",
    "annotate(descent3, 20, 'ro', 0.8, 0.006)\n",
    "\n",
    "plt.xlabel('number of iteration')\n",
    "plt.ylabel('predicted - observed')\n",
    "\n",
    "plt.xlim([0, 35])\n",
    "plt.ylim([-0.08, 0.03])\n",
    "\n",
    "line1, = plt.plot(descent1.grads[:35], 'g', label=r'step size = $3$')\n",
    "line2, = plt.plot(descent3.grads[:36], 'r', label=r'step size = $20$')\n",
    "\n",
    "plt.legend(handles=[line1, line2], loc='lower right')\n",
    "\n",
    "plt.show()"
   ]
  },
  {
   "cell_type": "markdown",
   "metadata": {
    "collapsed": false
   },
   "source": [
    "# The Proper Way"
   ]
  },
  {
   "cell_type": "code",
   "execution_count": 48,
   "metadata": {
    "collapsed": false
   },
   "outputs": [
    {
     "data": {
      "text/plain": [
       "<module 'models.filters' from '/home/pavel/Projects/thesis/models/filters.py'>"
      ]
     },
     "execution_count": 48,
     "metadata": {},
     "output_type": "execute_result"
    }
   ],
   "source": [
    "reload(filters)"
   ]
  },
  {
   "cell_type": "code",
   "execution_count": 53,
   "metadata": {
    "collapsed": false
   },
   "outputs": [
    {
     "name": "stdout",
     "output_type": "stream",
     "text": [
      "Loaded 474169 answers.\n"
     ]
    }
   ],
   "source": [
    "data = tools.load_data(limit=500000, offset=1500000)"
   ]
  },
  {
   "cell_type": "code",
   "execution_count": 54,
   "metadata": {
    "collapsed": false
   },
   "outputs": [
    {
     "name": "stdout",
     "output_type": "stream",
     "text": [
      "146596\n"
     ]
    }
   ],
   "source": [
    "data = data[filters.sequentize(data)]\n",
    "print len(data)"
   ]
  },
  {
   "cell_type": "code",
   "execution_count": 55,
   "metadata": {
    "collapsed": false
   },
   "outputs": [],
   "source": [
    "descent = optimize.GradientDescent(data)"
   ]
  },
  {
   "cell_type": "code",
   "execution_count": 56,
   "metadata": {
    "collapsed": false
   },
   "outputs": [
    {
     "name": "stdout",
     "output_type": "stream",
     "text": [
      "   2.50000    0.80000        inf\n",
      "   2.08562    0.50126    0.00253\n",
      "   1.99518    0.64475    0.00089\n",
      "   1.97997    0.76950    0.00112\n",
      "   1.95207    0.82218    0.00128\n",
      "   1.92511    0.83874    0.00137\n",
      "   1.90404    0.83897    0.00141\n",
      "   1.88922    0.83201    0.00143\n",
      "   1.87962    0.82218    0.00145\n",
      "   1.87397    0.81153    0.00145\n",
      "   1.87118    0.80106    0.00146\n",
      "   1.87035    0.79121    0.00146\n",
      "   1.87084    0.78215    0.00146\n",
      "   1.87218    0.77394    0.00146\n",
      "   1.87402    0.76653    0.00145\n",
      "   1.87614    0.75987    0.00145\n",
      "   1.87837    0.75390    0.00145\n",
      "   1.88061    0.74856    0.00145\n",
      "   1.88278    0.74377    0.00145\n",
      "   1.88484    0.73949    0.00145\n",
      "   1.88675    0.73568    0.00145\n"
     ]
    }
   ],
   "source": [
    "descent_result = descent.search_staircase(init_learn_rate=0.015, number_of_iter=20)"
   ]
  },
  {
   "cell_type": "code",
   "execution_count": 57,
   "metadata": {
    "collapsed": false
   },
   "outputs": [
    {
     "data": {
      "text/plain": [
       "[<matplotlib.lines.Line2D at 0x7f492d7cb090>]"
      ]
     },
     "execution_count": 57,
     "metadata": {},
     "output_type": "execute_result"
    }
   ],
   "source": [
    "descent_result.plot()"
   ]
  },
  {
   "cell_type": "code",
   "execution_count": 17,
   "metadata": {
    "collapsed": false
   },
   "outputs": [
    {
     "data": {
      "text/plain": [
       "<matplotlib.legend.Legend at 0x7fe4ca850350>"
      ]
     },
     "execution_count": 17,
     "metadata": {},
     "output_type": "execute_result"
    }
   ],
   "source": [
    "classmates_p, = classmates.plot(color='orange')\n",
    "non_classmates_p, = non_classmates.plot(color='#02A5F4')\n",
    "gamma_delta = '($\\gamma = {0[gamma]:.3f}, \\delta = -{0[delta]:.3f}$)'\n",
    "plt.legend([classmates_p, non_classmates_p],\n",
    "           [('Classmates ' + gamma_delta).format(classmates.best),\n",
    "            ('All the others ' + gamma_delta).format(non_classmates.best)])"
   ]
  },
  {
   "cell_type": "code",
   "execution_count": 2,
   "metadata": {
    "collapsed": false
   },
   "outputs": [
    {
     "name": "stdout",
     "output_type": "stream",
     "text": [
      "[0]: Loaded 91242 answers.\n",
      "[1]: Loaded 146596 answers.\n",
      "[2]: Loaded 106387 answers.\n",
      "[3]: Loaded 76013 answers.\n",
      "[4]: Loaded 52801 answers.\n",
      "[5]: Loaded 37838 answers.\n",
      "[6]: Loaded 26913 answers.\n",
      "[7]: Loaded 50341 answers.\n",
      "[8]: Loaded 40548 answers.\n",
      "[9]: Loaded 32522 answers.\n",
      "Data loaded.\n",
      "[0]: done!\n",
      "[1]: done!\n",
      "[2]: done!\n",
      "[3]: done!\n",
      "[4]: done!\n",
      "[5]: done!\n",
      "[6]: done!\n",
      "[7]: done!\n",
      "[8]: done!\n",
      "[9]: done!\n"
     ]
    }
   ],
   "source": [
    "train_data = []\n",
    "for i in range(10):\n",
    "    limit, offset = 500000, i * 500000 + 1000000\n",
    "    df = tools.load_data(limit=limit, offset=offset, echo_loaded=False)\n",
    "    df = df[filters.sequentize(df)]\n",
    "    train_data.append(df.copy())\n",
    "    tools.echo('[{}]: Loaded {} answers.'.format(i, len(df)), clear=False)\n",
    "\n",
    "tools.echo('Data loaded.', clear=False)\n",
    "\n",
    "results = []\n",
    "for i in range(10):\n",
    "    descent = optimize.GradientDescent(train_data[i])\n",
    "    res = descent.search_staircase(init_learn_rate=0.01, number_of_iter=25,\n",
    "                                   echo_iterations=False)\n",
    "    results.append(res)\n",
    "    tools.echo('[{}]: done!'.format(i), clear=False)"
   ]
  },
  {
   "cell_type": "code",
   "execution_count": 29,
   "metadata": {
    "collapsed": false
   },
   "outputs": [],
   "source": [
    "x_matrix = []\n",
    "y_matrix = []\n",
    "for res in results:\n",
    "    stairs = sorted(res.staircases[-1].items(), key=lambda x: x[0])\n",
    "    staircase_times = res.model.metadata['staircase_times']\n",
    "\n",
    "    xi_axis = [np.mean(staircase_times[i]) for i in res.intervals]\n",
    "    yi_axis = [value for interval, value in stairs]\n",
    "    \n",
    "    x_matrix.append(xi_axis)\n",
    "    y_matrix.append(yi_axis)\n",
    "\n",
    "x_axis = []\n",
    "y_axis = []\n",
    "e_vals = []\n",
    "for i in range(len(x_matrix[0])):\n",
    "    x_axis += [np.mean([x_matrix[j][i] for j in range(len(x_matrix))])]\n",
    "    y_axis += [np.mean([y_matrix[j][i] for j in range(len(x_matrix))])]\n",
    "    e_vals += [np.std([y_matrix[j][i] for j in range(len(x_matrix))]) / 2.]\n",
    "\n",
    "plt.figure(num=None, figsize=(8, 6), dpi=160)\n",
    "plt.errorbar(x_axis, y_axis, e_vals,\n",
    "             ecolor='orange', elinewidth='2',\n",
    "             linestyle='--', linewidth='2',\n",
    "             capthick='2', capsize=4,\n",
    "             color='#02A5F4', marker='o')\n",
    "\n",
    "plt.xscale('log')\n",
    "plt.xlabel('Time from previous attempt in seconds.')\n",
    "plt.ylabel('Increase in memory activation')\n",
    "plt.xlim([30, 1e6])\n",
    "\n",
    "plt.show()\n",
    "plt.tight_layout()"
   ]
  },
  {
   "cell_type": "code",
   "execution_count": null,
   "metadata": {
    "collapsed": false
   },
   "outputs": [],
   "source": [
    "gamma_std = np.mean([res.gammas[-1] for res in results])\n",
    "delta_std = np.mean([res.deltas[-1] for res in results])\n",
    "tools.echo('gamma={:.3f}, delta={:.3f}'.format(gamma_std, delta_std), clear=False)"
   ]
  },
  {
   "cell_type": "code",
   "execution_count": null,
   "metadata": {
    "collapsed": true
   },
   "outputs": [],
   "source": []
  }
 ],
 "metadata": {
  "kernelspec": {
   "display_name": "Python 2",
   "language": "python",
   "name": "python2"
  },
  "language_info": {
   "codemirror_mode": {
    "name": "ipython",
    "version": 2
   },
   "file_extension": ".py",
   "mimetype": "text/x-python",
   "name": "python",
   "nbconvert_exporter": "python",
   "pygments_lexer": "ipython2",
   "version": "2.7.6"
  }
 },
 "nbformat": 4,
 "nbformat_minor": 0
}
