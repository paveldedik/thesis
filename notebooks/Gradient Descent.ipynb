{
 "cells": [
  {
   "cell_type": "code",
   "execution_count": 1,
   "metadata": {
    "collapsed": false
   },
   "outputs": [],
   "source": [
    "%matplotlib qt4\n",
    "from __future__ import division\n",
    "\n",
    "from models import tools, optimize, models\n",
    "from models.tests import PerformanceTest\n",
    "\n",
    "import numpy as np\n",
    "import pandas as pd\n",
    "import matplotlib.pyplot as plt"
   ]
  },
  {
   "cell_type": "markdown",
   "metadata": {},
   "source": [
    "# The Naive Way"
   ]
  },
  {
   "cell_type": "code",
   "execution_count": 29,
   "metadata": {
    "collapsed": false
   },
   "outputs": [
    {
     "name": "stdout",
     "output_type": "stream",
     "text": [
      "Loaded 29981 answers.\n"
     ]
    }
   ],
   "source": [
    "data = tools.load_data(limit=40000, offset=2400000)"
   ]
  },
  {
   "cell_type": "code",
   "execution_count": 19,
   "metadata": {
    "collapsed": false
   },
   "outputs": [],
   "source": [
    "grad = optimize.NaiveDescent(data)"
   ]
  },
  {
   "cell_type": "code",
   "execution_count": 20,
   "metadata": {
    "collapsed": false
   },
   "outputs": [
    {
     "name": "stdout",
     "output_type": "stream",
     "text": [
      "gamma: 3.18298528419; grad: -0.000741008113952\n",
      "delta: -0.303539220688; grad: -0.000729927486385\n"
     ]
    }
   ],
   "source": [
    "descent1 = grad.search_pfa(1.5, -2, step_size=3, maxiter=100, precision=0.005)"
   ]
  },
  {
   "cell_type": "code",
   "execution_count": 46,
   "metadata": {
    "collapsed": false
   },
   "outputs": [
    {
     "name": "stdout",
     "output_type": "stream",
     "text": [
      "gamma: 3.80556357186; grad: 0.000890172684958\n",
      "delta: -0.678034006194; grad: 0.000878019898582\n"
     ]
    }
   ],
   "source": [
    "descent2 = grad.search_pfa(5, 0.5, step_size=2.5, maxiter=100, precision=0.005)"
   ]
  },
  {
   "cell_type": "code",
   "execution_count": 93,
   "metadata": {
    "collapsed": false
   },
   "outputs": [
    {
     "name": "stdout",
     "output_type": "stream",
     "text": [
      "gamma: 1.85300525851; grad: 0.000260020806278\n",
      "delta: -1.57543851455; grad: 0.000284481491125\n"
     ]
    }
   ],
   "source": [
    "descent3 = grad.search_pfag(1.5, -2, step_size=20, maxiter=36, precision=0.005)"
   ]
  },
  {
   "cell_type": "code",
   "execution_count": 37,
   "metadata": {
    "collapsed": false
   },
   "outputs": [],
   "source": [
    "elo = models.EloModel()\n",
    "pfa = models.PFAModel(elo, gamma=2.99622612646, delta=-0.476090204636)\n",
    "pfa_test = PerformanceTest(pfa, data)\n",
    "pfa_test.run()"
   ]
  },
  {
   "cell_type": "code",
   "execution_count": 38,
   "metadata": {
    "collapsed": false
   },
   "outputs": [
    {
     "data": {
      "text/plain": [
       "RMSE: 0.361919204016\n",
       "AUC: 0.787337458274\n",
       "OFF: -6.24923069748e-05\n",
       "Set Size: 50000"
      ]
     },
     "execution_count": 38,
     "metadata": {},
     "output_type": "execute_result"
    }
   ],
   "source": [
    "pfa_test.results['train']"
   ]
  },
  {
   "cell_type": "code",
   "execution_count": 120,
   "metadata": {
    "collapsed": false
   },
   "outputs": [],
   "source": [
    "def annotate(descent, number, mark, xadd, yadd):\n",
    "    row = descent.params.loc[number]\n",
    "    grad = descent.grads.loc[number]\n",
    "    plt.annotate(r'$\\gamma={}$, $\\delta={}$'.format(round(row.gamma, 2), round(row.delta, 2)),\n",
    "                 xy=(number, grad), xycoords='data',\n",
    "                 xytext=(number + xadd, grad + yadd), textcoords='data',\n",
    "                 bbox=dict(boxstyle=\"round\", fc=\"w\"))\n",
    "    plt.plot(number, grad, mark)\n",
    "    \n",
    "#annotate(descent1, 1, 'go', 0.8, -0.006)\n",
    "#annotate(descent1, 10, 'go', 0.8, -0.006)\n",
    "annotate(descent1, 34, 'go', -8, -0.009)\n",
    "\n",
    "#annotate(descent3, 1, 'ro', 0.7, 0.004)\n",
    "#annotate(descent3, 11, 'ro', 0.8, 0.004)\n",
    "annotate(descent3, 20, 'ro', 0.8, 0.006)\n",
    "\n",
    "plt.xlabel('number of iteration')\n",
    "plt.ylabel('predicted - observed')\n",
    "\n",
    "plt.xlim([0, 35])\n",
    "plt.ylim([-0.08, 0.03])\n",
    "\n",
    "line1, = plt.plot(descent1.grads[:35], 'g', label=r'step size = $3$')\n",
    "line2, = plt.plot(descent3.grads[:36], 'r', label=r'step size = $20$')\n",
    "\n",
    "plt.legend(handles=[line1, line2], loc='lower right')\n",
    "\n",
    "plt.show()"
   ]
  },
  {
   "cell_type": "markdown",
   "metadata": {
    "collapsed": false
   },
   "source": [
    "# The Proper Way"
   ]
  },
  {
   "cell_type": "code",
   "execution_count": 42,
   "metadata": {
    "collapsed": true
   },
   "outputs": [],
   "source": [
    "reload(optimize)\n",
    "descent = optimize.GradientDescent(data)"
   ]
  },
  {
   "cell_type": "code",
   "execution_count": 56,
   "metadata": {
    "collapsed": false
   },
   "outputs": [],
   "source": [
    "r = descent.search_staircase()"
   ]
  },
  {
   "cell_type": "code",
   "execution_count": 57,
   "metadata": {
    "collapsed": false
   },
   "outputs": [
    {
     "name": "stdout",
     "output_type": "stream",
     "text": [
      "0.000   0.000   0.000   0.000   0.000   0.000   0.000   0.000   0.000   0.000   0.000\n",
      "2.374   1.647   1.097   1.050   1.005   0.339   0.731   0.149   -0.126   0.000   0.000\n",
      "2.795   2.000   1.309   1.026   0.964   0.654   0.756   0.359   -0.107   0.000   0.000\n",
      "3.092   2.229   1.415   1.073   1.014   0.802   0.795   0.462   -0.094   0.000   0.000\n",
      "3.325   2.410   1.496   1.125   1.076   0.900   0.833   0.529   -0.084   0.000   0.000\n",
      "3.519   2.563   1.566   1.172   1.135   0.974   0.867   0.578   -0.076   0.000   0.000\n",
      "3.685   2.695   1.629   1.214   1.187   1.034   0.897   0.617   -0.069   0.000   0.000\n",
      "3.831   2.813   1.686   1.251   1.235   1.083   0.924   0.649   -0.063   0.000   0.000\n",
      "3.960   2.918   1.739   1.284   1.277   1.126   0.949   0.677   -0.058   0.000   0.000\n",
      "4.076   3.014   1.787   1.313   1.315   1.164   0.971   0.701   -0.053   0.000   0.000\n",
      "4.182   3.102   1.832   1.340   1.350   1.198   0.991   0.722   -0.049   0.000   0.000\n"
     ]
    }
   ],
   "source": [
    "import decimal\n",
    "for i, v in sorted(r.items(), key=lambda x: x[0]):\n",
    "    s = list(sorted(v['staircase'].items(), key=lambda x: x[0]))\n",
    "    print '   '.join([str(decimal.Decimal(str(v)).quantize(decimal.Decimal('.000'))) for k, v in s])"
   ]
  },
  {
   "cell_type": "code",
   "execution_count": null,
   "metadata": {
    "collapsed": true
   },
   "outputs": [],
   "source": []
  }
 ],
 "metadata": {
  "kernelspec": {
   "display_name": "Python 2",
   "language": "python",
   "name": "python2"
  },
  "language_info": {
   "codemirror_mode": {
    "name": "ipython",
    "version": 2
   },
   "file_extension": ".py",
   "mimetype": "text/x-python",
   "name": "python",
   "nbconvert_exporter": "python",
   "pygments_lexer": "ipython2",
   "version": "2.7.6"
  }
 },
 "nbformat": 4,
 "nbformat_minor": 0
}
