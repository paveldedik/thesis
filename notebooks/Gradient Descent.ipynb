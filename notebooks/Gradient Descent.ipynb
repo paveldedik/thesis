{
 "cells": [
  {
   "cell_type": "code",
   "execution_count": 1,
   "metadata": {
    "collapsed": false
   },
   "outputs": [],
   "source": [
    "%matplotlib qt4\n",
    "from __future__ import division\n",
    "\n",
    "from models import tools, optimize, models, filters\n",
    "from models.tests import PerformanceTest\n",
    "\n",
    "import numpy as np\n",
    "import pandas as pd\n",
    "import matplotlib.pyplot as plt"
   ]
  },
  {
   "cell_type": "markdown",
   "metadata": {},
   "source": [
    "# The Naive Way"
   ]
  },
  {
   "cell_type": "code",
   "execution_count": null,
   "metadata": {
    "collapsed": false
   },
   "outputs": [],
   "source": [
    "data = tools.load_data(limit=40000, offset=2400000)"
   ]
  },
  {
   "cell_type": "code",
   "execution_count": null,
   "metadata": {
    "collapsed": false
   },
   "outputs": [],
   "source": [
    "grad = optimize.NaiveDescent(data)"
   ]
  },
  {
   "cell_type": "code",
   "execution_count": null,
   "metadata": {
    "collapsed": false
   },
   "outputs": [],
   "source": [
    "descent1 = grad.search_pfa(1.5, -2, step_size=3, maxiter=100, precision=0.005)"
   ]
  },
  {
   "cell_type": "code",
   "execution_count": null,
   "metadata": {
    "collapsed": false
   },
   "outputs": [],
   "source": [
    "descent2 = grad.search_pfa(5, 0.5, step_size=2.5, maxiter=100, precision=0.005)"
   ]
  },
  {
   "cell_type": "code",
   "execution_count": null,
   "metadata": {
    "collapsed": false
   },
   "outputs": [],
   "source": [
    "descent3 = grad.search_pfag(1.5, -2, step_size=20, maxiter=36, precision=0.005)"
   ]
  },
  {
   "cell_type": "code",
   "execution_count": null,
   "metadata": {
    "collapsed": false
   },
   "outputs": [],
   "source": [
    "elo = models.EloModel()\n",
    "pfa = models.PFAModel(elo, gamma=2.99622612646, delta=-0.476090204636)\n",
    "pfa_test = PerformanceTest(pfa, data)\n",
    "pfa_test.run()"
   ]
  },
  {
   "cell_type": "code",
   "execution_count": null,
   "metadata": {
    "collapsed": false
   },
   "outputs": [],
   "source": [
    "pfa_test.results['train']"
   ]
  },
  {
   "cell_type": "code",
   "execution_count": null,
   "metadata": {
    "collapsed": false
   },
   "outputs": [],
   "source": [
    "def annotate(descent, number, mark, xadd, yadd):\n",
    "    row = descent.params.loc[number]\n",
    "    grad = descent.grads.loc[number]\n",
    "    plt.annotate(r'$\\gamma={}$, $\\delta={}$'.format(round(row.gamma, 2), round(row.delta, 2)),\n",
    "                 xy=(number, grad), xycoords='data',\n",
    "                 xytext=(number + xadd, grad + yadd), textcoords='data',\n",
    "                 bbox=dict(boxstyle=\"round\", fc=\"w\"))\n",
    "    plt.plot(number, grad, mark)\n",
    "    \n",
    "#annotate(descent1, 1, 'go', 0.8, -0.006)\n",
    "#annotate(descent1, 10, 'go', 0.8, -0.006)\n",
    "annotate(descent1, 34, 'go', -8, -0.009)\n",
    "\n",
    "#annotate(descent3, 1, 'ro', 0.7, 0.004)\n",
    "#annotate(descent3, 11, 'ro', 0.8, 0.004)\n",
    "annotate(descent3, 20, 'ro', 0.8, 0.006)\n",
    "\n",
    "plt.xlabel('number of iteration')\n",
    "plt.ylabel('predicted - observed')\n",
    "\n",
    "plt.xlim([0, 35])\n",
    "plt.ylim([-0.08, 0.03])\n",
    "\n",
    "line1, = plt.plot(descent1.grads[:35], 'g', label=r'step size = $3$')\n",
    "line2, = plt.plot(descent3.grads[:36], 'r', label=r'step size = $20$')\n",
    "\n",
    "plt.legend(handles=[line1, line2], loc='lower right')\n",
    "\n",
    "plt.show()"
   ]
  },
  {
   "cell_type": "markdown",
   "metadata": {
    "collapsed": false
   },
   "source": [
    "# The Proper Way"
   ]
  },
  {
   "cell_type": "code",
   "execution_count": 22,
   "metadata": {
    "collapsed": false
   },
   "outputs": [
    {
     "data": {
      "text/plain": [
       "<module 'models.optimize' from '/home/pavel/Projects/thesis/models/optimize.pyc'>"
      ]
     },
     "execution_count": 22,
     "metadata": {},
     "output_type": "execute_result"
    }
   ],
   "source": [
    "reload(optimize)"
   ]
  },
  {
   "cell_type": "code",
   "execution_count": 3,
   "metadata": {
    "collapsed": false
   },
   "outputs": [
    {
     "name": "stdout",
     "output_type": "stream",
     "text": [
      "Loaded 275846 answers.\n"
     ]
    }
   ],
   "source": [
    "data = tools.load_data(limit=300000, offset=1500000)"
   ]
  },
  {
   "cell_type": "code",
   "execution_count": 4,
   "metadata": {
    "collapsed": false
   },
   "outputs": [
    {
     "name": "stdout",
     "output_type": "stream",
     "text": [
      "68155\n"
     ]
    }
   ],
   "source": [
    "data = data[filters.sequentize(data)]\n",
    "print len(data)"
   ]
  },
  {
   "cell_type": "code",
   "execution_count": 35,
   "metadata": {
    "collapsed": false
   },
   "outputs": [],
   "source": [
    "descent = optimize.GradientDescent(data)\n",
    "descents = {\n",
    "    'Random Factor': (descent, {'random_factor': 1,\n",
    "                                'random_chance': 20}),\n",
    "    # 'No Random Factor': (descent, {}),\n",
    "}"
   ]
  },
  {
   "cell_type": "code",
   "execution_count": 36,
   "metadata": {
    "collapsed": false
   },
   "outputs": [
    {
     "name": "stdout",
     "output_type": "stream",
     "text": [
      "Random Factor\n",
      "   2.50000    0.80000        inf\n",
      "  10.84222   15.21756    0.00004\n",
      "   3.96198    3.51653   -0.00421\n",
      "   2.49202    1.47933    0.00191\n",
      "   2.10914    1.87744    0.00170\n",
      "   2.71558    2.00644    0.00207\n",
      "   2.23710    1.57726    0.00201\n",
      "   1.30333    1.02334    0.00115\n",
      "   1.47044    1.23090    0.00153\n",
      "   1.60860    1.27317    0.00121\n",
      "   1.64358    1.15131    0.00068\n",
      "   1.70722    1.18367    0.00060\n",
      "   1.73790    1.02023   -0.00017\n",
      "   1.76808    1.20257    0.00034\n",
      "   1.91400    1.21920    0.00056\n",
      "   1.78801    1.14813    0.00064\n",
      "   1.68225    1.10568    0.00111\n",
      "   1.74443    1.08445    0.00086\n",
      "   1.73182    1.05565    0.00131\n",
      "   1.65636    1.03002    0.00150\n",
      "   1.71638    1.08090    0.00048\n"
     ]
    }
   ],
   "source": [
    "#dresults = {}\n",
    "for name, (descent, kwargs),  in descents.items():\n",
    "    tools.echo(name, clear=False)\n",
    "    dresults[name] = descent.search_staircase(\n",
    "        init_learn_rate=0.015,\n",
    "        number_of_iter=20,\n",
    "        **kwargs\n",
    "    )"
   ]
  },
  {
   "cell_type": "code",
   "execution_count": 37,
   "metadata": {
    "collapsed": false
   },
   "outputs": [],
   "source": [
    "plots = []\n",
    "for name, dresult in dresults.items():\n",
    "    p, = dresult.plot()\n",
    "    plots += [(name, p, dresult)]\n",
    "\n",
    "if len(plots) > 1:\n",
    "    gamma_delta = ' ($\\gamma = {0[gamma]:.3f}, \\delta = -{0[delta]:.3f}$)'\n",
    "    plt.legend([item[1] for item in plots],\n",
    "               [n + gamma_delta.format(r.best) for n, p, r in plots])"
   ]
  },
  {
   "cell_type": "code",
   "execution_count": 38,
   "metadata": {
    "collapsed": false
   },
   "outputs": [
    {
     "name": "stdout",
     "output_type": "stream",
     "text": [
      "[0]: Loaded 91242 answers.\n",
      "[1]: Loaded 146596 answers.\n",
      "[2]: Loaded 106387 answers.\n",
      "[3]: Loaded 76013 answers.\n",
      "[4]: Loaded 52801 answers.\n",
      "[5]: Loaded 37838 answers.\n",
      "[6]: Loaded 26913 answers.\n",
      "[7]: Loaded 50341 answers.\n",
      "[8]: Loaded 40548 answers.\n",
      "[9]: Loaded 32522 answers.\n",
      "Data loaded.\n",
      "[0]: done!\n",
      "[1]: done!\n",
      "[2]: done!\n",
      "[3]: done!\n",
      "[4]: done!\n",
      "[5]: done!\n",
      "[6]: done!\n",
      "[7]: done!\n",
      "[8]: done!\n",
      "[9]: done!\n"
     ]
    }
   ],
   "source": [
    "train_data = []\n",
    "for i in range(10):\n",
    "    limit, offset = 500000, i * 500000 + 1000000\n",
    "    df = tools.load_data(limit=limit, offset=offset, echo_loaded=False)\n",
    "    df = df[filters.sequentize(df)]\n",
    "    train_data.append(df.copy())\n",
    "    tools.echo('[{}]: Loaded {} answers.'.format(i, len(df)), clear=False)\n",
    "\n",
    "tools.echo('Data loaded.', clear=False)\n",
    "\n",
    "results = []\n",
    "for i in range(10):\n",
    "    descent = optimize.GradientDescent(train_data[i])\n",
    "    res = descent.search_staircase(init_learn_rate=0.01, number_of_iter=25,\n",
    "                                   echo_iterations=False, random_factor=1,\n",
    "                                   random_chance=20)\n",
    "    results.append(res)\n",
    "    tools.echo('[{}]: done!'.format(i), clear=False)"
   ]
  },
  {
   "cell_type": "code",
   "execution_count": 48,
   "metadata": {
    "collapsed": false
   },
   "outputs": [],
   "source": [
    "x_matrix = []\n",
    "y_matrix = []\n",
    "for res in results:\n",
    "    stairs = sorted(res.staircases[-1].items(), key=lambda x: x[0])\n",
    "    staircase_times = res.model.metadata['staircase_times']\n",
    "\n",
    "    xi_axis = [np.mean(staircase_times[i]) for i in res.intervals]\n",
    "    yi_axis = [value for interval, value in stairs]\n",
    "    \n",
    "    x_matrix.append(xi_axis)\n",
    "    y_matrix.append(yi_axis)\n",
    "\n",
    "x_axis = []\n",
    "y_axis = []\n",
    "e_vals = []\n",
    "for i in range(len(x_matrix[0])):\n",
    "    x_axis += [np.mean([x_matrix[j][i] for j in range(len(x_matrix))])]\n",
    "    y_axis += [np.mean([y_matrix[j][i] for j in range(len(x_matrix))])]\n",
    "    e_vals += [np.std([y_matrix[j][i] for j in range(len(x_matrix))]) / 2.]\n",
    "\n",
    "plt.figure(num=None, figsize=(8, 6), dpi=160)\n",
    "plt.errorbar(x_axis, y_axis, e_vals,\n",
    "             ecolor='orange', elinewidth='2',\n",
    "             linestyle='--', linewidth='2',\n",
    "             capthick='2', capsize=4,\n",
    "             color='#02A5F4', marker='o')\n",
    "\n",
    "plt.xscale('log')\n",
    "plt.xlabel('Time from previous attempt in seconds')\n",
    "plt.ylabel('Increase in memory activation')\n",
    "plt.xlim([30, 1e6])\n",
    "\n",
    "plt.show()\n",
    "plt.tight_layout()"
   ]
  },
  {
   "cell_type": "code",
   "execution_count": 45,
   "metadata": {
    "collapsed": false
   },
   "outputs": [
    {
     "name": "stdout",
     "output_type": "stream",
     "text": [
      "std: gamma=0.276, delta=0.095\n",
      "avg: gamma=1.814, delta=0.827\n"
     ]
    }
   ],
   "source": [
    "gamma_std = np.std([res.gammas[-1] for res in results])\n",
    "delta_std = np.std([res.deltas[-1] for res in results])\n",
    "gamma_mean = np.mean([res.gammas[-1] for res in results])\n",
    "delta_mean = np.mean([res.deltas[-1] for res in results])\n",
    "tools.echo('std: gamma={:.3f}, delta={:.3f}'.format(gamma_std, delta_std), clear=False)\n",
    "tools.echo('avg: gamma={:.3f}, delta={:.3f}'.format(gamma_mean, delta_mean), clear=False)"
   ]
  },
  {
   "cell_type": "code",
   "execution_count": null,
   "metadata": {
    "collapsed": true
   },
   "outputs": [],
   "source": []
  }
 ],
 "metadata": {
  "kernelspec": {
   "display_name": "Python 2",
   "language": "python",
   "name": "python2"
  },
  "language_info": {
   "codemirror_mode": {
    "name": "ipython",
    "version": 2
   },
   "file_extension": ".py",
   "mimetype": "text/x-python",
   "name": "python",
   "nbconvert_exporter": "python",
   "pygments_lexer": "ipython2",
   "version": "2.7.6"
  }
 },
 "nbformat": 4,
 "nbformat_minor": 0
}
