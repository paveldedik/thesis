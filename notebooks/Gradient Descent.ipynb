{
 "cells": [
  {
   "cell_type": "code",
   "execution_count": 1,
   "metadata": {
    "collapsed": false
   },
   "outputs": [],
   "source": [
    "%matplotlib qt4\n",
    "from __future__ import division\n",
    "\n",
    "from models import tools, optimize, models, filters\n",
    "from models.tests import PerformanceTest\n",
    "\n",
    "import numpy as np\n",
    "import pandas as pd\n",
    "import matplotlib.pyplot as plt"
   ]
  },
  {
   "cell_type": "markdown",
   "metadata": {},
   "source": [
    "# The Naive Way"
   ]
  },
  {
   "cell_type": "code",
   "execution_count": 29,
   "metadata": {
    "collapsed": false
   },
   "outputs": [
    {
     "name": "stdout",
     "output_type": "stream",
     "text": [
      "Loaded 29981 answers.\n"
     ]
    }
   ],
   "source": [
    "data = tools.load_data(limit=40000, offset=2400000)"
   ]
  },
  {
   "cell_type": "code",
   "execution_count": 19,
   "metadata": {
    "collapsed": false
   },
   "outputs": [],
   "source": [
    "grad = optimize.NaiveDescent(data)"
   ]
  },
  {
   "cell_type": "code",
   "execution_count": 20,
   "metadata": {
    "collapsed": false
   },
   "outputs": [
    {
     "name": "stdout",
     "output_type": "stream",
     "text": [
      "gamma: 3.18298528419; grad: -0.000741008113952\n",
      "delta: -0.303539220688; grad: -0.000729927486385\n"
     ]
    }
   ],
   "source": [
    "descent1 = grad.search_pfa(1.5, -2, step_size=3, maxiter=100, precision=0.005)"
   ]
  },
  {
   "cell_type": "code",
   "execution_count": 46,
   "metadata": {
    "collapsed": false
   },
   "outputs": [
    {
     "name": "stdout",
     "output_type": "stream",
     "text": [
      "gamma: 3.80556357186; grad: 0.000890172684958\n",
      "delta: -0.678034006194; grad: 0.000878019898582\n"
     ]
    }
   ],
   "source": [
    "descent2 = grad.search_pfa(5, 0.5, step_size=2.5, maxiter=100, precision=0.005)"
   ]
  },
  {
   "cell_type": "code",
   "execution_count": 93,
   "metadata": {
    "collapsed": false
   },
   "outputs": [
    {
     "name": "stdout",
     "output_type": "stream",
     "text": [
      "gamma: 1.85300525851; grad: 0.000260020806278\n",
      "delta: -1.57543851455; grad: 0.000284481491125\n"
     ]
    }
   ],
   "source": [
    "descent3 = grad.search_pfag(1.5, -2, step_size=20, maxiter=36, precision=0.005)"
   ]
  },
  {
   "cell_type": "code",
   "execution_count": 37,
   "metadata": {
    "collapsed": false
   },
   "outputs": [],
   "source": [
    "elo = models.EloModel()\n",
    "pfa = models.PFAModel(elo, gamma=2.99622612646, delta=-0.476090204636)\n",
    "pfa_test = PerformanceTest(pfa, data)\n",
    "pfa_test.run()"
   ]
  },
  {
   "cell_type": "code",
   "execution_count": 38,
   "metadata": {
    "collapsed": false
   },
   "outputs": [
    {
     "data": {
      "text/plain": [
       "RMSE: 0.361919204016\n",
       "AUC: 0.787337458274\n",
       "OFF: -6.24923069748e-05\n",
       "Set Size: 50000"
      ]
     },
     "execution_count": 38,
     "metadata": {},
     "output_type": "execute_result"
    }
   ],
   "source": [
    "pfa_test.results['train']"
   ]
  },
  {
   "cell_type": "code",
   "execution_count": 120,
   "metadata": {
    "collapsed": false
   },
   "outputs": [],
   "source": [
    "def annotate(descent, number, mark, xadd, yadd):\n",
    "    row = descent.params.loc[number]\n",
    "    grad = descent.grads.loc[number]\n",
    "    plt.annotate(r'$\\gamma={}$, $\\delta={}$'.format(round(row.gamma, 2), round(row.delta, 2)),\n",
    "                 xy=(number, grad), xycoords='data',\n",
    "                 xytext=(number + xadd, grad + yadd), textcoords='data',\n",
    "                 bbox=dict(boxstyle=\"round\", fc=\"w\"))\n",
    "    plt.plot(number, grad, mark)\n",
    "    \n",
    "#annotate(descent1, 1, 'go', 0.8, -0.006)\n",
    "#annotate(descent1, 10, 'go', 0.8, -0.006)\n",
    "annotate(descent1, 34, 'go', -8, -0.009)\n",
    "\n",
    "#annotate(descent3, 1, 'ro', 0.7, 0.004)\n",
    "#annotate(descent3, 11, 'ro', 0.8, 0.004)\n",
    "annotate(descent3, 20, 'ro', 0.8, 0.006)\n",
    "\n",
    "plt.xlabel('number of iteration')\n",
    "plt.ylabel('predicted - observed')\n",
    "\n",
    "plt.xlim([0, 35])\n",
    "plt.ylim([-0.08, 0.03])\n",
    "\n",
    "line1, = plt.plot(descent1.grads[:35], 'g', label=r'step size = $3$')\n",
    "line2, = plt.plot(descent3.grads[:36], 'r', label=r'step size = $20$')\n",
    "\n",
    "plt.legend(handles=[line1, line2], loc='lower right')\n",
    "\n",
    "plt.show()"
   ]
  },
  {
   "cell_type": "markdown",
   "metadata": {
    "collapsed": false
   },
   "source": [
    "# The Proper Way"
   ]
  },
  {
   "cell_type": "code",
   "execution_count": 68,
   "metadata": {
    "collapsed": false
   },
   "outputs": [
    {
     "data": {
      "text/plain": [
       "<module 'models.optimize' from '/home/pavel/Projects/thesis/models/optimize.pyc'>"
      ]
     },
     "execution_count": 68,
     "metadata": {},
     "output_type": "execute_result"
    }
   ],
   "source": [
    "reload(optimize)"
   ]
  },
  {
   "cell_type": "code",
   "execution_count": 52,
   "metadata": {
    "collapsed": false
   },
   "outputs": [
    {
     "name": "stdout",
     "output_type": "stream",
     "text": [
      "Loaded 85915 answers.\n"
     ]
    }
   ],
   "source": [
    "data = tools.load_data(limit=100000, offset=2000000)"
   ]
  },
  {
   "cell_type": "code",
   "execution_count": 59,
   "metadata": {
    "collapsed": false
   },
   "outputs": [],
   "source": [
    "data = data[filters.for_staircase(data)]"
   ]
  },
  {
   "cell_type": "code",
   "execution_count": 64,
   "metadata": {
    "collapsed": false
   },
   "outputs": [],
   "source": [
    "descent = optimize.GradientDescent(data)"
   ]
  },
  {
   "cell_type": "code",
   "execution_count": 65,
   "metadata": {
    "collapsed": false
   },
   "outputs": [
    {
     "name": "stdout",
     "output_type": "stream",
     "text": [
      "   2.50000    0.80000        inf\n",
      "   2.53135    1.07563   -0.00354\n",
      "   2.58847    1.12907   -0.00375\n",
      "   2.58106    1.12488   -0.00435\n",
      "   2.57004    1.10855   -0.00451\n",
      "   2.56305    1.08860   -0.00454\n",
      "   2.55936    1.06860   -0.00454\n",
      "   2.55767    1.05011   -0.00453\n",
      "   2.55710    1.03360   -0.00453\n",
      "   2.55713    1.01907   -0.00452\n",
      "   2.55747    1.00633   -0.00452\n",
      "   2.55798    0.99515   -0.00452\n",
      "   2.55855    0.98532   -0.00452\n",
      "   2.55916    0.97665   -0.00451\n",
      "   2.55976    0.96896   -0.00451\n",
      "   2.56035    0.96213   -0.00451\n"
     ]
    }
   ],
   "source": [
    "result = descent.search_staircase(init_learn_rate=0.01, number_of_iter=15)"
   ]
  },
  {
   "cell_type": "code",
   "execution_count": 66,
   "metadata": {
    "collapsed": false
   },
   "outputs": [
    {
     "data": {
      "text/plain": [
       "Iterations: 15\n",
       "Gamma: 2.56035\n",
       "Delta: 0.96213\n",
       "Staircase:\n",
       "       60       90      150      300      600     1800    10800    86400   604800      inf\n",
       "   +1.259   +0.671   +0.567   +0.200   +0.340   +0.363   +0.286   +0.012   +0.024   +0.000"
      ]
     },
     "execution_count": 66,
     "metadata": {},
     "output_type": "execute_result"
    }
   ],
   "source": [
    "result"
   ]
  },
  {
   "cell_type": "code",
   "execution_count": 45,
   "metadata": {
    "collapsed": false
   },
   "outputs": [
    {
     "data": {
      "text/plain": [
       "[<matplotlib.lines.Line2D at 0x7f28ed767050>]"
      ]
     },
     "execution_count": 45,
     "metadata": {},
     "output_type": "execute_result"
    }
   ],
   "source": [
    "result.plot(color='orange')"
   ]
  },
  {
   "cell_type": "code",
   "execution_count": 3,
   "metadata": {
    "collapsed": false
   },
   "outputs": [
    {
     "name": "stdout",
     "output_type": "stream",
     "text": [
      "[9]: done!\n"
     ]
    }
   ],
   "source": [
    "train_data = []\n",
    "for i in range(10):\n",
    "    limit, offset = 120000, i * 120000 + 1000000\n",
    "    df = tools.load_data(limit=limit, offset=offset, echo_loaded=False)\n",
    "    df = df[filters.for_staircase(df)]\n",
    "    train_data.append(df.copy())\n",
    "    tools.echo('[{}]: Loaded {} answers.'.format(i, len(df)), clear=False)\n",
    "\n",
    "tools.echo('Data loaded.')\n",
    "\n",
    "results = []\n",
    "for i in range(10):\n",
    "    descent = optimize.GradientDescent(train_data[i])\n",
    "    res = descent.search_staircase(init_learn_rate=0.01, number_of_iter=25,\n",
    "                                   echo_iterations=False)\n",
    "    results.append(res)\n",
    "    tools.echo('[{}]: done!'.format(i), clear=False)"
   ]
  },
  {
   "cell_type": "code",
   "execution_count": 5,
   "metadata": {
    "collapsed": false
   },
   "outputs": [],
   "source": [
    "x_matrix = []\n",
    "y_matrix = []\n",
    "for res in results:\n",
    "    stairs = sorted(res.staircases[-1].items(), key=lambda x: x[0])\n",
    "    staircase_times = res.model.metadata['staircase_times']\n",
    "\n",
    "    xi_axis = [np.mean(staircase_times[i]) for i in res.intervals]\n",
    "    yi_axis = [value for interval, value in stairs]\n",
    "    \n",
    "    x_matrix.append(xi_axis)\n",
    "    y_matrix.append(yi_axis)\n",
    "\n",
    "x_axis = []\n",
    "y_axis = []\n",
    "e_vals = []\n",
    "for i in range(len(x_matrix[0])):\n",
    "    x_axis += [np.mean([x_matrix[j][i] for j in range(len(x_matrix))])]\n",
    "    y_axis += [np.mean([y_matrix[j][i] for j in range(len(x_matrix))])]\n",
    "    e_vals += [np.std([y_matrix[j][i] for j in range(len(x_matrix))]) / 2]\n",
    "\n",
    "plt.errorbar(x_axis, y_axis, e_vals,\n",
    "             ecolor='orange', elinewidth='2',\n",
    "             linestyle='--', linewidth='2',\n",
    "             capthick='2', capsize=4,\n",
    "             color='#02A5F4', marker='o')\n",
    "\n",
    "plt.xscale('log')\n",
    "plt.xlabel('Time from previous attempt in seconds.')\n",
    "plt.ylabel('Memory activation')\n",
    "\n",
    "plt.show()"
   ]
  },
  {
   "cell_type": "code",
   "execution_count": 8,
   "metadata": {
    "collapsed": false
   },
   "outputs": [
    {
     "name": "stdout",
     "output_type": "stream",
     "text": [
      "gamma=2.281, delta=0.865\n"
     ]
    }
   ],
   "source": [
    "gamma_std = np.mean([res.gammas[-1] for res in results])\n",
    "delta_std = np.mean([res.deltas[-1] for res in results])\n",
    "tools.echo('gamma={:.3f}, delta={:.3f}'.format(gamma_std, delta_std), clear=False)"
   ]
  },
  {
   "cell_type": "code",
   "execution_count": null,
   "metadata": {
    "collapsed": true
   },
   "outputs": [],
   "source": []
  }
 ],
 "metadata": {
  "kernelspec": {
   "display_name": "Python 2",
   "language": "python",
   "name": "python2"
  },
  "language_info": {
   "codemirror_mode": {
    "name": "ipython",
    "version": 2
   },
   "file_extension": ".py",
   "mimetype": "text/x-python",
   "name": "python",
   "nbconvert_exporter": "python",
   "pygments_lexer": "ipython2",
   "version": "2.7.6"
  }
 },
 "nbformat": 4,
 "nbformat_minor": 0
}
