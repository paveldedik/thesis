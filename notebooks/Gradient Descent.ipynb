{
 "cells": [
  {
   "cell_type": "code",
   "execution_count": 1,
   "metadata": {
    "collapsed": false
   },
   "outputs": [],
   "source": [
    "%matplotlib qt4\n",
    "from __future__ import division\n",
    "\n",
    "from models import tools, optimize, models\n",
    "from models.tests import PerformanceTest\n",
    "\n",
    "import numpy as np\n",
    "import pandas as pd\n",
    "import matplotlib.pyplot as plt"
   ]
  },
  {
   "cell_type": "markdown",
   "metadata": {},
   "source": [
    "# The Naive Way"
   ]
  },
  {
   "cell_type": "code",
   "execution_count": 29,
   "metadata": {
    "collapsed": false
   },
   "outputs": [
    {
     "name": "stdout",
     "output_type": "stream",
     "text": [
      "Loaded 29981 answers.\n"
     ]
    }
   ],
   "source": [
    "data = tools.load_data(limit=40000, offset=2400000)"
   ]
  },
  {
   "cell_type": "code",
   "execution_count": 19,
   "metadata": {
    "collapsed": false
   },
   "outputs": [],
   "source": [
    "grad = optimize.NaiveDescent(data)"
   ]
  },
  {
   "cell_type": "code",
   "execution_count": 20,
   "metadata": {
    "collapsed": false
   },
   "outputs": [
    {
     "name": "stdout",
     "output_type": "stream",
     "text": [
      "gamma: 3.18298528419; grad: -0.000741008113952\n",
      "delta: -0.303539220688; grad: -0.000729927486385\n"
     ]
    }
   ],
   "source": [
    "descent1 = grad.search_pfa(1.5, -2, step_size=3, maxiter=100, precision=0.005)"
   ]
  },
  {
   "cell_type": "code",
   "execution_count": 46,
   "metadata": {
    "collapsed": false
   },
   "outputs": [
    {
     "name": "stdout",
     "output_type": "stream",
     "text": [
      "gamma: 3.80556357186; grad: 0.000890172684958\n",
      "delta: -0.678034006194; grad: 0.000878019898582\n"
     ]
    }
   ],
   "source": [
    "descent2 = grad.search_pfa(5, 0.5, step_size=2.5, maxiter=100, precision=0.005)"
   ]
  },
  {
   "cell_type": "code",
   "execution_count": 93,
   "metadata": {
    "collapsed": false
   },
   "outputs": [
    {
     "name": "stdout",
     "output_type": "stream",
     "text": [
      "gamma: 1.85300525851; grad: 0.000260020806278\n",
      "delta: -1.57543851455; grad: 0.000284481491125\n"
     ]
    }
   ],
   "source": [
    "descent3 = grad.search_pfag(1.5, -2, step_size=20, maxiter=36, precision=0.005)"
   ]
  },
  {
   "cell_type": "code",
   "execution_count": 37,
   "metadata": {
    "collapsed": false
   },
   "outputs": [],
   "source": [
    "elo = models.EloModel()\n",
    "pfa = models.PFAModel(elo, gamma=2.99622612646, delta=-0.476090204636)\n",
    "pfa_test = PerformanceTest(pfa, data)\n",
    "pfa_test.run()"
   ]
  },
  {
   "cell_type": "code",
   "execution_count": 38,
   "metadata": {
    "collapsed": false
   },
   "outputs": [
    {
     "data": {
      "text/plain": [
       "RMSE: 0.361919204016\n",
       "AUC: 0.787337458274\n",
       "OFF: -6.24923069748e-05\n",
       "Set Size: 50000"
      ]
     },
     "execution_count": 38,
     "metadata": {},
     "output_type": "execute_result"
    }
   ],
   "source": [
    "pfa_test.results['train']"
   ]
  },
  {
   "cell_type": "code",
   "execution_count": 120,
   "metadata": {
    "collapsed": false
   },
   "outputs": [],
   "source": [
    "def annotate(descent, number, mark, xadd, yadd):\n",
    "    row = descent.params.loc[number]\n",
    "    grad = descent.grads.loc[number]\n",
    "    plt.annotate(r'$\\gamma={}$, $\\delta={}$'.format(round(row.gamma, 2), round(row.delta, 2)),\n",
    "                 xy=(number, grad), xycoords='data',\n",
    "                 xytext=(number + xadd, grad + yadd), textcoords='data',\n",
    "                 bbox=dict(boxstyle=\"round\", fc=\"w\"))\n",
    "    plt.plot(number, grad, mark)\n",
    "    \n",
    "#annotate(descent1, 1, 'go', 0.8, -0.006)\n",
    "#annotate(descent1, 10, 'go', 0.8, -0.006)\n",
    "annotate(descent1, 34, 'go', -8, -0.009)\n",
    "\n",
    "#annotate(descent3, 1, 'ro', 0.7, 0.004)\n",
    "#annotate(descent3, 11, 'ro', 0.8, 0.004)\n",
    "annotate(descent3, 20, 'ro', 0.8, 0.006)\n",
    "\n",
    "plt.xlabel('number of iteration')\n",
    "plt.ylabel('predicted - observed')\n",
    "\n",
    "plt.xlim([0, 35])\n",
    "plt.ylim([-0.08, 0.03])\n",
    "\n",
    "line1, = plt.plot(descent1.grads[:35], 'g', label=r'step size = $3$')\n",
    "line2, = plt.plot(descent3.grads[:36], 'r', label=r'step size = $20$')\n",
    "\n",
    "plt.legend(handles=[line1, line2], loc='lower right')\n",
    "\n",
    "plt.show()"
   ]
  },
  {
   "cell_type": "markdown",
   "metadata": {
    "collapsed": false
   },
   "source": [
    "# The Proper Way"
   ]
  },
  {
   "cell_type": "code",
   "execution_count": 300,
   "metadata": {
    "collapsed": false
   },
   "outputs": [
    {
     "data": {
      "text/plain": [
       "<module 'models.optimize' from '/home/pavel/Projects/thesis/models/optimize.py'>"
      ]
     },
     "execution_count": 300,
     "metadata": {},
     "output_type": "execute_result"
    }
   ],
   "source": [
    "reload(optimize)"
   ]
  },
  {
   "cell_type": "code",
   "execution_count": 247,
   "metadata": {
    "collapsed": false
   },
   "outputs": [
    {
     "name": "stdout",
     "output_type": "stream",
     "text": [
      "Loaded 60217 answers.\n"
     ]
    }
   ],
   "source": [
    "data = tools.load_data(limit=80000, offset=8000000)"
   ]
  },
  {
   "cell_type": "code",
   "execution_count": 301,
   "metadata": {
    "collapsed": false
   },
   "outputs": [],
   "source": [
    "descent = optimize.GradientDescent(data)"
   ]
  },
  {
   "cell_type": "code",
   "execution_count": 302,
   "metadata": {
    "collapsed": false
   },
   "outputs": [
    {
     "name": "stdout",
     "output_type": "stream",
     "text": [
      "   2.30000    0.80000        inf\n",
      "   2.34590    0.63027    0.00302\n",
      "   2.40387    0.65443    0.00189\n",
      "   2.43757    0.67926    0.00186\n",
      "   2.45930    0.68905    0.00189\n",
      "   2.47563    0.69302    0.00193\n",
      "   2.48867    0.69539    0.00196\n",
      "   2.49937    0.69775    0.00198\n",
      "   2.50821    0.70067    0.00199\n",
      "   2.51552    0.70427    0.00200\n",
      "   2.52154    0.70853    0.00199\n"
     ]
    }
   ],
   "source": [
    "result = descent.search_staircase(init_gamma=2.3, init_delta=0.8, init_learn_rate=0.02, number_of_iter=10)"
   ]
  },
  {
   "cell_type": "code",
   "execution_count": 303,
   "metadata": {
    "collapsed": false
   },
   "outputs": [
    {
     "data": {
      "text/plain": [
       "Iterations: 11\n",
       "Gamma: 2.52154\n",
       "Delta: 0.70853\n",
       "Staircase:\n",
       "       60       90      150      300      600     1800    10800    86400   259200      inf\n",
       "   +1.285   +0.927   +0.631   +0.489   +0.393   +0.331   +0.252   -0.019   -0.205   +0.000"
      ]
     },
     "execution_count": 303,
     "metadata": {},
     "output_type": "execute_result"
    }
   ],
   "source": [
    "result"
   ]
  },
  {
   "cell_type": "code",
   "execution_count": 304,
   "metadata": {
    "collapsed": false
   },
   "outputs": [
    {
     "data": {
      "text/plain": [
       "[<matplotlib.lines.Line2D at 0x7fe9aac3af90>]"
      ]
     },
     "execution_count": 304,
     "metadata": {},
     "output_type": "execute_result"
    }
   ],
   "source": [
    "result.plot(color='orange')"
   ]
  },
  {
   "cell_type": "code",
   "execution_count": null,
   "metadata": {
    "collapsed": true
   },
   "outputs": [],
   "source": []
  }
 ],
 "metadata": {
  "kernelspec": {
   "display_name": "Python 2",
   "language": "python",
   "name": "python2"
  },
  "language_info": {
   "codemirror_mode": {
    "name": "ipython",
    "version": 2
   },
   "file_extension": ".py",
   "mimetype": "text/x-python",
   "name": "python",
   "nbconvert_exporter": "python",
   "pygments_lexer": "ipython2",
   "version": "2.7.6"
  }
 },
 "nbformat": 4,
 "nbformat_minor": 0
}
