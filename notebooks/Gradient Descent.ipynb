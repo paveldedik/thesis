{
 "metadata": {
  "name": "",
  "signature": "sha256:87731a3ce05a1450af4a5276df2165fd9b91a50751efffcc4923a093460dee8e"
 },
 "nbformat": 3,
 "nbformat_minor": 0,
 "worksheets": [
  {
   "cells": [
    {
     "cell_type": "code",
     "collapsed": false,
     "input": [
      "%matplotlib qt4\n",
      "from __future__ import division\n",
      "\n",
      "from models import tools, optimize, models\n",
      "from models.tests import PerformanceTest\n",
      "\n",
      "import numpy as np\n",
      "import pandas as pd\n",
      "import matplotlib.pyplot as plt"
     ],
     "language": "python",
     "metadata": {},
     "outputs": [],
     "prompt_number": 1
    },
    {
     "cell_type": "code",
     "collapsed": false,
     "input": [
      "data = tools.load_data('../data/answers_all.csv', limit=2000, offset=1900000)\n",
      "#data = data[data['number_of_options'] == 0]"
     ],
     "language": "python",
     "metadata": {},
     "outputs": [],
     "prompt_number": 2
    },
    {
     "cell_type": "code",
     "collapsed": false,
     "input": [
      "grad = optimize.GradientDescent(data)"
     ],
     "language": "python",
     "metadata": {},
     "outputs": [],
     "prompt_number": 3
    },
    {
     "cell_type": "code",
     "collapsed": false,
     "input": [
      "descent1 = grad.search_pfa(1.5, -2, step_size=5, maxiter=100, precision=0.001)"
     ],
     "language": "python",
     "metadata": {},
     "outputs": [
      {
       "output_type": "stream",
       "stream": "stdout",
       "text": [
        "gamma: 3.04132803556; grad: -7.77550853139e-05\n",
        "delta: -0.443551603482; grad: -7.64141659243e-05\n"
       ]
      }
     ],
     "prompt_number": 4
    },
    {
     "cell_type": "code",
     "collapsed": false,
     "input": [
      "descent2 = grad.search_pfa(5, 0.5, step_size=5, maxiter=100, precision=0.001)"
     ],
     "language": "python",
     "metadata": {},
     "outputs": [
      {
       "output_type": "stream",
       "stream": "stdout",
       "text": [
        "gamma: 3.55744445089; grad: 7.02269192779e-05\n",
        "delta: -0.896899914892; grad: 6.81422558813e-05\n"
       ]
      }
     ],
     "prompt_number": 41
    },
    {
     "cell_type": "code",
     "collapsed": false,
     "input": [
      "elo = models.EloModel()\n",
      "pfa = models.PFAModel(elo, gamma=2.99622612646, delta=-0.476090204636)\n",
      "pfa_test = PerformanceTest(pfa, data)\n",
      "pfa_test.run()"
     ],
     "language": "python",
     "metadata": {},
     "outputs": [],
     "prompt_number": 37
    },
    {
     "cell_type": "code",
     "collapsed": false,
     "input": [
      "pfa_test.results['train']"
     ],
     "language": "python",
     "metadata": {},
     "outputs": [
      {
       "metadata": {},
       "output_type": "pyout",
       "prompt_number": 38,
       "text": [
        "RMSE: 0.361919204016\n",
        "AUC: 0.787337458274\n",
        "OFF: -6.24923069748e-05\n",
        "Set Size: 50000"
       ]
      }
     ],
     "prompt_number": 38
    },
    {
     "cell_type": "code",
     "collapsed": false,
     "input": [
      "def annotate(descent, number, mark, xadd, yadd):\n",
      "    row = descent.loc[number]\n",
      "    plt.annotate(r'$\\gamma={}$, $\\delta={}$'.format(round(row.gamma, 2), round(row.delta, 2)),\n",
      "                 xy=(number, row.grad), xycoords='data',\n",
      "                 xytext=(number + xadd, row.grad + yadd), textcoords='data',\n",
      "                 bbox=dict(boxstyle=\"round\", fc=\"w\"))\n",
      "    plt.plot(number, row.grad, mark)\n",
      "    \n",
      "annotate(descent1, 1, 'ro', 0.8, -0.002)\n",
      "annotate(descent1, 6, 'ro', 0.8, -0.007)\n",
      "annotate(descent1, 20, 'ro', -5, -0.009)\n",
      "\n",
      "annotate(descent2, 1, 'go', 0.8, 0.003)\n",
      "annotate(descent2, 6, 'go', 0.8, 0.003)\n",
      "annotate(descent2, 20, 'go', -5, 0.007)\n",
      "\n",
      "plt.title(r'Fitting PFA model with gradient descent.')\n",
      "\n",
      "plt.xlabel('iteration number')\n",
      "plt.ylabel('predicted - observed')\n",
      "\n",
      "plt.xlim([0, 23])\n",
      "#plt.ylim([-0.001, 0.045])\n",
      "\n",
      "line1, = plt.plot(descent1['grad'], 'r', label=r'initial $\\gamma = 1.5$, $\\delta = -2$')\n",
      "line2, = plt.plot(descent2['grad'], 'g', label=r'initial $\\gamma = 5$, $\\delta = 0.5$')\n",
      "\n",
      "plt.legend(handles=[line1, line2])\n",
      "\n",
      "plt.show()"
     ],
     "language": "python",
     "metadata": {},
     "outputs": [],
     "prompt_number": 54
    },
    {
     "cell_type": "code",
     "collapsed": false,
     "input": [
      "intervals = [0, 60, 90, 150, 300, 600, 1800, 10800, 86400, 259200, 2592000]\n",
      "descent_staircase = {i: None for i in zip(intervals, intervals[1:] + [np.inf])}\n",
      "\n",
      "for i in descent_staircase.keys():\n",
      "    result = grad.search_staircase_only({i: 0}, step_size=5, precision=0.001, maxiter=10)\n",
      "    descent_staircase[i] = result.best"
     ],
     "language": "python",
     "metadata": {},
     "outputs": [
      {
       "output_type": "stream",
       "stream": "stdout",
       "text": [
        "staircase_value: 0.65525061576; grad: -0.0115332606183\n"
       ]
      }
     ],
     "prompt_number": 4
    },
    {
     "cell_type": "code",
     "collapsed": false,
     "input": [
      "elo = models.EloModel()\n",
      "pfa = models.PFAStaircase(elo, gamma=2.76993035295, delta=-0.434043748894, staircase={(0, 60): 0.506657834582})\n",
      "pfa_test = PerformanceTest(pfa, data)\n",
      "pfa_test.run()"
     ],
     "language": "python",
     "metadata": {},
     "outputs": [],
     "prompt_number": 26
    },
    {
     "cell_type": "code",
     "collapsed": false,
     "input": [
      "plt.plot([descent_staircase[i]['staircase_value'] for i in sorted(descent_staircase)])"
     ],
     "language": "python",
     "metadata": {},
     "outputs": [
      {
       "metadata": {},
       "output_type": "pyout",
       "prompt_number": 37,
       "text": [
        "[<matplotlib.lines.Line2D at 0x7fde23c3f090>]"
       ]
      }
     ],
     "prompt_number": 37
    },
    {
     "cell_type": "code",
     "collapsed": false,
     "input": [
      "data = tools.add_spacing(data)"
     ],
     "language": "python",
     "metadata": {},
     "outputs": [],
     "prompt_number": 6
    },
    {
     "cell_type": "code",
     "collapsed": false,
     "input": [
      "interval = (90, 150)\n",
      "data_slice = data[(data['spacing'] > interval[0]) & (data['spacing'] < interval[1])].copy()\n",
      "len(data_slice)"
     ],
     "language": "python",
     "metadata": {},
     "outputs": [
      {
       "metadata": {},
       "output_type": "pyout",
       "prompt_number": 9,
       "text": [
        "737"
       ]
      }
     ],
     "prompt_number": 9
    },
    {
     "cell_type": "code",
     "collapsed": false,
     "input": [
      "intervals = [0, 60, 90, 150, 300, 600, 1800, 10800, 86400, 259200, 2592000]\n",
      "descent_staircase = {i: None for i in zip(intervals, intervals[1:] + [np.inf])}\n",
      "grad = optimize.GradientDescent(data_slice)\n",
      "\n",
      "for i in descent_staircase.keys():\n",
      "    result = grad.search_staircase(3, -0.5, {i: 0}, step_size=20, precision=0.001, maxiter=50)\n",
      "    descent_staircase[i] = result"
     ],
     "language": "python",
     "metadata": {},
     "outputs": [
      {
       "output_type": "stream",
       "stream": "stdout",
       "text": [
        "staircase_value: 2.32412220416; grad: -1.46583164965e-05\n",
        "gamma: 5.18926188845; grad: -1.39340247721e-05\n",
        "delta: 1.50974436461; grad: -1.31030974389e-05\n"
       ]
      }
     ],
     "prompt_number": 12
    },
    {
     "cell_type": "code",
     "collapsed": false,
     "input": [],
     "language": "python",
     "metadata": {},
     "outputs": []
    }
   ],
   "metadata": {}
  }
 ]
}