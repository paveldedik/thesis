{
 "metadata": {
  "name": "",
  "signature": "sha256:f9f21e2f52744c53a885945700f6705852ba6279bec487b85b68c7a49caf3ab3"
 },
 "nbformat": 3,
 "nbformat_minor": 0,
 "worksheets": [
  {
   "cells": [
    {
     "cell_type": "code",
     "collapsed": false,
     "input": [
      "%matplotlib qt4\n",
      "from __future__ import division\n",
      "\n",
      "from models import tools, optimize, models\n",
      "from models.tests import PerformanceTest\n",
      "\n",
      "import numpy as np\n",
      "import pandas as pd\n",
      "import matplotlib.pyplot as plt"
     ],
     "language": "python",
     "metadata": {},
     "outputs": [],
     "prompt_number": 1
    },
    {
     "cell_type": "code",
     "collapsed": false,
     "input": [
      "data = tools.load_data('../data/answers_all.csv', limit=10000, offset=1900000)\n",
      "#data = data[data['number_of_options'] == 0]"
     ],
     "language": "python",
     "metadata": {},
     "outputs": [],
     "prompt_number": 2
    },
    {
     "cell_type": "code",
     "collapsed": false,
     "input": [
      "grad = optimize.GradientDescent(data)"
     ],
     "language": "python",
     "metadata": {},
     "outputs": [],
     "prompt_number": 3
    },
    {
     "cell_type": "code",
     "collapsed": false,
     "input": [
      "descent1 = grad.search_pfa(1.5, -2, step_size=5, maxiter=100, precision=0.001)"
     ],
     "language": "python",
     "metadata": {},
     "outputs": [
      {
       "output_type": "stream",
       "stream": "stdout",
       "text": [
        "gamma: 2.99622612646; grad: -7.34944707272e-05\n",
        "delta: -0.476090204636; grad: -7.12336049037e-05\n"
       ]
      }
     ],
     "prompt_number": 36
    },
    {
     "cell_type": "code",
     "collapsed": false,
     "input": [
      "descent2 = grad.search_pfa(5, 0.5, step_size=5, maxiter=100, precision=0.001)"
     ],
     "language": "python",
     "metadata": {},
     "outputs": [
      {
       "output_type": "stream",
       "stream": "stdout",
       "text": [
        "gamma: 3.55744445089; grad: 7.02269192779e-05\n",
        "delta: -0.896899914892; grad: 6.81422558813e-05\n"
       ]
      }
     ],
     "prompt_number": 41
    },
    {
     "cell_type": "code",
     "collapsed": false,
     "input": [
      "elo = models.EloModel()\n",
      "pfa = models.PFAModel(elo, gamma=2.99622612646, delta=-0.476090204636)\n",
      "pfa_test = PerformanceTest(pfa, data)\n",
      "pfa_test.run()"
     ],
     "language": "python",
     "metadata": {},
     "outputs": [],
     "prompt_number": 37
    },
    {
     "cell_type": "code",
     "collapsed": false,
     "input": [
      "pfa_test.results['train']"
     ],
     "language": "python",
     "metadata": {},
     "outputs": [
      {
       "metadata": {},
       "output_type": "pyout",
       "prompt_number": 38,
       "text": [
        "RMSE: 0.361919204016\n",
        "AUC: 0.787337458274\n",
        "OFF: -6.24923069748e-05\n",
        "Set Size: 50000"
       ]
      }
     ],
     "prompt_number": 38
    },
    {
     "cell_type": "code",
     "collapsed": false,
     "input": [
      "def annotate(descent, number, mark, xadd, yadd):\n",
      "    row = descent.loc[number]\n",
      "    plt.annotate(r'$\\gamma={}$, $\\delta={}$'.format(round(row.gamma, 2), round(row.delta, 2)),\n",
      "                 xy=(number, row.grad), xycoords='data',\n",
      "                 xytext=(number + xadd, row.grad + yadd), textcoords='data',\n",
      "                 bbox=dict(boxstyle=\"round\", fc=\"w\"))\n",
      "    plt.plot(number, row.grad, mark)\n",
      "    \n",
      "annotate(descent1, 1, 'ro', 0.8, -0.002)\n",
      "annotate(descent1, 6, 'ro', 0.8, -0.007)\n",
      "annotate(descent1, 20, 'ro', -5, -0.009)\n",
      "\n",
      "annotate(descent2, 1, 'go', 0.8, 0.003)\n",
      "annotate(descent2, 6, 'go', 0.8, 0.003)\n",
      "annotate(descent2, 20, 'go', -5, 0.007)\n",
      "\n",
      "plt.title(r'Fitting PFA model with gradient descent.')\n",
      "\n",
      "plt.xlabel('iteration number')\n",
      "plt.ylabel('predicted - observed')\n",
      "\n",
      "plt.xlim([0, 23])\n",
      "#plt.ylim([-0.001, 0.045])\n",
      "\n",
      "line1, = plt.plot(descent1['grad'], 'r', label=r'initial $\\gamma = 1.5$, $\\delta = -2$')\n",
      "line2, = plt.plot(descent2['grad'], 'g', label=r'initial $\\gamma = 5$, $\\delta = 0.5$')\n",
      "\n",
      "plt.legend(handles=[line1, line2])\n",
      "\n",
      "plt.show()"
     ],
     "language": "python",
     "metadata": {},
     "outputs": [],
     "prompt_number": 54
    },
    {
     "cell_type": "code",
     "collapsed": false,
     "input": [
      "intervals = [0, 60, 90, 150, 300, 600, 1800, 10800, 86400, 259200, 2592000]\n",
      "descent_staircase = {i: None for i in zip(intervals, intervals[1:] + [np.inf])}\n",
      "\n",
      "for i in descent_staircase.keys():\n",
      "    result = grad.search_staircase_only({i: 0}, step_size=5, precision=0.001, maxiter=10)\n",
      "    descent_staircase[i] = result.best"
     ],
     "language": "python",
     "metadata": {},
     "outputs": [
      {
       "output_type": "stream",
       "stream": "stdout",
       "text": [
        "staircase_value: 0.65525061576; grad: -0.0115332606183\n"
       ]
      }
     ],
     "prompt_number": 4
    },
    {
     "cell_type": "code",
     "collapsed": false,
     "input": [
      "elo = models.EloModel()\n",
      "pfa = models.PFAStaircase(elo, gamma=2.76993035295, delta=-0.434043748894, staircase={(0, 60): 0.506657834582})\n",
      "pfa_test = PerformanceTest(pfa, data)\n",
      "pfa_test.run()"
     ],
     "language": "python",
     "metadata": {},
     "outputs": [],
     "prompt_number": 26
    },
    {
     "cell_type": "code",
     "collapsed": false,
     "input": [
      "descent_staircase"
     ],
     "language": "python",
     "metadata": {},
     "outputs": [
      {
       "metadata": {},
       "output_type": "pyout",
       "prompt_number": 5,
       "text": [
        "{(0, 60): staircase_value    0.655251\n",
        " Name: 9, dtype: float64, (60, 90): staircase_value    0.638704\n",
        " Name: 9, dtype: float64, (90, 150): staircase_value    0.607177\n",
        " Name: 9, dtype: float64, (150, 300): staircase_value    0.602507\n",
        " Name: 9, dtype: float64, (300, 600): staircase_value    0.661632\n",
        " Name: 9, dtype: float64, (600, 1800): staircase_value    0.673158\n",
        " Name: 9, dtype: float64, (1800, 10800): staircase_value    0.697401\n",
        " Name: 9, dtype: float64, (10800, 86400): staircase_value    0.724287\n",
        " Name: 9, dtype: float64, (86400, 259200): staircase_value    0.729121\n",
        " Name: 9, dtype: float64, (259200, 2592000): staircase_value    0.729121\n",
        " Name: 9, dtype: float64, (2592000, inf): staircase_value    0.729121\n",
        " Name: 9, dtype: float64}"
       ]
      }
     ],
     "prompt_number": 5
    },
    {
     "cell_type": "code",
     "collapsed": false,
     "input": [
      "plt.plot([descent_staircase[i]['staircase_value'] for i in sorted(descent_staircase)])"
     ],
     "language": "python",
     "metadata": {},
     "outputs": [
      {
       "metadata": {},
       "output_type": "pyout",
       "prompt_number": 37,
       "text": [
        "[<matplotlib.lines.Line2D at 0x7fde23c3f090>]"
       ]
      }
     ],
     "prompt_number": 37
    },
    {
     "cell_type": "code",
     "collapsed": false,
     "input": [
      "from collections import defaultdict\n",
      "answers = defaultdict(lambda: {'answers'})"
     ],
     "language": "python",
     "metadata": {},
     "outputs": [],
     "prompt_number": 23
    },
    {
     "cell_type": "code",
     "collapsed": false,
     "input": [
      "for _, row in data.iterrows():\n",
      "    answers[(row.user_id, row.place_id)].append(tools.to_datetime(row.inserted))"
     ],
     "language": "python",
     "metadata": {},
     "outputs": [],
     "prompt_number": 24
    },
    {
     "cell_type": "code",
     "collapsed": false,
     "input": [
      "def get_interval(value, intervals):\n",
      "    for lower, upper in intervals:\n",
      "        if lower <= value <= upper:\n",
      "            return lower, upper"
     ],
     "language": "python",
     "metadata": {},
     "outputs": [],
     "prompt_number": 40
    },
    {
     "cell_type": "code",
     "collapsed": false,
     "input": [
      "test_intervals = {i: 0 for i in zip(intervals, intervals[1:] + [np.inf])}"
     ],
     "language": "python",
     "metadata": {},
     "outputs": [],
     "prompt_number": 43
    },
    {
     "cell_type": "code",
     "collapsed": false,
     "input": [
      "for question_answers in answers.values():\n",
      "    answers_sorted = sorted(question_answers)\n",
      "    for first, second in zip(answers_sorted, answers_sorted[1:]):\n",
      "        diff = tools.time_diff(second, first)\n",
      "        test_intervals[get_interval(diff, test_intervals)] += 1"
     ],
     "language": "python",
     "metadata": {},
     "outputs": [],
     "prompt_number": 44
    },
    {
     "cell_type": "code",
     "collapsed": false,
     "input": [
      "test_intervals"
     ],
     "language": "python",
     "metadata": {},
     "outputs": [
      {
       "metadata": {},
       "output_type": "pyout",
       "prompt_number": 45,
       "text": [
        "{(0, 60): 611,\n",
        " (60, 90): 756,\n",
        " (90, 150): 1108,\n",
        " (150, 300): 1213,\n",
        " (300, 600): 583,\n",
        " (600, 1800): 442,\n",
        " (1800, 10800): 269,\n",
        " (10800, 86400): 31,\n",
        " (86400, 259200): 0,\n",
        " (259200, 2592000): 0,\n",
        " (2592000, inf): 0}"
       ]
      }
     ],
     "prompt_number": 45
    },
    {
     "cell_type": "code",
     "collapsed": false,
     "input": [
      "get_interval(200, test_intervals)"
     ],
     "language": "python",
     "metadata": {},
     "outputs": [
      {
       "metadata": {},
       "output_type": "pyout",
       "prompt_number": 42,
       "text": [
        "(150, 300)"
       ]
      }
     ],
     "prompt_number": 42
    },
    {
     "cell_type": "code",
     "collapsed": false,
     "input": [],
     "language": "python",
     "metadata": {},
     "outputs": []
    }
   ],
   "metadata": {}
  }
 ]
}