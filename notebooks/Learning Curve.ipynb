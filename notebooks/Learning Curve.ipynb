{
 "metadata": {
  "name": "",
  "signature": "sha256:8c94f668d564947e6ec7e7eadaa975e1da56c0217f800e8a5c7b89438ba6485e"
 },
 "nbformat": 3,
 "nbformat_minor": 0,
 "worksheets": [
  {
   "cells": [
    {
     "cell_type": "code",
     "collapsed": false,
     "input": [
      "%matplotlib qt4"
     ],
     "language": "python",
     "metadata": {},
     "outputs": [],
     "prompt_number": 2
    },
    {
     "cell_type": "code",
     "collapsed": false,
     "input": [
      "from learn import tools, EloModel, PFAModel\n",
      "\n",
      "import numpy as np\n",
      "import pandas as pd\n",
      "import matplotlib.pyplot as plt"
     ],
     "language": "python",
     "metadata": {},
     "outputs": [],
     "prompt_number": 10
    },
    {
     "cell_type": "code",
     "collapsed": false,
     "input": [
      "data = tools.load('data/answers_train.csv')"
     ],
     "language": "python",
     "metadata": {},
     "outputs": [],
     "prompt_number": 5
    },
    {
     "cell_type": "code",
     "collapsed": false,
     "input": [
      "train = data[(data['number_of_options'] == 0) & (data['place_asked'] < 225) & (data['place_asked'] > 50)]"
     ],
     "language": "python",
     "metadata": {},
     "outputs": [],
     "prompt_number": 6
    },
    {
     "cell_type": "code",
     "collapsed": false,
     "input": [
      "intervals = lambda r: [x**2 for x in range(5, int(np.sqrt(r)), 5)]"
     ],
     "language": "python",
     "metadata": {},
     "outputs": [],
     "prompt_number": 7
    },
    {
     "cell_type": "code",
     "collapsed": false,
     "input": [
      "train_examples = []\n",
      "train_errs, valid_errs = [], []\n",
      "\n",
      "test_data = tools.get_prior(tools.prepare_data(data[:10000]))\n",
      "train_set, valid_set = tools.split_data(test_data)\n",
      "limit = len(train_set)\n",
      "\n",
      "for i in intervals(limit):    \n",
      "    elo_train = EloModel(train_set[:i])\n",
      "    elo_train.train()\n",
      "\n",
      "    valid_set['prediction'] = valid_set.apply(elo_train.predict, axis=1)\n",
      "    \n",
      "    train_err = tools.rmse(elo_train.data['correct'], elo_train.data['prediction'])\n",
      "    valid_err = tools.rmse(valid_set['correct'], valid_set['prediction'])\n",
      "    \n",
      "    train_errs.append(train_err)\n",
      "    valid_errs.append(valid_err)\n",
      "    train_examples.append(i)\n",
      "\n",
      "    tools.echo('examples: {}, train RMSE: {}, cross RMSE: {}'.format(i, train_err, valid_err))"
     ],
     "language": "python",
     "metadata": {},
     "outputs": [
      {
       "output_type": "stream",
       "stream": "stdout",
       "text": [
        "examples: 2500, train RMSE: 0.340386476298, cross RMSE: 0.386212576148\n"
       ]
      }
     ],
     "prompt_number": 14
    },
    {
     "cell_type": "code",
     "collapsed": false,
     "input": [
      "x = train_examples\n",
      "plt.plot(x, train_errs, 'g-', label='training set')\n",
      "plt.plot(x, valid_errs, 'r-', label='cross validation set')\n",
      "plt.legend(loc='lower right')\n",
      "plt.xlabel('Number of training examples.')\n",
      "plt.ylabel('RMSE')"
     ],
     "language": "python",
     "metadata": {},
     "outputs": [
      {
       "metadata": {},
       "output_type": "pyout",
       "prompt_number": 16,
       "text": [
        "<matplotlib.text.Text at 0x7f22be60a150>"
       ]
      }
     ],
     "prompt_number": 16
    },
    {
     "cell_type": "code",
     "collapsed": false,
     "input": [],
     "language": "python",
     "metadata": {},
     "outputs": []
    }
   ],
   "metadata": {}
  }
 ]
}