{
 "cells": [
  {
   "cell_type": "code",
   "execution_count": 9,
   "metadata": {
    "collapsed": false
   },
   "outputs": [],
   "source": [
    "%matplotlib qt4\n",
    "from models import tools, models, filters, tests\n",
    "\n",
    "import numpy as np\n",
    "import pandas as pd\n",
    "import matplotlib.pyplot as plt"
   ]
  },
  {
   "cell_type": "code",
   "execution_count": 16,
   "metadata": {
    "collapsed": false
   },
   "outputs": [],
   "source": [
    "data = tools.load_data(limit=20000)\n",
    "train = data[filters.open_questions(data) & filters.world_countries(data)]"
   ]
  },
  {
   "cell_type": "code",
   "execution_count": 17,
   "metadata": {
    "collapsed": false
   },
   "outputs": [],
   "source": [
    "intervals = lambda r: [x**2 for x in range(5, int(np.sqrt(r)), 5)]"
   ]
  },
  {
   "cell_type": "code",
   "execution_count": 18,
   "metadata": {
    "collapsed": false
   },
   "outputs": [
    {
     "name": "stdout",
     "output_type": "stream",
     "text": [
      "examples: 13225, train RMSE: 0.373162423621, cross RMSE: 0.424687572001\n"
     ]
    }
   ],
   "source": [
    "train_examples = []\n",
    "train_errs, valid_errs = [], []\n",
    "\n",
    "train_set, valid_set = tools.split_data(data)\n",
    "limit = len(train_set)\n",
    "\n",
    "for i in intervals(limit):    \n",
    "    elo_test = tests.PerformanceTest(models.EloModel(), data)\n",
    "    elo_test.test_set = valid_set\n",
    "    elo_test.train_set = train_set[:i]\n",
    "    elo_test.run()\n",
    "\n",
    "    valid_set['prediction'] = valid_set.apply(elo_train.predict, axis=1)\n",
    "    \n",
    "    train_err = elo_test.results['train'].rmse\n",
    "    valid_err = elo_test.results['test'].rmse\n",
    "    \n",
    "    train_errs.append(train_err)\n",
    "    valid_errs.append(valid_err)\n",
    "    train_examples.append(i)\n",
    "\n",
    "    tools.echo('examples: {}, train RMSE: {}, cross RMSE: {}'.format(i, train_err, valid_err))"
   ]
  },
  {
   "cell_type": "code",
   "execution_count": 19,
   "metadata": {
    "collapsed": false
   },
   "outputs": [
    {
     "data": {
      "text/plain": [
       "<matplotlib.text.Text at 0x7fe7eefeb350>"
      ]
     },
     "execution_count": 19,
     "metadata": {},
     "output_type": "execute_result"
    }
   ],
   "source": [
    "x = train_examples\n",
    "plt.plot(x, train_errs, 'g-', label='training set')\n",
    "plt.plot(x, valid_errs, 'r-', label='cross validation set')\n",
    "plt.legend(loc='lower right')\n",
    "plt.xscale('log')\n",
    "plt.xlabel('Number of training examples.')\n",
    "plt.ylabel('RMSE')"
   ]
  },
  {
   "cell_type": "code",
   "execution_count": null,
   "metadata": {
    "collapsed": false
   },
   "outputs": [],
   "source": []
  }
 ],
 "metadata": {
  "kernelspec": {
   "display_name": "Python 2",
   "language": "python",
   "name": "python2"
  },
  "language_info": {
   "codemirror_mode": {
    "name": "ipython",
    "version": 2
   },
   "file_extension": ".py",
   "mimetype": "text/x-python",
   "name": "python",
   "nbconvert_exporter": "python",
   "pygments_lexer": "ipython2",
   "version": "2.7.6"
  }
 },
 "nbformat": 4,
 "nbformat_minor": 0
}
