{
 "metadata": {
  "name": "",
  "signature": "sha256:fd8530c48779a7eb474f9d679db74d284914fa7080b6a5bbea44905a5ca676b5"
 },
 "nbformat": 3,
 "nbformat_minor": 0,
 "worksheets": [
  {
   "cells": [
    {
     "cell_type": "code",
     "collapsed": false,
     "input": [
      "%matplotlib qt4\n",
      "from models import tools, models, filters, tests\n",
      "\n",
      "import numpy as np\n",
      "import pandas as pd\n",
      "import matplotlib.pyplot as plt"
     ],
     "language": "python",
     "metadata": {},
     "outputs": [],
     "prompt_number": 9
    },
    {
     "cell_type": "code",
     "collapsed": false,
     "input": [
      "data = tools.load_data(limit=20000)\n",
      "train = data[filters.open_questions(data) & filters.world_countries(data)]"
     ],
     "language": "python",
     "metadata": {},
     "outputs": [],
     "prompt_number": 16
    },
    {
     "cell_type": "code",
     "collapsed": false,
     "input": [
      "intervals = lambda r: [x**2 for x in range(5, int(np.sqrt(r)), 5)]"
     ],
     "language": "python",
     "metadata": {},
     "outputs": [],
     "prompt_number": 17
    },
    {
     "cell_type": "code",
     "collapsed": false,
     "input": [
      "train_examples = []\n",
      "train_errs, valid_errs = [], []\n",
      "\n",
      "train_set, valid_set = tools.split_data(data)\n",
      "limit = len(train_set)\n",
      "\n",
      "for i in intervals(limit):    \n",
      "    elo_test = tests.PerformanceTest(models.EloModel(), data)\n",
      "    elo_test.test_set = valid_set\n",
      "    elo_test.train_set = train_set[:i]\n",
      "    elo_test.run()\n",
      "\n",
      "    valid_set['prediction'] = valid_set.apply(elo_train.predict, axis=1)\n",
      "    \n",
      "    train_err = elo_test.results['train'].rmse\n",
      "    valid_err = elo_test.results['test'].rmse\n",
      "    \n",
      "    train_errs.append(train_err)\n",
      "    valid_errs.append(valid_err)\n",
      "    train_examples.append(i)\n",
      "\n",
      "    tools.echo('examples: {}, train RMSE: {}, cross RMSE: {}'.format(i, train_err, valid_err))"
     ],
     "language": "python",
     "metadata": {},
     "outputs": [
      {
       "output_type": "stream",
       "stream": "stdout",
       "text": [
        "examples: 13225, train RMSE: 0.373162423621, cross RMSE: 0.424687572001\n"
       ]
      }
     ],
     "prompt_number": 18
    },
    {
     "cell_type": "code",
     "collapsed": false,
     "input": [
      "x = train_examples\n",
      "plt.plot(x, train_errs, 'g-', label='training set')\n",
      "plt.plot(x, valid_errs, 'r-', label='cross validation set')\n",
      "plt.legend(loc='lower right')\n",
      "plt.xscale('log')\n",
      "plt.xlabel('Number of training examples.')\n",
      "plt.ylabel('RMSE')"
     ],
     "language": "python",
     "metadata": {},
     "outputs": [
      {
       "metadata": {},
       "output_type": "pyout",
       "prompt_number": 19,
       "text": [
        "<matplotlib.text.Text at 0x7fe7eefeb350>"
       ]
      }
     ],
     "prompt_number": 19
    },
    {
     "cell_type": "code",
     "collapsed": false,
     "input": [],
     "language": "python",
     "metadata": {},
     "outputs": []
    }
   ],
   "metadata": {}
  }
 ]
}