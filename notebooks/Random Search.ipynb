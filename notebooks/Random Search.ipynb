{
 "metadata": {
  "name": "",
  "signature": "sha256:30f357e26945d449bf9dcb060fe4d4394a4db303f92214c68c15b9b89b04bbb7"
 },
 "nbformat": 3,
 "nbformat_minor": 0,
 "worksheets": [
  {
   "cells": [
    {
     "cell_type": "code",
     "collapsed": false,
     "input": [
      "%matplotlib qt4"
     ],
     "language": "python",
     "metadata": {},
     "outputs": [],
     "prompt_number": 1
    },
    {
     "cell_type": "code",
     "collapsed": false,
     "input": [
      "\n",
      "import itertools\n",
      "\n",
      "from models import tools, optimize, EloModel\n",
      "\n",
      "import scipy as sp\n",
      "import numpy as np\n",
      "import pandas as pd\n",
      "from sklearn.grid_search import RandomizedSearchCV"
     ],
     "language": "python",
     "metadata": {},
     "outputs": [],
     "prompt_number": 1
    },
    {
     "cell_type": "code",
     "collapsed": false,
     "input": [
      "data = tools.load_data('../data/answers_train.csv')[:200]"
     ],
     "language": "python",
     "metadata": {},
     "outputs": [],
     "prompt_number": 2
    },
    {
     "cell_type": "code",
     "collapsed": false,
     "input": [
      "params = {\n",
      "    'alpha': sp.stats.expon(scale=100), 'beta': sp.stats.expon(scale=100)\n",
      "}"
     ],
     "language": "python",
     "metadata": {},
     "outputs": [],
     "prompt_number": 4
    },
    {
     "cell_type": "code",
     "collapsed": false,
     "input": [
      "random_search = RandomizedSearchCV(EloModel(), params, scoring='r2')"
     ],
     "language": "python",
     "metadata": {},
     "outputs": [],
     "prompt_number": 5
    }
   ],
   "metadata": {}
  }
 ]
}