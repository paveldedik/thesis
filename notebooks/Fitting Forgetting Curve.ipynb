{
 "cells": [
  {
   "cell_type": "code",
   "execution_count": 31,
   "metadata": {
    "collapsed": true
   },
   "outputs": [],
   "source": [
    "%matplotlib qt4\n",
    "from collections import defaultdict, OrderedDict\n",
    "\n",
    "import numpy as np\n",
    "import matplotlib.pyplot as plt\n",
    "\n",
    "from models import PFAModel, EloModel, tools, tests"
   ]
  },
  {
   "cell_type": "code",
   "execution_count": 73,
   "metadata": {
    "collapsed": false
   },
   "outputs": [
    {
     "name": "stdout",
     "output_type": "stream",
     "text": [
      "Loaded 118837 answers.\n"
     ]
    }
   ],
   "source": [
    "data = tools.load_data(limit=150000, offset=8*10**6)"
   ]
  },
  {
   "cell_type": "code",
   "execution_count": 178,
   "metadata": {
    "collapsed": false
   },
   "outputs": [],
   "source": [
    "class PFALoggingTiming(PFAModel):\n",
    "    \n",
    "    def __init__(self, *args, **kwargs):\n",
    "        self.timings = defaultdict(list)\n",
    "        super(PFALoggingDiffs, self).__init__(*args, **kwargs)\n",
    "\n",
    "    def update(self, answer):\n",
    "        item = self.items[answer.user_id, answer.place_id]\n",
    "\n",
    "        if not item.practices:\n",
    "            self.prior.update(answer)\n",
    "\n",
    "        prediction = self.predict(answer)\n",
    "        self.predictions[answer.id] = prediction\n",
    "\n",
    "        if item.practices:\n",
    "            timing = tools.time_diff(answer.inserted, item.practices[-1].inserted)\n",
    "            self.timings[timing] += [(answer.is_correct, prediction)]\n",
    "\n",
    "        item.add_practice(answer)\n",
    "\n",
    "        if answer.is_correct:\n",
    "            item.inc_knowledge(self.gamma * (1 - prediction))\n",
    "        else:\n",
    "            item.inc_knowledge(self.delta * prediction)\n",
    "\n",
    "\n",
    "class PFALoggingMemoryActivation(PFAModel):\n",
    "    \n",
    "    def __init__(self, *args, **kwargs):\n",
    "        self.con = 0.05\n",
    "        self.timings = defaultdict(list)\n",
    "        super(PFALoggingMemoryActivation, self).__init__(*args, **kwargs)\n",
    "    \n",
    "    def get_memory_inc(self, answer):\n",
    "        item = self.items[answer.user_id, answer.place_id]\n",
    "        con = 1 - self.con if answer.is_correct else self.con\n",
    "        return np.log(- con / (con - 1)) - item.knowledge\n",
    "\n",
    "    def update(self, answer):\n",
    "        item = self.items[answer.user_id, answer.place_id]\n",
    "\n",
    "        if not item.practices:\n",
    "            self.prior.update(answer)\n",
    "\n",
    "        prediction = self.predict(answer)\n",
    "        self.predictions[answer.id] = prediction\n",
    "\n",
    "        if item.practices:\n",
    "            timing = tools.time_diff(answer.inserted, item.practices[-1].inserted)\n",
    "            if abs(prediction - is_correct) > self.con:\n",
    "                self.timings[timing] += [self.get_memory_inc(answer)]\n",
    "            else:\n",
    "                self.timings[timing] += [0]\n",
    "\n",
    "        item.add_practice(answer)\n",
    "\n",
    "        if answer.is_correct:\n",
    "            item.inc_knowledge(self.gamma * (1 - prediction))\n",
    "        else:\n",
    "            item.inc_knowledge(self.delta * prediction)"
   ]
  },
  {
   "cell_type": "code",
   "execution_count": 75,
   "metadata": {
    "collapsed": false
   },
   "outputs": [],
   "source": [
    "pfa_log = PFALoggingTiming(EloModel())\n",
    "pfa_log.train(data)\n",
    "timings = pfa_log.timings"
   ]
  },
  {
   "cell_type": "code",
   "execution_count": 184,
   "metadata": {
    "collapsed": false
   },
   "outputs": [],
   "source": [
    "pfa_log = PFALoggingMemoryActivation(EloModel(), gamma=2.9, delta=-0.7)\n",
    "pfa_log.train(data)\n",
    "timings2 = pfa_log.timings"
   ]
  },
  {
   "cell_type": "code",
   "execution_count": 112,
   "metadata": {
    "collapsed": false
   },
   "outputs": [],
   "source": [
    "curves = defaultdict(OrderedDict)\n",
    "counters = defaultdict(list)\n",
    "sizes = {0: 1000, 1: 3000}\n",
    "for i, t in enumerate(sorted(timings)):\n",
    "    if t < 5:\n",
    "        continue\n",
    "    for is_correct, prediction in timings[t]:\n",
    "        counters[is_correct] += [(t, is_correct - prediction)]\n",
    "        if len(counters[is_correct]) == sizes[is_correct]:\n",
    "            t_means = np.mean([ti for ti, _ in counters[is_correct]])\n",
    "            d_means = np.mean([di for _, di in counters[is_correct]])\n",
    "            curves[is_correct][t_means] = d_means\n",
    "            counters[is_correct] = []"
   ]
  },
  {
   "cell_type": "code",
   "execution_count": 113,
   "metadata": {
    "collapsed": false
   },
   "outputs": [
    {
     "data": {
      "text/plain": [
       "[<matplotlib.lines.Line2D at 0x7f2cf93dd9d0>,\n",
       " <matplotlib.lines.Line2D at 0x7f2cf920c410>]"
      ]
     },
     "execution_count": 113,
     "metadata": {},
     "output_type": "execute_result"
    }
   ],
   "source": [
    "plt.xscale('log')\n",
    "plt.plot(curves[1].keys(), curves[1].values(), '.-',\n",
    "         curves[0].keys(), curves[0].values(), '.-')"
   ]
  },
  {
   "cell_type": "code",
   "execution_count": 110,
   "metadata": {
    "collapsed": false
   },
   "outputs": [],
   "source": [
    "curve = OrderedDict()\n",
    "counter = []\n",
    "for i, t in enumerate(sorted(timings)):\n",
    "    if t < 5:\n",
    "        continue\n",
    "    for is_correct, prediction in timings[t]:\n",
    "        counter += [(t, is_correct - prediction)]\n",
    "        if len(counter) == 4000:\n",
    "            t_means = np.mean([ti for ti, _ in counter])\n",
    "            d_means = np.mean([di for _, di in counter])\n",
    "            curve[t_means] = d_means\n",
    "            counter = []"
   ]
  },
  {
   "cell_type": "code",
   "execution_count": 114,
   "metadata": {
    "collapsed": false
   },
   "outputs": [
    {
     "data": {
      "text/plain": [
       "[<matplotlib.lines.Line2D at 0x7f2cf920c290>]"
      ]
     },
     "execution_count": 114,
     "metadata": {},
     "output_type": "execute_result"
    }
   ],
   "source": [
    "plt.xscale('log')\n",
    "plt.plot(curve.keys(), curve.values(), '.-')"
   ]
  },
  {
   "cell_type": "code",
   "execution_count": 185,
   "metadata": {
    "collapsed": false
   },
   "outputs": [],
   "source": [
    "curve2 = OrderedDict()\n",
    "counter2 = []\n",
    "for i, t in enumerate(sorted(timings2)):\n",
    "    if t < 5:\n",
    "        continue\n",
    "    for m in timings2[t]:\n",
    "        counter2 += [(t, m)]\n",
    "        if len(counter2) == 3000 or i+1 == len(timings2):\n",
    "            t_means = np.mean([ti for ti, _ in counter2])\n",
    "            m_means = np.mean([mi for _, mi in counter2])\n",
    "            curve2[t_means] = m_means\n",
    "            counter2 = []"
   ]
  },
  {
   "cell_type": "code",
   "execution_count": 186,
   "metadata": {
    "collapsed": false
   },
   "outputs": [
    {
     "data": {
      "text/plain": [
       "[<matplotlib.lines.Line2D at 0x7f2d1cba8b90>]"
      ]
     },
     "execution_count": 186,
     "metadata": {},
     "output_type": "execute_result"
    }
   ],
   "source": [
    "plt.xscale('log')\n",
    "plt.plot(curve2.keys(), curve2.values(), '.-')"
   ]
  },
  {
   "cell_type": "code",
   "execution_count": null,
   "metadata": {
    "collapsed": true
   },
   "outputs": [],
   "source": []
  }
 ],
 "metadata": {
  "kernelspec": {
   "display_name": "Python 2",
   "language": "python",
   "name": "python2"
  },
  "language_info": {
   "codemirror_mode": {
    "name": "ipython",
    "version": 2
   },
   "file_extension": ".py",
   "mimetype": "text/x-python",
   "name": "python",
   "nbconvert_exporter": "python",
   "pygments_lexer": "ipython2",
   "version": "2.7.6"
  }
 },
 "nbformat": 4,
 "nbformat_minor": 0
}
