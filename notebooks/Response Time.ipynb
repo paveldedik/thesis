{
 "cells": [
  {
   "cell_type": "code",
   "execution_count": 3,
   "metadata": {
    "collapsed": false
   },
   "outputs": [],
   "source": [
    "%matplotlib qt4\n",
    "from __future__ import division\n",
    "\n",
    "from models import tools, filters\n",
    "\n",
    "import numpy as np\n",
    "import pandas as pd\n",
    "import matplotlib.pyplot as plt\n",
    "from collections import defaultdict"
   ]
  },
  {
   "cell_type": "code",
   "execution_count": 2,
   "metadata": {
    "collapsed": false
   },
   "outputs": [],
   "source": [
    "data = tools.load_data(limit=3000000)\n",
    "data = data[data['response_time'] < 15000]"
   ]
  },
  {
   "cell_type": "code",
   "execution_count": 4,
   "metadata": {
    "collapsed": false
   },
   "outputs": [],
   "source": [
    "data = data[filters.world_countries(data) & filters.open_questions(data)]"
   ]
  },
  {
   "cell_type": "code",
   "execution_count": 6,
   "metadata": {
    "collapsed": false
   },
   "outputs": [
    {
     "name": "stdout",
     "output_type": "stream",
     "text": [
      "14249.85-14999.0\n"
     ]
    }
   ],
   "source": [
    "_, bins = pd.cut(data['response_time'], bins=20, retbins=True)\n",
    "intervals = zip(bins[:-1], bins[1:])\n",
    "\n",
    "responses = defaultdict(lambda: [])\n",
    "for lower_bound, upper_bound in intervals:\n",
    "    tools.echo('{}-{}'.format(lower_bound, upper_bound))\n",
    "    for place in data['place_id'].unique():\n",
    "        vals = data[(data['response_time'] >= lower_bound) &\n",
    "                    (data['response_time'] < upper_bound) &\n",
    "                    (data['place_id'] == place)]\n",
    "        responses[place].append(vals['is_correct'].mean())"
   ]
  },
  {
   "cell_type": "code",
   "execution_count": 7,
   "metadata": {
    "collapsed": false
   },
   "outputs": [],
   "source": [
    "X = [[] for _ in intervals]\n",
    "for place in responses:\n",
    "    for i, value in enumerate(responses[place]):\n",
    "        if np.isfinite(value):\n",
    "            X[i].append(value)"
   ]
  },
  {
   "cell_type": "code",
   "execution_count": 9,
   "metadata": {
    "collapsed": false
   },
   "outputs": [],
   "source": [
    "labels = ['({}, {}]'.format(int(i), int(j)) for i, j in intervals]\n",
    "plt.xticks(rotation=70)\n",
    "plt.boxplot(X, labels=labels, showfliers=False)\n",
    "plt.xlabel('response time')\n",
    "plt.ylabel('probability of recall')\n",
    "plt.subplots_adjust(bottom=0.25)"
   ]
  },
  {
   "cell_type": "code",
   "execution_count": null,
   "metadata": {
    "collapsed": false
   },
   "outputs": [],
   "source": []
  }
 ],
 "metadata": {
  "kernelspec": {
   "display_name": "Python 2",
   "language": "python",
   "name": "python2"
  },
  "language_info": {
   "codemirror_mode": {
    "name": "ipython",
    "version": 2
   },
   "file_extension": ".py",
   "mimetype": "text/x-python",
   "name": "python",
   "nbconvert_exporter": "python",
   "pygments_lexer": "ipython2",
   "version": "2.7.6"
  }
 },
 "nbformat": 4,
 "nbformat_minor": 0
}
