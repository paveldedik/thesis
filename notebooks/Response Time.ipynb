{
 "cells": [
  {
   "cell_type": "code",
   "execution_count": 2,
   "metadata": {
    "collapsed": false
   },
   "outputs": [],
   "source": [
    "%matplotlib qt4\n",
    "from __future__ import division\n",
    "\n",
    "from models import tools, filters\n",
    "\n",
    "import numpy as np\n",
    "import pandas as pd\n",
    "import seaborn as sns\n",
    "import matplotlib as mpl\n",
    "import matplotlib.pyplot as plt\n",
    "from collections import defaultdict\n",
    "\n",
    "sns.set_style(\"ticks\", {\"legend.frameon\": True})\n",
    "mpl.rcParams['axes.color_cycle'] = ['#02A5F4', 'orange', 'green']"
   ]
  },
  {
   "cell_type": "code",
   "execution_count": 30,
   "metadata": {
    "collapsed": false
   },
   "outputs": [
    {
     "name": "stdout",
     "output_type": "stream",
     "text": [
      "Loaded 2992247 answers.\n"
     ]
    },
    {
     "name": "stderr",
     "output_type": "stream",
     "text": [
      "/home/pavel/.pyenv/al/local/lib/python2.7/site-packages/pandas/io/parsers.py:1159: DtypeWarning: Columns (10) have mixed types. Specify dtype option on import or set low_memory=False.\n",
      "  data = self._reader.read(nrows)\n"
     ]
    }
   ],
   "source": [
    "data = tools.load_data(limit=3000000, offset=100000)\n",
    "data = data[data['response_time'] < 20000]"
   ]
  },
  {
   "cell_type": "markdown",
   "metadata": {},
   "source": [
    "## By Country in a Box Plot"
   ]
  },
  {
   "cell_type": "code",
   "execution_count": 3,
   "metadata": {
    "collapsed": false
   },
   "outputs": [],
   "source": [
    "data = data[filters.countries(data)]"
   ]
  },
  {
   "cell_type": "code",
   "execution_count": 4,
   "metadata": {
    "collapsed": false
   },
   "outputs": [
    {
     "name": "stdout",
     "output_type": "stream",
     "text": [
      "14249.85-14999.0\n"
     ]
    }
   ],
   "source": [
    "_, bins = pd.cut(data['response_time'], bins=20, retbins=True)\n",
    "intervals = zip(bins[:-1], bins[1:])\n",
    "\n",
    "responses = defaultdict(lambda: [])\n",
    "for lower_bound, upper_bound in intervals:\n",
    "    tools.echo('{}-{}'.format(lower_bound, upper_bound))\n",
    "    for place in data['place_id'].unique():\n",
    "        vals = data[(data['response_time'] >= lower_bound) &\n",
    "                    (data['response_time'] < upper_bound) &\n",
    "                    (data['place_id'] == place)]\n",
    "        responses[place].append(vals['is_correct'].mean())"
   ]
  },
  {
   "cell_type": "code",
   "execution_count": 5,
   "metadata": {
    "collapsed": false
   },
   "outputs": [],
   "source": [
    "X = [[] for _ in intervals]\n",
    "for place in responses:\n",
    "    for i, value in enumerate(responses[place]):\n",
    "        if np.isfinite(value):\n",
    "            X[i].append(value)"
   ]
  },
  {
   "cell_type": "code",
   "execution_count": 7,
   "metadata": {
    "collapsed": false
   },
   "outputs": [],
   "source": [
    "labels = ['({}, {}]'.format(int(i), int(j)) for i, j in intervals]\n",
    "\n",
    "plt.figure(num=None, figsize=(9, 6), dpi=120)\n",
    "plt.xticks(rotation=70)\n",
    "bp = plt.boxplot(X, labels=labels, showfliers=False)\n",
    "plt.xlabel('Response time in miliseconds')\n",
    "plt.ylabel('Probability of recall')\n",
    "plt.subplots_adjust(bottom=0.25)\n",
    "\n",
    "plt.setp(bp['medians'], color='orange')\n",
    "plt.setp(bp['boxes'], color='#02A5F4')\n",
    "plt.setp(bp['whiskers'], color='#02A5F4')\n",
    "plt.setp(bp['fliers'], color='#02A5F4', marker='+')\n",
    "\n",
    "plt.tight_layout()"
   ]
  },
  {
   "cell_type": "markdown",
   "metadata": {},
   "source": [
    "## Success vs Response Time"
   ]
  },
  {
   "cell_type": "code",
   "execution_count": 31,
   "metadata": {
    "collapsed": false
   },
   "outputs": [
    {
     "name": "stdout",
     "output_type": "stream",
     "text": [
      "1130000\n"
     ]
    }
   ],
   "source": [
    "previous_is_correct = {}\n",
    "groups = data.groupby(['user_id', 'place_id'])\n",
    "\n",
    "for i, (_, group) in enumerate(groups):\n",
    "    prev_idx = None\n",
    "    for idx in sorted(group.index):\n",
    "        if prev_idx is not None:\n",
    "            previous_is_correct[idx] = group.ix[prev_idx]['is_correct']\n",
    "        prev_idx = idx\n",
    "    if i % 10000 == 0:\n",
    "        tools.echo(i)"
   ]
  },
  {
   "cell_type": "code",
   "execution_count": 32,
   "metadata": {
    "collapsed": false
   },
   "outputs": [],
   "source": [
    "d1 = data\n",
    "d1['response_bin'] = d1['response_time'] // 500\n",
    "d1 = d1[['is_correct', 'response_bin']]"
   ]
  },
  {
   "cell_type": "code",
   "execution_count": 33,
   "metadata": {
    "collapsed": false
   },
   "outputs": [],
   "source": [
    "d2 = pd.DataFrame(previous_is_correct.items(), columns=['id', 'previous_correct'])\n",
    "d2 = d2.set_index('id')"
   ]
  },
  {
   "cell_type": "code",
   "execution_count": 34,
   "metadata": {
    "collapsed": true
   },
   "outputs": [],
   "source": [
    "d = pd.concat([d1, d2], axis=1, join='inner')"
   ]
  },
  {
   "cell_type": "code",
   "execution_count": 35,
   "metadata": {
    "collapsed": false
   },
   "outputs": [],
   "source": [
    "prev_incorrect = d[d['previous_correct'] == 0]\n",
    "prev_correct = d[d['previous_correct'] == 1]"
   ]
  },
  {
   "cell_type": "code",
   "execution_count": 88,
   "metadata": {
    "collapsed": true
   },
   "outputs": [],
   "source": [
    "def grouping(df):\n",
    "    gs = df[['is_correct', 'response_bin']].groupby(['response_bin'])\n",
    "    return gs.sum() / gs.count()"
   ]
  },
  {
   "cell_type": "code",
   "execution_count": 109,
   "metadata": {
    "collapsed": false
   },
   "outputs": [],
   "source": [
    "plt.figure(num=None, figsize=(5, 4), dpi=120)\n",
    "plt.plot(grouping(prev_correct), '.-', label='previous correct')\n",
    "plt.plot(grouping(prev_incorrect), '.-', label='previous incorrect')\n",
    "plt.xlabel('Response time in seconds')\n",
    "plt.ylabel('Success')\n",
    "legend = plt.legend(loc='lower right', prop={'size': 12})\n",
    "legend.get_frame().set_linewidth(1)\n",
    "plt.xticks(range(0, 21, 2))\n",
    "plt.tight_layout()"
   ]
  },
  {
   "cell_type": "code",
   "execution_count": 103,
   "metadata": {
    "collapsed": false
   },
   "outputs": [],
   "source": [
    "plt.figure(num=None, figsize=(5, 4), dpi=120)\n",
    "plt.hist([list(prev_correct['response_bin']),\n",
    "          list(prev_incorrect['response_bin'])],\n",
    "         bins=20, rwidth=0.8,\n",
    "         label=['previous correct', 'previous incorrect'])\n",
    "plt.yscale('log')\n",
    "plt.xlabel('Response time in seconds')\n",
    "plt.ylabel('Number of answers')\n",
    "plt.xticks(range(0, 21, 2))\n",
    "legend = plt.legend(prop={'size': 12})\n",
    "legend.get_frame().set_linewidth(1)\n",
    "plt.tight_layout()"
   ]
  },
  {
   "cell_type": "code",
   "execution_count": 108,
   "metadata": {
    "collapsed": false
   },
   "outputs": [
    {
     "name": "stdout",
     "output_type": "stream",
     "text": [
      "Previous correct:\n",
      "{'is_correct': {0.0: 0.16241560390097523, 0.5: 0.45839753466872113, 2.0: 0.94703097610709874, 3.0: 0.91035782747603833, 4.0: 0.87432298780200635, 5.0: 0.84153061017018072, 2.5: 0.92948168058256131, 1.0: 0.93804279268351853, 8.0: 0.78319399178121019, 9.0: 0.77434936908517349, 10.0: 0.75907505490246741, 11.0: 0.75359307359307359, 12.0: 0.74181498571742477, 13.0: 0.74379940038157533, 14.0: 0.72151474530831095, 15.0: 0.74357961280126428, 16.0: 0.72674418604651159, 4.5: 0.85716086737266772, 18.0: 0.73603723404255317, 19.0: 0.74449685534591192, 11.5: 0.74628879892037792, 12.5: 0.73995157384987897, 5.5: 0.83011942304709718, 13.5: 0.74624530663329158, 8.5: 0.77624193683505072, 9.5: 0.76480736055204135, 14.5: 0.7488064634594197, 15.5: 0.74769230769230766, 6.0: 0.81813484887625931, 17.5: 0.73011015911872701, 7.0: 0.7984419682477073, 1.5: 0.95841366283032459, 16.5: 0.7407605784681307, 19.5: 0.72490118577075102, 3.5: 0.89028765933554987, 10.5: 0.76096962258361456, 18.5: 0.72233820459290188, 17.0: 0.72171428571428575, 6.5: 0.80792497259550977, 7.5: 0.79116537978093016}}\n",
      "\n",
      "Previous incorrect:\n",
      "{'is_correct': {0.0: 0.018337408312958436, 0.5: 0.059914407988587728, 2.0: 0.75385315959086452, 3.0: 0.7438426626323752, 4.0: 0.71575356541038182, 5.0: 0.68165565723289501, 2.5: 0.75589375448671936, 1.0: 0.54084675014907568, 8.0: 0.63706422018348619, 9.0: 0.62819176654507558, 10.0: 0.60323886639676116, 11.0: 0.59540954095409537, 12.0: 0.60588901472253676, 13.0: 0.6216216216216216, 14.0: 0.57520510483135823, 15.0: 0.60812294182217341, 16.0: 0.57517241379310347, 4.5: 0.70247483013440459, 18.0: 0.58429118773946365, 19.0: 0.57202505219206679, 11.5: 0.61020408163265305, 12.5: 0.59514435695538059, 5.5: 0.67432412468606884, 13.5: 0.60971659919028343, 8.5: 0.63550373955125383, 9.5: 0.60639534883720925, 14.5: 0.56538839724680434, 15.5: 0.59576968272620445, 6.0: 0.66985985453255281, 17.5: 0.59008264462809923, 7.0: 0.65492404400209536, 1.5: 0.74372831598612221, 16.5: 0.6076487252124646, 19.5: 0.59267734553775742, 3.5: 0.72282980177717016, 10.5: 0.60840534171249017, 18.5: 0.58648111332007957, 17.0: 0.61654135338345861, 6.5: 0.65019094380796505, 7.5: 0.63664888609978032}}\n"
     ]
    }
   ],
   "source": [
    "print 'Previous correct:'\n",
    "print grouping(prev_correct).to_dict()\n",
    "print ''\n",
    "print 'Previous incorrect:'\n",
    "print grouping(prev_incorrect).to_dict()"
   ]
  },
  {
   "cell_type": "code",
   "execution_count": null,
   "metadata": {
    "collapsed": true
   },
   "outputs": [],
   "source": []
  }
 ],
 "metadata": {
  "kernelspec": {
   "display_name": "Python 2",
   "language": "python",
   "name": "python2"
  },
  "language_info": {
   "codemirror_mode": {
    "name": "ipython",
    "version": 2
   },
   "file_extension": ".py",
   "mimetype": "text/x-python",
   "name": "python",
   "nbconvert_exporter": "python",
   "pygments_lexer": "ipython2",
   "version": "2.7.6"
  }
 },
 "nbformat": 4,
 "nbformat_minor": 0
}
