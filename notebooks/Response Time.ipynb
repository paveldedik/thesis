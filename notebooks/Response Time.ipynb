{
 "metadata": {
  "name": "",
  "signature": "sha256:3ac11e6254bf98750f03f2c277916397c56b88101abbd30db76434df24f4baa9"
 },
 "nbformat": 3,
 "nbformat_minor": 0,
 "worksheets": [
  {
   "cells": [
    {
     "cell_type": "code",
     "collapsed": false,
     "input": [
      "%matplotlib qt4\n",
      "from __future__ import division\n",
      "\n",
      "from models import tools, filters\n",
      "\n",
      "import numpy as np\n",
      "import pandas as pd\n",
      "import matplotlib.pyplot as plt\n",
      "from collections import defaultdict"
     ],
     "language": "python",
     "metadata": {},
     "outputs": [],
     "prompt_number": 3
    },
    {
     "cell_type": "code",
     "collapsed": false,
     "input": [
      "data = tools.load_data(limit=3000000)\n",
      "data = data[data['response_time'] < 15000]"
     ],
     "language": "python",
     "metadata": {},
     "outputs": [],
     "prompt_number": 2
    },
    {
     "cell_type": "code",
     "collapsed": false,
     "input": [
      "data = data[filters.world_countries(data) & filters.open_questions(data)]"
     ],
     "language": "python",
     "metadata": {},
     "outputs": [],
     "prompt_number": 4
    },
    {
     "cell_type": "code",
     "collapsed": false,
     "input": [
      "_, bins = pd.cut(data['response_time'], bins=20, retbins=True)\n",
      "intervals = zip(bins[:-1], bins[1:])\n",
      "\n",
      "responses = defaultdict(lambda: [])\n",
      "for lower_bound, upper_bound in intervals:\n",
      "    tools.echo('{}-{}'.format(lower_bound, upper_bound))\n",
      "    for place in data['place_id'].unique():\n",
      "        vals = data[(data['response_time'] >= lower_bound) &\n",
      "                    (data['response_time'] < upper_bound) &\n",
      "                    (data['place_id'] == place)]\n",
      "        responses[place].append(vals['is_correct'].mean())"
     ],
     "language": "python",
     "metadata": {},
     "outputs": [
      {
       "output_type": "stream",
       "stream": "stdout",
       "text": [
        "14249.85-14999.0\n"
       ]
      }
     ],
     "prompt_number": 6
    },
    {
     "cell_type": "code",
     "collapsed": false,
     "input": [
      "X = [[] for _ in intervals]\n",
      "for place in responses:\n",
      "    for i, value in enumerate(responses[place]):\n",
      "        if np.isfinite(value):\n",
      "            X[i].append(value)"
     ],
     "language": "python",
     "metadata": {},
     "outputs": [],
     "prompt_number": 7
    },
    {
     "cell_type": "code",
     "collapsed": false,
     "input": [
      "labels = ['({}, {}]'.format(int(i), int(j)) for i, j in intervals]\n",
      "plt.xticks(rotation=70)\n",
      "plt.boxplot(X, labels=labels, showfliers=False)\n",
      "plt.xlabel('response time')\n",
      "plt.ylabel('probability of recall')\n",
      "plt.subplots_adjust(bottom=0.25)"
     ],
     "language": "python",
     "metadata": {},
     "outputs": [],
     "prompt_number": 9
    },
    {
     "cell_type": "code",
     "collapsed": false,
     "input": [],
     "language": "python",
     "metadata": {},
     "outputs": []
    }
   ],
   "metadata": {}
  }
 ]
}