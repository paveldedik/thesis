{
 "cells": [
  {
   "cell_type": "code",
   "execution_count": 1,
   "metadata": {
    "collapsed": false
   },
   "outputs": [
    {
     "name": "stderr",
     "output_type": "stream",
     "text": [
      "/home/pavel/.pyenv/al/local/lib/python2.7/site-packages/matplotlib/__init__.py:872: UserWarning: axes.color_cycle is deprecated and replaced with axes.prop_cycle; please use the latter.\n",
      "  warnings.warn(self.msg_depr % (key, alt_key))\n"
     ]
    }
   ],
   "source": [
    "%matplotlib qt4\n",
    "from __future__ import division\n",
    "\n",
    "from models import tools, filters\n",
    "\n",
    "import numpy as np\n",
    "import pandas as pd\n",
    "import seaborn as sns\n",
    "import matplotlib.pyplot as plt\n",
    "from collections import defaultdict\n",
    "\n",
    "sns.set_style(\"ticks\", {\"legend.frameon\": True})"
   ]
  },
  {
   "cell_type": "code",
   "execution_count": 2,
   "metadata": {
    "collapsed": false
   },
   "outputs": [
    {
     "name": "stdout",
     "output_type": "stream",
     "text": [
      "Loaded 3000000 answers.\n"
     ]
    },
    {
     "name": "stderr",
     "output_type": "stream",
     "text": [
      "/home/pavel/.pyenv/al/local/lib/python2.7/site-packages/pandas/io/parsers.py:1159: DtypeWarning: Columns (10) have mixed types. Specify dtype option on import or set low_memory=False.\n",
      "  data = self._reader.read(nrows)\n"
     ]
    }
   ],
   "source": [
    "data = tools.load_data(limit=3000000)\n",
    "data = data[data['response_time'] < 15000]"
   ]
  },
  {
   "cell_type": "code",
   "execution_count": 3,
   "metadata": {
    "collapsed": false
   },
   "outputs": [],
   "source": [
    "data = data[filters.countries(data)]"
   ]
  },
  {
   "cell_type": "code",
   "execution_count": 4,
   "metadata": {
    "collapsed": false
   },
   "outputs": [
    {
     "name": "stdout",
     "output_type": "stream",
     "text": [
      "14249.85-14999.0\n"
     ]
    }
   ],
   "source": [
    "_, bins = pd.cut(data['response_time'], bins=20, retbins=True)\n",
    "intervals = zip(bins[:-1], bins[1:])\n",
    "\n",
    "responses = defaultdict(lambda: [])\n",
    "for lower_bound, upper_bound in intervals:\n",
    "    tools.echo('{}-{}'.format(lower_bound, upper_bound))\n",
    "    for place in data['place_id'].unique():\n",
    "        vals = data[(data['response_time'] >= lower_bound) &\n",
    "                    (data['response_time'] < upper_bound) &\n",
    "                    (data['place_id'] == place)]\n",
    "        responses[place].append(vals['is_correct'].mean())"
   ]
  },
  {
   "cell_type": "code",
   "execution_count": 5,
   "metadata": {
    "collapsed": false
   },
   "outputs": [],
   "source": [
    "X = [[] for _ in intervals]\n",
    "for place in responses:\n",
    "    for i, value in enumerate(responses[place]):\n",
    "        if np.isfinite(value):\n",
    "            X[i].append(value)"
   ]
  },
  {
   "cell_type": "code",
   "execution_count": 7,
   "metadata": {
    "collapsed": false
   },
   "outputs": [],
   "source": [
    "labels = ['({}, {}]'.format(int(i), int(j)) for i, j in intervals]\n",
    "\n",
    "plt.figure(num=None, figsize=(9, 6), dpi=120)\n",
    "plt.xticks(rotation=70)\n",
    "bp = plt.boxplot(X, labels=labels, showfliers=False)\n",
    "plt.xlabel('Response time in miliseconds')\n",
    "plt.ylabel('Probability of recall')\n",
    "plt.subplots_adjust(bottom=0.25)\n",
    "\n",
    "plt.setp(bp['medians'], color='orange')\n",
    "plt.setp(bp['boxes'], color='#02A5F4')\n",
    "plt.setp(bp['whiskers'], color='#02A5F4')\n",
    "plt.setp(bp['fliers'], color='#02A5F4', marker='+')\n",
    "\n",
    "plt.tight_layout()"
   ]
  },
  {
   "cell_type": "code",
   "execution_count": null,
   "metadata": {
    "collapsed": false
   },
   "outputs": [],
   "source": []
  }
 ],
 "metadata": {
  "kernelspec": {
   "display_name": "Python 2",
   "language": "python",
   "name": "python2"
  },
  "language_info": {
   "codemirror_mode": {
    "name": "ipython",
    "version": 2
   },
   "file_extension": ".py",
   "mimetype": "text/x-python",
   "name": "python",
   "nbconvert_exporter": "python",
   "pygments_lexer": "ipython2",
   "version": "2.7.6"
  }
 },
 "nbformat": 4,
 "nbformat_minor": 0
}
