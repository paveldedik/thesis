{
 "cells": [
  {
   "cell_type": "code",
   "execution_count": 2,
   "metadata": {
    "collapsed": false
   },
   "outputs": [],
   "source": [
    "%matplotlib qt4\n",
    "from __future__ import division\n",
    "import numpy as np\n",
    "import pandas as pd\n",
    "import seaborn as sns\n",
    "import matplotlib as mpl\n",
    "import matplotlib.pyplot as plt\n",
    "\n",
    "from models import tools\n",
    "\n",
    "sns.set_style(\"ticks\", {\"legend.frameon\": True})\n",
    "mpl.rcParams['axes.color_cycle'] = ['#02A5F4', 'orange', 'green']"
   ]
  },
  {
   "cell_type": "code",
   "execution_count": 10,
   "metadata": {
    "collapsed": true
   },
   "outputs": [],
   "source": [
    "def func_learn(x, r=4, s=0):\n",
    "    return 1 - (1 - s)*np.exp(-r*x)\n",
    "def func_forget(x, r=4, s=1):\n",
    "    return s * np.exp(-r * x)"
   ]
  },
  {
   "cell_type": "markdown",
   "metadata": {},
   "source": [
    "### Styles"
   ]
  },
  {
   "cell_type": "code",
   "execution_count": 3,
   "metadata": {
    "collapsed": true
   },
   "outputs": [],
   "source": [
    "line_dashed = {'color': '#000000', 'linewidth': '0.8', 'linestyle': 'dashed'}\n",
    "text_label = {'color': '#000000', 'fontsize': 11, 'fontstyle': 'italic'}"
   ]
  },
  {
   "cell_type": "markdown",
   "metadata": {},
   "source": [
    "### Learning and Forgetting Curve"
   ]
  },
  {
   "cell_type": "code",
   "execution_count": 21,
   "metadata": {
    "collapsed": false
   },
   "outputs": [],
   "source": [
    "points = np.arange(0, 1, 0.001)\n",
    "frame, (ax1, ax2) = plt.subplots(1, 2, sharey=True, figsize=(7, 3), dpi=160)\n",
    "\n",
    "ax1.plot(points, func_learn(points))\n",
    "ax2.plot(points, func_forget(points))\n",
    "\n",
    "ax1.set_xlabel('Time')\n",
    "ax1.set_ylabel('Memory strength')\n",
    "ax2.set_xlabel('Time')\n",
    "\n",
    "ax1.plot([0, 1], [1, 1], **line_dashed)\n",
    "ax2.plot([0, 1], [1, 1], **line_dashed)\n",
    "\n",
    "ax1.annotate('$K_{max}$', xy=(1, 0.5), xytext=(0.8, 1.07), **text_label)\n",
    "ax2.annotate('$K_{max}$', xy=(1, 0.5), xytext=(0.8, 1.07), **text_label)\n",
    "\n",
    "ax1.get_xaxis().set_ticks([])\n",
    "ax2.get_xaxis().set_ticks([])\n",
    "\n",
    "plt.ylim([0, 1.15])\n",
    "\n",
    "sns.despine()\n",
    "plt.tight_layout()"
   ]
  },
  {
   "cell_type": "markdown",
   "metadata": {
    "collapsed": true
   },
   "source": [
    "### Spacing Effect"
   ]
  },
  {
   "cell_type": "code",
   "execution_count": 128,
   "metadata": {
    "collapsed": true
   },
   "outputs": [],
   "source": [
    "def r(t, repeat=1, step=200, rang=100000, spacing_rate=0.2, decay_rate=0.18):\n",
    "    times = t.copy()\n",
    "    vals = []\n",
    "    results = []\n",
    "    last = 0\n",
    "    for _ in range(repeat):\n",
    "        for i in range(0, rang // repeat, step):\n",
    "            times += step\n",
    "            param = np.concatenate([times, [1]])\n",
    "            strength = tools.memory_strength(param, spacing_rate, decay_rate)\n",
    "            retrieval_prob = strength # tools.retrieval_prob(strength, tau=-1, s=0.3)\n",
    "            results.append(retrieval_prob)\n",
    "            vals.append(last+i)\n",
    "        last = vals[-1]\n",
    "        times = np.concatenate([times, t.copy()])\n",
    "    return vals, results"
   ]
  },
  {
   "cell_type": "code",
   "execution_count": 88,
   "metadata": {
    "collapsed": false
   },
   "outputs": [],
   "source": [
    "t1 = np.array(list(reversed(range(50))))\n",
    "t2 = np.array(list(reversed(range(150))))\n",
    "\n",
    "x1, y1 = r(t1, repeat=3, spacing_rate=0.1, decay_rate=0.2)\n",
    "x2, y2 = r(t2, repeat=1, spacing_rate=0.1, decay_rate=0.2)"
   ]
  },
  {
   "cell_type": "code",
   "execution_count": 104,
   "metadata": {
    "collapsed": false
   },
   "outputs": [],
   "source": [
    "fig = plt.figure(num=None, figsize=(6, 3.5), dpi=160)\n",
    "ax = plt.subplot(111)\n",
    "\n",
    "ax.plot(x1, y1, label='student $s_1$')\n",
    "ax.plot(x2, y2, label='student $s_2$')\n",
    "ax.get_xaxis().set_ticks([])\n",
    "\n",
    "plt.xlabel('Time')\n",
    "plt.ylabel('Memory strength')\n",
    "\n",
    "# Put a legend to the right of the current axis\n",
    "legend = ax.legend(loc='lower right', bbox_to_anchor=(1, 0.1), prop={'size': 12})\n",
    "legend.get_frame().set_linewidth(1)\n",
    "\n",
    "plt.xticks([0, 33333, 66666], ['$t_0$', '$t_1$', '$t_2$'], **text_label)\n",
    "\n",
    "sns.despine()\n",
    "plt.xlim([0, max(x1)])\n",
    "plt.ylim([0, 1])\n",
    "plt.tight_layout()"
   ]
  },
  {
   "cell_type": "markdown",
   "metadata": {},
   "source": [
    "### Knowledge Levels"
   ]
  },
  {
   "cell_type": "code",
   "execution_count": 22,
   "metadata": {
    "collapsed": false
   },
   "outputs": [],
   "source": [
    "points = np.arange(0, 1.33, 0.001)\n",
    "\n",
    "def func(x, r=5):\n",
    "    if x > 0.5:\n",
    "        return func_learn(0.5, r=r) * np.exp(-(r-1) * (x - 0.5))\n",
    "    return func_learn(x, r=r)\n",
    "\n",
    "plt.figure(num=None, figsize=(6, 3), dpi=160)\n",
    "frame, = plt.plot(points, [func(x) for x in points])\n",
    "\n",
    "plt.plot([0, 1.33], [0.8, 0.8], **line_dashed)\n",
    "plt.plot([0, 1.33], [0.6, 0.6], **line_dashed)\n",
    "plt.plot([0, 1.33], [0.4, 0.4], **line_dashed)\n",
    "plt.plot([0, 1.33], [0.2, 0.2], **line_dashed)\n",
    "\n",
    "plt.annotate('Atomaticity', xy=(1, 0.8), xytext=(1, 0.85), **text_label)\n",
    "plt.annotate('Recall', xy=(1, 0.6), xytext=(1, 0.65), **text_label)\n",
    "plt.annotate('Recognition', xy=(1, 0.4), xytext=(1, 0.45), **text_label)\n",
    "plt.annotate('Femiliarity', xy=(1, 0.2), xytext=(1, 0.25), **text_label)\n",
    "\n",
    "plt.xlabel('Time')\n",
    "plt.ylabel('Memory strength')\n",
    "frame.axes.get_xaxis().set_ticks([])\n",
    "sns.despine()\n",
    "plt.tight_layout()"
   ]
  },
  {
   "cell_type": "markdown",
   "metadata": {
    "collapsed": true
   },
   "source": [
    "### Time Effect Functions"
   ]
  },
  {
   "cell_type": "code",
   "execution_count": 161,
   "metadata": {
    "collapsed": false
   },
   "outputs": [],
   "source": [
    "points = np.arange(10, 1e6, 5)\n",
    "\n",
    "f_log = lambda t: 1.8 - 0.123 * np.log(t)\n",
    "f_exp = lambda t: 1.58 * np.exp(-10e-3 * np.sqrt(t))\n",
    "f_poly = lambda t: 3 / t**0.3\n",
    "\n",
    "fig = plt.figure(num=None, figsize=(6, 3.5), dpi=160)\n",
    "ax = plt.subplot(111)\n",
    "\n",
    "ax.plot(points, f_log(points), label='$1.8 - 0.12 \\cdot \\log(t)$')\n",
    "ax.plot(points, f_exp(points), label='$1.6 \\cdot e^{-0.01 \\sqrt{t}}$')\n",
    "ax.plot(points, f_poly(points), label='$3 / t^{0.3}$')\n",
    "\n",
    "plt.xscale('log')\n",
    "\n",
    "# Shrink current axis by 20%\n",
    "box = ax.get_position()\n",
    "ax.set_position([box.x0, box.y0, box.width * 0.8, box.height])\n",
    "\n",
    "# Put a legend to the right of the current axis\n",
    "legend = ax.legend(loc='center left', bbox_to_anchor=(1.05, 0.5), prop={'size': 12})\n",
    "legend.get_frame().set_linewidth(1)\n",
    "\n",
    "plt.tight_layout()\n",
    "plt.subplots_adjust(right=0.62)"
   ]
  },
  {
   "cell_type": "markdown",
   "metadata": {},
   "source": [
    "### Gradient Descent"
   ]
  },
  {
   "cell_type": "code",
   "execution_count": 157,
   "metadata": {
    "collapsed": false
   },
   "outputs": [],
   "source": [
    "from mpl_toolkits.mplot3d import axes3d\n",
    "\n",
    "fig = plt.figure(figsize=(6, 4), dpi=160)\n",
    "ax = fig.gca(projection='3d')\n",
    "\n",
    "X, Y, Z = axes3d.get_test_data(0.05)\n",
    "surf = ax.plot_surface(X, Y, Z, rstride=1, cstride=1, cmap=cm.RdYlGn,\n",
    "                       linewidth=0, antialiased=True)\n",
    "ax.set_zlim(-130, 130)\n",
    "ax.set_xlim(-29, 29)\n",
    "ax.set_ylim(-29, 29)\n",
    "ax.set_xlabel('p1')\n",
    "ax.set_ylabel('p2')\n",
    "ax.set_zlabel('J(p)')\n",
    "\n",
    "ax.plot([17, 13, 14, 9, 10, 6, 5],\n",
    "        [10, 8, 3, 3, -1, -3, -6], '.-',\n",
    "        zs=[70, 60, 40, 15, -10, -30, -45],\n",
    "        zdir='z', color='black', linewidth=1)\n",
    "\n",
    "plt.show()\n",
    "plt.tight_layout()"
   ]
  },
  {
   "cell_type": "markdown",
   "metadata": {
    "collapsed": true
   },
   "source": [
    "### Sigmoid Function"
   ]
  },
  {
   "cell_type": "code",
   "execution_count": 58,
   "metadata": {
    "collapsed": false
   },
   "outputs": [],
   "source": [
    "points = np.arange(-6, 6, 0.1)\n",
    "\n",
    "fig = plt.figure(num=None, figsize=(6, 3.5), dpi=120)\n",
    "ax = plt.subplot(111)\n",
    "\n",
    "ax.plot(points, tools.sigmoid(points), label='$c = 0$')\n",
    "ax.plot(points, 0.3 + 0.7*tools.sigmoid(points), label='$c = 0.3$')\n",
    "\n",
    "plt.xlabel('$m$')\n",
    "plt.ylabel('$\\sigma_c(m)$', rotation='horizontal')\n",
    "\n",
    "ax.xaxis.set_label_coords(0.98, 0.1)\n",
    "ax.yaxis.set_label_coords(0.56, 0.95)\n",
    "\n",
    "plt.xlim([-6, 6])\n",
    "\n",
    "legend = ax.legend(loc='upper left', prop={'size': 12})\n",
    "legend.get_frame().set_linewidth(1)\n",
    "\n",
    "# Move left y-axis and bottim x-axis to centre, passing through (0,0)\n",
    "ax.spines['left'].set_position('center')\n",
    "#ax.spines['bottom'].set_position('center')\n",
    "\n",
    "# Eliminate upper and right axes\n",
    "ax.spines['right'].set_color('none')\n",
    "ax.spines['top'].set_color('none')\n",
    "\n",
    "# Show ticks in the left and lower axes only\n",
    "ax.axes.get_yaxis().set_ticks([0.2, 0.4, 0.6, 0.8, 1])\n",
    "ax.xaxis.set_ticks_position('bottom')\n",
    "ax.yaxis.set_ticks_position('left')\n",
    "\n",
    "plt.tight_layout()\n",
    "plt.show()"
   ]
  },
  {
   "cell_type": "code",
   "execution_count": null,
   "metadata": {
    "collapsed": true
   },
   "outputs": [],
   "source": []
  }
 ],
 "metadata": {
  "kernelspec": {
   "display_name": "Python 2",
   "language": "python",
   "name": "python2"
  },
  "language_info": {
   "codemirror_mode": {
    "name": "ipython",
    "version": 2
   },
   "file_extension": ".py",
   "mimetype": "text/x-python",
   "name": "python",
   "nbconvert_exporter": "python",
   "pygments_lexer": "ipython2",
   "version": "2.7.6"
  }
 },
 "nbformat": 4,
 "nbformat_minor": 0
}
