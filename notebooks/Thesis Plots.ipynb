{
 "cells": [
  {
   "cell_type": "code",
   "execution_count": 22,
   "metadata": {
    "collapsed": false
   },
   "outputs": [],
   "source": [
    "%matplotlib qt4\n",
    "from __future__ import division\n",
    "import numpy as np\n",
    "import seaborn as sns\n",
    "import matplotlib.pyplot as plt\n",
    "\n",
    "sns.set_style(\"ticks\", {\"legend.frameon\": True})"
   ]
  },
  {
   "cell_type": "markdown",
   "metadata": {},
   "source": [
    "### Learning Curve"
   ]
  },
  {
   "cell_type": "code",
   "execution_count": 69,
   "metadata": {
    "collapsed": false
   },
   "outputs": [],
   "source": [
    "points = np.arange(0, 10, 0.001)\n",
    "func = lambda x: -100/(x + 1)**0.8 + 100\n",
    "\n",
    "plt.figure(num=None, figsize=(4, 3), dpi=160)\n",
    "frame, = plt.plot(points, [func(p) for p in points])\n",
    "plt.xlabel('time')\n",
    "plt.ylabel('% of savings in relearning')\n",
    "frame.axes.get_xaxis().set_ticks([])\n",
    "sns.despine()\n",
    "plt.tight_layout()"
   ]
  },
  {
   "cell_type": "markdown",
   "metadata": {},
   "source": [
    "### Forgetting Curve"
   ]
  },
  {
   "cell_type": "code",
   "execution_count": 65,
   "metadata": {
    "collapsed": false
   },
   "outputs": [],
   "source": [
    "points = np.arange(0, 10, 0.001)\n",
    "func_forget = lambda x: 100/(x + 1)**0.8\n",
    "\n",
    "plt.figure(num=None, figsize=(4, 3), dpi=160)\n",
    "frame, = plt.plot(points, [func_forget(p) for p in points])\n",
    "plt.xlabel('time')\n",
    "plt.ylabel('% of savings in relearning')\n",
    "frame.axes.get_xaxis().set_ticks([])\n",
    "sns.despine()\n",
    "plt.tight_layout()"
   ]
  },
  {
   "cell_type": "code",
   "execution_count": null,
   "metadata": {
    "collapsed": true
   },
   "outputs": [],
   "source": []
  }
 ],
 "metadata": {
  "kernelspec": {
   "display_name": "Python 2",
   "language": "python",
   "name": "python2"
  },
  "language_info": {
   "codemirror_mode": {
    "name": "ipython",
    "version": 2
   },
   "file_extension": ".py",
   "mimetype": "text/x-python",
   "name": "python",
   "nbconvert_exporter": "python",
   "pygments_lexer": "ipython2",
   "version": "2.7.6"
  }
 },
 "nbformat": 4,
 "nbformat_minor": 0
}
