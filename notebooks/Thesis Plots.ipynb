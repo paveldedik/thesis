{
 "cells": [
  {
   "cell_type": "code",
   "execution_count": 1,
   "metadata": {
    "collapsed": false
   },
   "outputs": [],
   "source": [
    "%matplotlib qt4\n",
    "from __future__ import division\n",
    "import numpy as np\n",
    "import pandas as pd\n",
    "import seaborn as sns\n",
    "import matplotlib as mpl\n",
    "import matplotlib.pyplot as plt\n",
    "\n",
    "sns.set_style(\"ticks\", {\"legend.frameon\": True})\n",
    "mpl.rcParams['axes.color_cycle'] = ['#02A5F4', 'orange', 'green']"
   ]
  },
  {
   "cell_type": "code",
   "execution_count": 10,
   "metadata": {
    "collapsed": true
   },
   "outputs": [],
   "source": [
    "def func_learn(x, r=4, s=0):\n",
    "    return 1 - (1 - s)*np.exp(-r*x)\n",
    "def func_forget(x, r=4, s=1):\n",
    "    return s * np.exp(-r * x)"
   ]
  },
  {
   "cell_type": "markdown",
   "metadata": {},
   "source": [
    "### Styles"
   ]
  },
  {
   "cell_type": "code",
   "execution_count": 3,
   "metadata": {
    "collapsed": true
   },
   "outputs": [],
   "source": [
    "line_dashed = {'color': '#000000', 'linewidth': '0.8', 'linestyle': 'dashed'}\n",
    "text_label = {'color': '#000000', 'fontsize': 11, 'fontstyle': 'italic'}"
   ]
  },
  {
   "cell_type": "markdown",
   "metadata": {},
   "source": [
    "### Learning and Forgetting Curve"
   ]
  },
  {
   "cell_type": "code",
   "execution_count": 21,
   "metadata": {
    "collapsed": false
   },
   "outputs": [],
   "source": [
    "points = np.arange(0, 1, 0.001)\n",
    "frame, (ax1, ax2) = plt.subplots(1, 2, sharey=True, figsize=(7, 3), dpi=160)\n",
    "\n",
    "ax1.plot(points, func_learn(points))\n",
    "ax2.plot(points, func_forget(points))\n",
    "\n",
    "ax1.set_xlabel('Time')\n",
    "ax1.set_ylabel('Memory strength')\n",
    "ax2.set_xlabel('Time')\n",
    "\n",
    "ax1.plot([0, 1], [1, 1], **line_dashed)\n",
    "ax2.plot([0, 1], [1, 1], **line_dashed)\n",
    "\n",
    "ax1.annotate('$K_{max}$', xy=(1, 0.5), xytext=(0.8, 1.07), **text_label)\n",
    "ax2.annotate('$K_{max}$', xy=(1, 0.5), xytext=(0.8, 1.07), **text_label)\n",
    "\n",
    "ax1.get_xaxis().set_ticks([])\n",
    "ax2.get_xaxis().set_ticks([])\n",
    "\n",
    "plt.ylim([0, 1.15])\n",
    "\n",
    "sns.despine()\n",
    "plt.tight_layout()"
   ]
  },
  {
   "cell_type": "markdown",
   "metadata": {},
   "source": [
    "### Knowledge Levels"
   ]
  },
  {
   "cell_type": "code",
   "execution_count": 22,
   "metadata": {
    "collapsed": false
   },
   "outputs": [],
   "source": [
    "points = np.arange(0, 1.33, 0.001)\n",
    "\n",
    "def func(x, r=5):\n",
    "    if x > 0.5:\n",
    "        return func_learn(0.5, r=r) * np.exp(-(r-1) * (x - 0.5))\n",
    "    return func_learn(x, r=r)\n",
    "\n",
    "plt.figure(num=None, figsize=(6, 3), dpi=160)\n",
    "frame, = plt.plot(points, [func(x) for x in points])\n",
    "\n",
    "plt.plot([0, 1.33], [0.8, 0.8], **line_dashed)\n",
    "plt.plot([0, 1.33], [0.6, 0.6], **line_dashed)\n",
    "plt.plot([0, 1.33], [0.4, 0.4], **line_dashed)\n",
    "plt.plot([0, 1.33], [0.2, 0.2], **line_dashed)\n",
    "\n",
    "plt.annotate('Atomaticity', xy=(1, 0.8), xytext=(1, 0.85), **text_label)\n",
    "plt.annotate('Recall', xy=(1, 0.6), xytext=(1, 0.65), **text_label)\n",
    "plt.annotate('Recognition', xy=(1, 0.4), xytext=(1, 0.45), **text_label)\n",
    "plt.annotate('Femiliarity', xy=(1, 0.2), xytext=(1, 0.25), **text_label)\n",
    "\n",
    "plt.xlabel('Time')\n",
    "plt.ylabel('Memory strength')\n",
    "frame.axes.get_xaxis().set_ticks([])\n",
    "sns.despine()\n",
    "plt.tight_layout()"
   ]
  },
  {
   "cell_type": "code",
   "execution_count": null,
   "metadata": {
    "collapsed": true
   },
   "outputs": [],
   "source": []
  }
 ],
 "metadata": {
  "kernelspec": {
   "display_name": "Python 2",
   "language": "python",
   "name": "python2"
  },
  "language_info": {
   "codemirror_mode": {
    "name": "ipython",
    "version": 2
   },
   "file_extension": ".py",
   "mimetype": "text/x-python",
   "name": "python",
   "nbconvert_exporter": "python",
   "pygments_lexer": "ipython2",
   "version": "2.7.6"
  }
 },
 "nbformat": 4,
 "nbformat_minor": 0
}
