{
 "metadata": {
  "name": "",
  "signature": "sha256:43d7e25f784688bdbe02f6ef0716a8dbb164a8cae57f59043599285bd371d1dd"
 },
 "nbformat": 3,
 "nbformat_minor": 0,
 "worksheets": [
  {
   "cells": [
    {
     "cell_type": "code",
     "collapsed": false,
     "input": [
      "%matplotlib qt4\n",
      "from __future__ import division\n",
      "\n",
      "from models import tools, optimize, models\n",
      "from models.tests import PerformanceTest\n",
      "\n",
      "import numpy as np\n",
      "import pandas as pd\n",
      "import matplotlib.pyplot as plt"
     ],
     "language": "python",
     "metadata": {},
     "outputs": [],
     "prompt_number": 1
    },
    {
     "cell_type": "code",
     "collapsed": false,
     "input": [
      "data = tools.load_data('../data/answers_train.csv', limit=150000)\n",
      "data = data[data['number_of_options'] == 0]\n",
      "data = tools.unknown_answers(data)\n",
      "print len(data)"
     ],
     "language": "python",
     "metadata": {},
     "outputs": [
      {
       "output_type": "stream",
       "stream": "stdout",
       "text": [
        "15416\n"
       ]
      }
     ],
     "prompt_number": 16
    },
    {
     "cell_type": "code",
     "collapsed": false,
     "input": [
      "elo = models.EloModel()\n",
      "#elo_test = PerformanceTest(elo, data)\n",
      "#elo_test.run()\n",
      "#print str(elo_test.rmse()) + '\\n' + str(elo_test.auc())"
     ],
     "language": "python",
     "metadata": {},
     "outputs": [],
     "prompt_number": 3
    },
    {
     "cell_type": "code",
     "collapsed": false,
     "input": [
      "elot = models.EloResponseTime()\n",
      "elot_test = PerformanceTest(elot, data)\n",
      "elot_test.run()\n",
      "print str(elot_test.rmse()) + '\\n' + str(elot_test.auc())"
     ],
     "language": "python",
     "metadata": {},
     "outputs": [
      {
       "output_type": "stream",
       "stream": "stdout",
       "text": [
        "RMSE: 0.395484212707\n",
        "Training Set Size: 1392\n",
        "AUC: 0.761178225205\n",
        "Training Set Size: 1392\n"
       ]
      }
     ],
     "prompt_number": 5
    },
    {
     "cell_type": "code",
     "collapsed": false,
     "input": [
      "pfa = models.PFAModel(elo)\n",
      "pfa_test = PerformanceTest(pfa, data)\n",
      "pfa_test.run()\n",
      "print str(pfa_test.rmse()) + '\\n' + str(pfa_test.auc())"
     ],
     "language": "python",
     "metadata": {},
     "outputs": [
      {
       "output_type": "stream",
       "stream": "stdout",
       "text": [
        "RMSE: 0.355789341865\n",
        "Training Set Size: 6905\n",
        "AUC: 0.759537461524\n",
        "Training Set Size: 6905\n"
       ]
      }
     ],
     "prompt_number": 12
    },
    {
     "cell_type": "code",
     "collapsed": false,
     "input": [
      "pfas = models.PFASpacing(elo, decay_rate=0.1, tau=4)\n",
      "pfas_test = PerformanceTest(pfas, data)\n",
      "pfas_test.run()\n",
      "print str(pfas_test.rmse()) + '\\n' + str(pfas_test.auc())"
     ],
     "language": "python",
     "metadata": {},
     "outputs": [
      {
       "output_type": "stream",
       "stream": "stdout",
       "text": [
        "RMSE: 0.229024255346\n",
        "Training Set Size: 8127\n",
        "AUC: 0.987530594631\n",
        "Training Set Size: 8127\n"
       ]
      }
     ],
     "prompt_number": 21
    },
    {
     "cell_type": "code",
     "collapsed": false,
     "input": [
      "pfasa = models.PFASpacingAlt(elo, decay_rate=0.2)\n",
      "pfasa_test = PerformanceTest(pfasa, data)\n",
      "pfasa_test.run()\n",
      "print str(pfasa_test.rmse()) + '\\n' + str(pfasa_test.auc())"
     ],
     "language": "python",
     "metadata": {},
     "outputs": [
      {
       "output_type": "stream",
       "stream": "stdout",
       "text": [
        "RMSE: 0.228596673303\n",
        "Training Set Size: 8127\n",
        "AUC: 0.989958006909\n",
        "Training Set Size: 8127\n"
       ]
      }
     ],
     "prompt_number": 49
    },
    {
     "cell_type": "code",
     "collapsed": false,
     "input": [
      "pfat = models.PFATiming(elo, time_effect_fun=lambda t: 1.6 - 0.1*np.log(t))\n",
      "pfat_test = PerformanceTest(pfat, data)\n",
      "pfat_test.run()\n",
      "print str(pfat_test.rmse()) + '\\n' + str(pfat_test.auc())"
     ],
     "language": "python",
     "metadata": {},
     "outputs": [
      {
       "output_type": "stream",
       "stream": "stdout",
       "text": [
        "RMSE: 0.285495658414\n",
        "Training Set Size: 8127\n",
        "AUC: 0.860415421443\n",
        "Training Set Size: 8127\n"
       ]
      }
     ],
     "prompt_number": 18
    },
    {
     "cell_type": "code",
     "collapsed": false,
     "input": [
      "from collections import defaultdict\n",
      "\n",
      "def get_interval(number, intervals):\n",
      "    for left, right in intervals:\n",
      "        if left <= number <= right:\n",
      "            return (left, right)\n",
      "    raise LookupError\n",
      "\n",
      "def interval_error(test, intervals):\n",
      "    error = defaultdict(lambda: [])\n",
      "    for id, row in test.test_set.iterrows():\n",
      "        item = test.model.items.get((row.user_id, row.place_id))\n",
      "        if item is not None and item.practices:\n",
      "            to_datetime = test.model.to_datetime\n",
      "            diff = to_datetime(row.inserted) - to_datetime(item.practices[-1])\n",
      "            interval = get_interval(diff.total_seconds(), intervals)\n",
      "            error[interval].append([row.is_correct, row.prediction])\n",
      "    return error"
     ],
     "language": "python",
     "metadata": {},
     "outputs": [],
     "prompt_number": 24
    },
    {
     "cell_type": "code",
     "collapsed": false,
     "input": [
      "intervals = interval_error(\n",
      "    pfasa_test,\n",
      "    [(0, 0)] + [(2**x, 2**(x+1) - 1) for x in range(20)] + [(2**20, np.inf)],\n",
      ")"
     ],
     "language": "python",
     "metadata": {},
     "outputs": [],
     "prompt_number": 31
    },
    {
     "cell_type": "code",
     "collapsed": false,
     "input": [
      "result = []\n",
      "for interval, data in intervals.items():\n",
      "    data = np.array(data)\n",
      "    result.append((\n",
      "        sum(interval) / 2.,\n",
      "        tools.rmse(data[:, 0], data[:, 1]),\n",
      "    ))\n",
      "result = sorted(result, key=lambda x: x[0])\n",
      "\n",
      "plt.plot([x[0] for x in result], [x[1] for x in result])\n",
      "plt.xscale('log')\n",
      "plt.show()"
     ],
     "language": "python",
     "metadata": {},
     "outputs": [],
     "prompt_number": 32
    },
    {
     "cell_type": "code",
     "collapsed": false,
     "input": [],
     "language": "python",
     "metadata": {},
     "outputs": []
    }
   ],
   "metadata": {}
  }
 ]
}