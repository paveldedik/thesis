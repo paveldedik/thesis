{
 "cells": [
  {
   "cell_type": "code",
   "execution_count": 1,
   "metadata": {
    "collapsed": false
   },
   "outputs": [],
   "source": [
    "%matplotlib qt4\n",
    "from __future__ import division\n",
    "\n",
    "from models import tools, optimize, models, filters\n",
    "from models.tests import PerformanceTest\n",
    "\n",
    "import numpy as np\n",
    "import pandas as pd\n",
    "import sklearn as sk\n",
    "import matplotlib.pyplot as plt"
   ]
  },
  {
   "cell_type": "code",
   "execution_count": 2,
   "metadata": {
    "collapsed": false
   },
   "outputs": [
    {
     "name": "stdout",
     "output_type": "stream",
     "text": [
      "Loaded 483062 answers.\n",
      "140664\n"
     ]
    }
   ],
   "source": [
    "data = tools.load_data(offset=1700000, limit=500000)\n",
    "data = data[filters.sequentize(data)]\n",
    "print len(data)"
   ]
  },
  {
   "cell_type": "code",
   "execution_count": 3,
   "metadata": {
    "collapsed": false
   },
   "outputs": [
    {
     "data": {
      "text/plain": [
       "RMSE: 0.409553335789\n",
       "AUC: 0.728133976982\n",
       "LL: -12641.1566218\n",
       "OFF: 0.00342525129833\n",
       "CORRECT: 18929\n",
       "ACCURACY: 0.759468785107\n",
       "Set Size: 24924"
      ]
     },
     "execution_count": 3,
     "metadata": {},
     "output_type": "execute_result"
    }
   ],
   "source": [
    "elo_test = PerformanceTest(models.EloModel(), data, split_data=True)\n",
    "elo_test.run()\n",
    "elo_test.results['train']"
   ]
  },
  {
   "cell_type": "code",
   "execution_count": 4,
   "metadata": {
    "collapsed": false
   },
   "outputs": [
    {
     "data": {
      "text/plain": [
       "RMSE: 0.414665115892\n",
       "AUC: 0.718464163852\n",
       "LL: -12967.4453475\n",
       "OFF: -0.00945367770268\n",
       "CORRECT: 18754\n",
       "ACCURACY: 0.752447440218\n",
       "Set Size: 24924"
      ]
     },
     "execution_count": 4,
     "metadata": {},
     "output_type": "execute_result"
    }
   ],
   "source": [
    "elot_test = PerformanceTest(models.EloResponseTime(), data, split_data=True)\n",
    "elot_test.run()\n",
    "elot_test.results['train']"
   ]
  },
  {
   "cell_type": "code",
   "execution_count": 6,
   "metadata": {
    "collapsed": false
   },
   "outputs": [
    {
     "data": {
      "text/plain": [
       "RMSE: 0.349081007676\n",
       "AUC: 0.794363936652\n",
       "LL: -55059.5761948\n",
       "OFF: -0.0309137416068\n",
       "CORRECT: 116919\n",
       "ACCURACY: 0.831193482341\n",
       "Set Size: 140664"
      ]
     },
     "execution_count": 6,
     "metadata": {},
     "output_type": "execute_result"
    }
   ],
   "source": [
    "models.PFAExt(models.EloModel(), gamma=2.3, delta=-0.8)\n",
    "pfae_test = PerformanceTest(pfae, data)\n",
    "pfae_test.run()\n",
    "pfae_test.results['train']"
   ]
  },
  {
   "cell_type": "code",
   "execution_count": 7,
   "metadata": {
    "collapsed": false
   },
   "outputs": [
    {
     "data": {
      "text/plain": [
       "RMSE: 0.353317420482\n",
       "AUC: 0.77273277106\n",
       "LL: -62152.5584432\n",
       "OFF: 0.0339080158358\n",
       "CORRECT: 117430\n",
       "ACCURACY: 0.83482625263\n",
       "Set Size: 140664"
      ]
     },
     "execution_count": 7,
     "metadata": {},
     "output_type": "execute_result"
    }
   ],
   "source": [
    "pfag = models.PFAGong(models.EloModel(), gamma=1.5, delta=-0.2, decay=0.8)\n",
    "pfag_test = PerformanceTest(pfag, data)\n",
    "pfag_test.run()\n",
    "pfag_test.results['train']"
   ]
  },
  {
   "cell_type": "code",
   "execution_count": 8,
   "metadata": {
    "collapsed": false
   },
   "outputs": [
    {
     "data": {
      "text/plain": [
       "RMSE: 0.342808321951\n",
       "AUC: 0.801598404829\n",
       "LL: -53287.4166581\n",
       "OFF: 0.000135530189312\n",
       "CORRECT: 118055\n",
       "ACCURACY: 0.839269464824\n",
       "Set Size: 140664"
      ]
     },
     "execution_count": 8,
     "metadata": {},
     "output_type": "execute_result"
    }
   ],
   "source": [
    "pfaet = models.PFAExtTiming(models.EloModel(), time_effect_fun=lambda t: 2.507/(t+1)**0.166)\n",
    "pfaet_test = PerformanceTest(pfaet, data)\n",
    "pfaet_test.run()\n",
    "pfaet_test.results['train']"
   ]
  },
  {
   "cell_type": "code",
   "execution_count": 9,
   "metadata": {
    "collapsed": false
   },
   "outputs": [
    {
     "data": {
      "text/plain": [
       "RMSE: 0.347316268585\n",
       "AUC: 0.778816743654\n",
       "LL: -55103.8329468\n",
       "OFF: 0.012345210262\n",
       "CORRECT: 117504\n",
       "ACCURACY: 0.83823057333\n",
       "Set Size: 140181"
      ]
     },
     "execution_count": 9,
     "metadata": {},
     "output_type": "execute_result"
    }
   ],
   "source": [
    "pfaes = models.PFAExtSpacing(models.EloModel(), iota=1.5, decay_rate=0.18)\n",
    "pfaes_test = PerformanceTest(pfaes, data)\n",
    "pfaes_test.run()\n",
    "pfaes_test.results['train']"
   ]
  },
  {
   "cell_type": "code",
   "execution_count": 10,
   "metadata": {
    "collapsed": false
   },
   "outputs": [
    {
     "data": {
      "text/plain": [
       "RMSE: 0.343096498471\n",
       "AUC: 0.799689008754\n",
       "LL: -53409.9651533\n",
       "OFF: 0.00795375163498\n",
       "CORRECT: 118095\n",
       "ACCURACY: 0.839553830404\n",
       "Set Size: 140664"
      ]
     },
     "execution_count": 10,
     "metadata": {},
     "output_type": "execute_result"
    }
   ],
   "source": [
    "staircase = {\n",
    "    (0, 60): 1.43,\n",
    "    (60, 90): 1.17,\n",
    "    (90, 150): 1.01,\n",
    "    (150, 300): 0.93,\n",
    "    (300, 600): 0.82,\n",
    "    (600, 60*30): 0.78,\n",
    "    (60*30, 60*60*3): 0.76,\n",
    "    (60*60*3, 60*60*24): 0.63,\n",
    "    (60*60*24, 60*60*24*5): 0.42,\n",
    "    (60*60*24*5, np.inf): 0.12,\n",
    "}\n",
    "\n",
    "pfaest = models.PFAExtStaircase(models.EloModel(), staircase=staircase)\n",
    "pfaest_test = PerformanceTest(pfaest, data)\n",
    "pfaest_test.run()\n",
    "pfaest_test.results['train']"
   ]
  },
  {
   "cell_type": "code",
   "execution_count": 18,
   "metadata": {
    "collapsed": false
   },
   "outputs": [
    {
     "data": {
      "text/plain": [
       "RMSE: 0.342860171684\n",
       "AUC: 0.801698405912\n",
       "LL: -53288.4460063\n",
       "OFF: 0.000379587042317\n",
       "CORRECT: 118053\n",
       "ACCURACY: 0.839255246545\n",
       "Set Size: 140664"
      ]
     },
     "execution_count": 18,
     "metadata": {},
     "output_type": "execute_result"
    }
   ],
   "source": [
    "staircase2 = tools.connect_points(\n",
    "    [(0, 1.6), (45, 1.43), (75, 1.17), (120, 1.01), (225, 0.93), (1200, 0.78),\n",
    "     (6300, 0.76), (48600, 0.63), (259200, 0.42), (432000, 0.12), (10e10, 0.2)]\n",
    ")\n",
    "pfaest2 = models.PFAExtTiming(models.EloModel(), time_effect_fun=staircase2)\n",
    "pfaest2_test = PerformanceTest(pfaest2, data)\n",
    "pfaest2_test.run()\n",
    "pfaest2_test.results['train']"
   ]
  },
  {
   "cell_type": "code",
   "execution_count": 15,
   "metadata": {
    "collapsed": false
   },
   "outputs": [
    {
     "data": {
      "text/plain": [
       "[<matplotlib.lines.Line2D at 0x7fca9543cd50>]"
      ]
     },
     "execution_count": 15,
     "metadata": {},
     "output_type": "execute_result"
    }
   ],
   "source": [
    "fpr, tpr, thresholds = sk.metrics.roc_curve(\n",
    "    pfag_test.train_values['observed'],\n",
    "    pfag_test.train_values['predicted'], pos_label=1)\n",
    "plt.plot(fpr, tpr)"
   ]
  },
  {
   "cell_type": "code",
   "execution_count": 18,
   "metadata": {
    "collapsed": false
   },
   "outputs": [],
   "source": [
    "positives = []\n",
    "negatives = []\n",
    "p = pfae_test.train_values[pfae_test.train_values['observed'] == 1]\n",
    "n = pfae_test.train_values[pfae_test.train_values['observed'] == 0]\n",
    "\n",
    "intervals = zip(np.arange(0, 0.99, 0.01), np.arange(0.01, 1, 0.01))\n",
    "for lower, upper in intervals:\n",
    "    positive_count = len(p[(p['predicted'] > lower) & (p['predicted'] < upper)])\n",
    "    negative_count = len(n[(n['predicted'] > lower) & (n['predicted'] < upper)])\n",
    "    positives.append(positive_count)\n",
    "    negatives.append(negative_count)"
   ]
  },
  {
   "cell_type": "code",
   "execution_count": 19,
   "metadata": {
    "collapsed": false
   },
   "outputs": [
    {
     "data": {
      "text/plain": [
       "[<matplotlib.lines.Line2D at 0x7f1b0015b0d0>]"
      ]
     },
     "execution_count": 19,
     "metadata": {},
     "output_type": "execute_result"
    }
   ],
   "source": [
    "plt.plot([np.mean(interval) for interval in intervals], positives, 'g-')\n",
    "plt.plot([np.mean(interval) for interval in intervals], negatives, 'r-')"
   ]
  },
  {
   "cell_type": "code",
   "execution_count": null,
   "metadata": {
    "collapsed": false
   },
   "outputs": [],
   "source": []
  }
 ],
 "metadata": {
  "kernelspec": {
   "display_name": "Python 2",
   "language": "python",
   "name": "python2"
  },
  "language_info": {
   "codemirror_mode": {
    "name": "ipython",
    "version": 2
   },
   "file_extension": ".py",
   "mimetype": "text/x-python",
   "name": "python",
   "nbconvert_exporter": "python",
   "pygments_lexer": "ipython2",
   "version": "2.7.6"
  }
 },
 "nbformat": 4,
 "nbformat_minor": 0
}
