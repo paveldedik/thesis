{
 "cells": [
  {
   "cell_type": "code",
   "execution_count": 2,
   "metadata": {
    "collapsed": false
   },
   "outputs": [],
   "source": [
    "%matplotlib qt4\n",
    "from __future__ import division\n",
    "\n",
    "from models import tools, optimize, models, filters\n",
    "from models.tests import PerformanceTest\n",
    "\n",
    "import numpy as np\n",
    "import pandas as pd\n",
    "import sklearn as sk\n",
    "import matplotlib.pyplot as plt"
   ]
  },
  {
   "cell_type": "code",
   "execution_count": 4,
   "metadata": {
    "collapsed": false
   },
   "outputs": [
    {
     "name": "stdout",
     "output_type": "stream",
     "text": [
      "109394\n"
     ]
    }
   ],
   "source": [
    "data = tools.load_data(offset=5e6, limit=1e6)\n",
    "data = data[filters.place_type(data, 'river') & filters.for_staircase(data)]\n",
    "print len(data)"
   ]
  },
  {
   "cell_type": "code",
   "execution_count": 3,
   "metadata": {
    "collapsed": true
   },
   "outputs": [],
   "source": [
    "data = tools.add_last_trial_age(data)"
   ]
  },
  {
   "cell_type": "code",
   "execution_count": 19,
   "metadata": {
    "collapsed": true
   },
   "outputs": [],
   "source": [
    "only_old = lambda d: d[d['last_trial_age'] > 60*60*6]\n",
    "only_new = lambda d: d[d['last_trial_age'] < 60*60*6]"
   ]
  },
  {
   "cell_type": "markdown",
   "metadata": {},
   "source": [
    "## Elo Model"
   ]
  },
  {
   "cell_type": "code",
   "execution_count": 5,
   "metadata": {
    "collapsed": false
   },
   "outputs": [
    {
     "data": {
      "text/plain": [
       "RMSE: 0.423472181742\n",
       "AUC: 0.708818093631\n",
       "LL: -12401.6142926\n",
       "OFF: 0.00353807736108\n",
       "CORRECT: 16978\n",
       "ACCURACY: 0.73536036036\n",
       "Set Size: 23088"
      ]
     },
     "execution_count": 5,
     "metadata": {},
     "output_type": "execute_result"
    }
   ],
   "source": [
    "elo_test = PerformanceTest(models.EloModel(), data, split_data=True)\n",
    "elo_test.run()\n",
    "elo_test.results['train']"
   ]
  },
  {
   "cell_type": "markdown",
   "metadata": {},
   "source": [
    "## Elo With Response Time"
   ]
  },
  {
   "cell_type": "code",
   "execution_count": 6,
   "metadata": {
    "collapsed": false
   },
   "outputs": [
    {
     "data": {
      "text/plain": [
       "RMSE: 0.428191222313\n",
       "AUC: 0.703571244911\n",
       "LL: -12709.1073088\n",
       "OFF: -0.0139681485231\n",
       "CORRECT: 16865\n",
       "ACCURACY: 0.730466042966\n",
       "Set Size: 23088"
      ]
     },
     "execution_count": 6,
     "metadata": {},
     "output_type": "execute_result"
    }
   ],
   "source": [
    "elot_test = PerformanceTest(models.EloResponseTime(), data, split_data=True)\n",
    "elot_test.run()\n",
    "elot_test.results['train']"
   ]
  },
  {
   "cell_type": "markdown",
   "metadata": {},
   "source": [
    "## PFA"
   ]
  },
  {
   "cell_type": "code",
   "execution_count": 5,
   "metadata": {
    "collapsed": false
   },
   "outputs": [
    {
     "data": {
      "text/plain": [
       "RMSE: 0.376769079342\n",
       "AUC: 0.748113754892\n",
       "LL: -66675.5597371\n",
       "OFF: 0.0185287086654\n",
       "CORRECT: 89404\n",
       "ACCURACY: 0.817266029215\n",
       "Set Size: 109394"
      ]
     },
     "execution_count": 5,
     "metadata": {},
     "output_type": "execute_result"
    }
   ],
   "source": [
    "pfa = models.PFAModel(models.EloModel(), gamma=1.545, delta=-0.21)\n",
    "pfa_test = PerformanceTest(pfa, data).run()\n",
    "pfa_test.get_results()"
   ]
  },
  {
   "cell_type": "code",
   "execution_count": 20,
   "metadata": {
    "collapsed": false
   },
   "outputs": [
    {
     "data": {
      "text/plain": [
       "RMSE: 0.354397301148\n",
       "AUC: 0.732515794771\n",
       "LL: -43559.4722765\n",
       "OFF: 0.0157483008845\n",
       "CORRECT: 70419\n",
       "ACCURACY: 0.832149651986\n",
       "Set Size: 84623"
      ]
     },
     "execution_count": 20,
     "metadata": {},
     "output_type": "execute_result"
    }
   ],
   "source": [
    "pfa_test.get_results(only_new)"
   ]
  },
  {
   "cell_type": "code",
   "execution_count": 21,
   "metadata": {
    "collapsed": false
   },
   "outputs": [
    {
     "data": {
      "text/plain": [
       "RMSE: 0.366541495727\n",
       "AUC: 0.726653077167\n",
       "LL: -16119.9074797\n",
       "OFF: 0.0700024341793\n",
       "CORRECT: 22114\n",
       "ACCURACY: 0.831947631767\n",
       "Set Size: 26581"
      ]
     },
     "execution_count": 21,
     "metadata": {},
     "output_type": "execute_result"
    }
   ],
   "source": [
    "pfa_test.get_results(only_old)"
   ]
  },
  {
   "cell_type": "markdown",
   "metadata": {},
   "source": [
    "## PFA/E"
   ]
  },
  {
   "cell_type": "code",
   "execution_count": 6,
   "metadata": {
    "collapsed": false
   },
   "outputs": [
    {
     "data": {
      "text/plain": [
       "RMSE: 0.351961960655\n",
       "AUC: 0.798228055245\n",
       "LL: -43511.7937805\n",
       "OFF: -0.0153600124807\n",
       "CORRECT: 90916\n",
       "ACCURACY: 0.831087628206\n",
       "Set Size: 109394"
      ]
     },
     "execution_count": 6,
     "metadata": {},
     "output_type": "execute_result"
    }
   ],
   "source": [
    "pfae = models.PFAExt(models.EloModel(), gamma=2.92, delta=-0.759)\n",
    "pfae_test = PerformanceTest(pfae, data).run()\n",
    "pfae_test.get_results()"
   ]
  },
  {
   "cell_type": "code",
   "execution_count": 22,
   "metadata": {
    "collapsed": false
   },
   "outputs": [
    {
     "data": {
      "text/plain": [
       "RMSE: 0.336695163302\n",
       "AUC: 0.786101580598\n",
       "LL: -31061.6516397\n",
       "OFF: -0.0364471491907\n",
       "CORRECT: 71279\n",
       "ACCURACY: 0.842312373705\n",
       "Set Size: 84623"
      ]
     },
     "execution_count": 22,
     "metadata": {},
     "output_type": "execute_result"
    }
   ],
   "source": [
    "pfae_test.get_results(only_new)"
   ]
  },
  {
   "cell_type": "code",
   "execution_count": 24,
   "metadata": {
    "collapsed": false
   },
   "outputs": [
    {
     "data": {
      "text/plain": [
       "RMSE: 0.349051935629\n",
       "AUC: 0.752187080372\n",
       "LL: -10574.8068286\n",
       "OFF: 0.0255620929098\n",
       "CORRECT: 22334\n",
       "ACCURACY: 0.840224220308\n",
       "Set Size: 26581"
      ]
     },
     "execution_count": 24,
     "metadata": {},
     "output_type": "execute_result"
    }
   ],
   "source": [
    "pfae_test.get_results(only_old)"
   ]
  },
  {
   "cell_type": "markdown",
   "metadata": {},
   "source": [
    "## PFA/G"
   ]
  },
  {
   "cell_type": "code",
   "execution_count": 9,
   "metadata": {
    "collapsed": false
   },
   "outputs": [
    {
     "data": {
      "text/plain": [
       "RMSE: 0.356887563781\n",
       "AUC: 0.781087497326\n",
       "LL: -47487.8629404\n",
       "OFF: 0.0378666367104\n",
       "CORRECT: 91129\n",
       "ACCURACY: 0.83303471854\n",
       "Set Size: 109394"
      ]
     },
     "execution_count": 9,
     "metadata": {},
     "output_type": "execute_result"
    }
   ],
   "source": [
    "pfag = models.PFAGong(models.EloModel(), gamma=2.024, delta=0.066, decay=0.434)\n",
    "pfag_test = PerformanceTest(pfag, data).run()\n",
    "pfag_test.get_results()"
   ]
  },
  {
   "cell_type": "code",
   "execution_count": 25,
   "metadata": {
    "collapsed": false
   },
   "outputs": [
    {
     "data": {
      "text/plain": [
       "RMSE: 0.341157607473\n",
       "AUC: 0.765819355989\n",
       "LL: -32775.9443002\n",
       "OFF: 0.0138780532659\n",
       "CORRECT: 71274\n",
       "ACCURACY: 0.842253288113\n",
       "Set Size: 84623"
      ]
     },
     "execution_count": 25,
     "metadata": {},
     "output_type": "execute_result"
    }
   ],
   "source": [
    "pfag_test.get_results(only_new)"
   ]
  },
  {
   "cell_type": "code",
   "execution_count": 26,
   "metadata": {
    "collapsed": false
   },
   "outputs": [
    {
     "data": {
      "text/plain": [
       "RMSE: 0.35695634306\n",
       "AUC: 0.753974053078\n",
       "LL: -11782.9196501\n",
       "OFF: 0.0731836694598\n",
       "CORRECT: 22315\n",
       "ACCURACY: 0.839509424025\n",
       "Set Size: 26581"
      ]
     },
     "execution_count": 26,
     "metadata": {},
     "output_type": "execute_result"
    }
   ],
   "source": [
    "pfag_test.get_results(only_old)"
   ]
  },
  {
   "cell_type": "markdown",
   "metadata": {},
   "source": [
    "## PFA/E/T"
   ]
  },
  {
   "cell_type": "markdown",
   "metadata": {},
   "source": [
    "### Pow"
   ]
  },
  {
   "cell_type": "code",
   "execution_count": 35,
   "metadata": {
    "collapsed": false
   },
   "outputs": [
    {
     "data": {
      "text/plain": [
       "RMSE: 0.340610555244\n",
       "AUC: 0.806426282763\n",
       "LL: -54082.4963446\n",
       "OFF: 0.00152109514334\n",
       "CORRECT: 121341\n",
       "ACCURACY: 0.841547146781\n",
       "Set Size: 144188"
      ]
     },
     "execution_count": 35,
     "metadata": {},
     "output_type": "execute_result"
    }
   ],
   "source": [
    "pfaet = models.PFAExtTiming(models.EloModel(), gamma=2.004, delta=-0.713,\n",
    "                            time_effect_fun='pow', a=2.931, c=0.27)\n",
    "pfaet_test = PerformanceTest(pfaet, data).run()\n",
    "pfaet_test.get_results()"
   ]
  },
  {
   "cell_type": "code",
   "execution_count": 36,
   "metadata": {
    "collapsed": false
   },
   "outputs": [
    {
     "data": {
      "text/plain": [
       "RMSE: 0.330289864694\n",
       "AUC: 0.784095497917\n",
       "LL: -30159.6216451\n",
       "OFF: 0.00525999303916\n",
       "CORRECT: 72066\n",
       "ACCURACY: 0.851612445789\n",
       "Set Size: 84623"
      ]
     },
     "execution_count": 36,
     "metadata": {},
     "output_type": "execute_result"
    }
   ],
   "source": [
    "pfaet_test.get_results(only_new)"
   ]
  },
  {
   "cell_type": "code",
   "execution_count": 37,
   "metadata": {
    "collapsed": false
   },
   "outputs": [
    {
     "data": {
      "text/plain": [
       "RMSE: 0.341718412215\n",
       "AUC: 0.776883914379\n",
       "LL: -10056.0850104\n",
       "OFF: -0.00999920791694\n",
       "CORRECT: 22378\n",
       "ACCURACY: 0.841879538016\n",
       "Set Size: 26581"
      ]
     },
     "execution_count": 37,
     "metadata": {},
     "output_type": "execute_result"
    }
   ],
   "source": [
    "pfaet_test.get_results(only_old)"
   ]
  },
  {
   "cell_type": "markdown",
   "metadata": {},
   "source": [
    "### Log"
   ]
  },
  {
   "cell_type": "code",
   "execution_count": 38,
   "metadata": {
    "collapsed": false
   },
   "outputs": [
    {
     "data": {
      "text/plain": [
       "RMSE: 0.340689226279\n",
       "AUC: 0.806618196313\n",
       "LL: -54088.4268855\n",
       "OFF: -0.00167219711391\n",
       "CORRECT: 121301\n",
       "ACCURACY: 0.841269731184\n",
       "Set Size: 144188"
      ]
     },
     "execution_count": 38,
     "metadata": {},
     "output_type": "execute_result"
    }
   ],
   "source": [
    "pfaet = models.PFAExtTiming(models.EloModel(), gamma=1.906, delta=-0.806,\n",
    "                            time_effect_fun='log', a=1.789, c=0.128)\n",
    "pfaet_test = PerformanceTest(pfaet, data).run()\n",
    "pfaet_test.get_results()"
   ]
  },
  {
   "cell_type": "code",
   "execution_count": 39,
   "metadata": {
    "collapsed": false
   },
   "outputs": [
    {
     "data": {
      "text/plain": [
       "RMSE: 0.3303492141\n",
       "AUC: 0.78401170611\n",
       "LL: -30161.0209555\n",
       "OFF: 0.00268885024601\n",
       "CORRECT: 72050\n",
       "ACCURACY: 0.851423371897\n",
       "Set Size: 84623"
      ]
     },
     "execution_count": 39,
     "metadata": {},
     "output_type": "execute_result"
    }
   ],
   "source": [
    "pfaet_test.get_results(only_new)"
   ]
  },
  {
   "cell_type": "code",
   "execution_count": 40,
   "metadata": {
    "collapsed": false
   },
   "outputs": [
    {
     "data": {
      "text/plain": [
       "RMSE: 0.341961099325\n",
       "AUC: 0.778680616398\n",
       "LL: -10060.6162409\n",
       "OFF: -0.0191356816163\n",
       "CORRECT: 22354\n",
       "ACCURACY: 0.840976637448\n",
       "Set Size: 26581"
      ]
     },
     "execution_count": 40,
     "metadata": {},
     "output_type": "execute_result"
    }
   ],
   "source": [
    "pfaet_test.get_results(only_old)"
   ]
  },
  {
   "cell_type": "markdown",
   "metadata": {},
   "source": [
    "### Exp"
   ]
  },
  {
   "cell_type": "code",
   "execution_count": 10,
   "metadata": {
    "collapsed": false
   },
   "outputs": [
    {
     "data": {
      "text/plain": [
       "RMSE: 0.341023057373\n",
       "AUC: 0.808491437126\n",
       "LL: -54145.6164025\n",
       "OFF: -0.00988678960385\n",
       "CORRECT: 121099\n",
       "ACCURACY: 0.839868782423\n",
       "Set Size: 144188"
      ]
     },
     "execution_count": 10,
     "metadata": {},
     "output_type": "execute_result"
    }
   ],
   "source": [
    "pfaet = models.PFAExtTiming(models.EloModel(), gamma=2.006, delta=-0.757,\n",
    "                            time_effect_fun='exp', a=1.005, c=0.009)\n",
    "pfaet_test = PerformanceTest(pfaet, data).run()\n",
    "pfaet_test.get_results()"
   ]
  },
  {
   "cell_type": "code",
   "execution_count": 27,
   "metadata": {
    "collapsed": false
   },
   "outputs": [
    {
     "data": {
      "text/plain": [
       "RMSE: 0.330511174497\n",
       "AUC: 0.78680964956\n",
       "LL: -30136.5564007\n",
       "OFF: -0.00862470783505\n",
       "CORRECT: 71886\n",
       "ACCURACY: 0.849485364499\n",
       "Set Size: 84623"
      ]
     },
     "execution_count": 27,
     "metadata": {},
     "output_type": "execute_result"
    }
   ],
   "source": [
    "pfaet_test.get_results(only_new)"
   ]
  },
  {
   "cell_type": "code",
   "execution_count": 28,
   "metadata": {
    "collapsed": false
   },
   "outputs": [
    {
     "data": {
      "text/plain": [
       "RMSE: 0.343265390481\n",
       "AUC: 0.776443230122\n",
       "LL: -10142.2703127\n",
       "OFF: -0.0276778145852\n",
       "CORRECT: 22316\n",
       "ACCURACY: 0.839547044882\n",
       "Set Size: 26581"
      ]
     },
     "execution_count": 28,
     "metadata": {},
     "output_type": "execute_result"
    }
   ],
   "source": [
    "pfaet_test.get_results(only_old)"
   ]
  },
  {
   "cell_type": "markdown",
   "metadata": {},
   "source": [
    "### Staircase"
   ]
  },
  {
   "cell_type": "code",
   "execution_count": 11,
   "metadata": {
    "collapsed": false
   },
   "outputs": [
    {
     "data": {
      "text/plain": [
       "RMSE: 0.340814661115\n",
       "AUC: 0.807544282931\n",
       "LL: -54114.2313641\n",
       "OFF: -0.00774427081198\n",
       "CORRECT: 121218\n",
       "ACCURACY: 0.840694093822\n",
       "Set Size: 144188"
      ]
     },
     "execution_count": 11,
     "metadata": {},
     "output_type": "execute_result"
    }
   ],
   "source": [
    "staircase = {\n",
    "    (0, 60): 1.43,\n",
    "    (60, 90): 1.17,\n",
    "    (90, 150): 1.01,\n",
    "    (150, 300): 0.93,\n",
    "    (300, 600): 0.82,\n",
    "    (600, 60*30): 0.78,\n",
    "    (60*30, 60*60*3): 0.76,\n",
    "    (60*60*3, 60*60*24): 0.63,\n",
    "    (60*60*24, 60*60*24*5): 0.42,\n",
    "    (60*60*24*5, np.inf): 0.12,\n",
    "}\n",
    "\n",
    "pfaest = models.PFAExtStaircase(models.EloModel(), staircase=staircase,\n",
    "                                gamma=1.814, delta=-0.827)\n",
    "pfaest_test = PerformanceTest(pfaest, data).run()\n",
    "pfaest_test.get_results()"
   ]
  },
  {
   "cell_type": "code",
   "execution_count": 29,
   "metadata": {
    "collapsed": false
   },
   "outputs": [
    {
     "data": {
      "text/plain": [
       "RMSE: 0.330705025338\n",
       "AUC: 0.78361749371\n",
       "LL: -30212.9076876\n",
       "OFF: -0.0104702573791\n",
       "CORRECT: 71939\n",
       "ACCURACY: 0.850111671768\n",
       "Set Size: 84623"
      ]
     },
     "execution_count": 29,
     "metadata": {},
     "output_type": "execute_result"
    }
   ],
   "source": [
    "pfaest_test.get_results(only_new)"
   ]
  },
  {
   "cell_type": "code",
   "execution_count": 30,
   "metadata": {
    "collapsed": false
   },
   "outputs": [
    {
     "data": {
      "text/plain": [
       "RMSE: 0.341543975675\n",
       "AUC: 0.778966847822\n",
       "LL: -10034.5339873\n",
       "OFF: -0.0101802998706\n",
       "CORRECT: 22382\n",
       "ACCURACY: 0.842030021444\n",
       "Set Size: 26581"
      ]
     },
     "execution_count": 30,
     "metadata": {},
     "output_type": "execute_result"
    }
   ],
   "source": [
    "pfaest_test.get_results(only_old)"
   ]
  },
  {
   "cell_type": "code",
   "execution_count": 11,
   "metadata": {
    "collapsed": false
   },
   "outputs": [
    {
     "data": {
      "text/plain": [
       "RMSE: 0.347675069547\n",
       "AUC: 0.802913276382\n",
       "LL: -42511.58677\n",
       "OFF: 0.00290940747907\n",
       "CORRECT: 91356\n",
       "ACCURACY: 0.835109786643\n",
       "Set Size: 109394"
      ]
     },
     "execution_count": 11,
     "metadata": {},
     "output_type": "execute_result"
    }
   ],
   "source": [
    "x = [0, 40.7, 74.7, 115.7, 205.6, 415.1, 1023.5, 4635.0, 48792.6, 198540.1, 621875.5, 10e10]\n",
    "y = [1.2, 1.001, 0.746, 0.609, 0.481, 0.387, 0.38, 0.272, 0.166, 0.153, -0.164, -0.2]\n",
    "\n",
    "staircase2 = tools.connect_points(zip(x, y))\n",
    "pfaest2 = models.PFAExtTiming(models.EloModel(), time_effect_fun=staircase2,\n",
    "                              gamma=2.554, delta=-0.766)\n",
    "pfaest2_test = PerformanceTest(pfaest2, data).run()\n",
    "pfaest2_test.get_results()"
   ]
  },
  {
   "cell_type": "code",
   "execution_count": 33,
   "metadata": {
    "collapsed": false
   },
   "outputs": [
    {
     "data": {
      "text/plain": [
       "RMSE: 0.330472283244\n",
       "AUC: 0.783973003638\n",
       "LL: -30178.0802675\n",
       "OFF: -0.00872058989969\n",
       "CORRECT: 71957\n",
       "ACCURACY: 0.850324379897\n",
       "Set Size: 84623"
      ]
     },
     "execution_count": 33,
     "metadata": {},
     "output_type": "execute_result"
    }
   ],
   "source": [
    "pfaest2_test.get_results(only_new)"
   ]
  },
  {
   "cell_type": "code",
   "execution_count": 34,
   "metadata": {
    "collapsed": false
   },
   "outputs": [
    {
     "data": {
      "text/plain": [
       "RMSE: 0.3418059752\n",
       "AUC: 0.778321976835\n",
       "LL: -10045.4933616\n",
       "OFF: -0.0100427380118\n",
       "CORRECT: 22384\n",
       "ACCURACY: 0.842105263158\n",
       "Set Size: 26581"
      ]
     },
     "execution_count": 34,
     "metadata": {},
     "output_type": "execute_result"
    }
   ],
   "source": [
    "pfaest2_test.get_results(only_old)"
   ]
  },
  {
   "cell_type": "markdown",
   "metadata": {},
   "source": [
    "## PFA/G/T"
   ]
  },
  {
   "cell_type": "markdown",
   "metadata": {},
   "source": [
    "### Pow"
   ]
  },
  {
   "cell_type": "code",
   "execution_count": 10,
   "metadata": {
    "collapsed": false
   },
   "outputs": [
    {
     "data": {
      "text/plain": [
       "RMSE: 0.359027722712\n",
       "AUC: 0.7716510051\n",
       "LL: -48976.4274892\n",
       "OFF: 0.0266485026234\n",
       "CORRECT: 90722\n",
       "ACCURACY: 0.829314221987\n",
       "Set Size: 109394"
      ]
     },
     "execution_count": 10,
     "metadata": {},
     "output_type": "execute_result"
    }
   ],
   "source": [
    "pfagt = models.PFATiming(models.EloModel(),\n",
    "                         time_effect_good='pow', a=3.196, c=0.21,\n",
    "                         time_effect_bad='pow', b=4.705, d=0.695)\n",
    "pfagt_test = PerformanceTest(pfagt, data).run()\n",
    "pfagt_test.get_results()"
   ]
  },
  {
   "cell_type": "code",
   "execution_count": 45,
   "metadata": {
    "collapsed": false
   },
   "outputs": [
    {
     "data": {
      "text/plain": [
       "RMSE: 0.342350961066\n",
       "AUC: 0.755554559652\n",
       "LL: -35584.1280647\n",
       "OFF: 0.0225048367109\n",
       "CORRECT: 71292\n",
       "ACCURACY: 0.842465996242\n",
       "Set Size: 84623"
      ]
     },
     "execution_count": 45,
     "metadata": {},
     "output_type": "execute_result"
    }
   ],
   "source": [
    "pfagt_test.get_results(only_new)0.363359462169"
   ]
  },
  {
   "cell_type": "code",
   "execution_count": 46,
   "metadata": {
    "collapsed": false
   },
   "outputs": [
    {
     "data": {
      "text/plain": [
       "RMSE: 0.351600464616\n",
       "AUC: 0.754879028574\n",
       "LL: -10676.7078492\n",
       "OFF: -0.0183476976578\n",
       "CORRECT: 22049\n",
       "ACCURACY: 0.829502276062\n",
       "Set Size: 26581"
      ]
     },
     "execution_count": 46,
     "metadata": {},
     "output_type": "execute_result"
    }
   ],
   "source": [
    "pfagt_test.get_results(only_old)"
   ]
  },
  {
   "cell_type": "markdown",
   "metadata": {},
   "source": [
    "### Log"
   ]
  },
  {
   "cell_type": "code",
   "execution_count": 47,
   "metadata": {
    "collapsed": false
   },
   "outputs": [
    {
     "data": {
      "text/plain": [
       "RMSE: 0.351595326154\n",
       "AUC: 0.775257897025\n",
       "LL: -63083.6694556\n",
       "OFF: 0.0180259204946\n",
       "CORRECT: 119876\n",
       "ACCURACY: 0.835291330463\n",
       "Set Size: 143514"
      ]
     },
     "execution_count": 47,
     "metadata": {},
     "output_type": "execute_result"
    }
   ],
   "source": [
    "pfagt = models.PFATiming(models.EloModel(),\n",
    "                         time_effect_good='log', a=1.669, c=0.102,\n",
    "                         time_effect_bad='log', b=0.914, d=0.098)\n",
    "pfagt_test = PerformanceTest(pfagt, data).run()\n",
    "pfagt_test.get_results()"
   ]
  },
  {
   "cell_type": "code",
   "execution_count": 48,
   "metadata": {
    "collapsed": false
   },
   "outputs": [
    {
     "data": {
      "text/plain": [
       "RMSE: 0.345969738301\n",
       "AUC: 0.741354472004\n",
       "LL: -38293.320991\n",
       "OFF: 0.0375190317222\n",
       "CORRECT: 70891\n",
       "ACCURACY: 0.844453179907\n",
       "Set Size: 83949"
      ]
     },
     "execution_count": 48,
     "metadata": {},
     "output_type": "execute_result"
    }
   ],
   "source": [
    "pfagt_test.get_results(only_new)"
   ]
  },
  {
   "cell_type": "code",
   "execution_count": 49,
   "metadata": {
    "collapsed": false
   },
   "outputs": [
    {
     "data": {
      "text/plain": [
       "RMSE: 0.352364106136\n",
       "AUC: 0.770791164391\n",
       "LL: -10923.5587755\n",
       "OFF: -0.0226744464621\n",
       "CORRECT: 22088\n",
       "ACCURACY: 0.830969489485\n",
       "Set Size: 26581"
      ]
     },
     "execution_count": 49,
     "metadata": {},
     "output_type": "execute_result"
    }
   ],
   "source": [
    "pfagt_test.get_results(only_old)"
   ]
  },
  {
   "cell_type": "markdown",
   "metadata": {},
   "source": [
    "### Exp"
   ]
  },
  {
   "cell_type": "code",
   "execution_count": 8,
   "metadata": {
    "collapsed": false
   },
   "outputs": [
    {
     "data": {
      "text/plain": [
       "RMSE: 0.381497383305\n",
       "AUC: 0.727927046887\n",
       "LL: -4930.92175252\n",
       "OFF: 0.0421144648418\n",
       "CORRECT: 7377\n",
       "ACCURACY: 0.81235546746\n",
       "Set Size: 9081"
      ]
     },
     "execution_count": 8,
     "metadata": {},
     "output_type": "execute_result"
    }
   ],
   "source": [
    "pfagt = models.PFATiming(models.EloModel(),\n",
    "                         time_effect_good='exp', a=1.2, c=0.0017,\n",
    "                         time_effect_bad='exp', b=1.496, d=0.012)\n",
    "pfagt_test = PerformanceTest(pfagt, data).run()\n",
    "pfagt_test.get_results()"
   ]
  },
  {
   "cell_type": "code",
   "execution_count": 53,
   "metadata": {
    "collapsed": false
   },
   "outputs": [
    {
     "data": {
      "text/plain": [
       "RMSE: 0.344712541379\n",
       "AUC: 0.740277853289\n",
       "LL: -37075.9728314\n",
       "OFF: 0.0239399120484\n",
       "CORRECT: 71325\n",
       "ACCURACY: 0.842855961145\n",
       "Set Size: 84623"
      ]
     },
     "execution_count": 53,
     "metadata": {},
     "output_type": "execute_result"
    }
   ],
   "source": [
    "pfagt_test.get_results(only_new)"
   ]
  },
  {
   "cell_type": "code",
   "execution_count": 54,
   "metadata": {
    "collapsed": false
   },
   "outputs": [
    {
     "data": {
      "text/plain": [
       "RMSE: 0.35210576888\n",
       "AUC: 0.750118153429\n",
       "LL: -10938.7822215\n",
       "OFF: -0.00673720396386\n",
       "CORRECT: 22087\n",
       "ACCURACY: 0.830931868628\n",
       "Set Size: 26581"
      ]
     },
     "execution_count": 54,
     "metadata": {},
     "output_type": "execute_result"
    }
   ],
   "source": [
    "pfagt_test.get_results(only_old)"
   ]
  },
  {
   "cell_type": "markdown",
   "metadata": {},
   "source": [
    "## PFA/E/RT"
   ]
  },
  {
   "cell_type": "code",
   "execution_count": 14,
   "metadata": {
    "collapsed": false
   },
   "outputs": [
    {
     "data": {
      "text/plain": [
       "RMSE: 0.352294694451\n",
       "AUC: 0.793839944944\n",
       "LL: -44757.9270573\n",
       "OFF: 0.00101258640877\n",
       "CORRECT: 90668\n",
       "ACCURACY: 0.828820593451\n",
       "Set Size: 109394"
      ]
     },
     "execution_count": 14,
     "metadata": {},
     "output_type": "execute_result"
    }
   ],
   "source": [
    "pfart = models.PFAResponseTime(models.EloModel(), gamma=1.299, delta=-0.951, zeta=1.916)\n",
    "pfart_test = PerformanceTest(pfart, data).run()\n",
    "pfart_test.get_results()"
   ]
  },
  {
   "cell_type": "code",
   "execution_count": 41,
   "metadata": {
    "collapsed": false
   },
   "outputs": [
    {
     "data": {
      "text/plain": [
       "RMSE: 0.336790457866\n",
       "AUC: 0.785213286488\n",
       "LL: -32161.6977155\n",
       "OFF: -0.0183581208724\n",
       "CORRECT: 71009\n",
       "ACCURACY: 0.83912175177\n",
       "Set Size: 84623"
      ]
     },
     "execution_count": 41,
     "metadata": {},
     "output_type": "execute_result"
    }
   ],
   "source": [
    "pfart_test.get_results(only_new)0.352750053521"
   ]
  },
  {
   "cell_type": "code",
   "execution_count": 42,
   "metadata": {
    "collapsed": false
   },
   "outputs": [
    {
     "data": {
      "text/plain": [
       "RMSE: 0.348672299028\n",
       "AUC: 0.768197627565\n",
       "LL: -11308.0014656\n",
       "OFF: 0.0502793256465\n",
       "CORRECT: 22356\n",
       "ACCURACY: 0.841051879162\n",
       "Set Size: 26581"
      ]
     },
     "execution_count": 42,
     "metadata": {},
     "output_type": "execute_result"
    }
   ],
   "source": [
    "pfart_test.get_results(only_old)"
   ]
  },
  {
   "cell_type": "code",
   "execution_count": null,
   "metadata": {
    "collapsed": true
   },
   "outputs": [],
   "source": []
  }
 ],
 "metadata": {
  "kernelspec": {
   "display_name": "Python 2",
   "language": "python",
   "name": "python2"
  },
  "language_info": {
   "codemirror_mode": {
    "name": "ipython",
    "version": 2
   },
   "file_extension": ".py",
   "mimetype": "text/x-python",
   "name": "python",
   "nbconvert_exporter": "python",
   "pygments_lexer": "ipython2",
   "version": "2.7.6"
  }
 },
 "nbformat": 4,
 "nbformat_minor": 0
}
