{
 "metadata": {
  "name": "",
  "signature": "sha256:31cbdba45c3f101da2506e7b5027acc4c74c677496774cd1c9cbcd3d6fcdeb28"
 },
 "nbformat": 3,
 "nbformat_minor": 0,
 "worksheets": [
  {
   "cells": [
    {
     "cell_type": "code",
     "collapsed": false,
     "input": [
      "%matplotlib qt4\n",
      "from __future__ import division\n",
      "\n",
      "from models import tools, optimize, models\n",
      "from models.tests import PerformanceTest\n",
      "\n",
      "import numpy as np\n",
      "import pandas as pd\n",
      "import matplotlib.pyplot as plt"
     ],
     "language": "python",
     "metadata": {},
     "outputs": [],
     "prompt_number": 1
    },
    {
     "cell_type": "code",
     "collapsed": false,
     "input": [
      "data = tools.load_data('../data/answers_train.csv', offset=100000, limit=50000)\n",
      "#data = data[data['number_of_options'] == 0]\n",
      "data = tools.unknown_answers(data)\n",
      "print len(data)"
     ],
     "language": "python",
     "metadata": {},
     "outputs": [
      {
       "output_type": "stream",
       "stream": "stdout",
       "text": [
        "12903\n"
       ]
      }
     ],
     "prompt_number": 2
    },
    {
     "cell_type": "code",
     "collapsed": false,
     "input": [
      "elo = models.EloModel()\n",
      "#elo_test = PerformanceTest(elo, data)\n",
      "#elo_test.run()\n",
      "#print str(elo_test.rmse()) + '\\n' + str(elo_test.auc())"
     ],
     "language": "python",
     "metadata": {},
     "outputs": [],
     "prompt_number": 4
    },
    {
     "cell_type": "code",
     "collapsed": false,
     "input": [
      "elot = models.EloResponseTime()\n",
      "elot_test = PerformanceTest(elot, data)\n",
      "elot_test.run()\n",
      "print str(elot_test.rmse()) + '\\n' + str(elot_test.auc())"
     ],
     "language": "python",
     "metadata": {},
     "outputs": [
      {
       "output_type": "stream",
       "stream": "stdout",
       "text": [
        "RMSE: 0.395484212707\n",
        "Training Set Size: 1392\n",
        "AUC: 0.761178225205\n",
        "Training Set Size: 1392\n"
       ]
      }
     ],
     "prompt_number": 5
    },
    {
     "cell_type": "code",
     "collapsed": false,
     "input": [
      "pfa = models.PFAModel(elo)\n",
      "pfa_test = PerformanceTest(pfa, data)\n",
      "pfa_test.run()\n",
      "print str(pfa_test.rmse()) + '\\n' + str(pfa_test.auc())"
     ],
     "language": "python",
     "metadata": {},
     "outputs": [
      {
       "output_type": "stream",
       "stream": "stdout",
       "text": [
        "RMSE: 0.346703397122\n",
        "Training Set Size: 8492\n",
        "AUC: 0.933671069749\n",
        "Training Set Size: 8492\n"
       ]
      }
     ],
     "prompt_number": 5
    },
    {
     "cell_type": "code",
     "collapsed": false,
     "input": [
      "from sklearn import metrics\n",
      "fpr, tpr, thresholds = metrics.roc_curve(pfa_test.y_true, pfa_test.y_pred, pos_label=1)\n",
      "plt.plot(fpr, tpr)"
     ],
     "language": "python",
     "metadata": {},
     "outputs": [],
     "prompt_number": 27
    },
    {
     "cell_type": "code",
     "collapsed": false,
     "input": [
      "test_d = pfa_test.test_set.sort(['inserted'])[1000:]\n",
      "test_d[(test_d['user_id'] == 18203) & (test_d['place_id'] == 169)]"
     ],
     "language": "python",
     "metadata": {},
     "outputs": [
      {
       "html": [
        "<div style=\"max-height:1000px;max-width:1500px;overflow:auto;\">\n",
        "<table border=\"1\" class=\"dataframe\">\n",
        "  <thead>\n",
        "    <tr style=\"text-align: right;\">\n",
        "      <th></th>\n",
        "      <th>user_id</th>\n",
        "      <th>place_id</th>\n",
        "      <th>index</th>\n",
        "      <th>id</th>\n",
        "      <th>place_answered</th>\n",
        "      <th>type</th>\n",
        "      <th>inserted</th>\n",
        "      <th>response_time</th>\n",
        "      <th>number_of_options</th>\n",
        "      <th>is_correct</th>\n",
        "      <th>prediction</th>\n",
        "    </tr>\n",
        "  </thead>\n",
        "  <tbody>\n",
        "    <tr>\n",
        "      <th>3027</th>\n",
        "      <td> 18203</td>\n",
        "      <td> 169</td>\n",
        "      <td> 149944</td>\n",
        "      <td> 288027</td>\n",
        "      <td> 169</td>\n",
        "      <td> 1</td>\n",
        "      <td> 2014-02-07 16:57:41</td>\n",
        "      <td> 6883</td>\n",
        "      <td> 0</td>\n",
        "      <td> 1</td>\n",
        "      <td> 0.919011</td>\n",
        "    </tr>\n",
        "  </tbody>\n",
        "</table>\n",
        "</div>"
       ],
       "metadata": {},
       "output_type": "pyout",
       "prompt_number": 44,
       "text": [
        "      user_id  place_id   index      id  place_answered  type  \\\n",
        "3027    18203       169  149944  288027             169     1   \n",
        "\n",
        "                 inserted  response_time  number_of_options  is_correct  \\\n",
        "3027  2014-02-07 16:57:41           6883                  0           1   \n",
        "\n",
        "      prediction  \n",
        "3027    0.919011  "
       ]
      }
     ],
     "prompt_number": 44
    },
    {
     "cell_type": "code",
     "collapsed": false,
     "input": [
      "pfas = models.PFASpacing(elo, decay_rate=0.18, tau=2)\n",
      "pfas_test = PerformanceTest(pfas, data)\n",
      "pfas_test.run()\n",
      "print str(pfas_test.rmse()) + '\\n' + str(pfas_test.auc())"
     ],
     "language": "python",
     "metadata": {},
     "outputs": [
      {
       "output_type": "stream",
       "stream": "stdout",
       "text": [
        "RMSE: 0.340402920792\n",
        "Training Set Size: 8492\n",
        "AUC: 0.956092459166\n",
        "Training Set Size: 8492\n"
       ]
      }
     ],
     "prompt_number": 11
    },
    {
     "cell_type": "code",
     "collapsed": false,
     "input": [
      "fpr, tpr, thresholds = metrics.roc_curve(pfas_test.y_true, pfas_test.y_pred, pos_label=1)\n",
      "plt.plot(fpr, tpr)"
     ],
     "language": "python",
     "metadata": {},
     "outputs": [
      {
       "metadata": {},
       "output_type": "pyout",
       "prompt_number": 12,
       "text": [
        "[<matplotlib.lines.Line2D at 0x7f3593415cd0>]"
       ]
      }
     ],
     "prompt_number": 12
    },
    {
     "cell_type": "code",
     "collapsed": false,
     "input": [
      "pfasa = models.PFASpacingAlt(elo, decay_rate=0.2)\n",
      "pfasa_test = PerformanceTest(pfasa, data)\n",
      "pfasa_test.run()\n",
      "print str(pfasa_test.rmse()) + '\\n' + str(pfasa_test.auc())"
     ],
     "language": "python",
     "metadata": {},
     "outputs": [
      {
       "output_type": "stream",
       "stream": "stdout",
       "text": [
        "RMSE: 0.265675009675\n",
        "Training Set Size: 33760\n",
        "AUC: 0.793800813894\n",
        "Training Set Size: 33760\n"
       ]
      }
     ],
     "prompt_number": 81
    },
    {
     "cell_type": "code",
     "collapsed": false,
     "input": [
      "pfat = models.PFATiming(elo, time_effect_fun=lambda t: 1.6 - 0.1*np.log(t))\n",
      "pfat_test = PerformanceTest(pfat, data)\n",
      "pfat_test.run()\n",
      "print str(pfat_test.rmse()) + '\\n' + str(pfat_test.auc())"
     ],
     "language": "python",
     "metadata": {},
     "outputs": [
      {
       "output_type": "stream",
       "stream": "stdout",
       "text": [
        "RMSE: 0.258370294239\n",
        "Training Set Size: 33760\n",
        "AUC: 0.819514545939\n",
        "Training Set Size: 33760\n"
       ]
      }
     ],
     "prompt_number": 103
    },
    {
     "cell_type": "code",
     "collapsed": false,
     "input": [
      "from collections import defaultdict\n",
      "\n",
      "def chunks(l, n):\n",
      "    for i in xrange(0, len(l), n):\n",
      "        yield l[i:i+n]\n",
      "\n",
      "def interval_error(test, interval_size=500):\n",
      "    answers = []\n",
      "    for id, row in test.test_set.iterrows():\n",
      "        item = test.model.items.get((row.user_id, row.place_id))\n",
      "        if item is not None and item.practices:\n",
      "            to_datetime = test.model.to_datetime\n",
      "            diff = to_datetime(row.inserted) - to_datetime(item.practices[-1])\n",
      "            answers += [(int(diff.total_seconds()), [row.is_correct, row.prediction])]\n",
      "   \n",
      "    answers = sorted(answers, key=lambda p: p[0])\n",
      "\n",
      "    get_diffs = lambda c: [diff for diff, _ in c]\n",
      "    get_answers = lambda c: [ans for _, ans in c]\n",
      "\n",
      "    intervals = {\n",
      "        (min(get_diffs(chunk)), max(get_diffs(chunk))): get_answers(chunk)\n",
      "        for chunk in chunks(answers, interval_size)\n",
      "    }\n",
      "    \n",
      "    return intervals"
     ],
     "language": "python",
     "metadata": {},
     "outputs": [],
     "prompt_number": 175
    },
    {
     "cell_type": "code",
     "collapsed": false,
     "input": [
      "intervals = interval_error(pfat_test, interval_size=1500)"
     ],
     "language": "python",
     "metadata": {},
     "outputs": [],
     "prompt_number": 185
    },
    {
     "cell_type": "code",
     "collapsed": false,
     "input": [
      "result = []\n",
      "for interval, d in intervals.items():\n",
      "    d = np.array(d)\n",
      "    result.append((\n",
      "        sum(interval) / 2.,\n",
      "        sum(d[:, 0] - d[:, 1]) / len(d),\n",
      "    ))\n",
      "result = sorted(result, key=lambda x: x[0])\n",
      "\n",
      "plt.plot([x[0] for x in result], [x[1] for x in result])\n",
      "plt.xscale('log')\n",
      "plt.show()"
     ],
     "language": "python",
     "metadata": {},
     "outputs": [],
     "prompt_number": 187
    },
    {
     "cell_type": "code",
     "collapsed": false,
     "input": [
      "sorted(intervals.keys())"
     ],
     "language": "python",
     "metadata": {},
     "outputs": [
      {
       "metadata": {},
       "output_type": "pyout",
       "prompt_number": 183,
       "text": [
        "[(0, 75),\n",
        " (75, 126),\n",
        " (126, 138),\n",
        " (138, 176),\n",
        " (176, 326),\n",
        " (326, 1400),\n",
        " (1413, 172008),\n",
        " (172010, 2612411)]"
       ]
      }
     ],
     "prompt_number": 183
    },
    {
     "cell_type": "code",
     "collapsed": false,
     "input": [],
     "language": "python",
     "metadata": {},
     "outputs": []
    }
   ],
   "metadata": {}
  }
 ]
}