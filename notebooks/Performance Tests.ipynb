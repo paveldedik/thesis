{
 "metadata": {
  "name": "",
  "signature": "sha256:83aca0f2befd818601682a16961da38f4b273601248c9bfeb37ac3668b0bd9fc"
 },
 "nbformat": 3,
 "nbformat_minor": 0,
 "worksheets": [
  {
   "cells": [
    {
     "cell_type": "code",
     "collapsed": false,
     "input": [
      "%matplotlib qt4\n",
      "from __future__ import division\n",
      "\n",
      "from models import tools, optimize, models\n",
      "from models.tests import PerformanceTest\n",
      "\n",
      "import numpy as np\n",
      "import pandas as pd\n",
      "import sklearn as sk\n",
      "import matplotlib.pyplot as plt"
     ],
     "language": "python",
     "metadata": {},
     "outputs": [],
     "prompt_number": 1
    },
    {
     "cell_type": "code",
     "collapsed": false,
     "input": [
      "data = tools.load_data('../data/answers_all.csv', offset=1700000, limit=100000)\n",
      "data = data[data['number_of_options'] == 0]\n",
      "#data = tools.unknown_answers(data)\n",
      "print len(data)"
     ],
     "language": "python",
     "metadata": {},
     "outputs": [
      {
       "output_type": "stream",
       "stream": "stdout",
       "text": [
        "66354\n"
       ]
      }
     ],
     "prompt_number": 3
    },
    {
     "cell_type": "code",
     "collapsed": false,
     "input": [
      "elo_test = PerformanceTest(models.EloModel(), data, split_data=True)\n",
      "elo_test.run()\n",
      "elo_test.results['train']"
     ],
     "language": "python",
     "metadata": {},
     "outputs": [
      {
       "output_type": "stream",
       "stream": "stdout",
       "text": [
        "0.410082189667\n"
       ]
      }
     ],
     "prompt_number": 4
    },
    {
     "cell_type": "code",
     "collapsed": false,
     "input": [
      "elot_test = PerformanceTest(models.EloResponseTime(), data, split_data=True)\n",
      "elot_test.run()\n",
      "elot_test.results['train']"
     ],
     "language": "python",
     "metadata": {},
     "outputs": [
      {
       "output_type": "stream",
       "stream": "stdout",
       "text": [
        "0.417916007703\n"
       ]
      }
     ],
     "prompt_number": 5
    },
    {
     "cell_type": "code",
     "collapsed": false,
     "input": [
      "pfa_test = PerformanceTest(models.PFAModel(models.EloModel()), data)\n",
      "pfa_test.run()\n",
      "pfa_test.results['train']"
     ],
     "language": "python",
     "metadata": {},
     "outputs": [
      {
       "metadata": {},
       "output_type": "pyout",
       "prompt_number": 5,
       "text": [
        "RMSE: 0.321530167458\n",
        "AUC: 0.858120716196\n",
        "OFF: -0.0127143351371\n",
        "Set Size: 66354"
       ]
      }
     ],
     "prompt_number": 5
    },
    {
     "cell_type": "code",
     "collapsed": false,
     "input": [
      "pfag_test = PerformanceTest(models.PFAGong(models.EloModel(), gamma=1.5, delta=-0.1, decay=1), data)\n",
      "pfag_test.run()\n",
      "pfag_test.results['train']"
     ],
     "language": "python",
     "metadata": {},
     "outputs": [
      {
       "metadata": {},
       "output_type": "pyout",
       "prompt_number": 6,
       "text": [
        "RMSE: 0.322688650218\n",
        "AUC: 0.849746605541\n",
        "OFF: 0.00331667661371\n",
        "Set Size: 66354"
       ]
      }
     ],
     "prompt_number": 6
    },
    {
     "cell_type": "code",
     "collapsed": false,
     "input": [
      "pfag_test = PerformanceTest(models.PFAGong(models.EloModel(), gamma=1.5, delta=0., decay=0.6), data)\n",
      "pfag_test.run()\n",
      "pfag_test.results['train']"
     ],
     "language": "python",
     "metadata": {},
     "outputs": [
      {
       "metadata": {},
       "output_type": "pyout",
       "prompt_number": 7,
       "text": [
        "RMSE: 0.320227952366\n",
        "AUC: 0.859839741479\n",
        "OFF: -0.00166594770148\n",
        "Set Size: 66354"
       ]
      }
     ],
     "prompt_number": 7
    },
    {
     "cell_type": "code",
     "collapsed": false,
     "input": [
      "pfaf_test = PerformanceTest(models.PFAForgetting(models.EloModel(), gamma=1.7, delta=0.5), data)\n",
      "pfaf_test.run()\n",
      "pfaf_test.results['train']"
     ],
     "language": "python",
     "metadata": {},
     "outputs": [
      {
       "metadata": {},
       "output_type": "pyout",
       "prompt_number": 15,
       "text": [
        "RMSE: 0.320834781439\n",
        "AUC: 0.859536428623\n",
        "OFF: -0.00352776853324\n",
        "Set Size: 66174"
       ]
      }
     ],
     "prompt_number": 15
    },
    {
     "cell_type": "code",
     "collapsed": false,
     "input": [
      "pfas_test = PerformanceTest(models.PFASpacing(models.EloModel(), iota=1.5, decay_rate=0.25), data)\n",
      "pfas_test.run()\n",
      "pfas_test.results['train']"
     ],
     "language": "python",
     "metadata": {},
     "outputs": [
      {
       "metadata": {},
       "output_type": "pyout",
       "prompt_number": 11,
       "text": [
        "RMSE: 0.321331360197\n",
        "AUC: 0.862784029277\n",
        "OFF: -0.0183660670078\n",
        "Set Size: 66354"
       ]
      }
     ],
     "prompt_number": 11
    },
    {
     "cell_type": "code",
     "collapsed": false,
     "input": [
      "pfast_test = PerformanceTest(models.PFAStaircase(models.EloModel(), staircase={(-np.inf, np.inf): 5}), data)\n",
      "pfast_test.run()\n",
      "pfast_test.results['train']"
     ],
     "language": "python",
     "metadata": {},
     "outputs": [
      {
       "metadata": {},
       "output_type": "pyout",
       "prompt_number": 3,
       "text": [
        "0.33809650378991235"
       ]
      }
     ],
     "prompt_number": 3
    },
    {
     "cell_type": "code",
     "collapsed": false,
     "input": [
      "fpr, tpr, thresholds = sk.metrics.roc_curve(\n",
      "    pfast_test.train_values['observed'],\n",
      "    pfast_test.train_values['predicted'], pos_label=1)\n",
      "plt.plot(fpr, tpr)"
     ],
     "language": "python",
     "metadata": {},
     "outputs": [
      {
       "metadata": {},
       "output_type": "pyout",
       "prompt_number": 4,
       "text": [
        "[<matplotlib.lines.Line2D at 0x7fc8f5f26610>]"
       ]
      }
     ],
     "prompt_number": 4
    },
    {
     "cell_type": "code",
     "collapsed": false,
     "input": [
      "positives = []\n",
      "negatives = []\n",
      "p = pfag_test.train_values[pfag_test.train_values['observed'] == 1]\n",
      "n = pfag_test.train_values[pfag_test.train_values['observed'] == 0]\n",
      "\n",
      "intervals = zip(np.arange(0, 0.99, 0.01), np.arange(0.01, 1, 0.01))\n",
      "for lower, upper in intervals:\n",
      "    positive_count = len(p[(p['predicted'] > lower) & (p['predicted'] < upper)])\n",
      "    negative_count = len(n[(n['predicted'] > lower) & (n['predicted'] < upper)])\n",
      "    positives.append(positive_count)\n",
      "    negatives.append(negative_count)"
     ],
     "language": "python",
     "metadata": {},
     "outputs": [],
     "prompt_number": 18
    },
    {
     "cell_type": "code",
     "collapsed": false,
     "input": [
      "plt.plot([np.mean(interval) for interval in intervals], positives, 'g-')\n",
      "plt.plot([np.mean(interval) for interval in intervals], negatives, 'r-')"
     ],
     "language": "python",
     "metadata": {},
     "outputs": [
      {
       "metadata": {},
       "output_type": "pyout",
       "prompt_number": 20,
       "text": [
        "[<matplotlib.lines.Line2D at 0x7f370df35b50>]"
       ]
      }
     ],
     "prompt_number": 20
    },
    {
     "cell_type": "code",
     "collapsed": false,
     "input": [],
     "language": "python",
     "metadata": {},
     "outputs": []
    }
   ],
   "metadata": {}
  }
 ]
}