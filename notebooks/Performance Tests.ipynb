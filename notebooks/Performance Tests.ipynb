{
 "cells": [
  {
   "cell_type": "code",
   "execution_count": 1,
   "metadata": {
    "collapsed": false
   },
   "outputs": [],
   "source": [
    "%matplotlib qt4\n",
    "from __future__ import division\n",
    "\n",
    "from models import tools, optimize, models, filters\n",
    "from models.tests import PerformanceTest\n",
    "\n",
    "import numpy as np\n",
    "import pandas as pd\n",
    "import sklearn as sk\n",
    "import matplotlib.pyplot as plt"
   ]
  },
  {
   "cell_type": "code",
   "execution_count": 2,
   "metadata": {
    "collapsed": false
   },
   "outputs": [
    {
     "name": "stdout",
     "output_type": "stream",
     "text": [
      "Loaded 961218 answers.\n",
      "144188\n"
     ]
    }
   ],
   "source": [
    "data = tools.load_data(offset=5e6, limit=1e6)\n",
    "data = data[filters.sequentize(data)]\n",
    "print len(data)"
   ]
  },
  {
   "cell_type": "code",
   "execution_count": 5,
   "metadata": {
    "collapsed": false
   },
   "outputs": [
    {
     "data": {
      "text/plain": [
       "RMSE: 0.423472181742\n",
       "AUC: 0.708818093631\n",
       "LL: -12401.6142926\n",
       "OFF: 0.00353807736108\n",
       "CORRECT: 16978\n",
       "ACCURACY: 0.73536036036\n",
       "Set Size: 23088"
      ]
     },
     "execution_count": 5,
     "metadata": {},
     "output_type": "execute_result"
    }
   ],
   "source": [
    "elo_test = PerformanceTest(models.EloModel(), data, split_data=True)\n",
    "elo_test.run()\n",
    "elo_test.results['train']"
   ]
  },
  {
   "cell_type": "code",
   "execution_count": 6,
   "metadata": {
    "collapsed": false
   },
   "outputs": [
    {
     "data": {
      "text/plain": [
       "RMSE: 0.428191222313\n",
       "AUC: 0.703571244911\n",
       "LL: -12709.1073088\n",
       "OFF: -0.0139681485231\n",
       "CORRECT: 16865\n",
       "ACCURACY: 0.730466042966\n",
       "Set Size: 23088"
      ]
     },
     "execution_count": 6,
     "metadata": {},
     "output_type": "execute_result"
    }
   ],
   "source": [
    "elot_test = PerformanceTest(models.EloResponseTime(), data, split_data=True)\n",
    "elot_test.run()\n",
    "elot_test.results['train']"
   ]
  },
  {
   "cell_type": "code",
   "execution_count": 9,
   "metadata": {
    "collapsed": false
   },
   "outputs": [
    {
     "data": {
      "text/plain": [
       "RMSE: 0.365139978121\n",
       "AUC: 0.753209871305\n",
       "LL: -inf\n",
       "OFF: 0.00202036501965\n",
       "CORRECT: 118504\n",
       "ACCURACY: 0.821871445613\n",
       "Set Size: 144188"
      ]
     },
     "execution_count": 9,
     "metadata": {},
     "output_type": "execute_result"
    }
   ],
   "source": [
    "pfa = models.PFAModel(models.EloModel(), gamma=1.022, delta=-0.0806)\n",
    "pfa_test = PerformanceTest(pfa, data)\n",
    "pfa_test.run()\n",
    "pfa_test.results['train']"
   ]
  },
  {
   "cell_type": "code",
   "execution_count": 4,
   "metadata": {
    "collapsed": false
   },
   "outputs": [
    {
     "data": {
      "text/plain": [
       "RMSE: 0.345625192694\n",
       "AUC: 0.799925501439\n",
       "LL: -55503.2481574\n",
       "OFF: -0.0164008439892\n",
       "CORRECT: 120510\n",
       "ACCURACY: 0.835783837767\n",
       "Set Size: 144188"
      ]
     },
     "execution_count": 4,
     "metadata": {},
     "output_type": "execute_result"
    }
   ],
   "source": [
    "pfae = models.PFAExt(models.EloModel(), gamma=2.614, delta=-0.642)\n",
    "pfae_test = PerformanceTest(pfae, data)\n",
    "pfae_test.run()\n",
    "pfae_test.results['train']"
   ]
  },
  {
   "cell_type": "code",
   "execution_count": 9,
   "metadata": {
    "collapsed": false
   },
   "outputs": [
    {
     "data": {
      "text/plain": [
       "RMSE: 0.349664345959\n",
       "AUC: 0.782478530629\n",
       "LL: -58420.4505052\n",
       "OFF: 0.0218006882277\n",
       "CORRECT: 120477\n",
       "ACCURACY: 0.8355549699\n",
       "Set Size: 144188"
      ]
     },
     "execution_count": 9,
     "metadata": {},
     "output_type": "execute_result"
    }
   ],
   "source": [
    "pfag = models.PFAGong(models.EloModel(), gamma=1.798, delta=0.091, decay=0.425)\n",
    "pfag_test = PerformanceTest(pfag, data)\n",
    "pfag_test.run()\n",
    "pfag_test.results['train']"
   ]
  },
  {
   "cell_type": "code",
   "execution_count": 6,
   "metadata": {
    "collapsed": false
   },
   "outputs": [
    {
     "data": {
      "text/plain": [
       "RMSE: 0.340610555244\n",
       "AUC: 0.806426282763\n",
       "LL: -54082.4963446\n",
       "OFF: 0.00152109514334\n",
       "CORRECT: 121341\n",
       "ACCURACY: 0.841547146781\n",
       "Set Size: 144188"
      ]
     },
     "execution_count": 6,
     "metadata": {},
     "output_type": "execute_result"
    }
   ],
   "source": [
    "pfaet = models.PFAExtTiming(models.EloModel(), gamma=2.004, delta=-0.713,\n",
    "                            time_effect_fun='poly', a=2.931, c=0.27)\n",
    "pfaet_test = PerformanceTest(pfaet, data)\n",
    "pfaet_test.run()\n",
    "pfaet_test.results['train']"
   ]
  },
  {
   "cell_type": "code",
   "execution_count": 13,
   "metadata": {
    "collapsed": false
   },
   "outputs": [
    {
     "data": {
      "text/plain": [
       "RMSE: 0.351276087998\n",
       "AUC: 0.783479659627\n",
       "LL: -59650.2868693\n",
       "OFF: -0.0057388306516\n",
       "CORRECT: 119730\n",
       "ACCURACY: 0.830374233639\n",
       "Set Size: 144188"
      ]
     },
     "execution_count": 13,
     "metadata": {},
     "output_type": "execute_result"
    }
   ],
   "source": [
    "pfagt = models.PFAGongTiming(models.EloModel(), gamma=1.610, delta=-0.02,\n",
    "                             time_effect_fun=lambda t: 3/(t+1)**0.27)\n",
    "pfagt_test = PerformanceTest(pfagt, data)\n",
    "pfagt_test.run()\n",
    "pfagt_test.results['train']"
   ]
  },
  {
   "cell_type": "code",
   "execution_count": 9,
   "metadata": {
    "collapsed": false
   },
   "outputs": [
    {
     "data": {
      "text/plain": [
       "RMSE: 0.347316268585\n",
       "AUC: 0.778816743654\n",
       "LL: -55103.8329468\n",
       "OFF: 0.012345210262\n",
       "CORRECT: 117504\n",
       "ACCURACY: 0.83823057333\n",
       "Set Size: 140181"
      ]
     },
     "execution_count": 9,
     "metadata": {},
     "output_type": "execute_result"
    }
   ],
   "source": [
    "pfaes = models.PFAExtSpacing(models.EloModel(), iota=1.5, decay_rate=0.18)\n",
    "pfaes_test = PerformanceTest(pfaes, data)\n",
    "pfaes_test.run()\n",
    "pfaes_test.results['train']"
   ]
  },
  {
   "cell_type": "code",
   "execution_count": 8,
   "metadata": {
    "collapsed": false
   },
   "outputs": [
    {
     "data": {
      "text/plain": [
       "RMSE: 0.340814661115\n",
       "AUC: 0.807544282931\n",
       "LL: -54114.2313641\n",
       "OFF: -0.00774427081198\n",
       "CORRECT: 121218\n",
       "ACCURACY: 0.840694093822\n",
       "Set Size: 144188"
      ]
     },
     "execution_count": 8,
     "metadata": {},
     "output_type": "execute_result"
    }
   ],
   "source": [
    "staircase = {\n",
    "    (0, 60): 1.43,\n",
    "    (60, 90): 1.17,\n",
    "    (90, 150): 1.01,\n",
    "    (150, 300): 0.93,\n",
    "    (300, 600): 0.82,\n",
    "    (600, 60*30): 0.78,\n",
    "    (60*30, 60*60*3): 0.76,\n",
    "    (60*60*3, 60*60*24): 0.63,\n",
    "    (60*60*24, 60*60*24*5): 0.42,\n",
    "    (60*60*24*5, np.inf): 0.12,\n",
    "}\n",
    "\n",
    "pfaest = models.PFAExtStaircase(models.EloModel(), staircase=staircase,\n",
    "                                gamma=1.814, delta=-0.827)\n",
    "pfaest_test = PerformanceTest(pfaest, data)\n",
    "pfaest_test.run()\n",
    "pfaest_test.results['train']"
   ]
  },
  {
   "cell_type": "code",
   "execution_count": 7,
   "metadata": {
    "collapsed": false
   },
   "outputs": [
    {
     "data": {
      "text/plain": [
       "RMSE: 0.340730575822\n",
       "AUC: 0.807535789235\n",
       "LL: -54090.3633182\n",
       "OFF: -0.00669204286735\n",
       "CORRECT: 121238\n",
       "ACCURACY: 0.84083280162\n",
       "Set Size: 144188"
      ]
     },
     "execution_count": 7,
     "metadata": {},
     "output_type": "execute_result"
    }
   ],
   "source": [
    "staircase2 = tools.connect_points(\n",
    "    [(0, 1.6), (45, 1.43), (75, 1.17), (120, 1.01), (225, 0.93), (1200, 0.78),\n",
    "     (6300, 0.76), (48600, 0.63), (259200, 0.42), (432000, 0.12), (10e10, 0.02)]\n",
    ")\n",
    "pfaest2 = models.PFAExtTiming(models.EloModel(), time_effect_fun=staircase2,\n",
    "                              gamma=1.814, delta=-0.827)\n",
    "pfaest2_test = PerformanceTest(pfaest2, data)\n",
    "pfaest2_test.run()\n",
    "pfaest2_test.results['train']"
   ]
  },
  {
   "cell_type": "code",
   "execution_count": null,
   "metadata": {
    "collapsed": true
   },
   "outputs": [],
   "source": []
  }
 ],
 "metadata": {
  "kernelspec": {
   "display_name": "Python 2",
   "language": "python",
   "name": "python2"
  },
  "language_info": {
   "codemirror_mode": {
    "name": "ipython",
    "version": 2
   },
   "file_extension": ".py",
   "mimetype": "text/x-python",
   "name": "python",
   "nbconvert_exporter": "python",
   "pygments_lexer": "ipython2",
   "version": "2.7.6"
  }
 },
 "nbformat": 4,
 "nbformat_minor": 0
}
