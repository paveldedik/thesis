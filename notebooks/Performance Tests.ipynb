{
 "cells": [
  {
   "cell_type": "code",
   "execution_count": 1,
   "metadata": {
    "collapsed": false
   },
   "outputs": [],
   "source": [
    "%matplotlib qt4\n",
    "from __future__ import division\n",
    "\n",
    "from models import tools, optimize, models, filters\n",
    "from models.tests import PerformanceTest\n",
    "\n",
    "import numpy as np\n",
    "import pandas as pd\n",
    "import sklearn as sk\n",
    "import matplotlib.pyplot as plt"
   ]
  },
  {
   "cell_type": "code",
   "execution_count": 2,
   "metadata": {
    "collapsed": false
   },
   "outputs": [
    {
     "name": "stdout",
     "output_type": "stream",
     "text": [
      "Loaded 961218 answers.\n",
      "144188\n"
     ]
    }
   ],
   "source": [
    "data = tools.load_data(offset=5e6, limit=1e6)\n",
    "data = data[filters.sequentize(data)]\n",
    "print len(data)"
   ]
  },
  {
   "cell_type": "markdown",
   "metadata": {},
   "source": [
    "## Elo Model"
   ]
  },
  {
   "cell_type": "code",
   "execution_count": 5,
   "metadata": {
    "collapsed": false
   },
   "outputs": [
    {
     "data": {
      "text/plain": [
       "RMSE: 0.423472181742\n",
       "AUC: 0.708818093631\n",
       "LL: -12401.6142926\n",
       "OFF: 0.00353807736108\n",
       "CORRECT: 16978\n",
       "ACCURACY: 0.73536036036\n",
       "Set Size: 23088"
      ]
     },
     "execution_count": 5,
     "metadata": {},
     "output_type": "execute_result"
    }
   ],
   "source": [
    "elo_test = PerformanceTest(models.EloModel(), data, split_data=True)\n",
    "elo_test.run()\n",
    "elo_test.results['train']"
   ]
  },
  {
   "cell_type": "markdown",
   "metadata": {},
   "source": [
    "## Elo With Response Time"
   ]
  },
  {
   "cell_type": "code",
   "execution_count": 6,
   "metadata": {
    "collapsed": false
   },
   "outputs": [
    {
     "data": {
      "text/plain": [
       "RMSE: 0.428191222313\n",
       "AUC: 0.703571244911\n",
       "LL: -12709.1073088\n",
       "OFF: -0.0139681485231\n",
       "CORRECT: 16865\n",
       "ACCURACY: 0.730466042966\n",
       "Set Size: 23088"
      ]
     },
     "execution_count": 6,
     "metadata": {},
     "output_type": "execute_result"
    }
   ],
   "source": [
    "elot_test = PerformanceTest(models.EloResponseTime(), data, split_data=True)\n",
    "elot_test.run()\n",
    "elot_test.results['train']"
   ]
  },
  {
   "cell_type": "markdown",
   "metadata": {},
   "source": [
    "## PFA"
   ]
  },
  {
   "cell_type": "code",
   "execution_count": 9,
   "metadata": {
    "collapsed": false
   },
   "outputs": [
    {
     "data": {
      "text/plain": [
       "RMSE: 0.365139978121\n",
       "AUC: 0.753209871305\n",
       "LL: -inf\n",
       "OFF: 0.00202036501965\n",
       "CORRECT: 118504\n",
       "ACCURACY: 0.821871445613\n",
       "Set Size: 144188"
      ]
     },
     "execution_count": 9,
     "metadata": {},
     "output_type": "execute_result"
    }
   ],
   "source": [
    "pfa = models.PFAModel(models.EloModel(), gamma=1.022, delta=-0.0806)\n",
    "pfa_test = PerformanceTest(pfa, data)\n",
    "pfa_test.run()\n",
    "pfa_test.results['train']"
   ]
  },
  {
   "cell_type": "markdown",
   "metadata": {},
   "source": [
    "## PFA/E"
   ]
  },
  {
   "cell_type": "code",
   "execution_count": 4,
   "metadata": {
    "collapsed": false
   },
   "outputs": [
    {
     "data": {
      "text/plain": [
       "RMSE: 0.345625192694\n",
       "AUC: 0.799925501439\n",
       "LL: -55503.2481574\n",
       "OFF: -0.0164008439892\n",
       "CORRECT: 120510\n",
       "ACCURACY: 0.835783837767\n",
       "Set Size: 144188"
      ]
     },
     "execution_count": 4,
     "metadata": {},
     "output_type": "execute_result"
    }
   ],
   "source": [
    "pfae = models.PFAExt(models.EloModel(), gamma=2.614, delta=-0.642)\n",
    "pfae_test = PerformanceTest(pfae, data)\n",
    "pfae_test.run()\n",
    "pfae_test.results['train']"
   ]
  },
  {
   "cell_type": "markdown",
   "metadata": {},
   "source": [
    "## PFA/G"
   ]
  },
  {
   "cell_type": "code",
   "execution_count": 9,
   "metadata": {
    "collapsed": false
   },
   "outputs": [
    {
     "data": {
      "text/plain": [
       "RMSE: 0.349664345959\n",
       "AUC: 0.782478530629\n",
       "LL: -58420.4505052\n",
       "OFF: 0.0218006882277\n",
       "CORRECT: 120477\n",
       "ACCURACY: 0.8355549699\n",
       "Set Size: 144188"
      ]
     },
     "execution_count": 9,
     "metadata": {},
     "output_type": "execute_result"
    }
   ],
   "source": [
    "pfag = models.PFAGong(models.EloModel(), gamma=1.798, delta=0.091, decay=0.425)\n",
    "pfag_test = PerformanceTest(pfag, data)\n",
    "pfag_test.run()\n",
    "pfag_test.results['train']"
   ]
  },
  {
   "cell_type": "markdown",
   "metadata": {},
   "source": [
    "## PFA/E/T"
   ]
  },
  {
   "cell_type": "markdown",
   "metadata": {},
   "source": [
    "### Poly"
   ]
  },
  {
   "cell_type": "code",
   "execution_count": 6,
   "metadata": {
    "collapsed": false
   },
   "outputs": [
    {
     "data": {
      "text/plain": [
       "RMSE: 0.340610555244\n",
       "AUC: 0.806426282763\n",
       "LL: -54082.4963446\n",
       "OFF: 0.00152109514334\n",
       "CORRECT: 121341\n",
       "ACCURACY: 0.841547146781\n",
       "Set Size: 144188"
      ]
     },
     "execution_count": 6,
     "metadata": {},
     "output_type": "execute_result"
    }
   ],
   "source": [
    "pfaet = models.PFAExtTiming(models.EloModel(), gamma=2.004, delta=-0.713,\n",
    "                            time_effect_fun='poly', a=2.931, c=0.27)\n",
    "pfaet_test = PerformanceTest(pfaet, data)\n",
    "pfaet_test.run()\n",
    "pfaet_test.results['train']"
   ]
  },
  {
   "cell_type": "markdown",
   "metadata": {},
   "source": [
    "### Log"
   ]
  },
  {
   "cell_type": "code",
   "execution_count": 31,
   "metadata": {
    "collapsed": false
   },
   "outputs": [
    {
     "data": {
      "text/plain": [
       "RMSE: 0.340689226279\n",
       "AUC: 0.806618196313\n",
       "LL: -inf\n",
       "OFF: -0.00167219711391\n",
       "CORRECT: 121301\n",
       "ACCURACY: 0.841269731184\n",
       "Set Size: 144188"
      ]
     },
     "execution_count": 31,
     "metadata": {},
     "output_type": "execute_result"
    }
   ],
   "source": [
    "pfaet = models.PFAExtTiming(models.EloModel(), gamma=1.906, delta=-0.806,\n",
    "                            time_effect_fun='log', a=1.789, c=0.128)\n",
    "pfaet_test = PerformanceTest(pfaet, data)\n",
    "pfaet_test.run()\n",
    "pfaet_test.results['train']"
   ]
  },
  {
   "cell_type": "markdown",
   "metadata": {},
   "source": [
    "### Exp"
   ]
  },
  {
   "cell_type": "code",
   "execution_count": 26,
   "metadata": {
    "collapsed": false
   },
   "outputs": [
    {
     "data": {
      "text/plain": [
       "RMSE: 0.341023057373\n",
       "AUC: 0.808491437126\n",
       "LL: -54145.6164025\n",
       "OFF: -0.00988678960385\n",
       "CORRECT: 121099\n",
       "ACCURACY: 0.839868782423\n",
       "Set Size: 144188"
      ]
     },
     "execution_count": 26,
     "metadata": {},
     "output_type": "execute_result"
    }
   ],
   "source": [
    "pfaet = models.PFAExtTiming(models.EloModel(), gamma=2.006, delta=-0.757,\n",
    "                            time_effect_fun='exp', a=1.005, c=0.009)\n",
    "pfaet_test = PerformanceTest(pfaet, data)\n",
    "pfaet_test.run()\n",
    "pfaet_test.results['train']"
   ]
  },
  {
   "cell_type": "markdown",
   "metadata": {},
   "source": [
    "### Staircase"
   ]
  },
  {
   "cell_type": "code",
   "execution_count": 8,
   "metadata": {
    "collapsed": false
   },
   "outputs": [
    {
     "data": {
      "text/plain": [
       "RMSE: 0.340814661115\n",
       "AUC: 0.807544282931\n",
       "LL: -54114.2313641\n",
       "OFF: -0.00774427081198\n",
       "CORRECT: 121218\n",
       "ACCURACY: 0.840694093822\n",
       "Set Size: 144188"
      ]
     },
     "execution_count": 8,
     "metadata": {},
     "output_type": "execute_result"
    }
   ],
   "source": [
    "staircase = {\n",
    "    (0, 60): 1.43,\n",
    "    (60, 90): 1.17,\n",
    "    (90, 150): 1.01,\n",
    "    (150, 300): 0.93,\n",
    "    (300, 600): 0.82,\n",
    "    (600, 60*30): 0.78,\n",
    "    (60*30, 60*60*3): 0.76,\n",
    "    (60*60*3, 60*60*24): 0.63,\n",
    "    (60*60*24, 60*60*24*5): 0.42,\n",
    "    (60*60*24*5, np.inf): 0.12,\n",
    "}\n",
    "\n",
    "pfaest = models.PFAExtStaircase(models.EloModel(), staircase=staircase,\n",
    "                                gamma=1.814, delta=-0.827)\n",
    "pfaest_test = PerformanceTest(pfaest, data)\n",
    "pfaest_test.run()\n",
    "pfaest_test.results['train']"
   ]
  },
  {
   "cell_type": "code",
   "execution_count": 7,
   "metadata": {
    "collapsed": false
   },
   "outputs": [
    {
     "data": {
      "text/plain": [
       "RMSE: 0.340730575822\n",
       "AUC: 0.807535789235\n",
       "LL: -54090.3633182\n",
       "OFF: -0.00669204286735\n",
       "CORRECT: 121238\n",
       "ACCURACY: 0.84083280162\n",
       "Set Size: 144188"
      ]
     },
     "execution_count": 7,
     "metadata": {},
     "output_type": "execute_result"
    }
   ],
   "source": [
    "staircase2 = tools.connect_points(\n",
    "    [(0, 1.6), (45, 1.43), (75, 1.17), (120, 1.01), (225, 0.93), (1200, 0.78),\n",
    "     (6300, 0.76), (48600, 0.63), (259200, 0.42), (432000, 0.12), (10e10, 0.02)]\n",
    ")\n",
    "pfaest2 = models.PFAExtTiming(models.EloModel(), time_effect_fun=staircase2,\n",
    "                              gamma=1.814, delta=-0.827)\n",
    "pfaest2_test = PerformanceTest(pfaest2, data)\n",
    "pfaest2_test.run()\n",
    "pfaest2_test.results['train']"
   ]
  },
  {
   "cell_type": "markdown",
   "metadata": {},
   "source": [
    "## PFA/G/T"
   ]
  },
  {
   "cell_type": "markdown",
   "metadata": {},
   "source": [
    "### Poly"
   ]
  },
  {
   "cell_type": "code",
   "execution_count": 12,
   "metadata": {
    "collapsed": false
   },
   "outputs": [
    {
     "data": {
      "text/plain": [
       "RMSE: 0.350450285316\n",
       "AUC: 0.778158513974\n",
       "LL: -60650.6500305\n",
       "OFF: 0.0104245574738\n",
       "CORRECT: 120218\n",
       "ACCURACY: 0.833758703914\n",
       "Set Size: 144188"
      ]
     },
     "execution_count": 12,
     "metadata": {},
     "output_type": "execute_result"
    }
   ],
   "source": [
    "pfagt = models.PFAGongTiming(models.EloModel(), gamma=1.973, delta=0.244,\n",
    "                             time_effect_fun='poly', a=2.007, c=0.231)\n",
    "pfagt_test = PerformanceTest(pfagt, data)\n",
    "pfagt_test.run()\n",
    "pfagt_test.results['train']"
   ]
  },
  {
   "cell_type": "markdown",
   "metadata": {},
   "source": [
    "### Log"
   ]
  },
  {
   "cell_type": "code",
   "execution_count": 18,
   "metadata": {
    "collapsed": false
   },
   "outputs": [
    {
     "data": {
      "text/plain": [
       "RMSE: 0.350875856909\n",
       "AUC: 0.780122469727\n",
       "LL: -60531.4924388\n",
       "OFF: 0.00697782295559\n",
       "CORRECT: 119482\n",
       "ACCURACY: 0.832545953705\n",
       "Set Size: 143514"
      ]
     },
     "execution_count": 18,
     "metadata": {},
     "output_type": "execute_result"
    }
   ],
   "source": [
    "pfagt = models.PFAGongTiming(models.EloModel(), gamma=0.837, delta=0.048,\n",
    "                             time_effect_fun='log', a=1.918, c=0.128)\n",
    "pfagt_test = PerformanceTest(pfagt, data)\n",
    "pfagt_test.run()\n",
    "pfagt_test.results['train']"
   ]
  },
  {
   "cell_type": "markdown",
   "metadata": {},
   "source": [
    "### Exp"
   ]
  },
  {
   "cell_type": "code",
   "execution_count": 21,
   "metadata": {
    "collapsed": false
   },
   "outputs": [
    {
     "data": {
      "text/plain": [
       "RMSE: 0.357845249766\n",
       "AUC: 0.746413216867\n",
       "LL: -78109.603908\n",
       "OFF: 0.0466174867108\n",
       "CORRECT: 119913\n",
       "ACCURACY: 0.835549145031\n",
       "Set Size: 143514"
      ]
     },
     "execution_count": 21,
     "metadata": {},
     "output_type": "execute_result"
    }
   ],
   "source": [
    "pfagt = models.PFAGongTiming(models.EloModel(), gamma=1.297, delta=0.198,\n",
    "                             time_effect_fun='log', a=0.824, c=0.0023)\n",
    "pfagt_test = PerformanceTest(pfagt, data)\n",
    "pfagt_test.run()\n",
    "pfagt_test.results['train']"
   ]
  },
  {
   "cell_type": "markdown",
   "metadata": {},
   "source": [
    "### PFA/E/RT"
   ]
  },
  {
   "cell_type": "code",
   "execution_count": 3,
   "metadata": {
    "collapsed": false
   },
   "outputs": [
    {
     "data": {
      "text/plain": [
       "RMSE: 0.345609041461\n",
       "AUC: 0.799554645876\n",
       "LL: -57336.4888702\n",
       "OFF: -0.00122789889836\n",
       "CORRECT: 120262\n",
       "ACCURACY: 0.83406386107\n",
       "Set Size: 144188"
      ]
     },
     "execution_count": 3,
     "metadata": {},
     "output_type": "execute_result"
    }
   ],
   "source": [
    "pfart = models.PFAResponseTime(models.EloModel(), gamma=1.453, delta=-1.356, zeta=1.886)\n",
    "pfart_test = PerformanceTest(pfart, data)\n",
    "pfart_test.run()\n",
    "pfart_test.results['train']"
   ]
  },
  {
   "cell_type": "code",
   "execution_count": null,
   "metadata": {
    "collapsed": true
   },
   "outputs": [],
   "source": []
  }
 ],
 "metadata": {
  "kernelspec": {
   "display_name": "Python 2",
   "language": "python",
   "name": "python2"
  },
  "language_info": {
   "codemirror_mode": {
    "name": "ipython",
    "version": 2
   },
   "file_extension": ".py",
   "mimetype": "text/x-python",
   "name": "python",
   "nbconvert_exporter": "python",
   "pygments_lexer": "ipython2",
   "version": "2.7.6"
  }
 },
 "nbformat": 4,
 "nbformat_minor": 0
}
