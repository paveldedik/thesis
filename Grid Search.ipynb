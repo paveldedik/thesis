{
 "metadata": {
  "name": "",
  "signature": "sha256:4fca4acfa2240dc3714eed79a8535bc5a4916b407fd92663a63dcdb137524a35"
 },
 "nbformat": 3,
 "nbformat_minor": 0,
 "worksheets": [
  {
   "cells": [
    {
     "cell_type": "code",
     "collapsed": false,
     "input": [
      "%matplotlib qt4"
     ],
     "language": "python",
     "metadata": {},
     "outputs": [],
     "prompt_number": 1
    },
    {
     "cell_type": "code",
     "collapsed": false,
     "input": [
      "import itertools\n",
      "\n",
      "from learn import tools\n",
      "from learn.models import EloModel\n",
      "\n",
      "import numpy as np\n",
      "import matplotlib.pyplot as plt\n",
      "import matplotlib.cm as cm"
     ],
     "language": "python",
     "metadata": {},
     "outputs": [],
     "prompt_number": 2
    },
    {
     "cell_type": "code",
     "collapsed": false,
     "input": [
      "data = tools.prepare_data(tools.load('./data/answers_train.csv')[:2000])"
     ],
     "language": "python",
     "metadata": {},
     "outputs": [],
     "prompt_number": 3
    },
    {
     "cell_type": "code",
     "collapsed": false,
     "input": [
      "intervals = np.arange(0.1, 3, 0.3)\n",
      "n = len(intervals)\n",
      "grid_elo = np.matrix([[0] * n] * n, dtype=float)\n",
      "\n",
      "for i, j in itertools.product(range(n), range(n)):\n",
      "    alpha, beta = intervals[i], intervals[j]\n",
      "    elo = EloModel(train_set, alpha=alpha, beta=beta)\n",
      "    elo.train()\n",
      "    \n",
      "    valid_set['prediction'] = valid_set.apply(elo.predict, axis=1)\n",
      "    grid_elo[i, j] = tools.rmse(valid_set['correct'], valid_set['prediction'])\n",
      "    \n",
      "    tools.echo('{}/{} {}/{}'.format(i+1, n, j+1, n))"
     ],
     "language": "python",
     "metadata": {},
     "outputs": [
      {
       "output_type": "stream",
       "stream": "stdout",
       "text": [
        "9/10 9/10\n"
       ]
      }
     ],
     "prompt_number": 4
    },
    {
     "cell_type": "code",
     "collapsed": false,
     "input": [
      "plot = plt.imshow(grid, cmap=cm.Greys_r, interpolation='nearest',\n",
      "                  extent=(min(intervals), max(intervals), max(intervals), min(intervals)))\n",
      "plt.colorbar(plot)"
     ],
     "language": "python",
     "metadata": {},
     "outputs": [
      {
       "metadata": {},
       "output_type": "pyout",
       "prompt_number": 38,
       "text": [
        "<matplotlib.colorbar.Colorbar instance at 0x7fe827fd82d8>"
       ]
      }
     ],
     "prompt_number": 38
    },
    {
     "cell_type": "code",
     "collapsed": false,
     "input": [],
     "language": "python",
     "metadata": {},
     "outputs": []
    }
   ],
   "metadata": {}
  }
 ]
}