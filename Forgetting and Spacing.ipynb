{
 "metadata": {
  "name": "",
  "signature": "sha256:c374972a9c2f34f372b2b15070ca34ec4e9ec8d76adf180525aa73b6ada5e8a2"
 },
 "nbformat": 3,
 "nbformat_minor": 0,
 "worksheets": [
  {
   "cells": [
    {
     "cell_type": "code",
     "collapsed": false,
     "input": [
      "%matplotlib qt4"
     ],
     "language": "python",
     "metadata": {},
     "outputs": [],
     "prompt_number": 1
    },
    {
     "cell_type": "code",
     "collapsed": false,
     "input": [
      "from __future__ import division\n",
      "\n",
      "from learn import tools\n",
      "\n",
      "import numpy as np\n",
      "import matplotlib.pyplot as plt"
     ],
     "language": "python",
     "metadata": {},
     "outputs": [],
     "prompt_number": 2
    },
    {
     "cell_type": "code",
     "collapsed": false,
     "input": [
      "def r(t, repeat=1, step=200, rang=80000, c=0.2, a=0.18):\n",
      "    times = t.copy()\n",
      "    vals = []\n",
      "    results = []\n",
      "    last = 0\n",
      "    for _ in range(repeat):\n",
      "        for i in range(0, rang // repeat, step):\n",
      "            times += step\n",
      "            m = tools.retrieval_prob(tools.memory_strength(times, c, a))\n",
      "            results.append(m)\n",
      "            vals.append(last+i)\n",
      "        last = vals[-1]\n",
      "        times = np.concatenate([times, t.copy()])\n",
      "    return vals, results"
     ],
     "language": "python",
     "metadata": {},
     "outputs": [],
     "prompt_number": 3
    },
    {
     "cell_type": "code",
     "collapsed": false,
     "input": [
      "t1 = np.array(list(reversed(range(10))))\n",
      "t2 = np.array(list(reversed(range(20))))"
     ],
     "language": "python",
     "metadata": {},
     "outputs": [],
     "prompt_number": 4
    },
    {
     "cell_type": "code",
     "collapsed": false,
     "input": [
      "x1, y1 = r(t1, repeat=4)\n",
      "x2, y2 = r(t1, repeat=4, c=0.20, a=0.19)"
     ],
     "language": "python",
     "metadata": {},
     "outputs": [],
     "prompt_number": 5
    },
    {
     "cell_type": "code",
     "collapsed": false,
     "input": [
      "plt.plot([xi/3600 for xi in x1], y1, 'g-', [xi/3600 for xi in x2], y2, 'r-')"
     ],
     "language": "python",
     "metadata": {},
     "outputs": [
      {
       "metadata": {},
       "output_type": "pyout",
       "prompt_number": 6,
       "text": [
        "[<matplotlib.lines.Line2D at 0x7fcbb4d41d50>,\n",
        " <matplotlib.lines.Line2D at 0x7fcbb4d41fd0>]"
       ]
      }
     ],
     "prompt_number": 6
    },
    {
     "cell_type": "code",
     "collapsed": false,
     "input": [],
     "language": "python",
     "metadata": {},
     "outputs": []
    }
   ],
   "metadata": {}
  }
 ]
}